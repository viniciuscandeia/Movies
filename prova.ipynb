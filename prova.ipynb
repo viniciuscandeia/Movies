{
 "cells": [
  {
   "metadata": {},
   "cell_type": "markdown",
   "source": "# 0. Lendo Arquivo",
   "id": "a72fe730d569ca94"
  },
  {
   "metadata": {
    "ExecuteTime": {
     "end_time": "2025-04-24T19:17:37.539783Z",
     "start_time": "2025-04-24T19:17:37.303963Z"
    }
   },
   "cell_type": "code",
   "source": [
    "import pandas as pd\n",
    "import numpy as np\n",
    "import seaborn as sns\n",
    "import matplotlib.pyplot as plt\n",
    "from sklearn.feature_selection import SelectKBest, mutual_info_classif\n",
    "from sklearn.preprocessing import LabelEncoder\n",
    "from sklearn.ensemble import RandomForestClassifier\n",
    "from sklearn.feature_selection import SelectFromModel\n",
    "from sklearn.feature_selection import RFECV  # Recursive Feature Elimination with Cross-Validation\n",
    "from sklearn.model_selection import StratifiedKFold  # Estratégia de validação cruzadas"
   ],
   "id": "70a00516a4300d2e",
   "outputs": [],
   "execution_count": 2
  },
  {
   "cell_type": "code",
   "id": "initial_id",
   "metadata": {
    "collapsed": true,
    "ExecuteTime": {
     "end_time": "2025-04-24T19:17:37.635113Z",
     "start_time": "2025-04-24T19:17:37.552641Z"
    }
   },
   "source": [
    "df = pd.read_csv( 'radiomic_data.csv' )\n",
    "df.shape"
   ],
   "outputs": [
    {
     "data": {
      "text/plain": [
       "(2587, 116)"
      ]
     },
     "execution_count": 3,
     "metadata": {},
     "output_type": "execute_result"
    }
   ],
   "execution_count": 3
  },
  {
   "metadata": {},
   "cell_type": "markdown",
   "source": "# 1. Pré-processamento da base de dados",
   "id": "661c10b2ed87dc9d"
  },
  {
   "metadata": {},
   "cell_type": "markdown",
   "source": "## 1.1 Quantidade de Classes",
   "id": "7ea6a7cb6e2e759b"
  },
  {
   "metadata": {
    "ExecuteTime": {
     "end_time": "2025-04-24T19:17:37.671629Z",
     "start_time": "2025-04-24T19:17:37.664312Z"
    }
   },
   "cell_type": "code",
   "source": [
    "# Quantas ocorrências de cada classe\n",
    "contagens = df[ df.columns[ -1 ] ].value_counts()\n",
    "print( contagens )"
   ],
   "id": "81430ab358088cf1",
   "outputs": [
    {
     "name": "stdout",
     "output_type": "stream",
     "text": [
      "class\n",
      "BENIGN                     1100\n",
      "MALIGNANT                   918\n",
      "BENIGN_WITHOUT_CALLBACK     569\n",
      "Name: count, dtype: int64\n"
     ]
    }
   ],
   "execution_count": 4
  },
  {
   "metadata": {},
   "cell_type": "markdown",
   "source": [
    "### 1.1.1 Removendo a classe extra\n",
    "\n",
    "Como na especificação foi comentado que existem duas classes, sendo elas BENIGN e MALIGNANT, é necessário remover as instâncias da classe BENIGN_WITHOUT_CALLBACK."
   ],
   "id": "4531aec12c35bfa1"
  },
  {
   "metadata": {
    "ExecuteTime": {
     "end_time": "2025-04-24T19:17:37.717106Z",
     "start_time": "2025-04-24T19:17:37.703251Z"
    }
   },
   "cell_type": "code",
   "source": [
    "# Nome da coluna alvo\n",
    "target_column_name = df.columns[ -1 ]\n",
    "\n",
    "X = df.drop( columns = target_column_name )\n",
    "y = df[ target_column_name ]\n",
    "\n",
    "mask = y != 'BENIGN_WITHOUT_CALLBACK'\n",
    "X_bin = X[ mask ]\n",
    "y_bin = y[ mask ]\n",
    "\n",
    "df = pd.concat( [ X_bin, y_bin ], axis = 1 )\n",
    "df.shape"
   ],
   "id": "727207917eaf158e",
   "outputs": [
    {
     "data": {
      "text/plain": [
       "(2018, 116)"
      ]
     },
     "execution_count": 5,
     "metadata": {},
     "output_type": "execute_result"
    }
   ],
   "execution_count": 5
  },
  {
   "metadata": {},
   "cell_type": "markdown",
   "source": "## 1.2 Valores Ausentes",
   "id": "4ae8400ce29b31cf"
  },
  {
   "metadata": {},
   "cell_type": "markdown",
   "source": [
    "### 1.2.1 Ver se há algum valor ausente no DataFrame\n",
    "\n",
    "Retorna `True` se houver pelo menos um valor ausente."
   ],
   "id": "db9a1735a669e730"
  },
  {
   "metadata": {
    "ExecuteTime": {
     "end_time": "2025-04-24T19:17:37.762909Z",
     "start_time": "2025-04-24T19:17:37.755797Z"
    }
   },
   "cell_type": "code",
   "source": "df.isnull().values.any()",
   "id": "94d6eb4acea5436a",
   "outputs": [
    {
     "data": {
      "text/plain": [
       "np.False_"
      ]
     },
     "execution_count": 6,
     "metadata": {},
     "output_type": "execute_result"
    }
   ],
   "execution_count": 6
  },
  {
   "metadata": {},
   "cell_type": "markdown",
   "source": "### 1.2.2 Contar quantos valores ausentes há em cada coluna",
   "id": "4d046de6917e0bc8"
  },
  {
   "metadata": {
    "ExecuteTime": {
     "end_time": "2025-04-24T19:17:37.835448Z",
     "start_time": "2025-04-24T19:17:37.826318Z"
    }
   },
   "cell_type": "code",
   "source": "df.isnull().sum()",
   "id": "ca460bdddce3764",
   "outputs": [
    {
     "data": {
      "text/plain": [
       "diagnostics_Versions_PyRadiomics    0\n",
       "diagnostics_Versions_Numpy          0\n",
       "diagnostics_Versions_SimpleITK      0\n",
       "diagnostics_Versions_PyWavelet      0\n",
       "diagnostics_Versions_Python         0\n",
       "                                   ..\n",
       "original_ngtdm_Coarseness           0\n",
       "original_ngtdm_Complexity           0\n",
       "original_ngtdm_Contrast             0\n",
       "original_ngtdm_Strength             0\n",
       "class                               0\n",
       "Length: 116, dtype: int64"
      ]
     },
     "execution_count": 7,
     "metadata": {},
     "output_type": "execute_result"
    }
   ],
   "execution_count": 7
  },
  {
   "metadata": {},
   "cell_type": "markdown",
   "source": "### 1.2.3 Exibir linhas que possuem valores ausentes",
   "id": "9945929c045a39a1"
  },
  {
   "metadata": {
    "ExecuteTime": {
     "end_time": "2025-04-24T19:17:37.906050Z",
     "start_time": "2025-04-24T19:17:37.891626Z"
    }
   },
   "cell_type": "code",
   "source": "df[ df.isnull().any( axis = 1 ) ]",
   "id": "952e2023f36688b8",
   "outputs": [
    {
     "data": {
      "text/plain": [
       "Empty DataFrame\n",
       "Columns: [diagnostics_Versions_PyRadiomics, diagnostics_Versions_Numpy, diagnostics_Versions_SimpleITK, diagnostics_Versions_PyWavelet, diagnostics_Versions_Python, diagnostics_Configuration_Settings, diagnostics_Configuration_EnabledImageTypes, diagnostics_Image-original_Hash, diagnostics_Image-original_Dimensionality, diagnostics_Image-original_Spacing, diagnostics_Image-original_Size, diagnostics_Image-original_Mean, diagnostics_Image-original_Minimum, diagnostics_Image-original_Maximum, diagnostics_Mask-original_Hash, diagnostics_Mask-original_Spacing, diagnostics_Mask-original_Size, diagnostics_Mask-original_BoundingBox, diagnostics_Mask-original_VoxelNum, diagnostics_Mask-original_VolumeNum, diagnostics_Mask-original_CenterOfMassIndex, diagnostics_Mask-original_CenterOfMass, original_firstorder_10Percentile, original_firstorder_90Percentile, original_firstorder_Energy, original_firstorder_Entropy, original_firstorder_InterquartileRange, original_firstorder_Kurtosis, original_firstorder_Maximum, original_firstorder_MeanAbsoluteDeviation, original_firstorder_Mean, original_firstorder_Median, original_firstorder_Minimum, original_firstorder_Range, original_firstorder_RobustMeanAbsoluteDeviation, original_firstorder_RootMeanSquared, original_firstorder_Skewness, original_firstorder_TotalEnergy, original_firstorder_Uniformity, original_firstorder_Variance, original_glcm_Autocorrelation, original_glcm_ClusterProminence, original_glcm_ClusterShade, original_glcm_ClusterTendency, original_glcm_Contrast, original_glcm_Correlation, original_glcm_DifferenceAverage, original_glcm_DifferenceEntropy, original_glcm_DifferenceVariance, original_glcm_Id, original_glcm_Idm, original_glcm_Idmn, original_glcm_Idn, original_glcm_Imc1, original_glcm_Imc2, original_glcm_InverseVariance, original_glcm_JointAverage, original_glcm_JointEnergy, original_glcm_JointEntropy, original_glcm_MCC, original_glcm_MaximumProbability, original_glcm_SumAverage, original_glcm_SumEntropy, original_glcm_SumSquares, original_gldm_DependenceEntropy, original_gldm_DependenceNonUniformity, original_gldm_DependenceNonUniformityNormalized, original_gldm_DependenceVariance, original_gldm_GrayLevelNonUniformity, original_gldm_GrayLevelVariance, original_gldm_HighGrayLevelEmphasis, original_gldm_LargeDependenceEmphasis, original_gldm_LargeDependenceHighGrayLevelEmphasis, original_gldm_LargeDependenceLowGrayLevelEmphasis, original_gldm_LowGrayLevelEmphasis, original_gldm_SmallDependenceEmphasis, original_gldm_SmallDependenceHighGrayLevelEmphasis, original_gldm_SmallDependenceLowGrayLevelEmphasis, original_glrlm_GrayLevelNonUniformity, original_glrlm_GrayLevelNonUniformityNormalized, original_glrlm_GrayLevelVariance, original_glrlm_HighGrayLevelRunEmphasis, original_glrlm_LongRunEmphasis, original_glrlm_LongRunHighGrayLevelEmphasis, original_glrlm_LongRunLowGrayLevelEmphasis, original_glrlm_LowGrayLevelRunEmphasis, original_glrlm_RunEntropy, original_glrlm_RunLengthNonUniformity, original_glrlm_RunLengthNonUniformityNormalized, original_glrlm_RunPercentage, original_glrlm_RunVariance, original_glrlm_ShortRunEmphasis, original_glrlm_ShortRunHighGrayLevelEmphasis, original_glrlm_ShortRunLowGrayLevelEmphasis, original_glszm_GrayLevelNonUniformity, original_glszm_GrayLevelNonUniformityNormalized, original_glszm_GrayLevelVariance, original_glszm_HighGrayLevelZoneEmphasis, original_glszm_LargeAreaEmphasis, original_glszm_LargeAreaHighGrayLevelEmphasis, ...]\n",
       "Index: []\n",
       "\n",
       "[0 rows x 116 columns]"
      ],
      "text/html": [
       "<div>\n",
       "<style scoped>\n",
       "    .dataframe tbody tr th:only-of-type {\n",
       "        vertical-align: middle;\n",
       "    }\n",
       "\n",
       "    .dataframe tbody tr th {\n",
       "        vertical-align: top;\n",
       "    }\n",
       "\n",
       "    .dataframe thead th {\n",
       "        text-align: right;\n",
       "    }\n",
       "</style>\n",
       "<table border=\"1\" class=\"dataframe\">\n",
       "  <thead>\n",
       "    <tr style=\"text-align: right;\">\n",
       "      <th></th>\n",
       "      <th>diagnostics_Versions_PyRadiomics</th>\n",
       "      <th>diagnostics_Versions_Numpy</th>\n",
       "      <th>diagnostics_Versions_SimpleITK</th>\n",
       "      <th>diagnostics_Versions_PyWavelet</th>\n",
       "      <th>diagnostics_Versions_Python</th>\n",
       "      <th>diagnostics_Configuration_Settings</th>\n",
       "      <th>diagnostics_Configuration_EnabledImageTypes</th>\n",
       "      <th>diagnostics_Image-original_Hash</th>\n",
       "      <th>diagnostics_Image-original_Dimensionality</th>\n",
       "      <th>diagnostics_Image-original_Spacing</th>\n",
       "      <th>...</th>\n",
       "      <th>original_glszm_SmallAreaLowGrayLevelEmphasis</th>\n",
       "      <th>original_glszm_ZoneEntropy</th>\n",
       "      <th>original_glszm_ZonePercentage</th>\n",
       "      <th>original_glszm_ZoneVariance</th>\n",
       "      <th>original_ngtdm_Busyness</th>\n",
       "      <th>original_ngtdm_Coarseness</th>\n",
       "      <th>original_ngtdm_Complexity</th>\n",
       "      <th>original_ngtdm_Contrast</th>\n",
       "      <th>original_ngtdm_Strength</th>\n",
       "      <th>class</th>\n",
       "    </tr>\n",
       "  </thead>\n",
       "  <tbody>\n",
       "  </tbody>\n",
       "</table>\n",
       "<p>0 rows × 116 columns</p>\n",
       "</div>"
      ]
     },
     "execution_count": 8,
     "metadata": {},
     "output_type": "execute_result"
    }
   ],
   "execution_count": 8
  },
  {
   "metadata": {},
   "cell_type": "markdown",
   "source": "**Resultado: não há valores ausentes na base de dados.**",
   "id": "64828c4f23e844dc"
  },
  {
   "metadata": {},
   "cell_type": "markdown",
   "source": "## 1.3 Valores Duplicados",
   "id": "9d0892ecb442e50f"
  },
  {
   "metadata": {},
   "cell_type": "markdown",
   "source": [
    "### 1.3.1 Ver se há alguma linha duplicada\n",
    "\n",
    "Retorna `True` se houver ao menos uma linha duplicada"
   ],
   "id": "eb6a3ee966a737bd"
  },
  {
   "metadata": {
    "ExecuteTime": {
     "end_time": "2025-04-24T19:17:38.088355Z",
     "start_time": "2025-04-24T19:17:38.059404Z"
    }
   },
   "cell_type": "code",
   "source": "df.duplicated().any()",
   "id": "944cc25181bf073c",
   "outputs": [
    {
     "data": {
      "text/plain": [
       "np.False_"
      ]
     },
     "execution_count": 9,
     "metadata": {},
     "output_type": "execute_result"
    }
   ],
   "execution_count": 9
  },
  {
   "metadata": {},
   "cell_type": "markdown",
   "source": "### 1.3.2 Contar o número de linhas duplicadas",
   "id": "9b34b2827f6a5c5"
  },
  {
   "metadata": {
    "ExecuteTime": {
     "end_time": "2025-04-24T19:17:38.763186Z",
     "start_time": "2025-04-24T19:17:38.743423Z"
    }
   },
   "cell_type": "code",
   "source": "df.duplicated().sum()",
   "id": "a6fce75d7a6b4fde",
   "outputs": [
    {
     "data": {
      "text/plain": [
       "np.int64(0)"
      ]
     },
     "execution_count": 10,
     "metadata": {},
     "output_type": "execute_result"
    }
   ],
   "execution_count": 10
  },
  {
   "metadata": {},
   "cell_type": "markdown",
   "source": "### 1.3.3 Ver quais são as linhas duplicadas",
   "id": "17491f695a63d668"
  },
  {
   "metadata": {
    "ExecuteTime": {
     "end_time": "2025-04-24T19:17:39.013566Z",
     "start_time": "2025-04-24T19:17:38.991078Z"
    }
   },
   "cell_type": "code",
   "source": "df[ df.duplicated() ]",
   "id": "48cef7b24a12cc0d",
   "outputs": [
    {
     "data": {
      "text/plain": [
       "Empty DataFrame\n",
       "Columns: [diagnostics_Versions_PyRadiomics, diagnostics_Versions_Numpy, diagnostics_Versions_SimpleITK, diagnostics_Versions_PyWavelet, diagnostics_Versions_Python, diagnostics_Configuration_Settings, diagnostics_Configuration_EnabledImageTypes, diagnostics_Image-original_Hash, diagnostics_Image-original_Dimensionality, diagnostics_Image-original_Spacing, diagnostics_Image-original_Size, diagnostics_Image-original_Mean, diagnostics_Image-original_Minimum, diagnostics_Image-original_Maximum, diagnostics_Mask-original_Hash, diagnostics_Mask-original_Spacing, diagnostics_Mask-original_Size, diagnostics_Mask-original_BoundingBox, diagnostics_Mask-original_VoxelNum, diagnostics_Mask-original_VolumeNum, diagnostics_Mask-original_CenterOfMassIndex, diagnostics_Mask-original_CenterOfMass, original_firstorder_10Percentile, original_firstorder_90Percentile, original_firstorder_Energy, original_firstorder_Entropy, original_firstorder_InterquartileRange, original_firstorder_Kurtosis, original_firstorder_Maximum, original_firstorder_MeanAbsoluteDeviation, original_firstorder_Mean, original_firstorder_Median, original_firstorder_Minimum, original_firstorder_Range, original_firstorder_RobustMeanAbsoluteDeviation, original_firstorder_RootMeanSquared, original_firstorder_Skewness, original_firstorder_TotalEnergy, original_firstorder_Uniformity, original_firstorder_Variance, original_glcm_Autocorrelation, original_glcm_ClusterProminence, original_glcm_ClusterShade, original_glcm_ClusterTendency, original_glcm_Contrast, original_glcm_Correlation, original_glcm_DifferenceAverage, original_glcm_DifferenceEntropy, original_glcm_DifferenceVariance, original_glcm_Id, original_glcm_Idm, original_glcm_Idmn, original_glcm_Idn, original_glcm_Imc1, original_glcm_Imc2, original_glcm_InverseVariance, original_glcm_JointAverage, original_glcm_JointEnergy, original_glcm_JointEntropy, original_glcm_MCC, original_glcm_MaximumProbability, original_glcm_SumAverage, original_glcm_SumEntropy, original_glcm_SumSquares, original_gldm_DependenceEntropy, original_gldm_DependenceNonUniformity, original_gldm_DependenceNonUniformityNormalized, original_gldm_DependenceVariance, original_gldm_GrayLevelNonUniformity, original_gldm_GrayLevelVariance, original_gldm_HighGrayLevelEmphasis, original_gldm_LargeDependenceEmphasis, original_gldm_LargeDependenceHighGrayLevelEmphasis, original_gldm_LargeDependenceLowGrayLevelEmphasis, original_gldm_LowGrayLevelEmphasis, original_gldm_SmallDependenceEmphasis, original_gldm_SmallDependenceHighGrayLevelEmphasis, original_gldm_SmallDependenceLowGrayLevelEmphasis, original_glrlm_GrayLevelNonUniformity, original_glrlm_GrayLevelNonUniformityNormalized, original_glrlm_GrayLevelVariance, original_glrlm_HighGrayLevelRunEmphasis, original_glrlm_LongRunEmphasis, original_glrlm_LongRunHighGrayLevelEmphasis, original_glrlm_LongRunLowGrayLevelEmphasis, original_glrlm_LowGrayLevelRunEmphasis, original_glrlm_RunEntropy, original_glrlm_RunLengthNonUniformity, original_glrlm_RunLengthNonUniformityNormalized, original_glrlm_RunPercentage, original_glrlm_RunVariance, original_glrlm_ShortRunEmphasis, original_glrlm_ShortRunHighGrayLevelEmphasis, original_glrlm_ShortRunLowGrayLevelEmphasis, original_glszm_GrayLevelNonUniformity, original_glszm_GrayLevelNonUniformityNormalized, original_glszm_GrayLevelVariance, original_glszm_HighGrayLevelZoneEmphasis, original_glszm_LargeAreaEmphasis, original_glszm_LargeAreaHighGrayLevelEmphasis, ...]\n",
       "Index: []\n",
       "\n",
       "[0 rows x 116 columns]"
      ],
      "text/html": [
       "<div>\n",
       "<style scoped>\n",
       "    .dataframe tbody tr th:only-of-type {\n",
       "        vertical-align: middle;\n",
       "    }\n",
       "\n",
       "    .dataframe tbody tr th {\n",
       "        vertical-align: top;\n",
       "    }\n",
       "\n",
       "    .dataframe thead th {\n",
       "        text-align: right;\n",
       "    }\n",
       "</style>\n",
       "<table border=\"1\" class=\"dataframe\">\n",
       "  <thead>\n",
       "    <tr style=\"text-align: right;\">\n",
       "      <th></th>\n",
       "      <th>diagnostics_Versions_PyRadiomics</th>\n",
       "      <th>diagnostics_Versions_Numpy</th>\n",
       "      <th>diagnostics_Versions_SimpleITK</th>\n",
       "      <th>diagnostics_Versions_PyWavelet</th>\n",
       "      <th>diagnostics_Versions_Python</th>\n",
       "      <th>diagnostics_Configuration_Settings</th>\n",
       "      <th>diagnostics_Configuration_EnabledImageTypes</th>\n",
       "      <th>diagnostics_Image-original_Hash</th>\n",
       "      <th>diagnostics_Image-original_Dimensionality</th>\n",
       "      <th>diagnostics_Image-original_Spacing</th>\n",
       "      <th>...</th>\n",
       "      <th>original_glszm_SmallAreaLowGrayLevelEmphasis</th>\n",
       "      <th>original_glszm_ZoneEntropy</th>\n",
       "      <th>original_glszm_ZonePercentage</th>\n",
       "      <th>original_glszm_ZoneVariance</th>\n",
       "      <th>original_ngtdm_Busyness</th>\n",
       "      <th>original_ngtdm_Coarseness</th>\n",
       "      <th>original_ngtdm_Complexity</th>\n",
       "      <th>original_ngtdm_Contrast</th>\n",
       "      <th>original_ngtdm_Strength</th>\n",
       "      <th>class</th>\n",
       "    </tr>\n",
       "  </thead>\n",
       "  <tbody>\n",
       "  </tbody>\n",
       "</table>\n",
       "<p>0 rows × 116 columns</p>\n",
       "</div>"
      ]
     },
     "execution_count": 11,
     "metadata": {},
     "output_type": "execute_result"
    }
   ],
   "execution_count": 11
  },
  {
   "metadata": {},
   "cell_type": "markdown",
   "source": "**Resultado: não há linhas duplicadas na base de dados.**",
   "id": "34cfe3f66bef3340"
  },
  {
   "metadata": {},
   "cell_type": "markdown",
   "source": "## 1.4 Redução de Dimensionalidade",
   "id": "63914bfb32a205e5"
  },
  {
   "metadata": {},
   "cell_type": "markdown",
   "source": [
    "### 1.4.1 Remover colunas manualmente\n",
    "\n",
    "Algumas colunas na base de dados são sobre versões de bibliotecas, tamanho das imagens e algumas outras coisas."
   ],
   "id": "a0702a844f26b164"
  },
  {
   "metadata": {
    "ExecuteTime": {
     "end_time": "2025-04-24T19:17:39.128148Z",
     "start_time": "2025-04-24T19:17:39.123545Z"
    }
   },
   "cell_type": "code",
   "source": [
    "columns_to_drop: list[ str ] = [ 'diagnostics_Versions_PyRadiomics', 'diagnostics_Versions_Numpy',\n",
    "                                 'diagnostics_Versions_SimpleITK', 'diagnostics_Versions_PyWavelet',\n",
    "                                 'diagnostics_Versions_Python', 'diagnostics_Configuration_Settings',\n",
    "                                 'diagnostics_Configuration_EnabledImageTypes', 'diagnostics_Image-original_Hash',\n",
    "                                 'diagnostics_Image-original_Dimensionality', 'diagnostics_Image-original_Spacing',\n",
    "                                 'diagnostics_Image-original_Size', 'diagnostics_Image-original_Mean',\n",
    "                                 'diagnostics_Mask-original_Hash', 'diagnostics_Mask-original_BoundingBox',\n",
    "                                 'diagnostics_Mask-original_VoxelNum', 'diagnostics_Mask-original_VolumeNum',\n",
    "                                 'diagnostics_Mask-original_CenterOfMassIndex',\n",
    "                                 'diagnostics_Mask-original_CenterOfMass' ]"
   ],
   "id": "2b0647659f5d26e4",
   "outputs": [],
   "execution_count": 12
  },
  {
   "metadata": {},
   "cell_type": "markdown",
   "source": "### 1.4.2 Colunas com valores únicos",
   "id": "6b6b475ea93d2779"
  },
  {
   "metadata": {},
   "cell_type": "markdown",
   "source": "Algumas colunas da base de dados são preenchidas com um único valor, o que não ajuda muito.",
   "id": "c1a5fd2a440afd3b"
  },
  {
   "metadata": {
    "ExecuteTime": {
     "end_time": "2025-04-24T19:17:39.412614Z",
     "start_time": "2025-04-24T19:17:39.389417Z"
    }
   },
   "cell_type": "code",
   "source": [
    "# Conta valores únicos em cada coluna\n",
    "unique_counts = df.nunique()\n",
    "\n",
    "# Seleciona nomes de colunas constantes\n",
    "constant_columns = unique_counts[ unique_counts == 1 ].index.tolist()\n",
    "\n",
    "# Unificando as listas de colunas que serão removidas\n",
    "columns_to_drop.extend( constant_columns )\n",
    "\n",
    "df = df.drop( columns = columns_to_drop )\n",
    "df.shape"
   ],
   "id": "16d7550de2490163",
   "outputs": [
    {
     "data": {
      "text/plain": [
       "(2018, 93)"
      ]
     },
     "execution_count": 13,
     "metadata": {},
     "output_type": "execute_result"
    }
   ],
   "execution_count": 13
  },
  {
   "metadata": {},
   "cell_type": "markdown",
   "source": [
    "### 1.4.3 Análise de Correlação\n",
    "\n",
    "Aqui será aplicada uma técnica de remoção de variáveis altamente correlacionadas entre si, baseada em análise de correlação entre features numéricas.\n",
    "\n",
    "Ideia principal\n",
    "- Se duas variáveis têm correlação muito alta (ex: > 0.9), elas transmitem praticamente a mesma informação.\n",
    "- Manter ambas pode ser redundante e até prejudicial para o modelo.\n",
    "- Eliminar uma das duas ajuda a simplificar o modelo sem perda significativa de desempenho."
   ],
   "id": "87039a665ba70e2d"
  },
  {
   "metadata": {
    "ExecuteTime": {
     "end_time": "2025-04-24T19:17:39.486892Z",
     "start_time": "2025-04-24T19:17:39.479967Z"
    }
   },
   "cell_type": "code",
   "source": [
    "# Separando as features (X) da variável alvo (y)\n",
    "X = df.drop( columns = [ target_column_name ] )\n",
    "y = df[ target_column_name ]\n",
    "\n",
    "# Pegando as colunas numéricas de X\n",
    "numeric_cols = X.select_dtypes( include = np.number ).columns.tolist()"
   ],
   "id": "544cbf66daa2457",
   "outputs": [],
   "execution_count": 14
  },
  {
   "metadata": {
    "ExecuteTime": {
     "end_time": "2025-04-24T19:53:15.106652Z",
     "start_time": "2025-04-24T19:53:15.085340Z"
    }
   },
   "cell_type": "code",
   "source": [
    "# --- Dicionário para armazenar resultados X para comparação ---\n",
    "datasets_X = { }\n",
    "n_features = { }\n",
    "datasets_X[ 'Baseline' ] = X_encoded.to_numpy()  # Adicionar baseline codificado\n",
    "n_features[ 'Baseline' ] = X_encoded.shape[ 1 ]"
   ],
   "id": "490f1819b3e1fecf",
   "outputs": [],
   "execution_count": 37
  },
  {
   "metadata": {
    "ExecuteTime": {
     "end_time": "2025-04-24T19:17:39.581996Z",
     "start_time": "2025-04-24T19:17:39.534235Z"
    }
   },
   "cell_type": "code",
   "source": [
    "# Calculando matriz de correlação\n",
    "correlation_matrix = X[ numeric_cols ].corr()\n",
    "\n",
    "# Plotando o resultado\n",
    "# plt.figure( figsize = (8, 6) )\n",
    "# sns.heatmap( correlation_matrix, cmap = 'coolwarm', annot = False )\n",
    "# plt.title( 'Matriz de Correlação Feature-Feature' )\n",
    "# plt.show()"
   ],
   "id": "5bd4963a724e4c12",
   "outputs": [],
   "execution_count": 15
  },
  {
   "metadata": {},
   "cell_type": "markdown",
   "source": "# **TESTAR OUTRAS ESTRATÉGIAS**",
   "id": "43f6b82e75567202"
  },
  {
   "metadata": {
    "ExecuteTime": {
     "end_time": "2025-04-24T19:17:39.721538Z",
     "start_time": "2025-04-24T19:17:39.631815Z"
    }
   },
   "cell_type": "code",
   "source": [
    "# Limiar de correlação absoluta\n",
    "correlation_threshold = 0.9\n",
    "\n",
    "# Encontrar pares de features com correlação acima do limiar\n",
    "# Usamos o triângulo superior da matriz para evitar pares duplicados (A,B) e (B,A)\n",
    "# e correlação de uma feature com ela mesma (diagonal = 1)\n",
    "upper_triangle = correlation_matrix.where( np.triu( np.ones( correlation_matrix.shape ), k = 1 ).astype( bool ) )\n",
    "\n",
    "# Encontrar colunas a serem removidas\n",
    "columns_to_drop = set()\n",
    "for i in range( len( upper_triangle.columns ) ):\n",
    "    for j in range( i ):\n",
    "        if abs( upper_triangle.iloc[ j, i ] ) > correlation_threshold:\n",
    "            colname_i = upper_triangle.columns[ i ]\n",
    "            colname_j = upper_triangle.columns[ j ]\n",
    "\n",
    "            # Estratégia: Remover a coluna 'i' (a segunda do par no loop)\n",
    "            # Outras estratégias poderiam ser implementadas aqui (ex: remover a com menor variância,\n",
    "            # ou a com menor correlação média com as demais, ou menor corr com o alvo se calculado)\n",
    "            columns_to_drop.add( colname_i )\n",
    "\n",
    "X_reduced_ff = X.drop( columns = list( columns_to_drop ) )\n",
    "\n",
    "X_reduced_ff.shape"
   ],
   "id": "fda52c80dc245be7",
   "outputs": [
    {
     "data": {
      "text/plain": [
       "(2018, 25)"
      ]
     },
     "execution_count": 16,
     "metadata": {},
     "output_type": "execute_result"
    }
   ],
   "execution_count": 16
  },
  {
   "metadata": {
    "ExecuteTime": {
     "end_time": "2025-04-24T19:17:39.796902Z",
     "start_time": "2025-04-24T19:17:39.790698Z"
    }
   },
   "cell_type": "code",
   "source": [
    "df_corr_ff = pd.concat( [ X_reduced_ff, y ], axis = 1 )\n",
    "df_corr_ff.shape"
   ],
   "id": "d9e996962c2b6325",
   "outputs": [
    {
     "data": {
      "text/plain": [
       "(2018, 26)"
      ]
     },
     "execution_count": 17,
     "metadata": {},
     "output_type": "execute_result"
    }
   ],
   "execution_count": 17
  },
  {
   "metadata": {
    "ExecuteTime": {
     "end_time": "2025-04-24T19:54:05.413199Z",
     "start_time": "2025-04-24T19:54:05.406698Z"
    }
   },
   "cell_type": "code",
   "source": [
    "# Armazenar para comparação\n",
    "datasets_X[ 'Correlação F-F' ] = X_reduced_ff.to_numpy()\n",
    "n_features[ 'Correlação F-F' ] = X_reduced_ff.shape[ 1 ]"
   ],
   "id": "7a2784efbfde294e",
   "outputs": [],
   "execution_count": 38
  },
  {
   "metadata": {},
   "cell_type": "markdown",
   "source": [
    "### 1.4.4 Seleção Baseada em Informação Mútua (Mutual Information)\n",
    "\n",
    "Aqui será utilizada uma técnica de seleção de variáveis baseada em informação mútua, que mede a dependência estatística entre cada variável e a variável alvo. O objetivo é identificar quais variáveis carregam mais informação relevante para prever o resultado.\n",
    "\n",
    "Ideia principal\n",
    "- Calcular a informação mútua (MI) entre cada variável preditora e a variável alvo.\n",
    "- Selecionar automaticamente as K variáveis mais informativas com base nos maiores scores de MI."
   ],
   "id": "e49848500c93a763"
  },
  {
   "metadata": {
    "ExecuteTime": {
     "end_time": "2025-04-24T19:17:39.873349Z",
     "start_time": "2025-04-24T19:17:39.870053Z"
    }
   },
   "cell_type": "code",
   "source": [
    "#  Codificar alvo (y) para formato numérico\n",
    "le = LabelEncoder()\n",
    "y_encoded = le.fit_transform( y )\n",
    "\n",
    "# Criar uma cópia de X para codificar, preservando o X original por enquanto\n",
    "X_encoded = X.copy()"
   ],
   "id": "bb500cb4d427c25",
   "outputs": [],
   "execution_count": 18
  },
  {
   "metadata": {
    "ExecuteTime": {
     "end_time": "2025-04-24T19:17:41.209896Z",
     "start_time": "2025-04-24T19:17:39.943441Z"
    }
   },
   "cell_type": "code",
   "source": [
    "# Calculando Scores de Mutual Information\n",
    "mi_scores = mutual_info_classif( X_encoded, y_encoded, discrete_features = 'auto', random_state = 42 )\n",
    "\n",
    "# Criar uma Series para facilitar a visualização\n",
    "mi_scores_series = pd.Series( mi_scores, index = X_encoded.columns ).sort_values( ascending = False )\n",
    "\n",
    "# print(\"\\nScores de Mutual Information calculados (maior para menor):\")\n",
    "# print(mi_scores_series)\n",
    "#\n",
    "# # Plotar os scores para visualização\n",
    "# plt.figure(figsize=(10, max(6, len(X_encoded.columns) // 2))) # Ajusta altura\n",
    "# mi_scores_series.plot(kind='barh', color='teal')\n",
    "# plt.title('Scores de Mutual Information por Feature')\n",
    "# plt.xlabel('Score MI')\n",
    "# plt.ylabel('Feature')\n",
    "# plt.gca().invert_yaxis() # Maior score no topo\n",
    "# plt.tight_layout() # Ajusta o layout para não cortar labels\n",
    "# plt.show()"
   ],
   "id": "3b253870f66b3bcf",
   "outputs": [],
   "execution_count": 19
  },
  {
   "metadata": {
    "ExecuteTime": {
     "end_time": "2025-04-24T19:17:42.436716Z",
     "start_time": "2025-04-24T19:17:41.336964Z"
    }
   },
   "cell_type": "code",
   "source": [
    "# Selecionar as K Melhores Features\n",
    "k_features_to_keep = 30\n",
    "\n",
    "# Instanciar o seletor\n",
    "# Passamos a função de score e o número K\n",
    "selector = SelectKBest( score_func = mutual_info_classif, k = k_features_to_keep )\n",
    "\n",
    "# Ajustar o seletor aos dados codificados (X_encoded, y_encoded)\n",
    "selector.fit( X_encoded, y_encoded )\n",
    "\n",
    "# Obter as features selecionadas (nomes das colunas)\n",
    "selected_features_mask = selector.get_support()\n",
    "selected_features_names = X_encoded.columns[ selected_features_mask ]"
   ],
   "id": "12a6a44ac294628b",
   "outputs": [],
   "execution_count": 20
  },
  {
   "metadata": {
    "ExecuteTime": {
     "end_time": "2025-04-24T19:17:42.562689Z",
     "start_time": "2025-04-24T19:17:42.553565Z"
    }
   },
   "cell_type": "code",
   "source": [
    "# Selecionar as colunas correspondentes do DataFrame (X) para preservar os tipos de dados originais\n",
    "X_selected_mi = X[ selected_features_names ].copy()\n",
    "\n",
    "# Combinar as features selecionadas (X_selected_mi) com a coluna alvo (y)\n",
    "df_mi = pd.concat( [ X_selected_mi, y ], axis = 1 )\n",
    "df_mi.shape"
   ],
   "id": "630e1d07a0b3405d",
   "outputs": [
    {
     "data": {
      "text/plain": [
       "(2018, 31)"
      ]
     },
     "execution_count": 21,
     "metadata": {},
     "output_type": "execute_result"
    }
   ],
   "execution_count": 21
  },
  {
   "metadata": {
    "ExecuteTime": {
     "end_time": "2025-04-24T19:54:46.141269Z",
     "start_time": "2025-04-24T19:54:46.133205Z"
    }
   },
   "cell_type": "code",
   "source": [
    "# Armazenar para comparação\n",
    "datasets_X[ 'Mutual Info' ] = X_selected_mi.to_numpy()\n",
    "n_features[ 'Mutual Info' ] = X_selected_mi.shape[ 1 ]"
   ],
   "id": "c2967417095d8c3",
   "outputs": [],
   "execution_count": 39
  },
  {
   "metadata": {},
   "cell_type": "markdown",
   "source": [
    "### 1.4.5 Seleção Baseada em Modelos de Árvore\n",
    "\n",
    "Será treinado um modelo de floresta aleatória completo com todas as variáveis disponíveis. Após o treinamento, serão extraídas as importâncias atribuídas a cada variável. Em seguida, será aplicado um filtro automático que seleciona apenas as variáveis mais relevantes, com base em um critério quantitativo de corte.\n",
    "\n",
    "Ideia principal\n",
    "- Utilizar uma floresta de decisão com múltiplas árvores, que internamente avalia a utilidade de cada variável para separar os dados.\n",
    "- Aproveitar a estimativa de desempenho fora da amostra (OOB) para obter uma noção de quão bem o modelo pode generalizar.\n",
    "- Calcular a importância de cada variável com base em sua contribuição para reduzir a impureza nas árvores.\n",
    "- Selecionar automaticamente apenas as variáveis cuja importância está acima de um limiar — neste caso, acima da mediana."
   ],
   "id": "8959a1ce7b1775d3"
  },
  {
   "metadata": {
    "ExecuteTime": {
     "end_time": "2025-04-24T19:17:43.461735Z",
     "start_time": "2025-04-24T19:17:42.677630Z"
    }
   },
   "cell_type": "code",
   "source": [
    "X_encoded = X.copy()\n",
    "\n",
    "# n_estimators: número de árvores na floresta\n",
    "# random_state: para reprodutibilidade\n",
    "# n_jobs=-1: usar todos os processadores disponíveis (acelera)\n",
    "# oob_score=True pode dar uma estimativa de desempenho\n",
    "rf_model = RandomForestClassifier(\n",
    "        n_estimators = 100,\n",
    "        random_state = 42,\n",
    "        n_jobs = -1,\n",
    "        class_weight = 'balanced',\n",
    "        oob_score = True\n",
    ")\n",
    "\n",
    "rf_model.fit( X_encoded, y_encoded )\n",
    "print( f\"Modelo treinado. OOB Score (estimativa de acurácia): {rf_model.oob_score_:.4f}\" )"
   ],
   "id": "52976adeef2ff7c4",
   "outputs": [
    {
     "name": "stdout",
     "output_type": "stream",
     "text": [
      "Modelo treinado. OOB Score (estimativa de acurácia): 0.6021\n"
     ]
    }
   ],
   "execution_count": 22
  },
  {
   "metadata": {
    "ExecuteTime": {
     "end_time": "2025-04-24T19:17:43.594841Z",
     "start_time": "2025-04-24T19:17:43.574326Z"
    }
   },
   "cell_type": "code",
   "source": [
    "# Extrair as features importantes\n",
    "importances = rf_model.feature_importances_\n",
    "feature_importances = pd.Series( importances, index = X_encoded.columns ).sort_values( ascending = False )\n",
    "\n",
    "# print( \"\\nImportância das Features segundo o Random Forest:\" )\n",
    "# print( feature_importances )\n",
    "\n",
    "# Plotar as importâncias\n",
    "# plt.figure( figsize = (10, max( 6, len( X_encoded.columns ) // 2 )) )\n",
    "# feature_importances.plot( kind = 'barh', color = 'forestgreen' )\n",
    "# plt.title( 'Importância das Features (Random Forest)' )\n",
    "# plt.xlabel( 'Importância Média de Redução de Impureza' )\n",
    "# plt.ylabel( 'Feature' )\n",
    "# plt.gca().invert_yaxis()\n",
    "# plt.tight_layout()\n",
    "# plt.show()"
   ],
   "id": "a031dead7493844b",
   "outputs": [],
   "execution_count": 23
  },
  {
   "metadata": {
    "ExecuteTime": {
     "end_time": "2025-04-24T19:17:43.719132Z",
     "start_time": "2025-04-24T19:17:43.685876Z"
    }
   },
   "cell_type": "code",
   "source": [
    "# SelectFromModel seleciona features cuja importância é maior que um limiar.\n",
    "# O limiar pode ser um valor numérico ou uma string como \"mean\" ou \"median\".\n",
    "# Usar \"median\" pode ser mais robusto a outliers nos scores de importância.\n",
    "threshold_value = \"median\"  # Ou 'mean', ou um float como 0.005\n",
    "\n",
    "# Passamos o modelo JÁ TREINADO (rf_model) e prefit=True\n",
    "# O threshold define o corte\n",
    "selector_rf = SelectFromModel( rf_model, threshold = threshold_value, prefit = True )\n",
    "\n",
    "# Aplicar o seletor aos dados codificados\n",
    "# Apenas verifica quais colunas passam no threshold\n",
    "mask_selected_rf = selector_rf.get_support()\n",
    "selected_features_rf_names = X_encoded.columns[ mask_selected_rf ]"
   ],
   "id": "8c29cbe360121ba7",
   "outputs": [],
   "execution_count": 24
  },
  {
   "metadata": {
    "ExecuteTime": {
     "end_time": "2025-04-24T19:17:43.889742Z",
     "start_time": "2025-04-24T19:17:43.882721Z"
    }
   },
   "cell_type": "code",
   "source": [
    "# Selecionar as colunas do dataframe para manter os tipos\n",
    "X_selected_rf = X[ selected_features_rf_names ].copy()\n",
    "\n",
    "# Combinar com a coluna alvo\n",
    "df_rf = pd.concat( [ X_selected_rf, y ], axis = 1 )\n",
    "\n",
    "df_rf.shape"
   ],
   "id": "e8722271a40b88b",
   "outputs": [
    {
     "data": {
      "text/plain": [
       "(2018, 47)"
      ]
     },
     "execution_count": 25,
     "metadata": {},
     "output_type": "execute_result"
    }
   ],
   "execution_count": 25
  },
  {
   "metadata": {
    "ExecuteTime": {
     "end_time": "2025-04-24T19:55:25.129567Z",
     "start_time": "2025-04-24T19:55:25.116656Z"
    }
   },
   "cell_type": "code",
   "source": [
    "# Armazenar para comparação\n",
    "datasets_X[ 'RF Importance' ] = X_selected_rf.to_numpy()\n",
    "n_features[ 'RF Importance' ] = X_selected_rf.shape[ 1 ]"
   ],
   "id": "407ecfc75ff5e13c",
   "outputs": [],
   "execution_count": 40
  },
  {
   "metadata": {},
   "cell_type": "markdown",
   "source": [
    "### 1.4.6 Eliminação Recursiva de Atributos\n",
    "\n",
    "Será aplicado um processo automático que, a cada rodada, elimina uma variável de entrada e avalia como isso afeta a capacidade do modelo de previsão. Ao final, identifica o conjunto de variáveis que oferece o melhor desempenho.\n",
    "\n",
    "Ideia principal:\n",
    "- Montar um classificador robusto (floresta de decisões) que já compensa desequilíbrios entre classes.\n",
    "- Dividir os dados várias vezes (20 “rodadas”), mantendo a proporção de cada classe em cada divisão, para testar estabilidade.\n",
    "- Em cada rodada, remover sistematicamente uma variável diferente e medir a performance.\n",
    "- Repetir até atingir um número mínimo de variáveis.\n",
    "- Escolher o ponto em que o modelo atingiu sua maior média de acurácia nas rodadas de teste."
   ],
   "id": "2f1b63990095d4e8"
  },
  {
   "metadata": {
    "ExecuteTime": {
     "end_time": "2025-04-24T19:26:15.803283Z",
     "start_time": "2025-04-24T19:17:44.014344Z"
    }
   },
   "cell_type": "code",
   "source": [
    "# Aproveitando o modelo do Random Florest criando antes\n",
    "estimator = rf_model\n",
    "\n",
    "# Estratégia de Validação Cruzada\n",
    "# StratifiedKFold mantém a proporção das classes em cada fold, bom para classificação.\n",
    "cv_strategy = StratifiedKFold(\n",
    "        n_splits = 20,  # Número de folds\n",
    "        shuffle = True,  # Embaralhar os dados antes de dividir\n",
    "        random_state = 42\n",
    ")\n",
    "\n",
    "# Métrica para avaliar o \"time\" em cada \"jogo de teste\"\n",
    "# 'accuracy': Acurácia geral\n",
    "# 'f1_weighted': Média F1 ponderada pelas classes\n",
    "# 'roc_auc': Área sob a curva ROC (bom para classificação binária)\n",
    "scoring_metric = 'accuracy'\n",
    "\n",
    "# Número mínimo de features a manter (para não acabar com zero)\n",
    "min_features = max( 1, min( 5, X_encoded.shape[ 1 ] // 2 ) )\n",
    "\n",
    "# Instanciar o RFECV\n",
    "rfecv_selector = RFECV(\n",
    "        estimator = estimator,  # O modelo \"técnico\"\n",
    "        step = 1,  # Remover 1 feature por vez\n",
    "        cv = cv_strategy,  # A estratégia de validação cruzada\n",
    "        scoring = scoring_metric,  # A métrica para avaliar o desempenho\n",
    "        min_features_to_select = min_features,  # Número mínimo de features\n",
    "        n_jobs = -1  # Usar todos os processadores para paralelizar a CV\n",
    ")\n",
    "\n",
    "rfecv_selector.fit( X_encoded, y_encoded )"
   ],
   "id": "62dbc256ea223fab",
   "outputs": [
    {
     "data": {
      "text/plain": [
       "RFECV(cv=StratifiedKFold(n_splits=20, random_state=42, shuffle=True),\n",
       "      estimator=RandomForestClassifier(class_weight='balanced', n_jobs=-1,\n",
       "                                       oob_score=True, random_state=42),\n",
       "      min_features_to_select=5, n_jobs=-1, scoring='accuracy')"
      ],
      "text/html": [
       "<style>#sk-container-id-1 {\n",
       "  /* Definition of color scheme common for light and dark mode */\n",
       "  --sklearn-color-text: #000;\n",
       "  --sklearn-color-text-muted: #666;\n",
       "  --sklearn-color-line: gray;\n",
       "  /* Definition of color scheme for unfitted estimators */\n",
       "  --sklearn-color-unfitted-level-0: #fff5e6;\n",
       "  --sklearn-color-unfitted-level-1: #f6e4d2;\n",
       "  --sklearn-color-unfitted-level-2: #ffe0b3;\n",
       "  --sklearn-color-unfitted-level-3: chocolate;\n",
       "  /* Definition of color scheme for fitted estimators */\n",
       "  --sklearn-color-fitted-level-0: #f0f8ff;\n",
       "  --sklearn-color-fitted-level-1: #d4ebff;\n",
       "  --sklearn-color-fitted-level-2: #b3dbfd;\n",
       "  --sklearn-color-fitted-level-3: cornflowerblue;\n",
       "\n",
       "  /* Specific color for light theme */\n",
       "  --sklearn-color-text-on-default-background: var(--sg-text-color, var(--theme-code-foreground, var(--jp-content-font-color1, black)));\n",
       "  --sklearn-color-background: var(--sg-background-color, var(--theme-background, var(--jp-layout-color0, white)));\n",
       "  --sklearn-color-border-box: var(--sg-text-color, var(--theme-code-foreground, var(--jp-content-font-color1, black)));\n",
       "  --sklearn-color-icon: #696969;\n",
       "\n",
       "  @media (prefers-color-scheme: dark) {\n",
       "    /* Redefinition of color scheme for dark theme */\n",
       "    --sklearn-color-text-on-default-background: var(--sg-text-color, var(--theme-code-foreground, var(--jp-content-font-color1, white)));\n",
       "    --sklearn-color-background: var(--sg-background-color, var(--theme-background, var(--jp-layout-color0, #111)));\n",
       "    --sklearn-color-border-box: var(--sg-text-color, var(--theme-code-foreground, var(--jp-content-font-color1, white)));\n",
       "    --sklearn-color-icon: #878787;\n",
       "  }\n",
       "}\n",
       "\n",
       "#sk-container-id-1 {\n",
       "  color: var(--sklearn-color-text);\n",
       "}\n",
       "\n",
       "#sk-container-id-1 pre {\n",
       "  padding: 0;\n",
       "}\n",
       "\n",
       "#sk-container-id-1 input.sk-hidden--visually {\n",
       "  border: 0;\n",
       "  clip: rect(1px 1px 1px 1px);\n",
       "  clip: rect(1px, 1px, 1px, 1px);\n",
       "  height: 1px;\n",
       "  margin: -1px;\n",
       "  overflow: hidden;\n",
       "  padding: 0;\n",
       "  position: absolute;\n",
       "  width: 1px;\n",
       "}\n",
       "\n",
       "#sk-container-id-1 div.sk-dashed-wrapped {\n",
       "  border: 1px dashed var(--sklearn-color-line);\n",
       "  margin: 0 0.4em 0.5em 0.4em;\n",
       "  box-sizing: border-box;\n",
       "  padding-bottom: 0.4em;\n",
       "  background-color: var(--sklearn-color-background);\n",
       "}\n",
       "\n",
       "#sk-container-id-1 div.sk-container {\n",
       "  /* jupyter's `normalize.less` sets `[hidden] { display: none; }`\n",
       "     but bootstrap.min.css set `[hidden] { display: none !important; }`\n",
       "     so we also need the `!important` here to be able to override the\n",
       "     default hidden behavior on the sphinx rendered scikit-learn.org.\n",
       "     See: https://github.com/scikit-learn/scikit-learn/issues/21755 */\n",
       "  display: inline-block !important;\n",
       "  position: relative;\n",
       "}\n",
       "\n",
       "#sk-container-id-1 div.sk-text-repr-fallback {\n",
       "  display: none;\n",
       "}\n",
       "\n",
       "div.sk-parallel-item,\n",
       "div.sk-serial,\n",
       "div.sk-item {\n",
       "  /* draw centered vertical line to link estimators */\n",
       "  background-image: linear-gradient(var(--sklearn-color-text-on-default-background), var(--sklearn-color-text-on-default-background));\n",
       "  background-size: 2px 100%;\n",
       "  background-repeat: no-repeat;\n",
       "  background-position: center center;\n",
       "}\n",
       "\n",
       "/* Parallel-specific style estimator block */\n",
       "\n",
       "#sk-container-id-1 div.sk-parallel-item::after {\n",
       "  content: \"\";\n",
       "  width: 100%;\n",
       "  border-bottom: 2px solid var(--sklearn-color-text-on-default-background);\n",
       "  flex-grow: 1;\n",
       "}\n",
       "\n",
       "#sk-container-id-1 div.sk-parallel {\n",
       "  display: flex;\n",
       "  align-items: stretch;\n",
       "  justify-content: center;\n",
       "  background-color: var(--sklearn-color-background);\n",
       "  position: relative;\n",
       "}\n",
       "\n",
       "#sk-container-id-1 div.sk-parallel-item {\n",
       "  display: flex;\n",
       "  flex-direction: column;\n",
       "}\n",
       "\n",
       "#sk-container-id-1 div.sk-parallel-item:first-child::after {\n",
       "  align-self: flex-end;\n",
       "  width: 50%;\n",
       "}\n",
       "\n",
       "#sk-container-id-1 div.sk-parallel-item:last-child::after {\n",
       "  align-self: flex-start;\n",
       "  width: 50%;\n",
       "}\n",
       "\n",
       "#sk-container-id-1 div.sk-parallel-item:only-child::after {\n",
       "  width: 0;\n",
       "}\n",
       "\n",
       "/* Serial-specific style estimator block */\n",
       "\n",
       "#sk-container-id-1 div.sk-serial {\n",
       "  display: flex;\n",
       "  flex-direction: column;\n",
       "  align-items: center;\n",
       "  background-color: var(--sklearn-color-background);\n",
       "  padding-right: 1em;\n",
       "  padding-left: 1em;\n",
       "}\n",
       "\n",
       "\n",
       "/* Toggleable style: style used for estimator/Pipeline/ColumnTransformer box that is\n",
       "clickable and can be expanded/collapsed.\n",
       "- Pipeline and ColumnTransformer use this feature and define the default style\n",
       "- Estimators will overwrite some part of the style using the `sk-estimator` class\n",
       "*/\n",
       "\n",
       "/* Pipeline and ColumnTransformer style (default) */\n",
       "\n",
       "#sk-container-id-1 div.sk-toggleable {\n",
       "  /* Default theme specific background. It is overwritten whether we have a\n",
       "  specific estimator or a Pipeline/ColumnTransformer */\n",
       "  background-color: var(--sklearn-color-background);\n",
       "}\n",
       "\n",
       "/* Toggleable label */\n",
       "#sk-container-id-1 label.sk-toggleable__label {\n",
       "  cursor: pointer;\n",
       "  display: flex;\n",
       "  width: 100%;\n",
       "  margin-bottom: 0;\n",
       "  padding: 0.5em;\n",
       "  box-sizing: border-box;\n",
       "  text-align: center;\n",
       "  align-items: start;\n",
       "  justify-content: space-between;\n",
       "  gap: 0.5em;\n",
       "}\n",
       "\n",
       "#sk-container-id-1 label.sk-toggleable__label .caption {\n",
       "  font-size: 0.6rem;\n",
       "  font-weight: lighter;\n",
       "  color: var(--sklearn-color-text-muted);\n",
       "}\n",
       "\n",
       "#sk-container-id-1 label.sk-toggleable__label-arrow:before {\n",
       "  /* Arrow on the left of the label */\n",
       "  content: \"▸\";\n",
       "  float: left;\n",
       "  margin-right: 0.25em;\n",
       "  color: var(--sklearn-color-icon);\n",
       "}\n",
       "\n",
       "#sk-container-id-1 label.sk-toggleable__label-arrow:hover:before {\n",
       "  color: var(--sklearn-color-text);\n",
       "}\n",
       "\n",
       "/* Toggleable content - dropdown */\n",
       "\n",
       "#sk-container-id-1 div.sk-toggleable__content {\n",
       "  max-height: 0;\n",
       "  max-width: 0;\n",
       "  overflow: hidden;\n",
       "  text-align: left;\n",
       "  /* unfitted */\n",
       "  background-color: var(--sklearn-color-unfitted-level-0);\n",
       "}\n",
       "\n",
       "#sk-container-id-1 div.sk-toggleable__content.fitted {\n",
       "  /* fitted */\n",
       "  background-color: var(--sklearn-color-fitted-level-0);\n",
       "}\n",
       "\n",
       "#sk-container-id-1 div.sk-toggleable__content pre {\n",
       "  margin: 0.2em;\n",
       "  border-radius: 0.25em;\n",
       "  color: var(--sklearn-color-text);\n",
       "  /* unfitted */\n",
       "  background-color: var(--sklearn-color-unfitted-level-0);\n",
       "}\n",
       "\n",
       "#sk-container-id-1 div.sk-toggleable__content.fitted pre {\n",
       "  /* unfitted */\n",
       "  background-color: var(--sklearn-color-fitted-level-0);\n",
       "}\n",
       "\n",
       "#sk-container-id-1 input.sk-toggleable__control:checked~div.sk-toggleable__content {\n",
       "  /* Expand drop-down */\n",
       "  max-height: 200px;\n",
       "  max-width: 100%;\n",
       "  overflow: auto;\n",
       "}\n",
       "\n",
       "#sk-container-id-1 input.sk-toggleable__control:checked~label.sk-toggleable__label-arrow:before {\n",
       "  content: \"▾\";\n",
       "}\n",
       "\n",
       "/* Pipeline/ColumnTransformer-specific style */\n",
       "\n",
       "#sk-container-id-1 div.sk-label input.sk-toggleable__control:checked~label.sk-toggleable__label {\n",
       "  color: var(--sklearn-color-text);\n",
       "  background-color: var(--sklearn-color-unfitted-level-2);\n",
       "}\n",
       "\n",
       "#sk-container-id-1 div.sk-label.fitted input.sk-toggleable__control:checked~label.sk-toggleable__label {\n",
       "  background-color: var(--sklearn-color-fitted-level-2);\n",
       "}\n",
       "\n",
       "/* Estimator-specific style */\n",
       "\n",
       "/* Colorize estimator box */\n",
       "#sk-container-id-1 div.sk-estimator input.sk-toggleable__control:checked~label.sk-toggleable__label {\n",
       "  /* unfitted */\n",
       "  background-color: var(--sklearn-color-unfitted-level-2);\n",
       "}\n",
       "\n",
       "#sk-container-id-1 div.sk-estimator.fitted input.sk-toggleable__control:checked~label.sk-toggleable__label {\n",
       "  /* fitted */\n",
       "  background-color: var(--sklearn-color-fitted-level-2);\n",
       "}\n",
       "\n",
       "#sk-container-id-1 div.sk-label label.sk-toggleable__label,\n",
       "#sk-container-id-1 div.sk-label label {\n",
       "  /* The background is the default theme color */\n",
       "  color: var(--sklearn-color-text-on-default-background);\n",
       "}\n",
       "\n",
       "/* On hover, darken the color of the background */\n",
       "#sk-container-id-1 div.sk-label:hover label.sk-toggleable__label {\n",
       "  color: var(--sklearn-color-text);\n",
       "  background-color: var(--sklearn-color-unfitted-level-2);\n",
       "}\n",
       "\n",
       "/* Label box, darken color on hover, fitted */\n",
       "#sk-container-id-1 div.sk-label.fitted:hover label.sk-toggleable__label.fitted {\n",
       "  color: var(--sklearn-color-text);\n",
       "  background-color: var(--sklearn-color-fitted-level-2);\n",
       "}\n",
       "\n",
       "/* Estimator label */\n",
       "\n",
       "#sk-container-id-1 div.sk-label label {\n",
       "  font-family: monospace;\n",
       "  font-weight: bold;\n",
       "  display: inline-block;\n",
       "  line-height: 1.2em;\n",
       "}\n",
       "\n",
       "#sk-container-id-1 div.sk-label-container {\n",
       "  text-align: center;\n",
       "}\n",
       "\n",
       "/* Estimator-specific */\n",
       "#sk-container-id-1 div.sk-estimator {\n",
       "  font-family: monospace;\n",
       "  border: 1px dotted var(--sklearn-color-border-box);\n",
       "  border-radius: 0.25em;\n",
       "  box-sizing: border-box;\n",
       "  margin-bottom: 0.5em;\n",
       "  /* unfitted */\n",
       "  background-color: var(--sklearn-color-unfitted-level-0);\n",
       "}\n",
       "\n",
       "#sk-container-id-1 div.sk-estimator.fitted {\n",
       "  /* fitted */\n",
       "  background-color: var(--sklearn-color-fitted-level-0);\n",
       "}\n",
       "\n",
       "/* on hover */\n",
       "#sk-container-id-1 div.sk-estimator:hover {\n",
       "  /* unfitted */\n",
       "  background-color: var(--sklearn-color-unfitted-level-2);\n",
       "}\n",
       "\n",
       "#sk-container-id-1 div.sk-estimator.fitted:hover {\n",
       "  /* fitted */\n",
       "  background-color: var(--sklearn-color-fitted-level-2);\n",
       "}\n",
       "\n",
       "/* Specification for estimator info (e.g. \"i\" and \"?\") */\n",
       "\n",
       "/* Common style for \"i\" and \"?\" */\n",
       "\n",
       ".sk-estimator-doc-link,\n",
       "a:link.sk-estimator-doc-link,\n",
       "a:visited.sk-estimator-doc-link {\n",
       "  float: right;\n",
       "  font-size: smaller;\n",
       "  line-height: 1em;\n",
       "  font-family: monospace;\n",
       "  background-color: var(--sklearn-color-background);\n",
       "  border-radius: 1em;\n",
       "  height: 1em;\n",
       "  width: 1em;\n",
       "  text-decoration: none !important;\n",
       "  margin-left: 0.5em;\n",
       "  text-align: center;\n",
       "  /* unfitted */\n",
       "  border: var(--sklearn-color-unfitted-level-1) 1pt solid;\n",
       "  color: var(--sklearn-color-unfitted-level-1);\n",
       "}\n",
       "\n",
       ".sk-estimator-doc-link.fitted,\n",
       "a:link.sk-estimator-doc-link.fitted,\n",
       "a:visited.sk-estimator-doc-link.fitted {\n",
       "  /* fitted */\n",
       "  border: var(--sklearn-color-fitted-level-1) 1pt solid;\n",
       "  color: var(--sklearn-color-fitted-level-1);\n",
       "}\n",
       "\n",
       "/* On hover */\n",
       "div.sk-estimator:hover .sk-estimator-doc-link:hover,\n",
       ".sk-estimator-doc-link:hover,\n",
       "div.sk-label-container:hover .sk-estimator-doc-link:hover,\n",
       ".sk-estimator-doc-link:hover {\n",
       "  /* unfitted */\n",
       "  background-color: var(--sklearn-color-unfitted-level-3);\n",
       "  color: var(--sklearn-color-background);\n",
       "  text-decoration: none;\n",
       "}\n",
       "\n",
       "div.sk-estimator.fitted:hover .sk-estimator-doc-link.fitted:hover,\n",
       ".sk-estimator-doc-link.fitted:hover,\n",
       "div.sk-label-container:hover .sk-estimator-doc-link.fitted:hover,\n",
       ".sk-estimator-doc-link.fitted:hover {\n",
       "  /* fitted */\n",
       "  background-color: var(--sklearn-color-fitted-level-3);\n",
       "  color: var(--sklearn-color-background);\n",
       "  text-decoration: none;\n",
       "}\n",
       "\n",
       "/* Span, style for the box shown on hovering the info icon */\n",
       ".sk-estimator-doc-link span {\n",
       "  display: none;\n",
       "  z-index: 9999;\n",
       "  position: relative;\n",
       "  font-weight: normal;\n",
       "  right: .2ex;\n",
       "  padding: .5ex;\n",
       "  margin: .5ex;\n",
       "  width: min-content;\n",
       "  min-width: 20ex;\n",
       "  max-width: 50ex;\n",
       "  color: var(--sklearn-color-text);\n",
       "  box-shadow: 2pt 2pt 4pt #999;\n",
       "  /* unfitted */\n",
       "  background: var(--sklearn-color-unfitted-level-0);\n",
       "  border: .5pt solid var(--sklearn-color-unfitted-level-3);\n",
       "}\n",
       "\n",
       ".sk-estimator-doc-link.fitted span {\n",
       "  /* fitted */\n",
       "  background: var(--sklearn-color-fitted-level-0);\n",
       "  border: var(--sklearn-color-fitted-level-3);\n",
       "}\n",
       "\n",
       ".sk-estimator-doc-link:hover span {\n",
       "  display: block;\n",
       "}\n",
       "\n",
       "/* \"?\"-specific style due to the `<a>` HTML tag */\n",
       "\n",
       "#sk-container-id-1 a.estimator_doc_link {\n",
       "  float: right;\n",
       "  font-size: 1rem;\n",
       "  line-height: 1em;\n",
       "  font-family: monospace;\n",
       "  background-color: var(--sklearn-color-background);\n",
       "  border-radius: 1rem;\n",
       "  height: 1rem;\n",
       "  width: 1rem;\n",
       "  text-decoration: none;\n",
       "  /* unfitted */\n",
       "  color: var(--sklearn-color-unfitted-level-1);\n",
       "  border: var(--sklearn-color-unfitted-level-1) 1pt solid;\n",
       "}\n",
       "\n",
       "#sk-container-id-1 a.estimator_doc_link.fitted {\n",
       "  /* fitted */\n",
       "  border: var(--sklearn-color-fitted-level-1) 1pt solid;\n",
       "  color: var(--sklearn-color-fitted-level-1);\n",
       "}\n",
       "\n",
       "/* On hover */\n",
       "#sk-container-id-1 a.estimator_doc_link:hover {\n",
       "  /* unfitted */\n",
       "  background-color: var(--sklearn-color-unfitted-level-3);\n",
       "  color: var(--sklearn-color-background);\n",
       "  text-decoration: none;\n",
       "}\n",
       "\n",
       "#sk-container-id-1 a.estimator_doc_link.fitted:hover {\n",
       "  /* fitted */\n",
       "  background-color: var(--sklearn-color-fitted-level-3);\n",
       "}\n",
       "</style><div id=\"sk-container-id-1\" class=\"sk-top-container\"><div class=\"sk-text-repr-fallback\"><pre>RFECV(cv=StratifiedKFold(n_splits=20, random_state=42, shuffle=True),\n",
       "      estimator=RandomForestClassifier(class_weight=&#x27;balanced&#x27;, n_jobs=-1,\n",
       "                                       oob_score=True, random_state=42),\n",
       "      min_features_to_select=5, n_jobs=-1, scoring=&#x27;accuracy&#x27;)</pre><b>In a Jupyter environment, please rerun this cell to show the HTML representation or trust the notebook. <br />On GitHub, the HTML representation is unable to render, please try loading this page with nbviewer.org.</b></div><div class=\"sk-container\" hidden><div class=\"sk-item sk-dashed-wrapped\"><div class=\"sk-label-container\"><div class=\"sk-label fitted sk-toggleable\"><input class=\"sk-toggleable__control sk-hidden--visually\" id=\"sk-estimator-id-1\" type=\"checkbox\" ><label for=\"sk-estimator-id-1\" class=\"sk-toggleable__label fitted sk-toggleable__label-arrow\"><div><div>RFECV</div></div><div><a class=\"sk-estimator-doc-link fitted\" rel=\"noreferrer\" target=\"_blank\" href=\"https://scikit-learn.org/1.6/modules/generated/sklearn.feature_selection.RFECV.html\">?<span>Documentation for RFECV</span></a><span class=\"sk-estimator-doc-link fitted\">i<span>Fitted</span></span></div></label><div class=\"sk-toggleable__content fitted\"><pre>RFECV(cv=StratifiedKFold(n_splits=20, random_state=42, shuffle=True),\n",
       "      estimator=RandomForestClassifier(class_weight=&#x27;balanced&#x27;, n_jobs=-1,\n",
       "                                       oob_score=True, random_state=42),\n",
       "      min_features_to_select=5, n_jobs=-1, scoring=&#x27;accuracy&#x27;)</pre></div> </div></div><div class=\"sk-parallel\"><div class=\"sk-parallel-item\"><div class=\"sk-item\"><div class=\"sk-label-container\"><div class=\"sk-label fitted sk-toggleable\"><input class=\"sk-toggleable__control sk-hidden--visually\" id=\"sk-estimator-id-2\" type=\"checkbox\" ><label for=\"sk-estimator-id-2\" class=\"sk-toggleable__label fitted sk-toggleable__label-arrow\"><div><div>estimator: RandomForestClassifier</div></div></label><div class=\"sk-toggleable__content fitted\"><pre>RandomForestClassifier(class_weight=&#x27;balanced&#x27;, n_jobs=-1, oob_score=True,\n",
       "                       random_state=42)</pre></div> </div></div><div class=\"sk-serial\"><div class=\"sk-item\"><div class=\"sk-estimator fitted sk-toggleable\"><input class=\"sk-toggleable__control sk-hidden--visually\" id=\"sk-estimator-id-3\" type=\"checkbox\" ><label for=\"sk-estimator-id-3\" class=\"sk-toggleable__label fitted sk-toggleable__label-arrow\"><div><div>RandomForestClassifier</div></div><div><a class=\"sk-estimator-doc-link fitted\" rel=\"noreferrer\" target=\"_blank\" href=\"https://scikit-learn.org/1.6/modules/generated/sklearn.ensemble.RandomForestClassifier.html\">?<span>Documentation for RandomForestClassifier</span></a></div></label><div class=\"sk-toggleable__content fitted\"><pre>RandomForestClassifier(class_weight=&#x27;balanced&#x27;, n_jobs=-1, oob_score=True,\n",
       "                       random_state=42)</pre></div> </div></div></div></div></div></div></div></div></div>"
      ]
     },
     "execution_count": 26,
     "metadata": {},
     "output_type": "execute_result"
    }
   ],
   "execution_count": 26
  },
  {
   "metadata": {
    "ExecuteTime": {
     "end_time": "2025-04-24T19:26:16.257441Z",
     "start_time": "2025-04-24T19:26:15.979647Z"
    }
   },
   "cell_type": "code",
   "source": [
    "optimal_n_features = rfecv_selector.n_features_\n",
    "selected_features_mask_rfe = rfecv_selector.support_  # Máscara booleana das features selecionadas\n",
    "selected_features_rfe_names = X_encoded.columns[ selected_features_mask_rfe ]\n",
    "\n",
    "# Visualizar o resultado da validação cruzada\n",
    "# Isso mostra como o score da métrica variou conforme o número de features foi mudando\n",
    "if hasattr( rfecv_selector, 'cv_results_' ):\n",
    "    try:\n",
    "        # Obter os scores médios e desvios padrão da validação cruzada\n",
    "        mean_scores = rfecv_selector.cv_results_[ 'mean_test_score' ]\n",
    "        std_scores = rfecv_selector.cv_results_[ 'std_test_score' ]\n",
    "        # Número de features correspondente a cada score\n",
    "        n_features_tested = range(\n",
    "                rfecv_selector.min_features_to_select,\n",
    "                len( mean_scores ) + rfecv_selector.min_features_to_select\n",
    "        )\n",
    "\n",
    "        plt.figure( figsize = (12, 7) )\n",
    "        plt.xlabel( \"Número de Features Selecionadas\" )\n",
    "        plt.ylabel( f\"Score Médio CV ({scoring_metric})\" )\n",
    "        plt.errorbar(\n",
    "                n_features_tested, mean_scores, yerr = std_scores, fmt = '-o', capsize = 3, ecolor = 'lightgray',\n",
    "                elinewidth = 1\n",
    "        )\n",
    "        plt.title( \"RFECV: Desempenho vs Número de Features\" )\n",
    "\n",
    "        # Marcar o ponto ótimo\n",
    "        optimal_idx = optimal_n_features - rfecv_selector.min_features_to_select\n",
    "        if 0 <= optimal_idx < len( mean_scores ):\n",
    "            plt.plot(\n",
    "                    optimal_n_features, mean_scores[ optimal_idx ], 'r*', markersize = 10,\n",
    "                    label = f'Ótimo ({optimal_n_features} features, Score: {mean_scores[ optimal_idx ]:.4f})'\n",
    "            )\n",
    "            plt.axvline( x = optimal_n_features, color = 'red', linestyle = '--', alpha = 0.7 )\n",
    "        else:\n",
    "            print(\n",
    "                    f\"Aviso: Índice ótimo ({optimal_idx}) fora do range dos scores. Não foi possível marcar o ponto ótimo no gráfico.\"\n",
    "            )\n",
    "\n",
    "        plt.legend( loc = 'best' )\n",
    "        plt.grid( True, linestyle = '--', alpha = 0.6 )\n",
    "        plt.show()\n",
    "\n",
    "    except KeyError as e:\n",
    "        print(\n",
    "                f\"Erro ao acessar 'cv_results_' para plotagem (KeyError: {e}). Verifique a versão do scikit-learn ou os resultados do RFECV.\"\n",
    "        )\n",
    "    except Exception as e:\n",
    "        print( f\"Ocorreu um erro inesperado ao gerar o gráfico de CV: {e}\" )\n",
    "else:\n",
    "    print( \"Atributo 'cv_results_' não encontrado no seletor RFECV. Não é possível gerar o gráfico.\" )\n"
   ],
   "id": "a429eb8b22a4fcb8",
   "outputs": [
    {
     "data": {
      "text/plain": [
       "<Figure size 1200x700 with 1 Axes>"
      ],
      "image/png": "[encoded data removed]"
     },
     "metadata": {},
     "output_type": "display_data"
    }
   ],
   "execution_count": 27
  },
  {
   "metadata": {
    "ExecuteTime": {
     "end_time": "2025-04-24T19:26:16.351878Z",
     "start_time": "2025-04-24T19:26:16.343548Z"
    }
   },
   "cell_type": "code",
   "source": [
    "# Selecionar as colunas do dataframe\n",
    "X_selected_rfe = X[ selected_features_rfe_names ].copy()\n",
    "\n",
    "# Combinar com a coluna alvo\n",
    "df_rfe = pd.concat( [ X_selected_rfe, y ], axis = 1 )\n",
    "\n",
    "df_rfe.shape"
   ],
   "id": "e56f8132cea7fb3e",
   "outputs": [
    {
     "data": {
      "text/plain": [
       "(2018, 24)"
      ]
     },
     "execution_count": 28,
     "metadata": {},
     "output_type": "execute_result"
    }
   ],
   "execution_count": 28
  },
  {
   "metadata": {
    "ExecuteTime": {
     "end_time": "2025-04-24T19:56:01.848063Z",
     "start_time": "2025-04-24T19:56:01.837665Z"
    }
   },
   "cell_type": "code",
   "source": [
    "# Armazenar para comparação\n",
    "datasets_X[ 'RFE' ] = X_selected_rfe.to_numpy()\n",
    "n_features[ 'RFE' ] = X_selected_rfe.shape[ 1 ]"
   ],
   "id": "82e117df4c923bd9",
   "outputs": [],
   "execution_count": 41
  },
  {
   "metadata": {},
   "cell_type": "markdown",
   "source": [
    "### 1.4.7 Análise de Componentes Principais (PCA)\n",
    "\n",
    "Será aplicada uma técnica que transforma as variáveis originais em um novo conjunto de variáveis não correlacionadas — os componentes principais — que retêm o máximo possível da variabilidade dos dados originais. O número de componentes será definido automaticamente com base em um critério de variância explicada.\n",
    "\n",
    "Ideia principal\n",
    "- Reduzir a dimensionalidade do conjunto de dados mantendo o máximo de informação possível.\n",
    "- Aplicar pré-processamento apropriado para garantir que todas as variáveis tenham contribuição balanceada.\n",
    "- Calcular todos os componentes principais inicialmente, apenas para analisar a variância explicada.\n",
    "- Selecionar automaticamente o número de componentes com base em um critério de variância explicada.\n",
    "- Obter um novo conjunto de variáveis transformadas (componentes principais) para uso posterior."
   ],
   "id": "f10a04b0059ee7fb"
  },
  {
   "metadata": {
    "ExecuteTime": {
     "end_time": "2025-04-24T19:26:16.491439Z",
     "start_time": "2025-04-24T19:26:16.463944Z"
    }
   },
   "cell_type": "code",
   "source": [
    "from sklearn.preprocessing import StandardScaler  # Apenas StandardScaler é necessário para X\n",
    "from sklearn.decomposition import PCA\n",
    "\n",
    "# Escalonar todas as features em X\n",
    "scaler = StandardScaler()\n",
    "X_scaled = scaler.fit_transform( X )  # Aplica o escalonamento a todas as colunas de X\n",
    "\n",
    "# Note que PCA funciona diretamente com o array NumPy X_scaled\n",
    "X_scaled_df = pd.DataFrame( X_scaled, index = X.index, columns = X.columns )\n",
    "\n",
    "# 2. Instanciar e ajustar o PCA inicialmente sem definir n_components\n",
    "#    Isso calcula todos os componentes possíveis e sua variância explicada.\n",
    "#    Usamos X_scaled (o array NumPy) que é o resultado do scaler.\n",
    "pca_full = PCA( random_state = 42 )\n",
    "pca_full.fit( X_scaled )"
   ],
   "id": "cbedc72073204640",
   "outputs": [
    {
     "data": {
      "text/plain": [
       "PCA(random_state=42)"
      ],
      "text/html": [
       "<style>#sk-container-id-2 {\n",
       "  /* Definition of color scheme common for light and dark mode */\n",
       "  --sklearn-color-text: #000;\n",
       "  --sklearn-color-text-muted: #666;\n",
       "  --sklearn-color-line: gray;\n",
       "  /* Definition of color scheme for unfitted estimators */\n",
       "  --sklearn-color-unfitted-level-0: #fff5e6;\n",
       "  --sklearn-color-unfitted-level-1: #f6e4d2;\n",
       "  --sklearn-color-unfitted-level-2: #ffe0b3;\n",
       "  --sklearn-color-unfitted-level-3: chocolate;\n",
       "  /* Definition of color scheme for fitted estimators */\n",
       "  --sklearn-color-fitted-level-0: #f0f8ff;\n",
       "  --sklearn-color-fitted-level-1: #d4ebff;\n",
       "  --sklearn-color-fitted-level-2: #b3dbfd;\n",
       "  --sklearn-color-fitted-level-3: cornflowerblue;\n",
       "\n",
       "  /* Specific color for light theme */\n",
       "  --sklearn-color-text-on-default-background: var(--sg-text-color, var(--theme-code-foreground, var(--jp-content-font-color1, black)));\n",
       "  --sklearn-color-background: var(--sg-background-color, var(--theme-background, var(--jp-layout-color0, white)));\n",
       "  --sklearn-color-border-box: var(--sg-text-color, var(--theme-code-foreground, var(--jp-content-font-color1, black)));\n",
       "  --sklearn-color-icon: #696969;\n",
       "\n",
       "  @media (prefers-color-scheme: dark) {\n",
       "    /* Redefinition of color scheme for dark theme */\n",
       "    --sklearn-color-text-on-default-background: var(--sg-text-color, var(--theme-code-foreground, var(--jp-content-font-color1, white)));\n",
       "    --sklearn-color-background: var(--sg-background-color, var(--theme-background, var(--jp-layout-color0, #111)));\n",
       "    --sklearn-color-border-box: var(--sg-text-color, var(--theme-code-foreground, var(--jp-content-font-color1, white)));\n",
       "    --sklearn-color-icon: #878787;\n",
       "  }\n",
       "}\n",
       "\n",
       "#sk-container-id-2 {\n",
       "  color: var(--sklearn-color-text);\n",
       "}\n",
       "\n",
       "#sk-container-id-2 pre {\n",
       "  padding: 0;\n",
       "}\n",
       "\n",
       "#sk-container-id-2 input.sk-hidden--visually {\n",
       "  border: 0;\n",
       "  clip: rect(1px 1px 1px 1px);\n",
       "  clip: rect(1px, 1px, 1px, 1px);\n",
       "  height: 1px;\n",
       "  margin: -1px;\n",
       "  overflow: hidden;\n",
       "  padding: 0;\n",
       "  position: absolute;\n",
       "  width: 1px;\n",
       "}\n",
       "\n",
       "#sk-container-id-2 div.sk-dashed-wrapped {\n",
       "  border: 1px dashed var(--sklearn-color-line);\n",
       "  margin: 0 0.4em 0.5em 0.4em;\n",
       "  box-sizing: border-box;\n",
       "  padding-bottom: 0.4em;\n",
       "  background-color: var(--sklearn-color-background);\n",
       "}\n",
       "\n",
       "#sk-container-id-2 div.sk-container {\n",
       "  /* jupyter's `normalize.less` sets `[hidden] { display: none; }`\n",
       "     but bootstrap.min.css set `[hidden] { display: none !important; }`\n",
       "     so we also need the `!important` here to be able to override the\n",
       "     default hidden behavior on the sphinx rendered scikit-learn.org.\n",
       "     See: https://github.com/scikit-learn/scikit-learn/issues/21755 */\n",
       "  display: inline-block !important;\n",
       "  position: relative;\n",
       "}\n",
       "\n",
       "#sk-container-id-2 div.sk-text-repr-fallback {\n",
       "  display: none;\n",
       "}\n",
       "\n",
       "div.sk-parallel-item,\n",
       "div.sk-serial,\n",
       "div.sk-item {\n",
       "  /* draw centered vertical line to link estimators */\n",
       "  background-image: linear-gradient(var(--sklearn-color-text-on-default-background), var(--sklearn-color-text-on-default-background));\n",
       "  background-size: 2px 100%;\n",
       "  background-repeat: no-repeat;\n",
       "  background-position: center center;\n",
       "}\n",
       "\n",
       "/* Parallel-specific style estimator block */\n",
       "\n",
       "#sk-container-id-2 div.sk-parallel-item::after {\n",
       "  content: \"\";\n",
       "  width: 100%;\n",
       "  border-bottom: 2px solid var(--sklearn-color-text-on-default-background);\n",
       "  flex-grow: 1;\n",
       "}\n",
       "\n",
       "#sk-container-id-2 div.sk-parallel {\n",
       "  display: flex;\n",
       "  align-items: stretch;\n",
       "  justify-content: center;\n",
       "  background-color: var(--sklearn-color-background);\n",
       "  position: relative;\n",
       "}\n",
       "\n",
       "#sk-container-id-2 div.sk-parallel-item {\n",
       "  display: flex;\n",
       "  flex-direction: column;\n",
       "}\n",
       "\n",
       "#sk-container-id-2 div.sk-parallel-item:first-child::after {\n",
       "  align-self: flex-end;\n",
       "  width: 50%;\n",
       "}\n",
       "\n",
       "#sk-container-id-2 div.sk-parallel-item:last-child::after {\n",
       "  align-self: flex-start;\n",
       "  width: 50%;\n",
       "}\n",
       "\n",
       "#sk-container-id-2 div.sk-parallel-item:only-child::after {\n",
       "  width: 0;\n",
       "}\n",
       "\n",
       "/* Serial-specific style estimator block */\n",
       "\n",
       "#sk-container-id-2 div.sk-serial {\n",
       "  display: flex;\n",
       "  flex-direction: column;\n",
       "  align-items: center;\n",
       "  background-color: var(--sklearn-color-background);\n",
       "  padding-right: 1em;\n",
       "  padding-left: 1em;\n",
       "}\n",
       "\n",
       "\n",
       "/* Toggleable style: style used for estimator/Pipeline/ColumnTransformer box that is\n",
       "clickable and can be expanded/collapsed.\n",
       "- Pipeline and ColumnTransformer use this feature and define the default style\n",
       "- Estimators will overwrite some part of the style using the `sk-estimator` class\n",
       "*/\n",
       "\n",
       "/* Pipeline and ColumnTransformer style (default) */\n",
       "\n",
       "#sk-container-id-2 div.sk-toggleable {\n",
       "  /* Default theme specific background. It is overwritten whether we have a\n",
       "  specific estimator or a Pipeline/ColumnTransformer */\n",
       "  background-color: var(--sklearn-color-background);\n",
       "}\n",
       "\n",
       "/* Toggleable label */\n",
       "#sk-container-id-2 label.sk-toggleable__label {\n",
       "  cursor: pointer;\n",
       "  display: flex;\n",
       "  width: 100%;\n",
       "  margin-bottom: 0;\n",
       "  padding: 0.5em;\n",
       "  box-sizing: border-box;\n",
       "  text-align: center;\n",
       "  align-items: start;\n",
       "  justify-content: space-between;\n",
       "  gap: 0.5em;\n",
       "}\n",
       "\n",
       "#sk-container-id-2 label.sk-toggleable__label .caption {\n",
       "  font-size: 0.6rem;\n",
       "  font-weight: lighter;\n",
       "  color: var(--sklearn-color-text-muted);\n",
       "}\n",
       "\n",
       "#sk-container-id-2 label.sk-toggleable__label-arrow:before {\n",
       "  /* Arrow on the left of the label */\n",
       "  content: \"▸\";\n",
       "  float: left;\n",
       "  margin-right: 0.25em;\n",
       "  color: var(--sklearn-color-icon);\n",
       "}\n",
       "\n",
       "#sk-container-id-2 label.sk-toggleable__label-arrow:hover:before {\n",
       "  color: var(--sklearn-color-text);\n",
       "}\n",
       "\n",
       "/* Toggleable content - dropdown */\n",
       "\n",
       "#sk-container-id-2 div.sk-toggleable__content {\n",
       "  max-height: 0;\n",
       "  max-width: 0;\n",
       "  overflow: hidden;\n",
       "  text-align: left;\n",
       "  /* unfitted */\n",
       "  background-color: var(--sklearn-color-unfitted-level-0);\n",
       "}\n",
       "\n",
       "#sk-container-id-2 div.sk-toggleable__content.fitted {\n",
       "  /* fitted */\n",
       "  background-color: var(--sklearn-color-fitted-level-0);\n",
       "}\n",
       "\n",
       "#sk-container-id-2 div.sk-toggleable__content pre {\n",
       "  margin: 0.2em;\n",
       "  border-radius: 0.25em;\n",
       "  color: var(--sklearn-color-text);\n",
       "  /* unfitted */\n",
       "  background-color: var(--sklearn-color-unfitted-level-0);\n",
       "}\n",
       "\n",
       "#sk-container-id-2 div.sk-toggleable__content.fitted pre {\n",
       "  /* unfitted */\n",
       "  background-color: var(--sklearn-color-fitted-level-0);\n",
       "}\n",
       "\n",
       "#sk-container-id-2 input.sk-toggleable__control:checked~div.sk-toggleable__content {\n",
       "  /* Expand drop-down */\n",
       "  max-height: 200px;\n",
       "  max-width: 100%;\n",
       "  overflow: auto;\n",
       "}\n",
       "\n",
       "#sk-container-id-2 input.sk-toggleable__control:checked~label.sk-toggleable__label-arrow:before {\n",
       "  content: \"▾\";\n",
       "}\n",
       "\n",
       "/* Pipeline/ColumnTransformer-specific style */\n",
       "\n",
       "#sk-container-id-2 div.sk-label input.sk-toggleable__control:checked~label.sk-toggleable__label {\n",
       "  color: var(--sklearn-color-text);\n",
       "  background-color: var(--sklearn-color-unfitted-level-2);\n",
       "}\n",
       "\n",
       "#sk-container-id-2 div.sk-label.fitted input.sk-toggleable__control:checked~label.sk-toggleable__label {\n",
       "  background-color: var(--sklearn-color-fitted-level-2);\n",
       "}\n",
       "\n",
       "/* Estimator-specific style */\n",
       "\n",
       "/* Colorize estimator box */\n",
       "#sk-container-id-2 div.sk-estimator input.sk-toggleable__control:checked~label.sk-toggleable__label {\n",
       "  /* unfitted */\n",
       "  background-color: var(--sklearn-color-unfitted-level-2);\n",
       "}\n",
       "\n",
       "#sk-container-id-2 div.sk-estimator.fitted input.sk-toggleable__control:checked~label.sk-toggleable__label {\n",
       "  /* fitted */\n",
       "  background-color: var(--sklearn-color-fitted-level-2);\n",
       "}\n",
       "\n",
       "#sk-container-id-2 div.sk-label label.sk-toggleable__label,\n",
       "#sk-container-id-2 div.sk-label label {\n",
       "  /* The background is the default theme color */\n",
       "  color: var(--sklearn-color-text-on-default-background);\n",
       "}\n",
       "\n",
       "/* On hover, darken the color of the background */\n",
       "#sk-container-id-2 div.sk-label:hover label.sk-toggleable__label {\n",
       "  color: var(--sklearn-color-text);\n",
       "  background-color: var(--sklearn-color-unfitted-level-2);\n",
       "}\n",
       "\n",
       "/* Label box, darken color on hover, fitted */\n",
       "#sk-container-id-2 div.sk-label.fitted:hover label.sk-toggleable__label.fitted {\n",
       "  color: var(--sklearn-color-text);\n",
       "  background-color: var(--sklearn-color-fitted-level-2);\n",
       "}\n",
       "\n",
       "/* Estimator label */\n",
       "\n",
       "#sk-container-id-2 div.sk-label label {\n",
       "  font-family: monospace;\n",
       "  font-weight: bold;\n",
       "  display: inline-block;\n",
       "  line-height: 1.2em;\n",
       "}\n",
       "\n",
       "#sk-container-id-2 div.sk-label-container {\n",
       "  text-align: center;\n",
       "}\n",
       "\n",
       "/* Estimator-specific */\n",
       "#sk-container-id-2 div.sk-estimator {\n",
       "  font-family: monospace;\n",
       "  border: 1px dotted var(--sklearn-color-border-box);\n",
       "  border-radius: 0.25em;\n",
       "  box-sizing: border-box;\n",
       "  margin-bottom: 0.5em;\n",
       "  /* unfitted */\n",
       "  background-color: var(--sklearn-color-unfitted-level-0);\n",
       "}\n",
       "\n",
       "#sk-container-id-2 div.sk-estimator.fitted {\n",
       "  /* fitted */\n",
       "  background-color: var(--sklearn-color-fitted-level-0);\n",
       "}\n",
       "\n",
       "/* on hover */\n",
       "#sk-container-id-2 div.sk-estimator:hover {\n",
       "  /* unfitted */\n",
       "  background-color: var(--sklearn-color-unfitted-level-2);\n",
       "}\n",
       "\n",
       "#sk-container-id-2 div.sk-estimator.fitted:hover {\n",
       "  /* fitted */\n",
       "  background-color: var(--sklearn-color-fitted-level-2);\n",
       "}\n",
       "\n",
       "/* Specification for estimator info (e.g. \"i\" and \"?\") */\n",
       "\n",
       "/* Common style for \"i\" and \"?\" */\n",
       "\n",
       ".sk-estimator-doc-link,\n",
       "a:link.sk-estimator-doc-link,\n",
       "a:visited.sk-estimator-doc-link {\n",
       "  float: right;\n",
       "  font-size: smaller;\n",
       "  line-height: 1em;\n",
       "  font-family: monospace;\n",
       "  background-color: var(--sklearn-color-background);\n",
       "  border-radius: 1em;\n",
       "  height: 1em;\n",
       "  width: 1em;\n",
       "  text-decoration: none !important;\n",
       "  margin-left: 0.5em;\n",
       "  text-align: center;\n",
       "  /* unfitted */\n",
       "  border: var(--sklearn-color-unfitted-level-1) 1pt solid;\n",
       "  color: var(--sklearn-color-unfitted-level-1);\n",
       "}\n",
       "\n",
       ".sk-estimator-doc-link.fitted,\n",
       "a:link.sk-estimator-doc-link.fitted,\n",
       "a:visited.sk-estimator-doc-link.fitted {\n",
       "  /* fitted */\n",
       "  border: var(--sklearn-color-fitted-level-1) 1pt solid;\n",
       "  color: var(--sklearn-color-fitted-level-1);\n",
       "}\n",
       "\n",
       "/* On hover */\n",
       "div.sk-estimator:hover .sk-estimator-doc-link:hover,\n",
       ".sk-estimator-doc-link:hover,\n",
       "div.sk-label-container:hover .sk-estimator-doc-link:hover,\n",
       ".sk-estimator-doc-link:hover {\n",
       "  /* unfitted */\n",
       "  background-color: var(--sklearn-color-unfitted-level-3);\n",
       "  color: var(--sklearn-color-background);\n",
       "  text-decoration: none;\n",
       "}\n",
       "\n",
       "div.sk-estimator.fitted:hover .sk-estimator-doc-link.fitted:hover,\n",
       ".sk-estimator-doc-link.fitted:hover,\n",
       "div.sk-label-container:hover .sk-estimator-doc-link.fitted:hover,\n",
       ".sk-estimator-doc-link.fitted:hover {\n",
       "  /* fitted */\n",
       "  background-color: var(--sklearn-color-fitted-level-3);\n",
       "  color: var(--sklearn-color-background);\n",
       "  text-decoration: none;\n",
       "}\n",
       "\n",
       "/* Span, style for the box shown on hovering the info icon */\n",
       ".sk-estimator-doc-link span {\n",
       "  display: none;\n",
       "  z-index: 9999;\n",
       "  position: relative;\n",
       "  font-weight: normal;\n",
       "  right: .2ex;\n",
       "  padding: .5ex;\n",
       "  margin: .5ex;\n",
       "  width: min-content;\n",
       "  min-width: 20ex;\n",
       "  max-width: 50ex;\n",
       "  color: var(--sklearn-color-text);\n",
       "  box-shadow: 2pt 2pt 4pt #999;\n",
       "  /* unfitted */\n",
       "  background: var(--sklearn-color-unfitted-level-0);\n",
       "  border: .5pt solid var(--sklearn-color-unfitted-level-3);\n",
       "}\n",
       "\n",
       ".sk-estimator-doc-link.fitted span {\n",
       "  /* fitted */\n",
       "  background: var(--sklearn-color-fitted-level-0);\n",
       "  border: var(--sklearn-color-fitted-level-3);\n",
       "}\n",
       "\n",
       ".sk-estimator-doc-link:hover span {\n",
       "  display: block;\n",
       "}\n",
       "\n",
       "/* \"?\"-specific style due to the `<a>` HTML tag */\n",
       "\n",
       "#sk-container-id-2 a.estimator_doc_link {\n",
       "  float: right;\n",
       "  font-size: 1rem;\n",
       "  line-height: 1em;\n",
       "  font-family: monospace;\n",
       "  background-color: var(--sklearn-color-background);\n",
       "  border-radius: 1rem;\n",
       "  height: 1rem;\n",
       "  width: 1rem;\n",
       "  text-decoration: none;\n",
       "  /* unfitted */\n",
       "  color: var(--sklearn-color-unfitted-level-1);\n",
       "  border: var(--sklearn-color-unfitted-level-1) 1pt solid;\n",
       "}\n",
       "\n",
       "#sk-container-id-2 a.estimator_doc_link.fitted {\n",
       "  /* fitted */\n",
       "  border: var(--sklearn-color-fitted-level-1) 1pt solid;\n",
       "  color: var(--sklearn-color-fitted-level-1);\n",
       "}\n",
       "\n",
       "/* On hover */\n",
       "#sk-container-id-2 a.estimator_doc_link:hover {\n",
       "  /* unfitted */\n",
       "  background-color: var(--sklearn-color-unfitted-level-3);\n",
       "  color: var(--sklearn-color-background);\n",
       "  text-decoration: none;\n",
       "}\n",
       "\n",
       "#sk-container-id-2 a.estimator_doc_link.fitted:hover {\n",
       "  /* fitted */\n",
       "  background-color: var(--sklearn-color-fitted-level-3);\n",
       "}\n",
       "</style><div id=\"sk-container-id-2\" class=\"sk-top-container\"><div class=\"sk-text-repr-fallback\"><pre>PCA(random_state=42)</pre><b>In a Jupyter environment, please rerun this cell to show the HTML representation or trust the notebook. <br />On GitHub, the HTML representation is unable to render, please try loading this page with nbviewer.org.</b></div><div class=\"sk-container\" hidden><div class=\"sk-item\"><div class=\"sk-estimator fitted sk-toggleable\"><input class=\"sk-toggleable__control sk-hidden--visually\" id=\"sk-estimator-id-4\" type=\"checkbox\" checked><label for=\"sk-estimator-id-4\" class=\"sk-toggleable__label fitted sk-toggleable__label-arrow\"><div><div>PCA</div></div><div><a class=\"sk-estimator-doc-link fitted\" rel=\"noreferrer\" target=\"_blank\" href=\"https://scikit-learn.org/1.6/modules/generated/sklearn.decomposition.PCA.html\">?<span>Documentation for PCA</span></a><span class=\"sk-estimator-doc-link fitted\">i<span>Fitted</span></span></div></label><div class=\"sk-toggleable__content fitted\"><pre>PCA(random_state=42)</pre></div> </div></div></div></div>"
      ]
     },
     "execution_count": 29,
     "metadata": {},
     "output_type": "execute_result"
    }
   ],
   "execution_count": 29
  },
  {
   "metadata": {
    "ExecuteTime": {
     "end_time": "2025-04-24T19:26:17.347519Z",
     "start_time": "2025-04-24T19:26:16.947891Z"
    }
   },
   "cell_type": "code",
   "source": [
    "# 3. Analisar a Variância Explicada\n",
    "explained_variance_ratio = pca_full.explained_variance_ratio_\n",
    "cumulative_explained_variance = np.cumsum( explained_variance_ratio )\n",
    "\n",
    "print( f\"\\nNúmero total de componentes principais possíveis: {len( explained_variance_ratio )}\" )\n",
    "\n",
    "# Plotar a variância explicada cumulativa (Scree Plot)\n",
    "plt.figure( figsize = (10, 6) )\n",
    "plt.plot(\n",
    "        range( 1, len( cumulative_explained_variance ) + 1 ), cumulative_explained_variance, marker = 'o',\n",
    "        linestyle = '--'\n",
    ")\n",
    "plt.title( 'Variância Explicada Cumulativa pelos Componentes Principais' )\n",
    "plt.xlabel( 'Número de Componentes Principais' )\n",
    "plt.ylabel( 'Variância Explicada Cumulativa (%)' )\n",
    "plt.grid( True, linestyle = '--', alpha = 0.7 )\n",
    "\n",
    "# Adicionar linhas de referência (ex: 95% e 99% da variância)\n",
    "plt.axhline( y = 0.95, color = 'r', linestyle = '-', linewidth = 1, label = '95% Variância Explicada' )\n",
    "plt.axhline( y = 0.99, color = 'g', linestyle = ':', linewidth = 1, label = '99% Variância Explicada' )\n",
    "\n",
    "# Adicionar anotação para o número de componentes em 95%\n",
    "try:\n",
    "    n_components_95 = np.argmax( cumulative_explained_variance >= 0.95 ) + 1\n",
    "    # Verifica se n_components_95 está dentro dos limites do eixo X antes de plotar o texto/ponto\n",
    "    if n_components_95 <= len( cumulative_explained_variance ):\n",
    "        plt.text(\n",
    "                n_components_95 + 0.5, cumulative_explained_variance[ n_components_95 - 1 ] - 0.02,\n",
    "                f'{n_components_95} comps.', color = 'red', ha = 'left', va = 'top'\n",
    "        )\n",
    "        plt.scatter(\n",
    "                n_components_95, cumulative_explained_variance[ n_components_95 - 1 ], c = 'red', s = 50,\n",
    "                zorder = 5\n",
    "        )  # Marca o ponto\n",
    "        print( f\"Número de componentes para explicar >= 95% da variância: {n_components_95}\" )\n",
    "    else:\n",
    "        print( \"Threshold de 95% não alcançado ou alcançado apenas com todos os componentes.\" )\n",
    "except IndexError:\n",
    "    print( \"Não foi possível calcular n_components para 95%.\" )\n",
    "\n",
    "plt.ylim( min( cumulative_explained_variance ) - 0.05, 1.05 )  # Ajuste o limite inferior do eixo Y dinamicamente\n",
    "plt.xlim( 0, len( cumulative_explained_variance ) + 1 )  # Limite do eixo X\n",
    "plt.legend( loc = 'best' )\n",
    "plt.tight_layout()\n",
    "plt.show()\n"
   ],
   "id": "58358cd2ce3ea051",
   "outputs": [
    {
     "name": "stdout",
     "output_type": "stream",
     "text": [
      "\n",
      "Número total de componentes principais possíveis: 92\n",
      "Número de componentes para explicar >= 95% da variância: 11\n"
     ]
    },
    {
     "data": {
      "text/plain": [
       "<Figure size 1000x600 with 1 Axes>"
      ],
      "image/png": "[encoded data removed]"
     },
     "metadata": {},
     "output_type": "display_data"
    }
   ],
   "execution_count": 30
  },
  {
   "metadata": {
    "ExecuteTime": {
     "end_time": "2025-04-24T19:26:17.606538Z",
     "start_time": "2025-04-24T19:26:17.596877Z"
    }
   },
   "cell_type": "code",
   "source": [
    "# Escolher o número de componentes (n_components)\n",
    "variance_threshold = 0.95\n",
    "n_components_chosen = np.argmax( cumulative_explained_variance >= variance_threshold ) + 1\n",
    "\n",
    "# Certifique-se que n_components_chosen não seja 0 se o primeiro componente já atingir o limiar\n",
    "if n_components_chosen == 0 and cumulative_explained_variance[ 0 ] >= variance_threshold:\n",
    "    n_components_chosen = 1\n",
    "# Ou escolha um número fixo se preferir: n_components_chosen = 30\n",
    "\n",
    "# 5. Aplicar PCA com o número de componentes escolhido\n",
    "pca_final = PCA( n_components = n_components_chosen, random_state = 42 )\n",
    "# Usa X_scaled (dados escalados) para o fit_transform final\n",
    "X_pca = pca_final.fit_transform( X_scaled )"
   ],
   "id": "c09e01ba17a665f4",
   "outputs": [],
   "execution_count": 31
  },
  {
   "metadata": {
    "ExecuteTime": {
     "end_time": "2025-04-24T19:26:17.799958Z",
     "start_time": "2025-04-24T19:26:17.789836Z"
    }
   },
   "cell_type": "code",
   "source": [
    "# Criar o DataFrame final com os Componentes Principais\n",
    "pc_columns = [ f'PC{i + 1}' for i in range( n_components_chosen ) ]\n",
    "X_pca_df = pd.DataFrame( X_pca, index = X.index, columns = pc_columns )\n",
    "\n",
    "# Combinar os componentes principais com a variável alvo y\n",
    "df_pca = pd.concat( [ X_pca_df, y.reset_index( drop = True ) ], axis = 1 )\n",
    "\n",
    "df_pca.shape"
   ],
   "id": "a68d3f799766eabf",
   "outputs": [
    {
     "data": {
      "text/plain": [
       "(2587, 12)"
      ]
     },
     "execution_count": 32,
     "metadata": {},
     "output_type": "execute_result"
    }
   ],
   "execution_count": 32
  },
  {
   "metadata": {
    "ExecuteTime": {
     "end_time": "2025-04-24T19:56:19.777203Z",
     "start_time": "2025-04-24T19:56:19.766682Z"
    }
   },
   "cell_type": "code",
   "source": [
    "# Armazenar resultado (já é NumPy array numérico)\n",
    "datasets_X[ 'PCA' ] = X_pca\n",
    "n_features[ 'PCA' ] = X_pca.shape[ 1 ]"
   ],
   "id": "efa7ba600c1208c1",
   "outputs": [],
   "execution_count": 42
  },
  {
   "metadata": {},
   "cell_type": "markdown",
   "source": [
    "### 1.4.8 Análise Discriminante Linear (LDA)\n",
    "\n",
    "Será aplicada a técnica de Análise Discriminante Linear sobre os dados escalados. O objetivo principal é encontrar um novo espaço de menor dimensão no qual as classes sejam mais facilmente separáveis. Isso é feito projetando os dados sobre eixos que maximizam a separação entre as classes com base em variância entre e dentro das classes.\n",
    "\n",
    "Ideia principal\n",
    "- A LDA encontra combinações lineares das variáveis que melhor separam as classes.\n",
    "- O número máximo de componentes possíveis é limitado pelo número de classes (n_classes - 1) e pelo número de variáveis (n_features).\n",
    "- Após a transformação, cada componente discriminante representa um eixo que maximiza a razão entre variância entre classes e variância intra-classe.\n",
    "- Também é possível visualizar a variância explicada por cada componente, o que ajuda a entender a contribuição de cada eixo para a separação das classes."
   ],
   "id": "8a02dab3204a6c30"
  },
  {
   "metadata": {},
   "cell_type": "code",
   "source": [
    "from sklearn.discriminant_analysis import LinearDiscriminantAnalysis  # Import LDA\n",
    "\n",
    "y_1d = y\n",
    "\n",
    "n_classes = y_1d.nunique()\n",
    "n_features = X_scaled.shape[ 1 ]\n",
    "print( f\"Número de classes únicas em y: {n_classes}\" )\n",
    "\n",
    "# --- Aplicação do LDA ---\n",
    "\n",
    "# 1. Determinar o número de componentes para LDA\n",
    "#    O máximo é min(n_features, n_classes - 1)\n",
    "max_lda_components = min( n_features, n_classes - 1 )\n",
    "\n",
    "# Geralmente, usamos todos os componentes possíveis do LDA,\n",
    "# pois cada um maximiza a separabilidade de forma ordenada.\n",
    "n_components_lda = max_lda_components\n",
    "\n",
    "# 2. Instanciar e ajustar o LDA\n",
    "#    Passamos n_components (calculado acima).\n",
    "#    O método fit() do LDA usa tanto X quanto y.\n",
    "lda = LinearDiscriminantAnalysis( n_components = n_components_lda )\n",
    "\n",
    "# Ajustar e transformar os dados escalados (X_scaled) usando y_1d\n",
    "X_lda = lda.fit_transform( X_scaled, y_1d )\n",
    "\n",
    "print( f\"\\nShape dos dados após LDA ({n_components_lda} componentes): {X_lda.shape}\" )\n",
    "\n",
    "# 3. Verificar a variância explicada (opcional, mas informativo)\n",
    "#    Para LDA, isso representa a razão da variância entre classes explicada por cada componente.\n",
    "try:\n",
    "    explained_variance_ratio_lda = lda.explained_variance_ratio_\n",
    "    print( f\"Razão da variância (entre classes) explicada pelos componentes LDA: {explained_variance_ratio_lda}\" )\n",
    "    print( f\"Razão da variância cumulativa: {np.cumsum( explained_variance_ratio_lda )}\" )\n",
    "\n",
    "    # Plot opcional da variância explicada pelo LDA\n",
    "    plt.figure( figsize = (8, 5) )\n",
    "    plt.bar(\n",
    "            range( 1, n_components_lda + 1 ), explained_variance_ratio_lda, alpha = 0.7, align = 'center',\n",
    "            label = 'Variância Individual'\n",
    "    )\n",
    "    plt.step(\n",
    "            range( 1, n_components_lda + 1 ), np.cumsum( explained_variance_ratio_lda ), where = 'mid',\n",
    "            label = 'Variância Cumulativa'\n",
    "    )\n",
    "    plt.ylabel( 'Razão da Variância Explicada' )\n",
    "    plt.xlabel( 'Componente Discriminante Linear' )\n",
    "    plt.title( 'Variância Explicada pelos Componentes LDA' )\n",
    "    plt.xticks( range( 1, n_components_lda + 1 ) )\n",
    "    plt.legend( loc = 'best' )\n",
    "    plt.grid( True, axis = 'y', linestyle = '--', alpha = 0.7 )\n",
    "    plt.tight_layout()\n",
    "    plt.show()\n",
    "\n",
    "except AttributeError:\n",
    "    print( \"\\nNão foi possível obter a variância explicada (pode não estar disponível).\" )\n",
    "\n",
    "# 4. Criar o DataFrame final com os Componentes Discriminantes Lineares\n",
    "ld_columns = [ f'LD{i + 1}' for i in range( n_components_lda ) ]\n",
    "X_lda_df = pd.DataFrame( X_lda, index = X.index, columns = ld_columns )  # Mantém o índice original de X\n",
    "\n",
    "# Combinar os componentes LDA com a variável alvo y\n",
    "# Usar reset_index(drop=True) em y garante o alinhamento dos índices\n",
    "df_lda = pd.concat( [ X_lda_df, y_1d.reset_index( drop = True ) ], axis = 1 )\n",
    "\n",
    "df_lda.shape"
   ],
   "id": "961bd81d0ed9c29c",
   "outputs": [],
   "execution_count": null
  },
  {
   "metadata": {
    "ExecuteTime": {
     "end_time": "2025-04-24T19:56:58.071740Z",
     "start_time": "2025-04-24T19:56:58.055274Z"
    }
   },
   "cell_type": "code",
   "source": [
    "# Armazenar resultado\n",
    "datasets_X[ 'LDA' ] = X_lda\n",
    "n_features[ 'LDA' ] = X_lda.shape[ 1 ]"
   ],
   "id": "dbce008a92ba3973",
   "outputs": [],
   "execution_count": 43
  },
  {
   "metadata": {},
   "cell_type": "markdown",
   "source": "## 1.5 Impacto na Dimensionalidade",
   "id": "ce733f719a75d924"
  },
  {
   "metadata": {
    "ExecuteTime": {
     "end_time": "2025-04-24T20:17:44.674742Z",
     "start_time": "2025-04-24T20:16:44.244537Z"
    }
   },
   "cell_type": "code",
   "source": [
    "from sklearn.neural_network import MLPClassifier\n",
    "from sklearn.tree import DecisionTreeClassifier\n",
    "from sklearn.svm import SVC\n",
    "from sklearn.linear_model import LogisticRegression\n",
    "from sklearn.pipeline import Pipeline\n",
    "from sklearn.model_selection import cross_val_score\n",
    "import time\n",
    "\n",
    "# # 2. Avaliação Comparativa do Impacto da Redução de Dimensionalidade\n",
    "\n",
    "print( \"\\n--- 2. Avaliação Comparativa ---\" )\n",
    "\n",
    "# --- Modelos e Pipelines (Já definidos na seção anterior, reutilizar ou redefinir) ---\n",
    "# Usaremos pipelines para incluir escalonamento onde for necessário/benéfico\n",
    "models_eval = {\n",
    "    \"Logistic Regression\": Pipeline(\n",
    "            [\n",
    "                ('scaler', StandardScaler()),  # Escalonar sempre dentro do pipeline para CV\n",
    "                ('clf', LogisticRegression(\n",
    "                        random_state = 42, max_iter = 1000, solver = 'liblinear', class_weight = 'balanced' ))\n",
    "                # Adicionado class_weight\n",
    "            ] ),\n",
    "    \"Random Forest\": Pipeline(\n",
    "            [\n",
    "                # ('scaler', StandardScaler()), # RF geralmente não precisa, mas pode incluir se quiser padronizar\n",
    "                ('clf', RandomForestClassifier(\n",
    "                        random_state = 42, n_estimators = 100, class_weight = 'balanced', n_jobs = -1 ))\n",
    "                # Adicionado class_weight\n",
    "            ] ),\n",
    "    \"SVC\": Pipeline(\n",
    "            [\n",
    "                ('scaler', StandardScaler()),\n",
    "                ('clf', SVC( random_state = 42, probability = True, class_weight = 'balanced' ))\n",
    "                # Adicionado class_weight\n",
    "            ] ),\n",
    "    \"Decision Tree\": Pipeline(\n",
    "            [\n",
    "                # ('scaler', StandardScaler()), # Opcional para Decision Tree simples\n",
    "                ('clf', DecisionTreeClassifier( random_state = 42, class_weight = 'balanced' ))\n",
    "            ] ),\n",
    "    \"MLP\": Pipeline(\n",
    "            [\n",
    "                ('scaler', StandardScaler()),  # Importante para MLP\n",
    "                ('clf',\n",
    "                 MLPClassifier( random_state = 42, max_iter = 500, hidden_layer_sizes = (100,), early_stopping = True ))\n",
    "                # Configuração básica\n",
    "            ] )\n",
    "}\n",
    "\n",
    "# --- Estratégia de Avaliação ---\n",
    "cv_strategy_eval = StratifiedKFold( n_splits = 5, shuffle = True, random_state = 42 )  # 5 folds é um bom padrão\n",
    "scoring_metrics_eval = [ 'accuracy', 'f1_weighted', 'roc_auc' ]  # Métricas relevantes\n",
    "\n",
    "# --- Loop de Avaliação ---\n",
    "results_eval = [ ]  # Lista para armazenar os resultados\n",
    "\n",
    "print( \"\\nIniciando avaliação comparativa dos modelos com validação cruzada...\" )\n",
    "\n",
    "# Usar y_final_encoded que já está pronto\n",
    "y_target_eval = y_encoded\n",
    "\n",
    "for data_name, X_data in datasets_X.items():\n",
    "    current_n_features = n_features[ data_name ]\n",
    "    print( f\"\\nAvaliando Dataset: '{data_name}' ({current_n_features} features)\" )\n",
    "\n",
    "    # Verificações básicas nos dados\n",
    "    if X_data.shape[ 0 ] != len( y_target_eval ):\n",
    "        print(\n",
    "                f\"ERRO CRÍTICO: Disparidade no número de amostras! X_{data_name} tem {X_data.shape[ 0 ]}, y tem {len( y_target_eval )}. Pulando.\" )\n",
    "        continue\n",
    "    if np.isnan( X_data ).any():\n",
    "        print(\n",
    "                f\"AVISO CRÍTICO: NaNs encontrados em X_{data_name} ANTES da CV. Preenchendo com 0 para tentar continuar, mas VERIFIQUE O PRÉ-PROCESSAMENTO.\" )\n",
    "        # Estratégia de preenchimento simples para evitar falha total, mas idealmente isso não deveria acontecer aqui.\n",
    "        X_data = np.nan_to_num( X_data, nan = 0.0, posinf = 0.0, neginf = 0.0 )\n",
    "\n",
    "    for model_name, pipeline in models_eval.items():\n",
    "        print( f\"  - Modelo: {model_name}\" )\n",
    "        # Executar validação cruzada para cada métrica\n",
    "        for metric in scoring_metrics_eval:\n",
    "            start_time_cv = time.time()\n",
    "            try:\n",
    "                # Verificar se X_data é adequado (ex: LDA pode ter poucas features para alguns modelos)\n",
    "                if X_data.shape[ 1 ] == 0:\n",
    "                    print( f\"    * {metric}: ERRO - Dataset '{data_name}' não possui features. Pulando.\" )\n",
    "                    score_mean, score_std = np.nan, np.nan  # Marcar como NaN\n",
    "                elif metric == 'roc_auc' and len( np.unique( y_target_eval ) ) > 2:\n",
    "                    # ROC AUC multiclasse precisa de ajustes ou pode não ser padrão no cross_val_score dependendo da versão\n",
    "                    # Tentar com OvR (One-vs-Rest) se disponível ou pular\n",
    "                    try:\n",
    "                        scores = cross_val_score(\n",
    "                                pipeline, X_data, y_target_eval, cv = cv_strategy_eval,\n",
    "                                scoring = 'roc_auc_ovr_weighted',\n",
    "                                n_jobs = -1 )\n",
    "                        score_mean = np.mean( scores )\n",
    "                        score_std = np.std( scores )\n",
    "                    except ValueError:\n",
    "                        print(\n",
    "                                f\"    * {metric} (multiclass): Não foi possível calcular 'roc_auc_ovr_weighted'. Pulando métrica.\" )\n",
    "                        score_mean, score_std = np.nan, np.nan\n",
    "                else:\n",
    "                    scores = cross_val_score(\n",
    "                            pipeline, X_data, y_target_eval, cv = cv_strategy_eval, scoring = metric, n_jobs = -1 )\n",
    "                    score_mean = np.mean( scores )\n",
    "                    score_std = np.std( scores )\n",
    "\n",
    "                end_time_cv = time.time()\n",
    "\n",
    "                # Armazenar resultado apenas se o cálculo foi bem-sucedido\n",
    "                if pd.notna( score_mean ):\n",
    "                    results_eval.append(\n",
    "                            {\n",
    "                                'Dataset': data_name,\n",
    "                                'Num Features': current_n_features,\n",
    "                                'Model': model_name,\n",
    "                                'Metric': metric,\n",
    "                                'Mean Score': score_mean,\n",
    "                                'Std Score': score_std,\n",
    "                                'CV Time (s)': end_time_cv - start_time_cv\n",
    "                            } )\n",
    "                    print(\n",
    "                            f\"    * {metric}: {score_mean:.4f} +/- {score_std:.4f} (Tempo: {end_time_cv - start_time_cv:.2f}s)\" )\n",
    "                else:\n",
    "                    # Registrar que não foi possível calcular\n",
    "                    results_eval.append(\n",
    "                            {\n",
    "                                'Dataset': data_name,\n",
    "                                'Num Features': current_n_features,\n",
    "                                'Model': model_name,\n",
    "                                'Metric': metric,\n",
    "                                'Mean Score': np.nan,\n",
    "                                'Std Score': np.nan,\n",
    "                                'CV Time (s)': end_time_cv - start_time_cv\n",
    "                            } )\n",
    "\n",
    "\n",
    "            except ValueError as ve:\n",
    "                print(\n",
    "                        f\"    ERRO de ValueError durante CV para {model_name} com métrica {metric} (verifique dados/parâmetros): {ve}\" )\n",
    "                # Registrar falha\n",
    "                results_eval.append(\n",
    "                        { 'Dataset': data_name, 'Num Features': current_n_features, 'Model': model_name,\n",
    "                          'Metric': metric, 'Mean Score': np.nan, 'Std Score': np.nan,\n",
    "                          'CV Time (s)': time.time() - start_time_cv } )\n",
    "            except Exception as e:\n",
    "                print( f\"    ERRO inesperado durante CV para {model_name} com métrica {metric}: {e}\" )\n",
    "                # Registrar falha\n",
    "                results_eval.append(\n",
    "                        { 'Dataset': data_name, 'Num Features': current_n_features, 'Model': model_name,\n",
    "                          'Metric': metric, 'Mean Score': np.nan, 'Std Score': np.nan,\n",
    "                          'CV Time (s)': time.time() - start_time_cv } )\n",
    "\n",
    "print( \"\\nAvaliação comparativa concluída.\" )\n",
    "\n",
    "# --- 6. Consolidar e Visualizar Resultados da Avaliação ---\n",
    "if results_eval:  # Verificar se há resultados para processar\n",
    "    results_eval_df = pd.DataFrame( results_eval )\n",
    "\n",
    "    print( \"\\n--- Tabela Resumo dos Resultados da Avaliação ---\" )\n",
    "    # Pivotar para melhor visualização, mostrando a média dos scores\n",
    "    try:\n",
    "        # Tentar pivotar; pode falhar se houver NaNs ou combinações inesperadas\n",
    "        pivot_table_eval = results_eval_df.pivot_table(\n",
    "                index = [ 'Dataset', 'Num Features' ],\n",
    "                columns = [ 'Model', 'Metric' ],\n",
    "                values = 'Mean Score'\n",
    "        )\n",
    "        # Ordenar pelo número de features para melhor visualização\n",
    "        pivot_table_eval = pivot_table_eval.sort_index( level = 'Num Features' )\n",
    "        print( pivot_table_eval.round( 4 ) )\n",
    "\n",
    "    except Exception as e:\n",
    "        print( f\"Não foi possível criar a tabela pivotada. Exibindo DataFrame bruto. Erro: {e}\" )\n",
    "        print( results_eval_df.round( 4 ) )\n",
    "\n",
    "    # Gerar Gráficos de Barras Comparativos\n",
    "    print( \"\\n--- Gráficos Comparativos de Desempenho ---\" )\n",
    "    for metric in scoring_metrics_eval:\n",
    "        plt.figure( figsize = (15, 8) )  # Aumentado o tamanho\n",
    "\n",
    "        # Filtrar dados para a métrica atual e remover NaNs no score para plotagem\n",
    "        metric_df = results_eval_df[\n",
    "            (results_eval_df[ 'Metric' ] == metric) & (results_eval_df[ 'Mean Score' ].notna()) ].copy()\n",
    "\n",
    "        # Ordenar os datasets pela quantidade de features para o eixo X\n",
    "        # Criar uma ordem baseada no dicionário n_features\n",
    "        ordered_datasets = sorted(\n",
    "                metric_df[ 'Dataset' ].unique(), key = lambda x: n_features.get( x, float( 'inf' ) ) )\n",
    "        metric_df[ 'Dataset' ] = pd.Categorical( metric_df[ 'Dataset' ], categories = ordered_datasets, ordered = True )\n",
    "        metric_df.sort_values( by = [ 'Dataset', 'Model' ], inplace = True )  # Ordenar para consistência\n",
    "\n",
    "        if not metric_df.empty:\n",
    "            # Usar catplot para melhor separação ou barplot normal\n",
    "            # sns.catplot(data=metric_df, x='Dataset', y='Mean Score', hue='Model', kind='bar', palette='viridis', height=6, aspect=2)\n",
    "            # plt.title(f'Comparação de Desempenho ({metric.capitalize()}) por Técnica de Redução')\n",
    "            # plt.ylabel(f'Score Médio ({metric}) na Validação Cruzada')\n",
    "            # plt.xlabel('Técnica de Redução / Dataset (# Features)')\n",
    "            # # Adicionar número de features ao label do eixo x\n",
    "            # xtick_labels = [f\"{ds}\\n({n_features.get(ds, '?')} feats)\" for ds in ordered_datasets if ds in metric_df['Dataset'].unique()]\n",
    "            # plt.xticks(ticks=range(len(xtick_labels)), labels=xtick_labels, rotation=45, ha='right')\n",
    "            # plt.grid(axis='y', linestyle='--', alpha=0.7)\n",
    "            # plt.tight_layout()\n",
    "            # plt.show()\n",
    "\n",
    "            # Usando barplot diretamente para mais controle sobre eixos\n",
    "            ax = sns.barplot(\n",
    "                    data = metric_df, x = 'Dataset', y = 'Mean Score', hue = 'Model', palette = 'viridis',\n",
    "                    order = ordered_datasets )\n",
    "            ax.set_title( f'Comparação de Desempenho ({metric.capitalize()}) por Técnica de Redução' )\n",
    "            ax.set_ylabel( f'Score Médio ({metric}) na Validação Cruzada' )\n",
    "            ax.set_xlabel( 'Técnica de Redução / Dataset (# Features)' )\n",
    "            # Adicionar número de features ao label do eixo x\n",
    "            xtick_labels = [ f\"{ds}\\n({n_features.get( ds, '?' )} feats)\" for ds in ordered_datasets ]\n",
    "            ax.set_xticklabels( xtick_labels, rotation = 45, ha = 'right' )\n",
    "            ax.legend( title = 'Modelo', bbox_to_anchor = (1.02, 1), loc = 'upper left' )\n",
    "            ax.grid( axis = 'y', linestyle = '--', alpha = 0.7 )\n",
    "            plt.tight_layout( rect = [ 0, 0, 0.9, 1 ] )  # Ajustar layout para legenda fora\n",
    "            plt.show()\n",
    "\n",
    "        else:\n",
    "            print( f\"Não há dados válidos para plotar para a métrica '{metric}'.\" )\n",
    "\n",
    "else:\n",
    "    print( \"Nenhum resultado de avaliação foi gerado. Verifique os loops de CV.\" )\n"
   ],
   "id": "f2329c7274da381b",
   "outputs": [
    {
     "name": "stdout",
     "output_type": "stream",
     "text": [
      "\n",
      "--- 2. Avaliação Comparativa ---\n",
      "\n",
      "Iniciando avaliação comparativa dos modelos com validação cruzada...\n",
      "\n",
      "Avaliando Dataset: 'Baseline' (92 features)\n",
      "  - Modelo: Logistic Regression\n",
      "    * accuracy: 0.6115 +/- 0.0205 (Tempo: 2.62s)\n",
      "    * f1_weighted: 0.6121 +/- 0.0204 (Tempo: 0.96s)\n",
      "    * roc_auc: 0.6475 +/- 0.0206 (Tempo: 0.84s)\n",
      "  - Modelo: Random Forest\n",
      "    * accuracy: 0.5976 +/- 0.0175 (Tempo: 2.00s)\n",
      "    * f1_weighted: 0.5925 +/- 0.0175 (Tempo: 1.68s)\n",
      "    * roc_auc: 0.6355 +/- 0.0154 (Tempo: 1.58s)\n",
      "  - Modelo: SVC\n",
      "    * accuracy: 0.5897 +/- 0.0142 (Tempo: 2.17s)\n",
      "    * f1_weighted: 0.5902 +/- 0.0139 (Tempo: 2.13s)\n",
      "    * roc_auc: 0.6359 +/- 0.0302 (Tempo: 2.11s)\n",
      "  - Modelo: Decision Tree\n",
      "    * accuracy: 0.5535 +/- 0.0113 (Tempo: 0.33s)\n",
      "    * f1_weighted: 0.5528 +/- 0.0106 (Tempo: 0.33s)\n",
      "    * roc_auc: 0.5491 +/- 0.0107 (Tempo: 0.33s)\n",
      "  - Modelo: MLP\n",
      "    * accuracy: 0.6110 +/- 0.0239 (Tempo: 0.30s)\n",
      "    * f1_weighted: 0.6045 +/- 0.0279 (Tempo: 0.28s)\n",
      "    * roc_auc: 0.6362 +/- 0.0235 (Tempo: 0.28s)\n",
      "\n",
      "Avaliando Dataset: 'Correlação F-F' (25 features)\n",
      "  - Modelo: Logistic Regression\n",
      "    * accuracy: 0.5783 +/- 0.0268 (Tempo: 0.04s)\n",
      "    * f1_weighted: 0.5783 +/- 0.0268 (Tempo: 0.03s)\n",
      "    * roc_auc: 0.6162 +/- 0.0276 (Tempo: 0.03s)\n",
      "  - Modelo: Random Forest\n",
      "    * accuracy: 0.6016 +/- 0.0068 (Tempo: 0.78s)\n",
      "    * f1_weighted: 0.5950 +/- 0.0076 (Tempo: 0.86s)\n",
      "    * roc_auc: 0.6340 +/- 0.0108 (Tempo: 0.88s)\n",
      "  - Modelo: SVC\n",
      "    * accuracy: 0.5867 +/- 0.0149 (Tempo: 1.15s)\n",
      "    * f1_weighted: 0.5874 +/- 0.0148 (Tempo: 1.15s)\n",
      "    * roc_auc: 0.6372 +/- 0.0260 (Tempo: 1.15s)\n",
      "  - Modelo: Decision Tree\n",
      "    * accuracy: 0.5585 +/- 0.0234 (Tempo: 0.09s)\n",
      "    * f1_weighted: 0.5574 +/- 0.0221 (Tempo: 0.09s)\n",
      "    * roc_auc: 0.5545 +/- 0.0202 (Tempo: 0.09s)\n",
      "  - Modelo: MLP\n",
      "    * accuracy: 0.5724 +/- 0.0233 (Tempo: 0.24s)\n",
      "    * f1_weighted: 0.5662 +/- 0.0256 (Tempo: 0.22s)\n",
      "    * roc_auc: 0.5998 +/- 0.0328 (Tempo: 0.25s)\n",
      "\n",
      "Avaliando Dataset: 'Mutual Info' (30 features)\n",
      "  - Modelo: Logistic Regression\n",
      "    * accuracy: 0.6001 +/- 0.0238 (Tempo: 0.03s)\n",
      "    * f1_weighted: 0.6007 +/- 0.0238 (Tempo: 0.03s)\n",
      "    * roc_auc: 0.6398 +/- 0.0207 (Tempo: 0.03s)\n",
      "  - Modelo: Random Forest\n",
      "    * accuracy: 0.6011 +/- 0.0204 (Tempo: 0.98s)\n",
      "    * f1_weighted: 0.5955 +/- 0.0203 (Tempo: 0.90s)\n",
      "    * roc_auc: 0.6376 +/- 0.0190 (Tempo: 0.90s)\n",
      "  - Modelo: SVC\n",
      "    * accuracy: 0.5892 +/- 0.0174 (Tempo: 1.29s)\n",
      "    * f1_weighted: 0.5891 +/- 0.0178 (Tempo: 1.31s)\n",
      "    * roc_auc: 0.6282 +/- 0.0264 (Tempo: 1.36s)\n",
      "  - Modelo: Decision Tree\n",
      "    * accuracy: 0.5381 +/- 0.0288 (Tempo: 0.11s)\n",
      "    * f1_weighted: 0.5376 +/- 0.0297 (Tempo: 0.11s)\n",
      "    * roc_auc: 0.5338 +/- 0.0311 (Tempo: 0.11s)\n",
      "  - Modelo: MLP\n",
      "    * accuracy: 0.5986 +/- 0.0199 (Tempo: 0.22s)\n",
      "    * f1_weighted: 0.5867 +/- 0.0211 (Tempo: 0.27s)\n",
      "    * roc_auc: 0.6131 +/- 0.0361 (Tempo: 0.29s)\n",
      "\n",
      "Avaliando Dataset: 'RF Importance' (46 features)\n",
      "  - Modelo: Logistic Regression\n",
      "    * accuracy: 0.6125 +/- 0.0158 (Tempo: 0.05s)\n",
      "    * f1_weighted: 0.6130 +/- 0.0158 (Tempo: 0.05s)\n",
      "    * roc_auc: 0.6477 +/- 0.0209 (Tempo: 0.05s)\n",
      "  - Modelo: Random Forest\n",
      "    * accuracy: 0.6120 +/- 0.0248 (Tempo: 1.06s)\n",
      "    * f1_weighted: 0.6069 +/- 0.0248 (Tempo: 1.07s)\n",
      "    * roc_auc: 0.6488 +/- 0.0239 (Tempo: 1.08s)\n",
      "  - Modelo: SVC\n",
      "    * accuracy: 0.5877 +/- 0.0178 (Tempo: 1.41s)\n",
      "    * f1_weighted: 0.5874 +/- 0.0161 (Tempo: 1.46s)\n",
      "    * roc_auc: 0.6373 +/- 0.0313 (Tempo: 1.50s)\n",
      "  - Modelo: Decision Tree\n",
      "    * accuracy: 0.5491 +/- 0.0198 (Tempo: 0.18s)\n",
      "    * f1_weighted: 0.5489 +/- 0.0199 (Tempo: 0.16s)\n",
      "    * roc_auc: 0.5455 +/- 0.0206 (Tempo: 0.23s)\n",
      "  - Modelo: MLP\n",
      "    * accuracy: 0.5838 +/- 0.0506 (Tempo: 0.44s)\n",
      "    * f1_weighted: 0.5752 +/- 0.0512 (Tempo: 0.22s)\n",
      "    * roc_auc: 0.6047 +/- 0.0539 (Tempo: 0.21s)\n",
      "\n",
      "Avaliando Dataset: 'RFE' (23 features)\n",
      "  - Modelo: Logistic Regression\n",
      "    * accuracy: 0.5912 +/- 0.0185 (Tempo: 0.04s)\n",
      "    * f1_weighted: 0.5900 +/- 0.0189 (Tempo: 0.03s)\n",
      "    * roc_auc: 0.6404 +/- 0.0192 (Tempo: 0.03s)\n",
      "  - Modelo: Random Forest\n",
      "    * accuracy: 0.6328 +/- 0.0121 (Tempo: 0.97s)\n",
      "    * f1_weighted: 0.6277 +/- 0.0122 (Tempo: 0.85s)\n",
      "    * roc_auc: 0.6635 +/- 0.0216 (Tempo: 0.79s)\n",
      "  - Modelo: SVC\n",
      "    * accuracy: 0.5947 +/- 0.0220 (Tempo: 1.26s)\n",
      "    * f1_weighted: 0.5953 +/- 0.0220 (Tempo: 1.10s)\n",
      "    * roc_auc: 0.6456 +/- 0.0289 (Tempo: 1.70s)\n",
      "  - Modelo: Decision Tree\n",
      "    * accuracy: 0.5768 +/- 0.0270 (Tempo: 0.11s)\n",
      "    * f1_weighted: 0.5764 +/- 0.0270 (Tempo: 0.12s)\n",
      "    * roc_auc: 0.5735 +/- 0.0267 (Tempo: 0.14s)\n",
      "  - Modelo: MLP\n",
      "    * accuracy: 0.5892 +/- 0.0199 (Tempo: 0.44s)\n",
      "    * f1_weighted: 0.5832 +/- 0.0190 (Tempo: 0.34s)\n",
      "    * roc_auc: 0.6094 +/- 0.0327 (Tempo: 0.24s)\n",
      "\n",
      "Avaliando Dataset: 'PCA' (11 features)\n",
      "  - Modelo: Logistic Regression\n",
      "    * accuracy: 0.5516 +/- 0.0225 (Tempo: 0.03s)\n",
      "    * f1_weighted: 0.5504 +/- 0.0220 (Tempo: 0.01s)\n",
      "    * roc_auc: 0.6054 +/- 0.0356 (Tempo: 0.01s)\n",
      "  - Modelo: Random Forest\n",
      "    * accuracy: 0.6105 +/- 0.0228 (Tempo: 0.65s)\n",
      "    * f1_weighted: 0.6040 +/- 0.0231 (Tempo: 0.61s)\n",
      "    * roc_auc: 0.6487 +/- 0.0241 (Tempo: 0.65s)\n",
      "  - Modelo: SVC\n",
      "    * accuracy: 0.6066 +/- 0.0236 (Tempo: 0.83s)\n",
      "    * f1_weighted: 0.6061 +/- 0.0234 (Tempo: 0.84s)\n",
      "    * roc_auc: 0.6480 +/- 0.0227 (Tempo: 0.82s)\n",
      "  - Modelo: Decision Tree\n",
      "    * accuracy: 0.5441 +/- 0.0148 (Tempo: 0.05s)\n",
      "    * f1_weighted: 0.5435 +/- 0.0146 (Tempo: 0.05s)\n",
      "    * roc_auc: 0.5399 +/- 0.0141 (Tempo: 0.05s)\n",
      "  - Modelo: MLP\n",
      "    * accuracy: 0.6016 +/- 0.0361 (Tempo: 0.23s)\n",
      "    * f1_weighted: 0.5946 +/- 0.0349 (Tempo: 0.21s)\n",
      "    * roc_auc: 0.6260 +/- 0.0342 (Tempo: 0.42s)\n",
      "\n",
      "Avaliando Dataset: 'LDA' (1 features)\n",
      "  - Modelo: Logistic Regression\n",
      "    * accuracy: 0.6566 +/- 0.0212 (Tempo: 0.03s)\n",
      "    * f1_weighted: 0.6567 +/- 0.0215 (Tempo: 0.03s)\n",
      "    * roc_auc: 0.7216 +/- 0.0174 (Tempo: 0.03s)\n",
      "  - Modelo: Random Forest\n",
      "    * accuracy: 0.5872 +/- 0.0248 (Tempo: 0.42s)\n",
      "    * f1_weighted: 0.5868 +/- 0.0241 (Tempo: 0.40s)\n",
      "    * roc_auc: 0.6439 +/- 0.0246 (Tempo: 0.41s)\n",
      "  - Modelo: SVC\n",
      "    * accuracy: 0.6556 +/- 0.0272 (Tempo: 0.57s)\n",
      "    * f1_weighted: 0.6516 +/- 0.0285 (Tempo: 0.59s)\n",
      "    * roc_auc: 0.7019 +/- 0.0208 (Tempo: 0.58s)\n",
      "  - Modelo: Decision Tree\n",
      "    * accuracy: 0.5872 +/- 0.0248 (Tempo: 0.03s)\n",
      "    * f1_weighted: 0.5868 +/- 0.0241 (Tempo: 0.03s)\n",
      "    * roc_auc: 0.5838 +/- 0.0240 (Tempo: 0.03s)\n",
      "  - Modelo: MLP\n",
      "    * accuracy: 0.6700 +/- 0.0128 (Tempo: 0.09s)\n",
      "    * f1_weighted: 0.6535 +/- 0.0158 (Tempo: 0.12s)\n",
      "    * roc_auc: 0.7216 +/- 0.0174 (Tempo: 0.14s)\n",
      "\n",
      "Avaliação comparativa concluída.\n",
      "\n",
      "--- Tabela Resumo dos Resultados da Avaliação ---\n",
      "Model                       Decision Tree                      \\\n",
      "Metric                           accuracy f1_weighted roc_auc   \n",
      "Dataset        Num Features                                     \n",
      "LDA            1                   0.5872      0.5868  0.5838   \n",
      "PCA            11                  0.5441      0.5435  0.5399   \n",
      "RFE            23                  0.5768      0.5764  0.5735   \n",
      "Correlação F-F 25                  0.5585      0.5574  0.5545   \n",
      "Mutual Info    30                  0.5381      0.5376  0.5338   \n",
      "RF Importance  46                  0.5491      0.5489  0.5455   \n",
      "Baseline       92                  0.5535      0.5528  0.5491   \n",
      "\n",
      "Model                       Logistic Regression                          MLP  \\\n",
      "Metric                                 accuracy f1_weighted roc_auc accuracy   \n",
      "Dataset        Num Features                                                    \n",
      "LDA            1                         0.6566      0.6567  0.7216   0.6700   \n",
      "PCA            11                        0.5516      0.5504  0.6054   0.6016   \n",
      "RFE            23                        0.5912      0.5900  0.6404   0.5892   \n",
      "Correlação F-F 25                        0.5783      0.5783  0.6162   0.5724   \n",
      "Mutual Info    30                        0.6001      0.6007  0.6398   0.5986   \n",
      "RF Importance  46                        0.6125      0.6130  0.6477   0.5838   \n",
      "Baseline       92                        0.6115      0.6121  0.6475   0.6110   \n",
      "\n",
      "Model                                           Random Forest              \\\n",
      "Metric                      f1_weighted roc_auc      accuracy f1_weighted   \n",
      "Dataset        Num Features                                                 \n",
      "LDA            1                 0.6535  0.7216        0.5872      0.5868   \n",
      "PCA            11                0.5946  0.6260        0.6105      0.6040   \n",
      "RFE            23                0.5832  0.6094        0.6328      0.6277   \n",
      "Correlação F-F 25                0.5662  0.5998        0.6016      0.5950   \n",
      "Mutual Info    30                0.5867  0.6131        0.6011      0.5955   \n",
      "RF Importance  46                0.5752  0.6047        0.6120      0.6069   \n",
      "Baseline       92                0.6045  0.6362        0.5976      0.5925   \n",
      "\n",
      "Model                                    SVC                      \n",
      "Metric                      roc_auc accuracy f1_weighted roc_auc  \n",
      "Dataset        Num Features                                       \n",
      "LDA            1             0.6439   0.6556      0.6516  0.7019  \n",
      "PCA            11            0.6487   0.6066      0.6061  0.6480  \n",
      "RFE            23            0.6635   0.5947      0.5953  0.6456  \n",
      "Correlação F-F 25            0.6340   0.5867      0.5874  0.6372  \n",
      "Mutual Info    30            0.6376   0.5892      0.5891  0.6282  \n",
      "RF Importance  46            0.6488   0.5877      0.5874  0.6373  \n",
      "Baseline       92            0.6355   0.5897      0.5902  0.6359  \n",
      "\n",
      "--- Gráficos Comparativos de Desempenho ---\n"
     ]
    },
    {
     "name": "stderr",
     "output_type": "stream",
     "text": [
      "/var/folders/rt/p4j2n9w169v5jq_zvl752pyh0000gn/T/ipykernel_1675/349346148.py:214: UserWarning: set_ticklabels() should only be used with a fixed number of ticks, i.e. after set_ticks() or using a FixedLocator.\n",
      "  ax.set_xticklabels( xtick_labels, rotation = 45, ha = 'right' )\n"
     ]
    },
    {
     "data": {
      "text/plain": [
       "<Figure size 1500x800 with 1 Axes>"
      ],
      "image/png": "[encoded data removed]"
     },
     "metadata": {},
     "output_type": "display_data"
    },
    {
     "name": "stderr",
     "output_type": "stream",
     "text": [
      "/var/folders/rt/p4j2n9w169v5jq_zvl752pyh0000gn/T/ipykernel_1675/349346148.py:214: UserWarning: set_ticklabels() should only be used with a fixed number of ticks, i.e. after set_ticks() or using a FixedLocator.\n",
      "  ax.set_xticklabels( xtick_labels, rotation = 45, ha = 'right' )\n"
     ]
    },
    {
     "data": {
      "text/plain": [
       "<Figure size 1500x800 with 1 Axes>"
      ],
      "image/png": "[encoded data removed]"
     },
     "metadata": {},
     "output_type": "display_data"
    },
    {
     "name": "stderr",
     "output_type": "stream",
     "text": [
      "/var/folders/rt/p4j2n9w169v5jq_zvl752pyh0000gn/T/ipykernel_1675/349346148.py:214: UserWarning: set_ticklabels() should only be used with a fixed number of ticks, i.e. after set_ticks() or using a FixedLocator.\n",
      "  ax.set_xticklabels( xtick_labels, rotation = 45, ha = 'right' )\n"
     ]
    },
    {
     "data": {
      "text/plain": [
       "<Figure size 1500x800 with 1 Axes>"
      ],
      "image/png": "[encoded data removed]"
     },
     "metadata": {},
     "output_type": "display_data"
    }
   ],
   "execution_count": 46
  },
  {
   "metadata": {},
   "cell_type": "markdown",
   "source": "# **DÚVIDA: É NECESSÁRIO SEPARAR A BASE (TESTE/TREINO) ANTES DE REMOVER OUTLIERS?**",
   "id": "51dbae231416c359"
  },
  {
   "metadata": {},
   "cell_type": "markdown",
   "source": "# **TESTE: REMOVENDO OUTLIERS. QUAL SERÁ O IMPACTO? COMPARAR DEPOIS!**",
   "id": "4a155675efe912d4"
  },
  {
   "metadata": {
    "ExecuteTime": {
     "end_time": "2025-04-24T19:26:18.049320Z",
     "start_time": "2025-04-24T16:55:14.426860Z"
    }
   },
   "cell_type": "code",
   "source": [
    "import matplotlib.pyplot as plt\n",
    "\n",
    "# Copia do DataFrame original para preservar os dados\n",
    "df_sem_outliers = df.copy()\n",
    "\n",
    "# Selecionar colunas numéricas\n",
    "numeric_cols = df.select_dtypes( include = [ 'number' ] ).columns\n",
    "\n",
    "# Calcular limites IQR e contar outliers por coluna\n",
    "for col in numeric_cols:\n",
    "    Q1 = df[ col ].quantile( 0.25 )\n",
    "    Q3 = df[ col ].quantile( 0.75 )\n",
    "    IQR = Q3 - Q1\n",
    "    lower_bound = Q1 - 1.5 * IQR\n",
    "    upper_bound = Q3 + 1.5 * IQR\n",
    "    outliers = df[ (df[ col ] < lower_bound) | (df[ col ] > upper_bound) ][ col ]\n",
    "    count = outliers.count()\n",
    "    percent = count / len( df ) * 100\n",
    "\n",
    "    df_sem_outliers = df_sem_outliers[\n",
    "        (df_sem_outliers[ col ] >= lower_bound) & (df_sem_outliers[ col ] <= upper_bound) ]\n",
    "\n",
    "df_sem_outliers.info()"
   ],
   "id": "a1632fcf8236afff",
   "outputs": [
    {
     "name": "stdout",
     "output_type": "stream",
     "text": [
      "<class 'pandas.core.frame.DataFrame'>\n",
      "Index: 1010 entries, 3 to 2586\n",
      "Data columns (total 93 columns):\n",
      " #   Column                                              Non-Null Count  Dtype  \n",
      "---  ------                                              --------------  -----  \n",
      " 0   original_firstorder_10Percentile                    1010 non-null   float64\n",
      " 1   original_firstorder_90Percentile                    1010 non-null   float64\n",
      " 2   original_firstorder_Energy                          1010 non-null   float64\n",
      " 3   original_firstorder_Entropy                         1010 non-null   float64\n",
      " 4   original_firstorder_InterquartileRange              1010 non-null   float64\n",
      " 5   original_firstorder_Kurtosis                        1010 non-null   float64\n",
      " 6   original_firstorder_MeanAbsoluteDeviation           1010 non-null   float64\n",
      " 7   original_firstorder_Mean                            1010 non-null   float64\n",
      " 8   original_firstorder_Median                          1010 non-null   float64\n",
      " 9   original_firstorder_Minimum                         1010 non-null   float64\n",
      " 10  original_firstorder_Range                           1010 non-null   float64\n",
      " 11  original_firstorder_RobustMeanAbsoluteDeviation     1010 non-null   float64\n",
      " 12  original_firstorder_RootMeanSquared                 1010 non-null   float64\n",
      " 13  original_firstorder_Skewness                        1010 non-null   float64\n",
      " 14  original_firstorder_TotalEnergy                     1010 non-null   float64\n",
      " 15  original_firstorder_Uniformity                      1010 non-null   float64\n",
      " 16  original_firstorder_Variance                        1010 non-null   float64\n",
      " 17  original_glcm_Autocorrelation                       1010 non-null   float64\n",
      " 18  original_glcm_ClusterProminence                     1010 non-null   float64\n",
      " 19  original_glcm_ClusterShade                          1010 non-null   float64\n",
      " 20  original_glcm_ClusterTendency                       1010 non-null   float64\n",
      " 21  original_glcm_Contrast                              1010 non-null   float64\n",
      " 22  original_glcm_Correlation                           1010 non-null   float64\n",
      " 23  original_glcm_DifferenceAverage                     1010 non-null   float64\n",
      " 24  original_glcm_DifferenceEntropy                     1010 non-null   float64\n",
      " 25  original_glcm_DifferenceVariance                    1010 non-null   float64\n",
      " 26  original_glcm_Id                                    1010 non-null   float64\n",
      " 27  original_glcm_Idm                                   1010 non-null   float64\n",
      " 28  original_glcm_Idmn                                  1010 non-null   float64\n",
      " 29  original_glcm_Idn                                   1010 non-null   float64\n",
      " 30  original_glcm_Imc1                                  1010 non-null   float64\n",
      " 31  original_glcm_Imc2                                  1010 non-null   float64\n",
      " 32  original_glcm_InverseVariance                       1010 non-null   float64\n",
      " 33  original_glcm_JointAverage                          1010 non-null   float64\n",
      " 34  original_glcm_JointEnergy                           1010 non-null   float64\n",
      " 35  original_glcm_JointEntropy                          1010 non-null   float64\n",
      " 36  original_glcm_MCC                                   1010 non-null   float64\n",
      " 37  original_glcm_MaximumProbability                    1010 non-null   float64\n",
      " 38  original_glcm_SumAverage                            1010 non-null   float64\n",
      " 39  original_glcm_SumEntropy                            1010 non-null   float64\n",
      " 40  original_glcm_SumSquares                            1010 non-null   float64\n",
      " 41  original_gldm_DependenceEntropy                     1010 non-null   float64\n",
      " 42  original_gldm_DependenceNonUniformity               1010 non-null   float64\n",
      " 43  original_gldm_DependenceNonUniformityNormalized     1010 non-null   float64\n",
      " 44  original_gldm_DependenceVariance                    1010 non-null   float64\n",
      " 45  original_gldm_GrayLevelNonUniformity                1010 non-null   float64\n",
      " 46  original_gldm_GrayLevelVariance                     1010 non-null   float64\n",
      " 47  original_gldm_HighGrayLevelEmphasis                 1010 non-null   float64\n",
      " 48  original_gldm_LargeDependenceEmphasis               1010 non-null   float64\n",
      " 49  original_gldm_LargeDependenceHighGrayLevelEmphasis  1010 non-null   float64\n",
      " 50  original_gldm_LargeDependenceLowGrayLevelEmphasis   1010 non-null   float64\n",
      " 51  original_gldm_LowGrayLevelEmphasis                  1010 non-null   float64\n",
      " 52  original_gldm_SmallDependenceEmphasis               1010 non-null   float64\n",
      " 53  original_gldm_SmallDependenceHighGrayLevelEmphasis  1010 non-null   float64\n",
      " 54  original_gldm_SmallDependenceLowGrayLevelEmphasis   1010 non-null   float64\n",
      " 55  original_glrlm_GrayLevelNonUniformity               1010 non-null   float64\n",
      " 56  original_glrlm_GrayLevelNonUniformityNormalized     1010 non-null   float64\n",
      " 57  original_glrlm_GrayLevelVariance                    1010 non-null   float64\n",
      " 58  original_glrlm_HighGrayLevelRunEmphasis             1010 non-null   float64\n",
      " 59  original_glrlm_LongRunEmphasis                      1010 non-null   float64\n",
      " 60  original_glrlm_LongRunHighGrayLevelEmphasis         1010 non-null   float64\n",
      " 61  original_glrlm_LongRunLowGrayLevelEmphasis          1010 non-null   float64\n",
      " 62  original_glrlm_LowGrayLevelRunEmphasis              1010 non-null   float64\n",
      " 63  original_glrlm_RunEntropy                           1010 non-null   float64\n",
      " 64  original_glrlm_RunLengthNonUniformity               1010 non-null   float64\n",
      " 65  original_glrlm_RunLengthNonUniformityNormalized     1010 non-null   float64\n",
      " 66  original_glrlm_RunPercentage                        1010 non-null   float64\n",
      " 67  original_glrlm_RunVariance                          1010 non-null   float64\n",
      " 68  original_glrlm_ShortRunEmphasis                     1010 non-null   float64\n",
      " 69  original_glrlm_ShortRunHighGrayLevelEmphasis        1010 non-null   float64\n",
      " 70  original_glrlm_ShortRunLowGrayLevelEmphasis         1010 non-null   float64\n",
      " 71  original_glszm_GrayLevelNonUniformity               1010 non-null   float64\n",
      " 72  original_glszm_GrayLevelNonUniformityNormalized     1010 non-null   float64\n",
      " 73  original_glszm_GrayLevelVariance                    1010 non-null   float64\n",
      " 74  original_glszm_HighGrayLevelZoneEmphasis            1010 non-null   float64\n",
      " 75  original_glszm_LargeAreaEmphasis                    1010 non-null   float64\n",
      " 76  original_glszm_LargeAreaHighGrayLevelEmphasis       1010 non-null   float64\n",
      " 77  original_glszm_LargeAreaLowGrayLevelEmphasis        1010 non-null   float64\n",
      " 78  original_glszm_LowGrayLevelZoneEmphasis             1010 non-null   float64\n",
      " 79  original_glszm_SizeZoneNonUniformity                1010 non-null   float64\n",
      " 80  original_glszm_SizeZoneNonUniformityNormalized      1010 non-null   float64\n",
      " 81  original_glszm_SmallAreaEmphasis                    1010 non-null   float64\n",
      " 82  original_glszm_SmallAreaHighGrayLevelEmphasis       1010 non-null   float64\n",
      " 83  original_glszm_SmallAreaLowGrayLevelEmphasis        1010 non-null   float64\n",
      " 84  original_glszm_ZoneEntropy                          1010 non-null   float64\n",
      " 85  original_glszm_ZonePercentage                       1010 non-null   float64\n",
      " 86  original_glszm_ZoneVariance                         1010 non-null   float64\n",
      " 87  original_ngtdm_Busyness                             1010 non-null   float64\n",
      " 88  original_ngtdm_Coarseness                           1010 non-null   float64\n",
      " 89  original_ngtdm_Complexity                           1010 non-null   float64\n",
      " 90  original_ngtdm_Contrast                             1010 non-null   float64\n",
      " 91  original_ngtdm_Strength                             1010 non-null   float64\n",
      " 92  class                                               1010 non-null   object \n",
      "dtypes: float64(92), object(1)\n",
      "memory usage: 741.7+ KB\n"
     ]
    }
   ],
   "execution_count": 28
  },
  {
   "metadata": {},
   "cell_type": "markdown",
   "source": "Análise: antes de remover os possíveis outliers, nossa base tinha 2587 linhas, após a remoção, ficou com 1202.",
   "id": "a9f9983fa844d276"
  }
 ],
 "metadata": {
  "kernelspec": {
   "display_name": "Python 3 (ipykernel)",
   "language": "python",
   "name": "python3"
  },
  "language_info": {
   "codemirror_mode": {
    "name": "ipython",
    "version": 2
   },
   "file_extension": ".py",
   "mimetype": "text/x-python",
   "name": "python",
   "nbconvert_exporter": "python",
   "pygments_lexer": "ipython2",
   "version": "2.7.6"
  }
 },
 "nbformat": 4,
 "nbformat_minor": 5
}
