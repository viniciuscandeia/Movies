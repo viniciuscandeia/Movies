{
 "cells": [
  {
   "cell_type": "markdown",
   "id": "b83385d9bb7d72bb",
   "metadata": {},
   "source": [
    "# Instalação\n",
    "\n",
    "Libs necessárias: pip install -r requirements.txt"
   ]
  },
  {
   "cell_type": "code",
   "execution_count": 45,
   "id": "28b0ffd188c91980",
   "metadata": {
    "ExecuteTime": {
     "end_time": "2025-04-29T13:27:50.510119Z",
     "start_time": "2025-04-29T13:27:50.490092Z"
    }
   },
   "outputs": [],
   "source": [
    "# Bibliotecas padrão\n",
    "import os\n",
    "import warnings\n",
    "\n",
    "# Bibliotecas de ciência de dados\n",
    "import matplotlib.pyplot as plt\n",
    "import numpy as np\n",
    "import pandas as pd\n",
    "\n",
    "# Modelos de linguagem e redução de dimensionalidade externa\n",
    "from sentence_transformers import SentenceTransformer\n",
    "import umap.umap_ as umap\n",
    "\n",
    "# Scikit-learn: clustering\n",
    "from sklearn.cluster import DBSCAN, KMeans\n",
    "\n",
    "# Scikit-learn: redução de dimensionalidade\n",
    "from sklearn.decomposition import PCA\n",
    "from sklearn.manifold import TSNE\n",
    "\n",
    "# Scikit-learn: vetorização de texto\n",
    "from sklearn.feature_extraction.text import CountVectorizer, TfidfVectorizer\n",
    "\n",
    "# Scikit-learn: métricas\n",
    "from sklearn.metrics import silhouette_score\n",
    "from sklearn.metrics.pairwise import cosine_similarity\n",
    "\n",
    "# Scikit-learn: utilitários\n",
    "from sklearn.neighbors import NearestNeighbors  # Auxilia na escolha do parâmetro 'eps'\n"
   ]
  },
  {
   "cell_type": "markdown",
   "id": "9a27f7681ed03b50",
   "metadata": {},
   "source": [
    "# 0. Lendo o arquivo"
   ]
  },
  {
   "cell_type": "code",
   "execution_count": 46,
   "id": "initial_id",
   "metadata": {
    "ExecuteTime": {
     "end_time": "2025-04-29T13:27:50.722523Z",
     "start_time": "2025-04-29T13:27:50.593365Z"
    }
   },
   "outputs": [
    {
     "data": {
      "text/plain": [
       "(10000, 9)"
      ]
     },
     "execution_count": 46,
     "metadata": {},
     "output_type": "execute_result"
    }
   ],
   "source": [
    "df = pd.read_csv( 'dataset/top10K-TMDB-movies.csv' )\n",
    "df.shape"
   ]
  },
  {
   "cell_type": "markdown",
   "id": "dfdfb22f00406a0f",
   "metadata": {},
   "source": [
    "# 1. Pré-processamento da base de dados"
   ]
  },
  {
   "cell_type": "markdown",
   "id": "4b44636f61dfebc9",
   "metadata": {},
   "source": [
    "## 1.1 Valores Ausentes"
   ]
  },
  {
   "cell_type": "markdown",
   "id": "2ac0c8a788caebe5",
   "metadata": {},
   "source": [
    "### 1.1.1 Ver se há algum valor ausente no DataFrame\n",
    "\n",
    "Retorna `True` se houver pelo menos um valor ausente."
   ]
  },
  {
   "cell_type": "code",
   "execution_count": 47,
   "id": "776ef1ff1d811288",
   "metadata": {
    "ExecuteTime": {
     "end_time": "2025-04-29T13:27:50.816821Z",
     "start_time": "2025-04-29T13:27:50.805300Z"
    }
   },
   "outputs": [
    {
     "data": {
      "text/plain": [
       "np.True_"
      ]
     },
     "execution_count": 47,
     "metadata": {},
     "output_type": "execute_result"
    }
   ],
   "source": [
    "df.isnull().values.any()"
   ]
  },
  {
   "cell_type": "markdown",
   "id": "357915e0197a8f09",
   "metadata": {},
   "source": [
    "### 1.1.2 Contar quantos valores ausentes há em cada coluna"
   ]
  },
  {
   "cell_type": "code",
   "execution_count": 48,
   "id": "4c5118821de64f19",
   "metadata": {
    "ExecuteTime": {
     "end_time": "2025-04-29T13:27:50.896475Z",
     "start_time": "2025-04-29T13:27:50.884889Z"
    }
   },
   "outputs": [
    {
     "data": {
      "text/plain": [
       "id                    0\n",
       "title                 0\n",
       "genre                 3\n",
       "original_language     0\n",
       "overview             13\n",
       "popularity            0\n",
       "release_date          0\n",
       "vote_average          0\n",
       "vote_count            0\n",
       "dtype: int64"
      ]
     },
     "execution_count": 48,
     "metadata": {},
     "output_type": "execute_result"
    }
   ],
   "source": [
    "df.isnull().sum()"
   ]
  },
  {
   "cell_type": "markdown",
   "id": "7081c8c760a2990d",
   "metadata": {},
   "source": [
    "### 1.1.3 Exibir linhas que possuem valores ausentes"
   ]
  },
  {
   "cell_type": "code",
   "execution_count": 49,
   "id": "6ae238bb70784fdd",
   "metadata": {
    "ExecuteTime": {
     "end_time": "2025-04-29T13:27:51.030474Z",
     "start_time": "2025-04-29T13:27:51.012145Z"
    }
   },
   "outputs": [
    {
     "data": {
      "text/html": [
       "<div>\n",
       "<style scoped>\n",
       "    .dataframe tbody tr th:only-of-type {\n",
       "        vertical-align: middle;\n",
       "    }\n",
       "\n",
       "    .dataframe tbody tr th {\n",
       "        vertical-align: top;\n",
       "    }\n",
       "\n",
       "    .dataframe thead th {\n",
       "        text-align: right;\n",
       "    }\n",
       "</style>\n",
       "<table border=\"1\" class=\"dataframe\">\n",
       "  <thead>\n",
       "    <tr style=\"text-align: right;\">\n",
       "      <th></th>\n",
       "      <th>id</th>\n",
       "      <th>title</th>\n",
       "      <th>genre</th>\n",
       "      <th>original_language</th>\n",
       "      <th>overview</th>\n",
       "      <th>popularity</th>\n",
       "      <th>release_date</th>\n",
       "      <th>vote_average</th>\n",
       "      <th>vote_count</th>\n",
       "    </tr>\n",
       "  </thead>\n",
       "  <tbody>\n",
       "    <tr>\n",
       "      <th>3361</th>\n",
       "      <td>50472</td>\n",
       "      <td>Anplagghed al cinema</td>\n",
       "      <td>NaN</td>\n",
       "      <td>it</td>\n",
       "      <td>A queue at the ATM machine, a displaced family...</td>\n",
       "      <td>4.420</td>\n",
       "      <td>2006-11-26</td>\n",
       "      <td>7.0</td>\n",
       "      <td>313</td>\n",
       "    </tr>\n",
       "    <tr>\n",
       "      <th>4150</th>\n",
       "      <td>38537</td>\n",
       "      <td>Nati stanchi</td>\n",
       "      <td>Comedy</td>\n",
       "      <td>it</td>\n",
       "      <td>NaN</td>\n",
       "      <td>5.671</td>\n",
       "      <td>2002-03-01</td>\n",
       "      <td>6.8</td>\n",
       "      <td>211</td>\n",
       "    </tr>\n",
       "    <tr>\n",
       "      <th>6973</th>\n",
       "      <td>31359</td>\n",
       "      <td>Would I Lie to You? 2</td>\n",
       "      <td>Comedy</td>\n",
       "      <td>fr</td>\n",
       "      <td>NaN</td>\n",
       "      <td>4.741</td>\n",
       "      <td>2001-02-07</td>\n",
       "      <td>6.2</td>\n",
       "      <td>325</td>\n",
       "    </tr>\n",
       "    <tr>\n",
       "      <th>7821</th>\n",
       "      <td>43211</td>\n",
       "      <td>7 Kilos in 7 Days</td>\n",
       "      <td>NaN</td>\n",
       "      <td>it</td>\n",
       "      <td>Two not very clever young doctors open a fitne...</td>\n",
       "      <td>5.885</td>\n",
       "      <td>1986-02-02</td>\n",
       "      <td>6.0</td>\n",
       "      <td>212</td>\n",
       "    </tr>\n",
       "    <tr>\n",
       "      <th>7941</th>\n",
       "      <td>2029</td>\n",
       "      <td>Tanguy</td>\n",
       "      <td>Comedy</td>\n",
       "      <td>fr</td>\n",
       "      <td>NaN</td>\n",
       "      <td>5.449</td>\n",
       "      <td>2001-11-21</td>\n",
       "      <td>6.0</td>\n",
       "      <td>387</td>\n",
       "    </tr>\n",
       "    <tr>\n",
       "      <th>8518</th>\n",
       "      <td>57114</td>\n",
       "      <td>Amore, bugie e calcetto</td>\n",
       "      <td>NaN</td>\n",
       "      <td>en</td>\n",
       "      <td>NaN</td>\n",
       "      <td>4.709</td>\n",
       "      <td>2008-04-04</td>\n",
       "      <td>5.8</td>\n",
       "      <td>200</td>\n",
       "    </tr>\n",
       "    <tr>\n",
       "      <th>9293</th>\n",
       "      <td>17413</td>\n",
       "      <td>Incognito</td>\n",
       "      <td>Comedy</td>\n",
       "      <td>fr</td>\n",
       "      <td>NaN</td>\n",
       "      <td>5.602</td>\n",
       "      <td>2009-04-28</td>\n",
       "      <td>5.5</td>\n",
       "      <td>213</td>\n",
       "    </tr>\n",
       "    <tr>\n",
       "      <th>9440</th>\n",
       "      <td>516043</td>\n",
       "      <td>Arrivano i prof</td>\n",
       "      <td>Comedy</td>\n",
       "      <td>it</td>\n",
       "      <td>NaN</td>\n",
       "      <td>6.558</td>\n",
       "      <td>2018-05-01</td>\n",
       "      <td>5.4</td>\n",
       "      <td>337</td>\n",
       "    </tr>\n",
       "    <tr>\n",
       "      <th>9620</th>\n",
       "      <td>154512</td>\n",
       "      <td>Lightning Strike</td>\n",
       "      <td>Comedy</td>\n",
       "      <td>it</td>\n",
       "      <td>NaN</td>\n",
       "      <td>4.070</td>\n",
       "      <td>2012-12-13</td>\n",
       "      <td>5.3</td>\n",
       "      <td>216</td>\n",
       "    </tr>\n",
       "    <tr>\n",
       "      <th>9792</th>\n",
       "      <td>42426</td>\n",
       "      <td>A spasso nel tempo - L'avventura continua</td>\n",
       "      <td>Comedy,Fantasy</td>\n",
       "      <td>it</td>\n",
       "      <td>NaN</td>\n",
       "      <td>5.020</td>\n",
       "      <td>1997-12-11</td>\n",
       "      <td>5.1</td>\n",
       "      <td>209</td>\n",
       "    </tr>\n",
       "    <tr>\n",
       "      <th>9825</th>\n",
       "      <td>77000</td>\n",
       "      <td>Bar Sport</td>\n",
       "      <td>Comedy,Family</td>\n",
       "      <td>it</td>\n",
       "      <td>NaN</td>\n",
       "      <td>4.123</td>\n",
       "      <td>2011-10-21</td>\n",
       "      <td>5.0</td>\n",
       "      <td>205</td>\n",
       "    </tr>\n",
       "    <tr>\n",
       "      <th>9889</th>\n",
       "      <td>42436</td>\n",
       "      <td>Natale in crociera</td>\n",
       "      <td>Comedy</td>\n",
       "      <td>it</td>\n",
       "      <td>NaN</td>\n",
       "      <td>5.330</td>\n",
       "      <td>2007-12-14</td>\n",
       "      <td>4.9</td>\n",
       "      <td>364</td>\n",
       "    </tr>\n",
       "    <tr>\n",
       "      <th>9915</th>\n",
       "      <td>57216</td>\n",
       "      <td>A Natale mi sposo</td>\n",
       "      <td>Comedy</td>\n",
       "      <td>it</td>\n",
       "      <td>NaN</td>\n",
       "      <td>4.349</td>\n",
       "      <td>2010-11-26</td>\n",
       "      <td>4.9</td>\n",
       "      <td>202</td>\n",
       "    </tr>\n",
       "    <tr>\n",
       "      <th>9922</th>\n",
       "      <td>408238</td>\n",
       "      <td>The New Adventures of Cinderella</td>\n",
       "      <td>Comedy</td>\n",
       "      <td>fr</td>\n",
       "      <td>NaN</td>\n",
       "      <td>7.102</td>\n",
       "      <td>2017-10-18</td>\n",
       "      <td>4.8</td>\n",
       "      <td>227</td>\n",
       "    </tr>\n",
       "    <tr>\n",
       "      <th>9989</th>\n",
       "      <td>244514</td>\n",
       "      <td>Colpi di fortuna</td>\n",
       "      <td>Comedy</td>\n",
       "      <td>it</td>\n",
       "      <td>NaN</td>\n",
       "      <td>5.821</td>\n",
       "      <td>2013-12-21</td>\n",
       "      <td>4.7</td>\n",
       "      <td>214</td>\n",
       "    </tr>\n",
       "  </tbody>\n",
       "</table>\n",
       "</div>"
      ],
      "text/plain": [
       "          id                                      title           genre  \\\n",
       "3361   50472                       Anplagghed al cinema             NaN   \n",
       "4150   38537                               Nati stanchi          Comedy   \n",
       "6973   31359                      Would I Lie to You? 2          Comedy   \n",
       "7821   43211                          7 Kilos in 7 Days             NaN   \n",
       "7941    2029                                     Tanguy          Comedy   \n",
       "8518   57114                    Amore, bugie e calcetto             NaN   \n",
       "9293   17413                                  Incognito          Comedy   \n",
       "9440  516043                            Arrivano i prof          Comedy   \n",
       "9620  154512                           Lightning Strike          Comedy   \n",
       "9792   42426  A spasso nel tempo - L'avventura continua  Comedy,Fantasy   \n",
       "9825   77000                                  Bar Sport   Comedy,Family   \n",
       "9889   42436                         Natale in crociera          Comedy   \n",
       "9915   57216                          A Natale mi sposo          Comedy   \n",
       "9922  408238           The New Adventures of Cinderella          Comedy   \n",
       "9989  244514                           Colpi di fortuna          Comedy   \n",
       "\n",
       "     original_language                                           overview  \\\n",
       "3361                it  A queue at the ATM machine, a displaced family...   \n",
       "4150                it                                                NaN   \n",
       "6973                fr                                                NaN   \n",
       "7821                it  Two not very clever young doctors open a fitne...   \n",
       "7941                fr                                                NaN   \n",
       "8518                en                                                NaN   \n",
       "9293                fr                                                NaN   \n",
       "9440                it                                                NaN   \n",
       "9620                it                                                NaN   \n",
       "9792                it                                                NaN   \n",
       "9825                it                                                NaN   \n",
       "9889                it                                                NaN   \n",
       "9915                it                                                NaN   \n",
       "9922                fr                                                NaN   \n",
       "9989                it                                                NaN   \n",
       "\n",
       "      popularity release_date  vote_average  vote_count  \n",
       "3361       4.420   2006-11-26           7.0         313  \n",
       "4150       5.671   2002-03-01           6.8         211  \n",
       "6973       4.741   2001-02-07           6.2         325  \n",
       "7821       5.885   1986-02-02           6.0         212  \n",
       "7941       5.449   2001-11-21           6.0         387  \n",
       "8518       4.709   2008-04-04           5.8         200  \n",
       "9293       5.602   2009-04-28           5.5         213  \n",
       "9440       6.558   2018-05-01           5.4         337  \n",
       "9620       4.070   2012-12-13           5.3         216  \n",
       "9792       5.020   1997-12-11           5.1         209  \n",
       "9825       4.123   2011-10-21           5.0         205  \n",
       "9889       5.330   2007-12-14           4.9         364  \n",
       "9915       4.349   2010-11-26           4.9         202  \n",
       "9922       7.102   2017-10-18           4.8         227  \n",
       "9989       5.821   2013-12-21           4.7         214  "
      ]
     },
     "execution_count": 49,
     "metadata": {},
     "output_type": "execute_result"
    }
   ],
   "source": [
    "df[ df.isnull().any( axis = 1 ) ]"
   ]
  },
  {
   "cell_type": "markdown",
   "id": "11dec87f28cc5a4d",
   "metadata": {},
   "source": [
    "### 1.1.4 Removendo linhas com valores ausentes"
   ]
  },
  {
   "cell_type": "code",
   "execution_count": 50,
   "id": "4707b6e35f45897d",
   "metadata": {
    "ExecuteTime": {
     "end_time": "2025-04-29T13:27:51.353724Z",
     "start_time": "2025-04-29T13:27:51.341917Z"
    }
   },
   "outputs": [],
   "source": [
    "df.dropna( subset = [ 'overview' ], inplace = True )\n",
    "df.reset_index( drop = True, inplace = True )"
   ]
  },
  {
   "cell_type": "markdown",
   "id": "2360143faf70e742",
   "metadata": {},
   "source": [
    "## 1.2 Valores Duplicados"
   ]
  },
  {
   "cell_type": "markdown",
   "id": "3232e98a3d475d8b",
   "metadata": {},
   "source": [
    "### 1.2.1 Ver se há alguma linha duplicada\n",
    "\n",
    "Retorna `True` se houver ao menos uma linha duplicada"
   ]
  },
  {
   "cell_type": "code",
   "execution_count": 51,
   "id": "6c31341932fb9c0b",
   "metadata": {
    "ExecuteTime": {
     "end_time": "2025-04-29T13:27:51.692448Z",
     "start_time": "2025-04-29T13:27:51.579980Z"
    }
   },
   "outputs": [
    {
     "data": {
      "text/plain": [
       "np.False_"
      ]
     },
     "execution_count": 51,
     "metadata": {},
     "output_type": "execute_result"
    }
   ],
   "source": [
    "df.duplicated().any()"
   ]
  },
  {
   "cell_type": "markdown",
   "id": "1da51f6da8bb67ce",
   "metadata": {},
   "source": [
    "### 1.2.2 Contar o número de linhas duplicadas"
   ]
  },
  {
   "cell_type": "code",
   "execution_count": 52,
   "id": "d446d60469de3f94",
   "metadata": {
    "ExecuteTime": {
     "end_time": "2025-04-29T13:27:51.953581Z",
     "start_time": "2025-04-29T13:27:51.906595Z"
    }
   },
   "outputs": [
    {
     "data": {
      "text/plain": [
       "np.int64(0)"
      ]
     },
     "execution_count": 52,
     "metadata": {},
     "output_type": "execute_result"
    }
   ],
   "source": [
    "df.duplicated().sum()"
   ]
  },
  {
   "cell_type": "markdown",
   "id": "ecb282281bea421e",
   "metadata": {},
   "source": [
    "### 1.2.3 Ver quais são as linhas duplicadas"
   ]
  },
  {
   "cell_type": "code",
   "execution_count": 53,
   "id": "bcb060ed436aa0df",
   "metadata": {
    "ExecuteTime": {
     "end_time": "2025-04-29T13:27:52.084757Z",
     "start_time": "2025-04-29T13:27:52.052245Z"
    }
   },
   "outputs": [
    {
     "data": {
      "text/html": [
       "<div>\n",
       "<style scoped>\n",
       "    .dataframe tbody tr th:only-of-type {\n",
       "        vertical-align: middle;\n",
       "    }\n",
       "\n",
       "    .dataframe tbody tr th {\n",
       "        vertical-align: top;\n",
       "    }\n",
       "\n",
       "    .dataframe thead th {\n",
       "        text-align: right;\n",
       "    }\n",
       "</style>\n",
       "<table border=\"1\" class=\"dataframe\">\n",
       "  <thead>\n",
       "    <tr style=\"text-align: right;\">\n",
       "      <th></th>\n",
       "      <th>id</th>\n",
       "      <th>title</th>\n",
       "      <th>genre</th>\n",
       "      <th>original_language</th>\n",
       "      <th>overview</th>\n",
       "      <th>popularity</th>\n",
       "      <th>release_date</th>\n",
       "      <th>vote_average</th>\n",
       "      <th>vote_count</th>\n",
       "    </tr>\n",
       "  </thead>\n",
       "  <tbody>\n",
       "  </tbody>\n",
       "</table>\n",
       "</div>"
      ],
      "text/plain": [
       "Empty DataFrame\n",
       "Columns: [id, title, genre, original_language, overview, popularity, release_date, vote_average, vote_count]\n",
       "Index: []"
      ]
     },
     "execution_count": 53,
     "metadata": {},
     "output_type": "execute_result"
    }
   ],
   "source": [
    "df[ df.duplicated() ]"
   ]
  },
  {
   "cell_type": "markdown",
   "id": "43f965fb6b73a22f",
   "metadata": {},
   "source": [
    "# 2. Seleção de Atributos"
   ]
  },
  {
   "cell_type": "markdown",
   "id": "3eafebddb86116dc",
   "metadata": {},
   "source": [
    "## 2.1 Criação da Coluna 'tags'\n",
    "\n",
    "Combina 'overview' e 'genre' para criar uma única string de texto por filme. Trata possíveis NaNs em 'genre' antes da concatenação."
   ]
  },
  {
   "cell_type": "code",
   "execution_count": 54,
   "id": "c61ddc920fc7e5b0",
   "metadata": {
    "ExecuteTime": {
     "end_time": "2025-04-29T13:27:52.187400Z",
     "start_time": "2025-04-29T13:27:52.174295Z"
    }
   },
   "outputs": [],
   "source": [
    "df[ 'tags' ] = df[ 'overview' ] + ' ' + df[ 'genre' ]"
   ]
  },
  {
   "cell_type": "markdown",
   "id": "dbc4fc37534c3682",
   "metadata": {},
   "source": [
    "## 2.2 Seleção de Colunas Relevantes\n",
    "\n",
    "Mantém as colunas necessárias para identificação, vetorização e cálculo de score."
   ]
  },
  {
   "cell_type": "code",
   "execution_count": 55,
   "id": "2aeaa24ce0cbabd5",
   "metadata": {
    "ExecuteTime": {
     "end_time": "2025-04-29T13:27:52.274909Z",
     "start_time": "2025-04-29T13:27:52.267856Z"
    }
   },
   "outputs": [],
   "source": [
    "colunas_para_manter = [ 'id', 'title', 'overview', 'genre', 'tags', 'vote_average', 'vote_count' ]\n",
    "# Verifica se todas as colunas esperadas existem no DataFrame carregado\n",
    "colunas_existentes = [ col for col in colunas_para_manter if col in df.columns ]\n",
    "if len( colunas_existentes ) != len( colunas_para_manter ):\n",
    "    print( \"\\nAviso: Algumas colunas esperadas (como 'vote_average', 'vote_count') não foram encontradas no CSV.\" )\n",
    "    print( \"O cálculo de Weighted Rating e a ordenação por score podem não funcionar como esperado.\" )\n",
    "    # Mantém apenas as colunas que de fato existem\n",
    "    colunas_para_manter = colunas_existentes\n",
    "\n",
    "df = df[ colunas_para_manter ].copy()"
   ]
  },
  {
   "cell_type": "markdown",
   "id": "2480beb3fd2a3f40",
   "metadata": {},
   "source": [
    "## 2.3 Criação do Mapeamento Título -> Índice\n",
    "\n",
    "Cria uma Série para buscar rapidamente o índice de um filme a partir do título. drop_duplicates() trata títulos duplicados, mantendo apenas a primeira ocorrência no índice."
   ]
  },
  {
   "cell_type": "code",
   "execution_count": 56,
   "id": "8b87b587eeffc9f2",
   "metadata": {
    "ExecuteTime": {
     "end_time": "2025-04-29T13:27:52.352882Z",
     "start_time": "2025-04-29T13:27:52.347432Z"
    }
   },
   "outputs": [
    {
     "name": "stdout",
     "output_type": "stream",
     "text": [
      "Mapeamento Título -> Índice ('indices') criado.\n"
     ]
    }
   ],
   "source": [
    "if 'title' in df.columns:\n",
    "    indices = pd.Series( df.index, index = df[ 'title' ] ).drop_duplicates()\n",
    "    print( \"Mapeamento Título -> Índice ('indices') criado.\" )\n",
    "else:\n",
    "    print( \"Erro: Coluna 'title' não encontrada. Não foi possível criar o mapeamento 'indices'.\" )\n",
    "    indices = None"
   ]
  },
  {
   "cell_type": "markdown",
   "id": "9c18dc70b7b2743b",
   "metadata": {},
   "source": [
    "# 3. Similaridade de Cossenos\n",
    "\n",
    "Imagine que cada sinopse de filme, depois de ser transformada em números (seja por Bag of Words ou TF-IDF), se torna um vetor em um espaço com muitas dimensões (onde cada dimensão corresponde a uma palavra do vocabulário).\n",
    "\n",
    "## 3.1 **A Ideia Central**\n",
    "\n",
    "A similaridade de cossenos **não mede a distância** entre as pontas desses vetores, mas sim o ângulo entre eles.\n",
    "\n",
    "- Se dois vetores apontam para **direções muito parecidas**, o ângulo entre eles é pequeno, e a similaridade de cossenos é alta (próxima de 1). Isso sugere que as sinopses usam palavras/termos de forma parecida, indicando temas semelhantes.\n",
    "- Se dois vetores apontam para **direções completamente diferentes** (são ortogonais, formam um ângulo de 90 graus), a similaridade de cossenos é 0. Isso sugere que as sinopses tratam de assuntos muito distintos, com poucas palavras-chave em comum.\n",
    "- Se dois vetores apontam para **direções opostas**, o ângulo é de 180 graus, e a similaridade de cossenos é -1. Na prática, com vetores de texto baseados em contagens (BoW) ou TF-IDF, que geralmente não têm valores negativos, a similaridade varia entre 0 e 1.\n",
    "\n",
    "## 3.2 **Exemplo**\n",
    "\n",
    "Vamos simplificar muito e imaginar um vocabulário minúsculo com apenas 3 palavras: \"ação\", \"comédia\", \"drama\".\n",
    "\n",
    "Agora, vamos representar 3 filmes com vetores baseados na contagem dessas palavras em suas (hipotéticas) sinopses:\n",
    "\n",
    "- Filme A: \"Muita ação e um pouco de drama.\"\n",
    "    - Vetor A = [ação: 2, comédia: 0, drama: 1] -> [2, 0, 1]\n",
    "- Filme B: \"Pura ação!\"\n",
    "    - Vetor B = [ação: 1, comédia: 0, drama: 0] -> [1, 0, 0]\n",
    "- Filme C: \"Uma comédia dramática.\"\n",
    "    - Vetor C = [ação: 0, comédia: 1, drama: 1] -> [0, 1, 1]\n",
    "\n",
    "Agora, vamos calcular a similaridade de cossenos (sem entrar nos detalhes matemáticos exatos aqui, apenas a intuição):\n",
    "\n",
    "- Similaridade(A, B):\n",
    "    - Ambos têm \"ação\". O Filme A também tem \"drama\", o Filme B não.\n",
    "    - Os vetores [2, 0, 1] e [1, 0, 0] apontam em direções relativamente parecidas (ambos têm um forte componente na dimensão \"ação\").\n",
    "    - A similaridade de cossenos será alta, mas não 1 (porque A também tem \"drama\").\n",
    "- Similaridade(A, C):\n",
    "    - Ambos têm \"drama\". O Filme A tem \"ação\", o Filme C tem \"comédia\".\n",
    "    - Os vetores [2, 0, 1] e [0, 1, 1] compartilham a dimensão \"drama\", mas divergem nas outras (\"ação\" vs \"comédia\").\n",
    "    - A similaridade de cossenos será média-baixa.\n",
    "- Similaridade(B, C):\n",
    "    - Não compartilham nenhuma palavra do nosso vocabulário (\"ação\" vs \"comédia\", \"drama\").\n",
    "    - Os vetores [1, 0, 0] e [0, 1, 1] apontam em direções muito diferentes.\n",
    "    - A similaridade de cossenos será próxima de 0.\n",
    "\n",
    "## 3.3 **Matematicamente**\n",
    "\n",
    "A fórmula é:\n",
    "\n",
    "$$\n",
    "\\text{similaridade(A,B)} = \\frac{\\mathbf{A} \\cdot \\mathbf{B}}{\\|\\mathbf{A}\\| \\|\\mathbf{B}\\|}\n",
    "$$\n",
    "\n",
    "Onde:\n",
    "- $ \\mathbf{A} \\cdot \\mathbf{B} $ é o produto escalar dos vetores (soma da multiplicação de cada componente correspondente).\n",
    "- $ \\|\\mathbf{A}\\|$ e $ \\|\\mathbf{B}\\| $ são as magnitudes (ou \"comprimentos\") dos vetores."
   ]
  },
  {
   "cell_type": "markdown",
   "id": "c9ec7135cfc8180a",
   "metadata": {},
   "source": [
    "# 4. Vetorização das Sinopses\n",
    "\n",
    "Para que os algoritmos de machine learning compreendam e processem dados textuais, como as sinopses ou tags dos filmes, precisamos primeiro convertê-los em vetores numéricos. Bag of Words (BoW) e TF-IDF são duas abordagens fundamentais e amplamente utilizadas para essa tarefa de **vetorização**."
   ]
  },
  {
   "cell_type": "markdown",
   "id": "3b73771e49ff8607",
   "metadata": {},
   "source": [
    "## 4.1 Bag of Worlds (BoW)\n",
    "\n",
    "Como primeira abordagem, utilizamos o Bag of Words (BoW). Este método representa os textos contando a frequência de cada palavra, de forma simples e direta.\n",
    "\n",
    "**Expectativa:** Espera-se que o BoW capture similaridades baseadas na sobreposição direta de palavras-chave entre as 'tags' dos filmes. Recomendações podem ser relevantes se os filmes compartilham muitos termos descritivos, mas podem também ser influenciadas por palavras muito comuns (mesmo com stop words removidas) ou falhar em capturar relações de significado mais sutis que não envolvam as mesmas palavras exatas. É um ponto de partida para estabelecermos uma linha de base."
   ]
  },
  {
   "cell_type": "code",
   "execution_count": 57,
   "id": "9b2e3f8e9b36665",
   "metadata": {
    "ExecuteTime": {
     "end_time": "2025-04-29T13:28:03.629769Z",
     "start_time": "2025-04-29T13:27:52.424195Z"
    }
   },
   "outputs": [],
   "source": [
    "bow_vectorizer = CountVectorizer( max_features = 10000, stop_words = 'english' )\n",
    "bow_matrix = bow_vectorizer.fit_transform( df[ 'tags' ].values.astype( 'U' ) ).toarray()\n",
    "\n",
    "cosine_sim_bow = cosine_similarity( bow_matrix )"
   ]
  },
  {
   "cell_type": "markdown",
   "id": "23a59c1df8c112ed",
   "metadata": {},
   "source": [
    "## 4.2 TF-IDF (Term Frequency-Inverse Document Frequency)\n",
    "\n",
    "Agora, aplicamos o TF-IDF. Diferente do BoW que trata todas as palavras igualmente, o TF-IDF atribui um peso maior às palavras que são frequentes em um documento específico, mas raras no conjunto geral de documentos. Isso ajuda a destacar termos mais discriminativos.\n",
    "\n",
    "**Expectativa:** Com o TF-IDF, espera-se uma melhoria em relação ao BoW. Ao dar mais importância a palavras potencialmente mais significativas e reduzir o peso de termos muito genéricos, as recomendações podem se tornar mais focadas nos aspectos distintivos dos filmes. É possível que vejamos recomendações mais precisas, menos influenciadas por palavras excessivamente comuns nas 'tags'."
   ]
  },
  {
   "cell_type": "code",
   "execution_count": 58,
   "id": "d0d3a7af5b019d90",
   "metadata": {
    "ExecuteTime": {
     "end_time": "2025-04-29T13:28:14.504319Z",
     "start_time": "2025-04-29T13:28:03.717263Z"
    }
   },
   "outputs": [],
   "source": [
    "tfidf_vectorizer = TfidfVectorizer( max_features = 10000, stop_words = 'english' )\n",
    "tfidf_matrix = tfidf_vectorizer.fit_transform( df[ 'tags' ].values.astype( 'U' ) ).toarray()\n",
    "\n",
    "cosine_sim_tfidf = cosine_similarity( tfidf_matrix )"
   ]
  },
  {
   "cell_type": "markdown",
   "id": "78281b052115abe9",
   "metadata": {},
   "source": [
    "# 5. Recomendação Baseada em Similaridade\n",
    "\n",
    "Avançamos agora para uma técnica mais moderna e sofisticada: Sentence-BERT. Diferente do BoW e TF-IDF (que focam em palavras isoladas), o SBERT utiliza modelos Transformer pré-treinados para gerar embeddings que capturam o *significado semântico* do texto como um todo, considerando o contexto das palavras.\n",
    "\n",
    "**Expectativa:** A expectativa aqui é um salto qualitativo nas recomendações. O SBERT deve ser capaz de identificar filmes similares mesmo que eles não usem exatamente as mesmas palavras-chave em suas 'tags', mas expressem ideias ou temas semanticamente próximos. Espera-se que as recomendações sejam mais contextuais, relevantes e capazes de capturar nuances de significado que os métodos anteriores não conseguiam."
   ]
  },
  {
   "cell_type": "markdown",
   "id": "adc9c18565f658ef",
   "metadata": {},
   "source": [
    "## 5.1 Definição da Função `recommend_by_synopsis`\n",
    "\n",
    "Define a função que recebe um título de filme e uma matriz de similaridade. Ela usa o mapeamento 'indices' para encontrar o filme, localiza seus scores de similaridade na matriz, ordena os outros filmes por similaridade decrescente e retorna os 'top_n' mais similares junto com seus scores."
   ]
  },
  {
   "cell_type": "code",
   "execution_count": 59,
   "id": "e853249fad8c3f6f",
   "metadata": {
    "ExecuteTime": {
     "end_time": "2025-04-29T13:28:14.661725Z",
     "start_time": "2025-04-29T13:28:14.645240Z"
    }
   },
   "outputs": [],
   "source": [
    "def recommend_by_synopsis( titulo, cosine_sim_matrix, data = df, mapping = indices, top_n = 10 ):\n",
    "    \"\"\"\n",
    "    Gera recomendações de filmes baseadas na similaridade de vetores.\n",
    "\n",
    "    Retorna os títulos e suas pontuações de similaridade com o filme de entrada.\n",
    "\n",
    "    Args:\n",
    "        titulo (str): O título do filme base para a recomendação.\n",
    "        cosine_sim_matrix (np.array): Matriz de similaridade de cossenos pré-calculada.\n",
    "                                      Pode ser None se ocorreu erro no cálculo.\n",
    "        data (pd.DataFrame): DataFrame contendo pelo menos 'title'.\n",
    "        mapping (pd.Series): Mapeamento de títulos para índices do DataFrame.\n",
    "                             Pode ser None se ocorreu erro na criação.\n",
    "        top_n (int): Número de recomendações a serem retornadas.\n",
    "\n",
    "    Returns:\n",
    "        list: Lista de tuplas (titulo_recomendado, similaridade), ou str com erro.\n",
    "    \"\"\"\n",
    "    # Validações iniciais\n",
    "    if cosine_sim_matrix is None:\n",
    "        return f\"Erro: Matriz de similaridade não fornecida ou inválida.\"\n",
    "    if mapping is None:\n",
    "        return f\"Erro: Mapeamento Título->Índice ('indices') não está disponível.\"\n",
    "    if not isinstance( data, pd.DataFrame ) or 'title' not in data.columns:\n",
    "        return f\"Erro: DataFrame 'data' inválido ou sem coluna 'title'.\"\n",
    "\n",
    "    try:\n",
    "        # --- Encontra o índice do filme de entrada ---\n",
    "        if titulo not in mapping:\n",
    "            # Busca flexível (case-insensitive, sem espaços extras)\n",
    "            matches = [ t for t in mapping.index if\n",
    "                        isinstance( t, str ) and t.lower().strip() == titulo.lower().strip() ]\n",
    "            if not matches: raise KeyError  # Dispara erro se não encontrar\n",
    "            actual_title = matches[ 0 ]\n",
    "            idx = mapping[ actual_title ]\n",
    "            print( f\"Nota: Buscando por '{actual_title}' (match para '{titulo}')\" )\n",
    "        else:\n",
    "            idx = mapping[ titulo ]  # Índice do filme de entrada\n",
    "\n",
    "        # Valida o índice\n",
    "        if idx >= len( cosine_sim_matrix ):\n",
    "            raise ValueError(\n",
    "                    f\"Índice {idx} (para '{titulo}') está fora dos limites da matriz de similaridade ({len( cosine_sim_matrix )}).\" )\n",
    "\n",
    "        # --- Calcula e Ordena Similaridades ---\n",
    "        # Obtém as pontuações de similaridade do filme 'idx' com todos os outros\n",
    "        sim_scores = list( enumerate( cosine_sim_matrix[ idx ] ) )\n",
    "\n",
    "        # Ordena pela similaridade (item [1] da tupla), decrescente\n",
    "        sim_scores = sorted( sim_scores, key = lambda x: x[ 1 ], reverse = True )\n",
    "\n",
    "        # --- Seleciona Top N e Formata Saída ---\n",
    "        # Seleciona os top_n mais similares (excluindo o próprio filme - índice 1 em diante)\n",
    "        sim_scores = sim_scores[ 1:top_n + 1 ]\n",
    "\n",
    "        # Monta a lista de resultados (título, score)\n",
    "        recomendacoes = [ ]\n",
    "        for index, score in sim_scores:\n",
    "            # Checa se o índice do filme recomendado é válido no DataFrame 'data'\n",
    "            if index < len( data ):\n",
    "                titulo_filme = data[ 'title' ].iloc[ index ]\n",
    "                recomendacoes.append( (titulo_filme, score) )\n",
    "            # else: # Opcional: Avisar sobre índice inválido\n",
    "            #    print(f\"Aviso: Índice de recomendação {index} fora dos limites do DataFrame. Ignorando.\")\n",
    "\n",
    "        if not recomendacoes:\n",
    "            return \"Nenhuma recomendação encontrada (após filtrar o próprio filme).\"\n",
    "\n",
    "        return recomendacoes\n",
    "\n",
    "    except KeyError:\n",
    "        suggestion = [ t for t in mapping.index if isinstance( t, str ) and titulo.lower() in t.lower() ][\n",
    "                     :5 ]  # Sugestões simples\n",
    "        error_msg = f\"Erro: Filme '{titulo}' não encontrado no dataset.\"\n",
    "        if suggestion: error_msg += f\" Títulos similares: {suggestion}\"\n",
    "        return error_msg\n",
    "    except ValueError as ve:\n",
    "        return f\"Erro de valor ao processar '{titulo}': {ve}\"\n",
    "    except Exception as e:\n",
    "        import traceback\n",
    "        print( f\"Erro inesperado em recommend_by_synopsis para '{titulo}': {type( e ).__name__} - {e}\" )\n",
    "        # traceback.print_exc() # Descomente para ver o stack trace completo\n",
    "        return \"Ocorreu um erro inesperado durante a recomendação por similaridade.\""
   ]
  },
  {
   "cell_type": "markdown",
   "id": "ecc24bd98a373581",
   "metadata": {},
   "source": [
    "## 5.2 Aplicação: Recomendações com BoW e TF-IDF\n",
    "\n",
    "Utiliza a função `recommend_by_synopsis` para gerar recomendações para um filme de exemplo, usando as matrizes de similaridade calculadas anteriormente com Bag of Words (`cosine_sim_bow`) e TF-IDF (`cosine_sim_tfidf`). Os resultados de cada método são impressos para comparação."
   ]
  },
  {
   "cell_type": "code",
   "execution_count": 60,
   "id": "7fb36e08ee1e8814",
   "metadata": {
    "ExecuteTime": {
     "end_time": "2025-04-29T13:28:14.784433Z",
     "start_time": "2025-04-29T13:28:14.745191Z"
    }
   },
   "outputs": [
    {
     "name": "stdout",
     "output_type": "stream",
     "text": [
      "\n",
      "--- Testando Recomendações por Similaridade (BoW e TF-IDF) ---\n",
      "Filme de exemplo: 'The Dark Knight Rises'\n",
      "\n",
      "--- Recomendações para 'The Dark Knight Rises' (BoW) ---\n",
      "1. Batman: The Long Halloween, Part One (Similaridade: 0.395)\n",
      "2. Batman: The Long Halloween, Part Two (Similaridade: 0.382)\n",
      "3. The Dark Knight (Similaridade: 0.335)\n",
      "4. Batman: Gotham by Gaslight (Similaridade: 0.299)\n",
      "5. Batman: The Dark Knight Returns, Part 1 (Similaridade: 0.278)\n",
      "\n",
      "--- Recomendações para 'The Dark Knight Rises' (TF-IDF) ---\n",
      "1. Batman: The Long Halloween, Part Two (Similaridade: 0.440)\n",
      "2. Batman: The Long Halloween, Part One (Similaridade: 0.411)\n",
      "3. The Dark Knight (Similaridade: 0.323)\n",
      "4. Batman Forever (Similaridade: 0.230)\n",
      "5. The Batman (Similaridade: 0.230)\n"
     ]
    }
   ],
   "source": [
    "print( \"\\n--- Testando Recomendações por Similaridade (BoW e TF-IDF) ---\" )\n",
    "\n",
    "# Define o filme de exemplo\n",
    "filme_exemplo = \"The Dark Knight Rises\"\n",
    "print( f\"Filme de exemplo: '{filme_exemplo}'\" )\n",
    "\n",
    "# --- Teste com BoW ---\n",
    "print( f\"\\n--- Recomendações para '{filme_exemplo}' (BoW) ---\" )\n",
    "# Verifica se a matriz BoW e o mapeamento 'indices' estão disponíveis\n",
    "if 'cosine_sim_bow' in globals() and cosine_sim_bow is not None and indices is not None:\n",
    "    recomendacoes_bow = recommend_by_synopsis( filme_exemplo, cosine_sim_matrix = cosine_sim_bow, top_n = 5 )\n",
    "    # Imprime o resultado\n",
    "    if isinstance( recomendacoes_bow, list ):\n",
    "        if not recomendacoes_bow:\n",
    "            print( \"Nenhuma recomendação BoW encontrada.\" )\n",
    "        else:\n",
    "            for i, (filme, score) in enumerate( recomendacoes_bow ): print(\n",
    "                    f\"{i + 1}. {filme} (Similaridade: {score:.3f})\" )\n",
    "    else:\n",
    "        print( recomendacoes_bow )  # Exibe a mensagem de erro\n",
    "else:\n",
    "    print( \"Não foi possível gerar recomendações BoW (dependências ausentes: 'cosine_sim_bow' ou 'indices').\" )\n",
    "\n",
    "# --- Teste com TF-IDF ---\n",
    "print( f\"\\n--- Recomendações para '{filme_exemplo}' (TF-IDF) ---\" )\n",
    "# Verifica se a matriz TF-IDF e o mapeamento 'indices' estão disponíveis\n",
    "if 'cosine_sim_tfidf' in globals() and cosine_sim_tfidf is not None and indices is not None:\n",
    "    recomendacoes_tfidf = recommend_by_synopsis( filme_exemplo, cosine_sim_matrix = cosine_sim_tfidf, top_n = 5 )\n",
    "    # Imprime o resultado\n",
    "    if isinstance( recomendacoes_tfidf, list ):\n",
    "        if not recomendacoes_tfidf:\n",
    "            print( \"Nenhuma recomendação TF-IDF encontrada.\" )\n",
    "        else:\n",
    "            for i, (filme, score) in enumerate( recomendacoes_tfidf ): print(\n",
    "                    f\"{i + 1}. {filme} (Similaridade: {score:.3f})\" )\n",
    "    else:\n",
    "        print( recomendacoes_tfidf )  # Exibe a mensagem de erro\n",
    "else:\n",
    "    print( \"Não foi possível gerar recomendações TF-IDF (dependências ausentes: 'cosine_sim_tfidf' ou 'indices').\" )"
   ]
  },
  {
   "cell_type": "markdown",
   "id": "17e4e89f819eee7c",
   "metadata": {},
   "source": [
    "# 6. Vetorização Semântica (Sentence-BERT)\n",
    "\n",
    "Nesta seção, utiliza-se um modelo Sentence-BERT pré-treinado para gerar embeddings (vetores) que capturam o significado semântico das 'tags' dos filmes. Esta abordagem visa superar as limitações do BoW e TF-IDF, que se baseiam principalmente na frequência de palavras, capturando relações de significado mais profundas. O processo inclui salvar/carregar os embeddings para otimizar execuções futuras e o cálculo da matriz de similaridade baseada nesses embeddings."
   ]
  },
  {
   "cell_type": "markdown",
   "id": "44a20a32f823ebbd",
   "metadata": {},
   "source": [
    "## 6.1 Configuração do Modelo e Arquivo de Embeddings\n",
    "\n",
    "Define qual modelo Sentence-BERT será utilizado (aqui, 'all-mpnet-base-v2', otimizado para inglês) e o nome do arquivo `.npy` onde os embeddings serão salvos ou de onde serão carregados."
   ]
  },
  {
   "cell_type": "code",
   "execution_count": 61,
   "id": "71b30c0a7141a56c",
   "metadata": {
    "ExecuteTime": {
     "end_time": "2025-04-29T13:28:14.848054Z",
     "start_time": "2025-04-29T13:28:14.841778Z"
    }
   },
   "outputs": [
    {
     "name": "stdout",
     "output_type": "stream",
     "text": [
      "Modelo SBERT selecionado: all-mpnet-base-v2\n",
      "Arquivo para embeddings: movie_tags_embeddings_sbert.npy\n"
     ]
    }
   ],
   "source": [
    "# --- Configurações ---\n",
    "MODEL_NAME_SBERT = 'all-mpnet-base-v2'\n",
    "# Nome do arquivo para salvar/carregar embeddings\n",
    "# (Usando o nome fixo do script original do usuário)\n",
    "EMBEDDINGS_FILE_SBERT = 'movie_tags_embeddings_sbert.npy'\n",
    "\n",
    "print( f\"Modelo SBERT selecionado: {MODEL_NAME_SBERT}\" )\n",
    "print( f\"Arquivo para embeddings: {EMBEDDINGS_FILE_SBERT}\" )"
   ]
  },
  {
   "cell_type": "markdown",
   "id": "b878aafa969258ff",
   "metadata": {},
   "source": [
    "## 6.2 Geração ou Carregamento dos Embeddings SBERT\n",
    "\n",
    "Verifica se o arquivo `.npy` com os embeddings já existe.\n",
    "- Se existir, carrega os embeddings do arquivo (rápido).\n",
    "- Se não existir (ou ocorrer erro ao carregar), carrega o modelo Sentence-BERT (pode baixar na primeira vez), gera os embeddings para todas as 'tags' (processo demorado) e salva o resultado no arquivo `.npy` para uso futuro."
   ]
  },
  {
   "cell_type": "code",
   "execution_count": 62,
   "id": "a283539be320394b",
   "metadata": {
    "ExecuteTime": {
     "end_time": "2025-04-29T13:28:14.959983Z",
     "start_time": "2025-04-29T13:28:14.932804Z"
    }
   },
   "outputs": [
    {
     "name": "stdout",
     "output_type": "stream",
     "text": [
      "\n",
      "Tentando carregar embeddings pré-calculados de 'movie_tags_embeddings_sbert.npy'...\n",
      "Embeddings carregados com sucesso. Shape: (9987, 768)\n",
      "Número de embeddings compatível com df.\n"
     ]
    }
   ],
   "source": [
    "embeddings_sbert = None  # Inicializa a variável\n",
    "\n",
    "# Verifica se o arquivo existe\n",
    "if os.path.exists( EMBEDDINGS_FILE_SBERT ):\n",
    "    print( f\"\\nTentando carregar embeddings pré-calculados de '{EMBEDDINGS_FILE_SBERT}'...\" )\n",
    "    try:\n",
    "        embeddings_sbert = np.load( EMBEDDINGS_FILE_SBERT )\n",
    "        print( f\"Embeddings carregados com sucesso. Shape: {embeddings_sbert.shape}\" )\n",
    "        # Validação: compara o número de embeddings com o número de linhas em df\n",
    "        # Presume que df (com id, title, tags) existe, conforme script original\n",
    "        if 'df' in globals() and isinstance( df, pd.DataFrame ):\n",
    "            if embeddings_sbert.shape[ 0 ] != len( df ):\n",
    "                print(\n",
    "                        f\"Aviso: Número de embeddings ({embeddings_sbert.shape[ 0 ]}) \"\n",
    "                        f\"não corresponde ao tamanho do DataFrame df ({len( df )}).\" )\n",
    "                print( \"Os embeddings serão gerados novamente.\" )\n",
    "                embeddings_sbert = None  # Força a regeração\n",
    "            else:\n",
    "                print( \"Número de embeddings compatível com df.\" )\n",
    "        else:\n",
    "            print( \"Aviso: DataFrame df não encontrado para validação do shape dos embeddings.\" )\n",
    "            # Prossegue com os embeddings carregados, mas avisa sobre a impossibilidade de validar o tamanho.\n",
    "\n",
    "    except Exception as e:\n",
    "        print( f\"Erro ao carregar o arquivo de embeddings '{EMBEDDINGS_FILE_SBERT}': {e}\" )\n",
    "        print( \"Os embeddings serão gerados novamente.\" )\n",
    "        embeddings_sbert = None\n",
    "\n",
    "# Gera os embeddings se não foram carregados\n",
    "if embeddings_sbert is None:\n",
    "    # Verifica se df existe antes de prosseguir\n",
    "    if 'df' not in globals() or not isinstance( df, pd.DataFrame ) or 'tags' not in df.columns:\n",
    "        print( \"Erro fatal: DataFrame 'df' (com a coluna 'tags') não está disponível para gerar embeddings.\" )\n",
    "        # Impede a continuação se df for essencial e não existir\n",
    "        # exit() ou levantar uma exceção\n",
    "    else:\n",
    "        try:\n",
    "            # Carrega o modelo SentenceTransformer\n",
    "            print( f\"\\nCarregando modelo Sentence-BERT: '{MODEL_NAME_SBERT}' (pode baixar na 1ª vez)...\" )\n",
    "            model_sbert = SentenceTransformer( MODEL_NAME_SBERT )\n",
    "            print( \"Modelo carregado.\" )\n",
    "\n",
    "            # Prepara a lista de 'tags' a partir de df\n",
    "            print( \"Preparando a lista de 'tags' para codificação (pode levar um momento)...\" )\n",
    "            tags_list = df[ 'tags' ].astype( str ).tolist()  # Usa df conforme script original\n",
    "\n",
    "            # Gera os embeddings (etapa demorada)\n",
    "            print( \"\\nGerando embeddings com Sentence-BERT... (Processo pode ser demorado)\" )\n",
    "            embeddings_sbert = model_sbert.encode( tags_list, show_progress_bar = True )\n",
    "            print( f\"\\nEmbeddings gerados com sucesso! Shape: {embeddings_sbert.shape}\" )\n",
    "\n",
    "            # Salva os embeddings calculados\n",
    "            try:\n",
    "                print( f\"Salvando embeddings em '{EMBEDDINGS_FILE_SBERT}'...\" )\n",
    "                np.save( EMBEDDINGS_FILE_SBERT, embeddings_sbert )\n",
    "                print( \"Embeddings salvos para uso futuro.\" )\n",
    "            except Exception as e:\n",
    "                print( f\"Atenção: Não foi possível salvar os embeddings. Erro: {e}\" )\n",
    "\n",
    "        except ImportError:\n",
    "            print(\n",
    "                    \"Erro: Biblioteca sentence-transformers não encontrada. Instale com: pip install sentence-transformers\" )\n",
    "        except Exception as e:\n",
    "            print( f\"\\nErro crítico durante o processo do Sentence-BERT: {type( e ).__name__} - {e}\" )\n",
    "            print( \"Verifique a conexão com a internet e se o modelo é válido.\" )\n",
    "            # Garante que embeddings_sbert permaneça None se falhar\n",
    "            embeddings_sbert = None"
   ]
  },
  {
   "cell_type": "markdown",
   "id": "4c130da449f3aa4f",
   "metadata": {},
   "source": [
    "## 6.3 Cálculo da Matriz de Similaridade SBERT\n",
    "\n",
    "Com os embeddings SBERT (carregados ou recém-gerados) disponíveis, calcula a matriz de similaridade de cossenos entre todos os pares de filmes. Esta matriz (`cosine_sim_sbert`) representa a similaridade semântica entre os filmes, baseada no modelo SBERT."
   ]
  },
  {
   "cell_type": "code",
   "execution_count": 63,
   "id": "a6d713c3c45d54c2",
   "metadata": {
    "ExecuteTime": {
     "end_time": "2025-04-29T13:28:15.610020Z",
     "start_time": "2025-04-29T13:28:15.022888Z"
    }
   },
   "outputs": [
    {
     "name": "stdout",
     "output_type": "stream",
     "text": [
      "\n",
      "Calculando a matriz de similaridade de cossenos (SBERT)...\n",
      "Matriz de similaridade (Sentence-BERT) calculada. Shape: (9987, 9987)\n"
     ]
    }
   ],
   "source": [
    "# Calcula a Similaridade de Cossenos\n",
    "cosine_sim_sbert = None  # Inicializa\n",
    "if embeddings_sbert is not None:\n",
    "    try:\n",
    "        print( \"\\nCalculando a matriz de similaridade de cossenos (SBERT)...\" )\n",
    "        # Usa a função do scikit-learn nos embeddings\n",
    "        cosine_sim_sbert = cosine_similarity( embeddings_sbert )\n",
    "        print( f\"Matriz de similaridade (Sentence-BERT) calculada. Shape: {cosine_sim_sbert.shape}\" )\n",
    "    except Exception as e:\n",
    "        print( f\"Erro ao calcular a similaridade de cossenos com embeddings SBERT: {e}\" )\n",
    "else:\n",
    "    print( \"\\nNão foi possível calcular a similaridade SBERT (embeddings não disponíveis).\" )"
   ]
  },
  {
   "cell_type": "markdown",
   "id": "daad7a672629c8df",
   "metadata": {},
   "source": [
    "## 6.4 Aplicação: Recomendações com SBERT\n",
    "\n",
    "Utiliza a função `recommend_by_synopsis` (definida na Seção 5) para gerar recomendações para o filme de exemplo, desta vez usando a matriz de similaridade semântica `cosine_sim_sbert`. Os resultados são impressos."
   ]
  },
  {
   "cell_type": "code",
   "execution_count": 64,
   "id": "6419e20d4ad1fae1",
   "metadata": {
    "ExecuteTime": {
     "end_time": "2025-04-29T13:28:15.664069Z",
     "start_time": "2025-04-29T13:28:15.649467Z"
    }
   },
   "outputs": [
    {
     "name": "stdout",
     "output_type": "stream",
     "text": [
      "\n",
      "--- Testando Recomendações por Similaridade (Sentence-BERT) ---\n",
      "\n",
      "--- Recomendações para 'The Dark Knight Rises' (Sentence-BERT) ---\n",
      "1. Batman: The Long Halloween, Part Two (Similaridade Semântica: 0.836)\n",
      "2. The Dark Knight (Similaridade Semântica: 0.830)\n",
      "3. Batman: The Long Halloween, Part One (Similaridade Semântica: 0.806)\n",
      "4. The Batman (Similaridade Semântica: 0.790)\n",
      "5. Batman: Mask of the Phantasm (Similaridade Semântica: 0.780)\n"
     ]
    }
   ],
   "source": [
    "print( \"\\n--- Testando Recomendações por Similaridade (Sentence-BERT) ---\" )\n",
    "\n",
    "if 'filme_exemplo' not in globals():\n",
    "    filme_exemplo = \"Bohemian Rhapsody\"\n",
    "    print( f\"Aviso: 'filme_exemplo' não definido, usando '{filme_exemplo}'.\" )\n",
    "\n",
    "# Verifica se a matriz de similaridade SBERT foi calculada com sucesso\n",
    "if cosine_sim_sbert is not None and 'recommend_by_synopsis' in globals() and indices is not None:\n",
    "    print( f\"\\n--- Recomendações para '{filme_exemplo}' (Sentence-BERT) ---\" )\n",
    "\n",
    "    recomendacoes_sbert = recommend_by_synopsis(\n",
    "            filme_exemplo,\n",
    "            cosine_sim_matrix = cosine_sim_sbert,  # Passa a matriz SBERT\n",
    "            data = df,  # DataFrame original para buscar títulos\n",
    "            mapping = indices,  # Mapeamento título->índice\n",
    "            top_n = 5  # Número de recomendações\n",
    "    )\n",
    "\n",
    "    # Imprime o resultado\n",
    "    if isinstance( recomendacoes_sbert, list ):\n",
    "        if not recomendacoes_sbert:\n",
    "            print( \"Nenhuma recomendação SBERT encontrada.\" )\n",
    "        else:\n",
    "            for i, (filme, score) in enumerate( recomendacoes_sbert ):\n",
    "                print( f\"{i + 1}. {filme} (Similaridade Semântica: {score:.3f})\" )\n",
    "    else:\n",
    "        # Imprime a mensagem de erro retornada pela função\n",
    "        print( recomendacoes_sbert )\n",
    "else:\n",
    "    print( \"\\nNão é possível gerar recomendações com Sentence-BERT.\" )\n",
    "    if cosine_sim_sbert is None: print( \"  Motivo: Matriz de similaridade SBERT ausente.\" )\n",
    "    if 'recommend_by_synopsis' not in globals(): print( \"  Motivo: Função 'recommend_by_synopsis' não definida.\" )\n",
    "    if indices is None: print( \"  Motivo: Mapeamento 'indices' ausente.\" )"
   ]
  },
  {
   "cell_type": "markdown",
   "id": "93b30ff9-b9ef-4a19-aa3e-3b9180e05198",
   "metadata": {},
   "source": [
    "## 6.5. Visualização dos Embeddings com Redução de Dimensionalidade\n",
    "Para obter uma compreensão visual da estrutura dos embeddings gerados pelo modelo Sentence-BERT, aplicamos técnicas de redução de dimensionalidade. Embeddings de texto, como os gerados pelo Sentence-BERT, são representações vetoriais de alta dimensão, onde cada dimensão corresponde a uma característica semântica do texto. Visualizar esses vetores diretamente é impossível para humanos, que só conseguem perceber facilmente espaços de 2 ou 3 dimensões.\n",
    "\n",
    "A redução de dimensionalidade é o processo de transformar dados de alta dimensão em uma representação de baixa dimensão (2D ou 3D) que pode ser visualizada. Isso permite que padrões, clusters e relações entre os dados sejam observados visualmente.\n",
    "\n",
    "Utilizamos duas técnicas principais para essa redução:\n",
    "\n",
    "### Análise de Componentes Principais (PCA):\n",
    "\n",
    "PCA é uma técnica linear que identifica as direções de maior variância nos dados originais. Ele projeta os dados em um novo sistema de coordenadas definido por esses \"componentes principais\", onde a primeira componente captura a maior parte da variância, a segunda componente captura a segunda maior parte, e assim por diante.\n",
    "\n",
    "PCA é útil para reduzir a dimensionalidade mantendo a maior parte da informação linear nos dados. É computacionalmente eficiente e fornece uma visão geral da estrutura dos dados.\n",
    "\n",
    "No código, PCA(n_components=2) é usado para reduzir os embeddings para 2 dimensões, permitindo uma visualização em um gráfico 2D. As duas primeiras componentes principais são armazenadas em um DataFrame (df_pca) e plotadas em um gráfico de dispersão.\n",
    "\n",
    "### t-distributed Stochastic Neighbor Embedding (t-SNE):\n",
    "\n",
    "t-SNE é uma técnica não linear que é particularmente adequada para visualizar a estrutura local dos dados. Ele modela a probabilidade de pontos próximos em alta dimensão também serem próximos em baixa dimensão. t-SNE é excelente para revelar clusters e padrões complexos.\n",
    "\n",
    "No código, TSNE(n_components=2, random_state=42, perplexity=30, max_iter=300) é usado para reduzir os embeddings para 2 dimensões usando t-SNE. Os parâmetros random_state, perplexity e n_iter controlam o comportamento do algoritmo. Os resultados são armazenados em um DataFrame (df_tsne) e plotados em um gráfico de dispersão."
   ]
  },
  {
   "cell_type": "code",
   "execution_count": 65,
   "id": "9d203f2dc6b193cc",
   "metadata": {
    "ExecuteTime": {
     "end_time": "2025-04-29T13:28:36.179481Z",
     "start_time": "2025-04-29T13:28:15.725989Z"
    }
   },
   "outputs": [
    {
     "data": {
      "image/png": "[encoded data removed]",
      "text/plain": [
       "<Figure size 800x600 with 1 Axes>"
      ]
     },
     "metadata": {},
     "output_type": "display_data"
    },
    {
     "data": {
      "image/png": "[encoded data removed]",
      "text/plain": [
       "<Figure size 800x600 with 1 Axes>"
      ]
     },
     "metadata": {},
     "output_type": "display_data"
    }
   ],
   "source": [
    "if embeddings_sbert is not None:\n",
    "    # Visualização com PCA\n",
    "    pca = PCA( n_components = 2 )\n",
    "    pca_result = pca.fit_transform( embeddings_sbert )\n",
    "    df_pca = pd.DataFrame( pca_result, columns = [ 'pca_1', 'pca_2' ] )\n",
    "\n",
    "    plt.figure( figsize = (8, 6) )\n",
    "    plt.scatter( df_pca[ 'pca_1' ], df_pca[ 'pca_2' ] )\n",
    "    plt.title( 'PCA dos Embeddings' )\n",
    "    plt.xlabel( 'Componente Principal 1' )\n",
    "    plt.ylabel( 'Componente Principal 2' )\n",
    "    plt.show()\n",
    "\n",
    "    # Visualização com t-SNE (pode ser lento para grandes datasets)\n",
    "    tsne = TSNE( n_components = 2, random_state = 42, perplexity = 30, max_iter = 300 )\n",
    "    tsne_result = tsne.fit_transform( embeddings_sbert )\n",
    "    df_tsne = pd.DataFrame( tsne_result, columns = [ 'tsne_1', 'tsne_2' ] )\n",
    "\n",
    "    plt.figure( figsize = (8, 6) )\n",
    "    plt.scatter( df_tsne[ 'tsne_1' ], df_tsne[ 'tsne_2' ] )\n",
    "    plt.title( 't-SNE dos Embeddings' )\n",
    "    plt.xlabel( 't-SNE Componente 1' )\n",
    "    plt.ylabel( 't-SNE Componente 2' )\n",
    "    plt.show()\n",
    "\n",
    "else:\n",
    "    print( \"Não foi possível visualizar os embeddings (embeddings não disponíveis).\" )"
   ]
  },
  {
   "cell_type": "markdown",
   "id": "053722a1-cee2-4cf9-b290-54dddae7254a",
   "metadata": {},
   "source": [
    "## 6.7. Análise dos Gráficos de PCA e t-SNE\n",
    "\n",
    "Os gráficos gerados pelas técnicas de redução de dimensionalidade (PCA e t-SNE) fornecem representações visuais da similaridade entre os filmes no espaço de embeddings, permitindo uma análise da estrutura dos dados antes do clustering.\n",
    "\n",
    "De maneira geral:\n",
    "\n",
    "Obtivemos uma sobreposição dominante: Em ambos os gráficos (PCA e t-SNE), a característica mais marcante é a sobreposição dos pontos. Em vez de pontos distintos e bem separados, os pontos formam uma nuvem densa, indicando que os embeddings dos filmes são altamente similares uns aos outros.\n",
    "Dessa maneira, não há uma clara separação visual que sugira a existência de grupos ou clusters naturais."
   ]
  },
  {
   "cell_type": "markdown",
   "id": "a11acb4fe65d2634",
   "metadata": {},
   "source": [
    "# 7. Cálculo do Score de Qualidade (Weighted Rating)\n",
    "\n",
    "Calcula uma pontuação de qualidade para cada filme, baseada na sua nota média (`vote_average`) e no número de votos (`vote_count`), caso estas colunas estejam disponíveis. Utiliza a fórmula de Weighted Rating (WR) que ajusta a nota média considerando um número mínimo de votos (`m`) e a média geral de notas (`C`) do dataset. A coluna resultante 'score' será usada posteriormente para ordenar recomendações."
   ]
  },
  {
   "cell_type": "code",
   "execution_count": 66,
   "id": "1d3cfefd8464c7cb",
   "metadata": {
    "ExecuteTime": {
     "end_time": "2025-04-29T13:28:36.375339Z",
     "start_time": "2025-04-29T13:28:36.251850Z"
    }
   },
   "outputs": [
    {
     "name": "stdout",
     "output_type": "stream",
     "text": [
      "Média Geral de Notas (C): 6.62\n",
      "Votos Mínimos (m - quantil 90%): 3789\n",
      "Calculando e adicionando a coluna 'score' (Weighted Rating)...\n",
      "Coluna 'score' calculada com sucesso.\n"
     ]
    }
   ],
   "source": [
    "weighted_rating_calculated = False  # Flag para indicar se o cálculo foi bem sucedido\n",
    "\n",
    "# Verifica se as colunas necessárias existem e são numéricas\n",
    "required_cols = [ 'vote_average', 'vote_count' ]\n",
    "if all( col in df.columns for col in required_cols ) and \\\n",
    "        pd.api.types.is_numeric_dtype( df[ 'vote_average' ] ) and \\\n",
    "        pd.api.types.is_numeric_dtype( df[ 'vote_count' ] ):\n",
    "\n",
    "    def weighted_rating( x, m, C ):\n",
    "        v = x[ 'vote_count' ]\n",
    "        R = x[ 'vote_average' ]\n",
    "        denominator = v + m\n",
    "        if denominator == 0: return C\n",
    "        # Adiciona tratamento para R ou v NaN, retornando C nesses casos\n",
    "        if pd.isna( R ) or pd.isna( v ): return C\n",
    "        return (v / denominator * R) + (m / denominator * C)\n",
    "\n",
    "\n",
    "    # Calcula a média apenas de valores não-nulos\n",
    "    C = df[ 'vote_average' ].mean( skipna = True )\n",
    "    if pd.isna( C ):  # Se não há notas válidas\n",
    "        C = 5.0  # Define uma média padrão (e.g., 5 em 10)\n",
    "        print( f\"Aviso: Não foi possível calcular C (média de 'vote_average'). Usando valor padrão {C}.\" )\n",
    "    else:\n",
    "        print( f\"Média Geral de Notas (C): {C:.2f}\" )\n",
    "\n",
    "    # Define m como o quantil 90% da contagem de votos\n",
    "    # Trata casos com poucos dados ou NaNs\n",
    "    valid_vote_counts = df[ 'vote_count' ].dropna()\n",
    "    if len( valid_vote_counts ) < 10 or valid_vote_counts.sum() == 0:  # Se há poucos dados ou só zeros/NaNs\n",
    "        m = 0  # Define m=0 para não penalizar tanto nesses casos\n",
    "        print( \"Aviso: Poucos dados válidos em 'vote_count'. Usando m=0 (votos mínimos).\" )\n",
    "    else:\n",
    "        m = valid_vote_counts.quantile( 0.90 )\n",
    "    print( f\"Votos Mínimos (m - quantil 90%): {int( m )}\" )\n",
    "\n",
    "    print( \"Calculando e adicionando a coluna 'score' (Weighted Rating)...\" )\n",
    "    # Garante que a coluna 'score' existe antes de aplicar\n",
    "    if 'score' not in df.columns:\n",
    "        df[ 'score' ] = np.nan  # Cria a coluna com NaN\n",
    "    df[ 'score' ] = df.apply( lambda x: weighted_rating( x, m = m, C = C ), axis = 1 )\n",
    "\n",
    "    # Verifica se o cálculo resultou em valores válidos\n",
    "    if df[ 'score' ].isnull().all():\n",
    "        print(\n",
    "                \"Aviso: Cálculo do 'score' resultou em valores ausentes. Verifique os dados de 'vote_average'/'vote_count'.\" )\n",
    "        df[ 'score' ] = 0.0  # Preenche com 0 para evitar erros posteriores\n",
    "    else:\n",
    "        print( \"Coluna 'score' calculada com sucesso.\" )\n",
    "        weighted_rating_calculated = True\n",
    "\n",
    "else:\n",
    "    print( \"\\nAviso: Colunas 'vote_average' ou 'vote_count' não encontradas ou não numéricas no DataFrame 'df'.\" )\n",
    "    print( \"Não foi possível calcular o Weighted Rating. A coluna 'score' terá valor padrão 0.\" )\n",
    "    # Cria a coluna 'score' com valor padrão 0 se não existir\n",
    "    if 'score' not in df.columns: df[ 'score' ] = 0.0"
   ]
  },
  {
   "cell_type": "markdown",
   "id": "e52a4464b2d168f9",
   "metadata": {},
   "source": [
    "# 8. Clustering de Filmes\n",
    "\n",
    "Após gerar embeddings semânticos com SBERT, exploramos uma abordagem diferente: o Clustering. Em vez de apenas encontrar os vizinhos mais próximos por similaridade direta, agrupamos *todos* os filmes em K clusters usando o algoritmo K-Means. A ideia é que cada cluster represente um grupo de filmes tematicamente coesos.\n",
    "\n",
    "**Expectativa:** O clustering pode revelar a estrutura temática subjacente no catálogo de filmes. Para recomendação (Seção 7), espera-se que sugerir outros filmes do mesmo cluster possa levar a descobertas mais diversas ou inesperadas (serendipity) do que apenas os mais similares. A qualidade dependerá da coesão dos clusters formados e da eficácia da ordenação dos filmes dentro de cada cluster. É uma forma diferente de explorar a similaridade semântica capturada pelos embeddings SBERT."
   ]
  },
  {
   "cell_type": "markdown",
   "id": "b7d4ede385ca8803",
   "metadata": {},
   "source": [
    "## 8.1 Preparação e Verificação Inicial\n",
    "\n",
    "Importa as bibliotecas específicas para clustering (se não importadas globalmente), configura para ignorar avisos comuns do K-Means e verifica se os embeddings SBERT, necessários para o clustering, estão disponíveis na memória."
   ]
  },
  {
   "cell_type": "code",
   "execution_count": 67,
   "id": "d4fa36a6f3efe3b6",
   "metadata": {
    "ExecuteTime": {
     "end_time": "2025-04-29T13:28:36.418053Z",
     "start_time": "2025-04-29T13:28:36.413280Z"
    }
   },
   "outputs": [
    {
     "name": "stdout",
     "output_type": "stream",
     "text": [
      "Verificação inicial: Usando embeddings SBERT com shape: (9987, 768)\n"
     ]
    }
   ],
   "source": [
    "warnings.filterwarnings( \"ignore\", category = FutureWarning, module = 'sklearn.cluster._kmeans' )\n",
    "warnings.filterwarnings( \"ignore\", category = UserWarning, module = 'sklearn.cluster._kmeans' )\n",
    "\n",
    "can_cluster: bool = False\n",
    "\n",
    "# Verificar se temos os embeddings SBERT disponíveis\n",
    "if 'embeddings_sbert' not in globals() or not isinstance( embeddings_sbert, np.ndarray ):\n",
    "    print( \"Erro: Embeddings SBERT ('embeddings_sbert') não encontrados ou inválidos.\" )\n",
    "    print( \"Por favor, execute a seção anterior (Sentence-BERT) para gerar ou carregar os embeddings.\" )\n",
    "    # Pode-se interromper a execução aqui ou definir uma flag\n",
    "    can_cluster = False\n",
    "else:\n",
    "    print( f\"Verificação inicial: Usando embeddings SBERT com shape: {embeddings_sbert.shape}\" )\n",
    "    can_cluster = True"
   ]
  },
  {
   "cell_type": "markdown",
   "id": "c69c85898c837665",
   "metadata": {},
   "source": [
    "## 8.2 Escolhendo K: Método do Cotovelo (Elbow Method)\n",
    "\n",
    "Calcula e plota a inércia (soma das distâncias quadráticas intra-cluster) para diferentes números de clusters (K). A \"dobra\" ou \"cotovelo\" no gráfico sugere um valor de K onde adicionar mais clusters não traz um ganho proporcional na explicação da variância, indicando um possível bom número de clusters."
   ]
  },
  {
   "cell_type": "code",
   "execution_count": 68,
   "id": "11bfd57fa0fd056f",
   "metadata": {
    "ExecuteTime": {
     "end_time": "2025-04-29T13:29:00.535520Z",
     "start_time": "2025-04-29T13:28:36.458415Z"
    }
   },
   "outputs": [
    {
     "name": "stdout",
     "output_type": "stream",
     "text": [
      "  Testando K=2...\n",
      "  Testando K=6...\n",
      "  Testando K=10...\n",
      "  Testando K=14...\n",
      "  Testando K=18...\n",
      "  Testando K=22...\n",
      "  Testando K=26...\n",
      "  Testando K=30...\n",
      "  Testando K=34...\n",
      "  Testando K=38...\n",
      "  Testando K=42...\n",
      "  Testando K=46...\n",
      "  Testando K=50...\n",
      "Cálculo da inércia concluído.\n"
     ]
    },
    {
     "data": {
      "image/png": "[encoded data removed]",
      "text/plain": [
       "<Figure size 1000x600 with 1 Axes>"
      ]
     },
     "metadata": {},
     "output_type": "display_data"
    }
   ],
   "source": [
    "if can_cluster:\n",
    "    inertia = [ ]\n",
    "    # Define um range de K para testar (ajuste o fim do range e o passo se necessário)\n",
    "    k_range = range( 2, 51, 4 )  # Ex: De 2 a 50, de 4 em 4\n",
    "\n",
    "    try:\n",
    "        for k in k_range:\n",
    "            print( f\"  Testando K={k}...\" )\n",
    "            kmeans_elbow = KMeans(\n",
    "                    n_clusters = k, random_state = 42,\n",
    "                    n_init = 'auto' )  # n_init='auto' é recomendado nas versões mais recentes\n",
    "            kmeans_elbow.fit( embeddings_sbert )\n",
    "            inertia.append( kmeans_elbow.inertia_ )\n",
    "        print( \"Cálculo da inércia concluído.\" )\n",
    "\n",
    "        # Plotar o gráfico do cotovelo\n",
    "        plt.figure( figsize = (10, 6) )\n",
    "        plt.plot( k_range, inertia, marker = 'o', linestyle = '-' )\n",
    "        plt.title( 'Método do Cotovelo (Elbow Method)' )\n",
    "        plt.xlabel( 'Número de Clusters (K)' )\n",
    "        plt.ylabel( 'Inércia (WSS - Within-Cluster Sum of Squares)' )\n",
    "        plt.xticks( k_range )\n",
    "        plt.grid( True )\n",
    "        plt.show()\n",
    "    except Exception as e:\n",
    "        print( f\"\\nErro ao calcular o Método do Cotovelo: {e}\" )"
   ]
  },
  {
   "cell_type": "markdown",
   "id": "f33f24417552b846",
   "metadata": {},
   "source": [
    "## 8.3 Escolhendo K: Pontuação de Silhueta (Silhouette Score)\n",
    "\n",
    "Calcula e plota a pontuação média de silhueta para diferentes valores de K. Esta métrica avalia quão bem separados os clusters estão. Valores mais próximos de 1 indicam clusters mais densos e bem definidos. Um pico no gráfico sugere um valor de K ótimo."
   ]
  },
  {
   "cell_type": "code",
   "execution_count": 69,
   "id": "3e235babfd3fafd9",
   "metadata": {
    "ExecuteTime": {
     "end_time": "2025-04-29T13:29:24.454675Z",
     "start_time": "2025-04-29T13:29:00.640263Z"
    }
   },
   "outputs": [
    {
     "name": "stdout",
     "output_type": "stream",
     "text": [
      "  Testando K=2 para Silhueta...\n",
      "    Calculando score para K=2...\n",
      "    K=2, Silhouette Score=0.0761\n",
      "  Testando K=3 para Silhueta...\n",
      "    Calculando score para K=3...\n",
      "    K=3, Silhouette Score=0.0639\n",
      "  Testando K=4 para Silhueta...\n",
      "    Calculando score para K=4...\n",
      "    K=4, Silhouette Score=0.0606\n",
      "  Testando K=5 para Silhueta...\n",
      "    Calculando score para K=5...\n",
      "    K=5, Silhouette Score=0.0523\n",
      "  Testando K=6 para Silhueta...\n",
      "    Calculando score para K=6...\n",
      "    K=6, Silhouette Score=0.0487\n",
      "  Testando K=7 para Silhueta...\n",
      "    Calculando score para K=7...\n",
      "    K=7, Silhouette Score=0.0497\n",
      "  Testando K=8 para Silhueta...\n",
      "    Calculando score para K=8...\n",
      "    K=8, Silhouette Score=0.0451\n",
      "  Testando K=9 para Silhueta...\n",
      "    Calculando score para K=9...\n",
      "    K=9, Silhouette Score=0.0468\n",
      "  Testando K=10 para Silhueta...\n",
      "    Calculando score para K=10...\n",
      "    K=10, Silhouette Score=0.0480\n",
      "  Testando K=11 para Silhueta...\n",
      "    Calculando score para K=11...\n",
      "    K=11, Silhouette Score=0.0414\n",
      "  Testando K=12 para Silhueta...\n",
      "    Calculando score para K=12...\n",
      "    K=12, Silhouette Score=0.0431\n",
      "  Testando K=13 para Silhueta...\n",
      "    Calculando score para K=13...\n",
      "    K=13, Silhouette Score=0.0437\n",
      "  Testando K=14 para Silhueta...\n",
      "    Calculando score para K=14...\n",
      "    K=14, Silhouette Score=0.0413\n",
      "  Testando K=15 para Silhueta...\n",
      "    Calculando score para K=15...\n",
      "    K=15, Silhouette Score=0.0423\n",
      "  Testando K=16 para Silhueta...\n",
      "    Calculando score para K=16...\n",
      "    K=16, Silhouette Score=0.0407\n",
      "  Testando K=17 para Silhueta...\n",
      "    Calculando score para K=17...\n",
      "    K=17, Silhouette Score=0.0408\n",
      "  Testando K=18 para Silhueta...\n",
      "    Calculando score para K=18...\n",
      "    K=18, Silhouette Score=0.0392\n",
      "  Testando K=19 para Silhueta...\n",
      "    Calculando score para K=19...\n",
      "    K=19, Silhouette Score=0.0405\n",
      "  Testando K=20 para Silhueta...\n",
      "    Calculando score para K=20...\n",
      "    K=20, Silhouette Score=0.0395\n",
      "Cálculo da pontuação de silhueta concluído.\n"
     ]
    },
    {
     "data": {
      "image/png": "[encoded data removed]",
      "text/plain": [
       "<Figure size 1000x600 with 1 Axes>"
      ]
     },
     "metadata": {},
     "output_type": "display_data"
    }
   ],
   "source": [
    "if can_cluster:\n",
    "    calculate_silhouette = True\n",
    "\n",
    "    if calculate_silhouette:\n",
    "        silhouette_scores = [ ]\n",
    "        # Usar um range menor para K devido ao custo\n",
    "        k_range_silhouette = range( 2, 21, 1 )  # Ex: De 2 a 20, de 1 em 1\n",
    "\n",
    "        try:\n",
    "            for k in k_range_silhouette:\n",
    "                print( f\"  Testando K={k} para Silhueta...\" )\n",
    "                kmeans_silhouette = KMeans( n_clusters = k, random_state = 42, n_init = 'auto' )\n",
    "                cluster_labels_temp = kmeans_silhouette.fit_predict( embeddings_sbert )\n",
    "                print( f\"    Calculando score para K={k}...\" )\n",
    "                score = silhouette_score(\n",
    "                        embeddings_sbert, cluster_labels_temp, metric = 'cosine', sample_size = 2000,\n",
    "                        random_state = 42 )\n",
    "                silhouette_scores.append( score )\n",
    "                print( f\"    K={k}, Silhouette Score={score:.4f}\" )\n",
    "            print( \"Cálculo da pontuação de silhueta concluído.\" )\n",
    "\n",
    "            # Plotar o gráfico da silhueta\n",
    "            plt.figure( figsize = (10, 6) )\n",
    "            plt.plot( k_range_silhouette, silhouette_scores, marker = 'o', linestyle = '-' )\n",
    "            plt.title( 'Pontuação Média de Silhueta' )\n",
    "            plt.xlabel( 'Número de Clusters (K)' )\n",
    "            plt.ylabel( 'Silhouette Score Médio (Métrica Cosseno)' )\n",
    "            plt.xticks( k_range_silhouette )\n",
    "            plt.grid( True )\n",
    "            plt.show()\n",
    "        except Exception as e:\n",
    "            print( f\"\\nErro ao calcular a Pontuação de Silhueta: {e}\" )"
   ]
  },
  {
   "cell_type": "markdown",
   "id": "ea092dd1aae0750c",
   "metadata": {},
   "source": [
    "# Por Que os Gráficos de K (Cotovelo e Silhueta) Nem Sempre Ajudam Definitivamente?\n",
    "\n",
    "Ao tentar determinar o número ideal de clusters (K) para o K-Means usando os embeddings SBERT dos filmes, utilizamos o Método do Cotovelo e a Pontuação de Silhueta. Embora sejam ferramentas úteis, em alguns casos, como observado aqui, elas não apontam para um valor de K claro e indiscutível. As razões para isso incluem:\n",
    "\n",
    "1.  **Pontuação de Silhueta Baixa e Sem Pico Claro:**\n",
    "    * O gráfico de silhueta apresentou **valores gerais muito baixos** (bem abaixo de 0.1). Isso sugere que, pela métrica de silhueta (que prefere clusters densos e bem separados), os clusters formados pelo K-Means com os embeddings SBERT e a métrica de cosseno estão **bastante sobrepostos** ou não possuem uma separação muito nítida.\n",
    "    * O **pico ocorreu em K=2**, o que é comum quando a estrutura geral é fraca. Dividir em apenas dois grandes grupos pode dar a melhor separação *matemática* (ainda que baixa), mas raramente é útil para aplicações práticas como a nossa.\n",
    "    * A **ausência de um pico claro** para K > 2 significa que a métrica de silhueta não conseguiu identificar um número de clusters que seja significativamente \"melhor\" que os outros em termos de separação e coesão, conforme ela os mede.\n",
    "\n",
    "2.  **Método do Cotovelo Sem \"Dobra\" Nítida:**\n",
    "    * O gráfico do cotovelo mostrou a **diminuição esperada da inércia** à medida que K aumentava.\n",
    "    * No entanto, **não houve um \"cotovelo\" único e agudo**. Em vez disso, a curva foi suavizando gradualmente, especialmente após K=10-12.\n",
    "    * Isso torna a escolha do K baseada **apenas** no cotovelo um tanto **subjetiva**. Embora pudéssemos identificar uma *região* onde a taxa de diminuição mudava (sugerindo K entre 10-16), não havia um ponto óbvio que se destacasse como o \"melhor\" K de forma inequívoca.\n",
    "\n",
    "**Causas Comuns para Essa Indefinição:**\n",
    "\n",
    "* **Natureza dos Dados:** Embeddings de texto de alta dimensionalidade (como os do SBERT) frequentemente capturam relações semânticas complexas e nuances. Os \"grupos\" de filmes podem não formar clusters perfeitamente esféricos e bem separados que o K-Means e essas métricas preferem. Pode haver transições graduais entre temas ou múltiplos aspectos em um único filme.\n",
    "* **Limitações do K-Means:** O K-Means funciona melhor com clusters de formato mais globular. Se os agrupamentos naturais nos seus dados tiverem formas mais complexas, o K-Means pode ter dificuldade em encontrá-los de forma otimizada, refletindo-se nas métricas.\n",
    "* **Métricas são Heurísticas:** O Cotovelo e a Silhueta são heurísticas úteis, mas não garantem encontrar o número de clusters \"semanticamente perfeito\" ou mais útil para a aplicação final.\n",
    "\n",
    "**Conclusão:** Os gráficos são ferramentas de diagnóstico importantes, mas não são infalíveis. Neste caso, eles indicaram uma estrutura de cluster potencialmente fraca ou complexa (Silhueta) e forneceram uma faixa de K's plausíveis em vez de um único valor (Cotovelo). Por isso, a decisão final sobre K precisou combinar a indicação da *região* do cotovelo com a **análise qualitativa** (verificar se os clusters formados com um K daquela região fazem sentido tematicamente)."
   ]
  },
  {
   "cell_type": "markdown",
   "id": "efa5d5ff1781d370",
   "metadata": {},
   "source": [
    "## 8.4 Treinamento do Modelo K-Means Final\n",
    "\n",
    "Com base na análise dos gráficos do Cotovelo e/ou da Silhueta, define-se o número final de clusters (K_ESCOLHIDO). Em seguida, treina-se o modelo K-Means definitivo usando todos os embeddings SBERT e o valor de K escolhido."
   ]
  },
  {
   "cell_type": "code",
   "execution_count": 70,
   "id": "e1dd43aaab02cb2f",
   "metadata": {
    "ExecuteTime": {
     "end_time": "2025-04-29T13:29:26.379530Z",
     "start_time": "2025-04-29T13:29:24.544062Z"
    }
   },
   "outputs": [
    {
     "name": "stdout",
     "output_type": "stream",
     "text": [
      "Treinamento K-Means final concluído.\n"
     ]
    }
   ],
   "source": [
    "if can_cluster:\n",
    "    K_ESCOLHIDO = 12\n",
    "\n",
    "    try:\n",
    "        kmeans = KMeans( n_clusters = K_ESCOLHIDO, random_state = 42, n_init = 'auto' )\n",
    "        # Treina o modelo com os embeddings SBERT\n",
    "        kmeans.fit( embeddings_sbert )\n",
    "        print( \"Treinamento K-Means final concluído.\" )\n",
    "        clusters_generated = True\n",
    "    except Exception as e:\n",
    "        print( f\"\\nErro ao treinar o K-Means final: {e}\" )\n",
    "        clusters_generated = False\n",
    "else:\n",
    "    clusters_generated = False"
   ]
  },
  {
   "cell_type": "markdown",
   "id": "b8e64625e18a2e3",
   "metadata": {},
   "source": [
    "## 8.5 Atribuição de Rótulos e Análise dos Clusters\n",
    "\n",
    "Obtém os rótulos de cluster atribuídos a cada filme pelo modelo K-Means treinado. Adiciona esses rótulos como uma nova coluna ao DataFrame principal (`df`). Realiza uma análise básica, mostrando a contagem de filmes por cluster e exibindo os títulos de alguns filmes de exemplo para clusters selecionados, permitindo uma verificação qualitativa da coesão dos grupos formados."
   ]
  },
  {
   "cell_type": "code",
   "execution_count": 71,
   "id": "b9d361249608e993",
   "metadata": {
    "ExecuteTime": {
     "end_time": "2025-04-29T13:29:26.539323Z",
     "start_time": "2025-04-29T13:29:26.497413Z"
    }
   },
   "outputs": [
    {
     "name": "stdout",
     "output_type": "stream",
     "text": [
      "Coluna 'cluster_sbert' adicionada ao DataFrame 'df'.\n",
      "\n",
      "Distribuição de filmes por cluster (contagem):\n",
      "cluster_sbert\n",
      "0      416\n",
      "1      774\n",
      "2      993\n",
      "3     1338\n",
      "4      889\n",
      "5      858\n",
      "6      790\n",
      "7      663\n",
      "8      845\n",
      "9      936\n",
      "10     662\n",
      "11     823\n",
      "Name: count, dtype: int64\n",
      "\n",
      "Exemplos de títulos por cluster:\n",
      "\n",
      "--- Cluster 0 ---\n",
      "  - Dilwale Dulhania Le Jayenge\n",
      "  - Spirited Away\n",
      "  - Your Eyes Tell\n",
      "  - Dou kyu sei – Classmates\n",
      "  - Your Name.\n",
      "\n",
      "--- Cluster 1 ---\n",
      "  - Psycho\n",
      "  - Hope\n",
      "  - Howl's Moving Castle\n",
      "  - Woman in the Dunes\n",
      "  - Mommy\n",
      "\n",
      "--- Cluster 2 ---\n",
      "  - Impossible Things\n",
      "  - Gabriel's Inferno: Part II\n",
      "  - Violet Evergarden: The Movie\n",
      "  - Dedicated to my ex\n",
      "  - Modern Times\n",
      "\n",
      "--- Cluster 6 ---\n",
      "  - Gabriel's Inferno\n",
      "  - Gabriel's Inferno: Part III\n",
      "  - Cinema Paradiso\n",
      "  - Life Is Beautiful\n",
      "  - City Lights\n",
      "\n",
      "--- Cluster 11 ---\n",
      "  - The Godfather\n",
      "  - The Godfather: Part II\n",
      "  - The Dark Knight\n",
      "  - Pulp Fiction\n",
      "  - GoodFellas\n"
     ]
    }
   ],
   "source": [
    "if clusters_generated:\n",
    "    # --- Obtenção e Adição dos Rótulos ---\n",
    "    cluster_labels = kmeans.labels_\n",
    "    df[ 'cluster_sbert' ] = cluster_labels\n",
    "    print( f\"Coluna 'cluster_sbert' adicionada ao DataFrame 'df'.\" )\n",
    "\n",
    "    # --- Análise dos Clusters ---\n",
    "    print( \"\\nDistribuição de filmes por cluster (contagem):\" )\n",
    "    # Mostra a contagem de filmes em cada cluster, ordenado pelo número do cluster\n",
    "    print( df[ 'cluster_sbert' ].value_counts().sort_index() )\n",
    "\n",
    "    print( \"\\nExemplos de títulos por cluster:\" )\n",
    "    # Define alguns clusters para inspecionar (ex: os primeiros, um do meio, o último)\n",
    "    clusters_para_inspecionar = list( range( min( 3, K_ESCOLHIDO ) ) )  # Primeiros 3\n",
    "    if K_ESCOLHIDO > 5: clusters_para_inspecionar.append( K_ESCOLHIDO // 2 )  # Meio\n",
    "    if K_ESCOLHIDO > 1: clusters_para_inspecionar.append( K_ESCOLHIDO - 1 )  # Último\n",
    "    clusters_para_inspecionar = sorted( list( set( clusters_para_inspecionar ) ) )  # Remove duplicatas e ordena\n",
    "\n",
    "    for cluster_num in clusters_para_inspecionar:\n",
    "        print( f\"\\n--- Cluster {cluster_num} ---\" )\n",
    "        # Seleciona os primeiros N títulos do cluster atual\n",
    "        filmes_no_cluster = df[ df[ 'cluster_sbert' ] == cluster_num ][ 'title' ].head( 5 ).tolist()\n",
    "        if filmes_no_cluster:\n",
    "            for titulo_filme in filmes_no_cluster:\n",
    "                print( f\"  - {titulo_filme}\" )\n",
    "        else:\n",
    "            # Isso não deve acontecer se K foi baseado nos dados, mas é uma checagem\n",
    "            print( \"  (Nenhum filme encontrado neste cluster)\" )\n",
    "\n",
    "else:\n",
    "    print( \"\\nAnálise de clusters não pode ser realizada (clustering não executado ou falhou).\" )"
   ]
  },
  {
   "cell_type": "markdown",
   "id": "54ee62299c3a3ff4",
   "metadata": {},
   "source": [
    "# 9. Recomendação Baseada em Cluster\n",
    "\n",
    "Nesta seção, define-se e aplica-se a função `recomendar_por_cluster`. A abordagem utiliza os clusters gerados anteriormente (baseados em embeddings SBERT) para sugerir filmes. A ideia é que filmes dentro do mesmo cluster são semanticamente relacionados. As recomendações são então ordenadas pela pontuação de qualidade ('score' - Weighted Rating) para apresentar primeiro os filmes mais relevantes ou populares dentro daquele grupo temático."
   ]
  },
  {
   "cell_type": "markdown",
   "id": "28c2d5df388c8827",
   "metadata": {},
   "source": [
    "## 9.1 Verificação Prévia das Colunas Necessárias\n",
    "\n",
    "Antes de definir ou usar a função, verifica se as colunas essenciais (`cluster_sbert` e `score`) estão presentes no DataFrame `df`. Isso garante que as etapas anteriores (clustering e cálculo de score) foram executadas com sucesso e informa se a ordenação por score será possível."
   ]
  },
  {
   "cell_type": "code",
   "execution_count": 72,
   "id": "30eb0dc5381059ad",
   "metadata": {
    "ExecuteTime": {
     "end_time": "2025-04-29T13:29:26.646874Z",
     "start_time": "2025-04-29T13:29:26.636748Z"
    }
   },
   "outputs": [
    {
     "name": "stdout",
     "output_type": "stream",
     "text": [
      "\n",
      "Colunas 'cluster_sbert' e 'score' encontradas. Ordenação por score habilitada.\n"
     ]
    }
   ],
   "source": [
    "# Presume que 'df' existe e contém os dados dos filmes\n",
    "if 'df' not in globals() or not isinstance( df, pd.DataFrame ):\n",
    "    print( \"Erro: DataFrame 'df' não encontrado.\" )\n",
    "    can_recommend_cluster = False\n",
    "else:\n",
    "    can_recommend_cluster = True\n",
    "    # Verifica se a coluna de cluster existe\n",
    "    if 'cluster_sbert' not in df.columns:\n",
    "        print( \"Erro: Coluna 'cluster_sbert' não encontrada no DataFrame 'df'.\" )\n",
    "        print( \"Execute a seção de Clustering (7) antes de continuar.\" )\n",
    "        can_recommend_cluster = False  # Impede a execução da recomendação\n",
    "\n",
    "    # Verifica se a coluna de score existe (para ordenação)\n",
    "    if 'score' not in df.columns:\n",
    "        print( \"\\nAviso: Coluna 'score' (Weighted Rating) não encontrada no DataFrame 'df'.\" )\n",
    "        print( \"As recomendações do cluster não serão ordenadas por qualidade/popularidade.\" )\n",
    "        # Cria score padrão apenas para evitar erros na função, se ela for chamada\n",
    "        df[ 'score' ] = 0.0\n",
    "        recommend_by_score_possible = False\n",
    "    elif not pd.api.types.is_numeric_dtype( df[ 'score' ] ):\n",
    "        print( \"\\nAviso: Coluna 'score' não é numérica.\" )\n",
    "        print( \"As recomendações do cluster não serão ordenadas por qualidade/popularidade.\" )\n",
    "        recommend_by_score_possible = False\n",
    "    else:\n",
    "        print( \"\\nColunas 'cluster_sbert' e 'score' encontradas. Ordenação por score habilitada.\" )\n",
    "        recommend_by_score_possible = True  # Flag indicando que a ordenação por score é viável"
   ]
  },
  {
   "cell_type": "markdown",
   "id": "d7c7faa2ce65da87",
   "metadata": {},
   "source": [
    "## 9.2 Definição da Função `recomendar_por_cluster`\n",
    "\n",
    "Define a função que implementa a lógica de recomendação por cluster. Ela encontra o cluster do filme de entrada, busca outros filmes no mesmo cluster e os ordena pela coluna 'score' antes de retornar os melhores."
   ]
  },
  {
   "cell_type": "code",
   "execution_count": 73,
   "id": "ab3d69771a50cd6c",
   "metadata": {
    "ExecuteTime": {
     "end_time": "2025-04-29T13:29:26.715266Z",
     "start_time": "2025-04-29T13:29:26.699731Z"
    }
   },
   "outputs": [],
   "source": [
    "def recomendar_por_cluster( titulo, cluster_column_name, data = df, mapping = indices, top_n = 10 ):\n",
    "    \"\"\"\n",
    "    Gera recomendações de filmes do mesmo cluster do filme de entrada.\n",
    "\n",
    "    Ordena os filmes do cluster pelo 'score' (Weighted Rating) se disponível.\n",
    "\n",
    "    Args:\n",
    "        titulo (str): Título do filme base.\n",
    "        cluster_column_name (str): Nome da coluna no DataFrame 'data' que contém\n",
    "                                   os rótulos do cluster a serem usados.\n",
    "        data (pd.DataFrame): DataFrame com 'title', 'score', e a coluna de cluster especificada.\n",
    "        mapping (pd.Series): Mapeamento título -> índice.\n",
    "        top_n (int): Número de recomendações.\n",
    "\n",
    "    Returns:\n",
    "        list: Lista de títulos recomendados, ou str com erro.\n",
    "    \"\"\"\n",
    "    # Verifica se a coluna de cluster especificada existe\n",
    "    if cluster_column_name not in data.columns:\n",
    "        return f\"Erro: Coluna de cluster '{cluster_column_name}' não encontrada no DataFrame.\"\n",
    "    if mapping is None: return \"Erro: Mapeamento 'indices' inválido ou ausente.\"\n",
    "    if not isinstance(\n",
    "            data,\n",
    "            pd.DataFrame ) or 'title' not in data.columns: return f\"Erro: DataFrame 'data' inválido ou sem coluna 'title'.\"\n",
    "\n",
    "    try:\n",
    "        # Encontra o índice do filme de entrada\n",
    "        if titulo not in mapping:\n",
    "            matches = [ t for t in mapping.index if\n",
    "                        isinstance( t, str ) and t.lower().strip() == titulo.lower().strip() ]\n",
    "            if not matches: raise KeyError\n",
    "            actual_title = matches[ 0 ]\n",
    "            idx = mapping[ actual_title ]\n",
    "        else:\n",
    "            idx = mapping[ titulo ]\n",
    "\n",
    "        # Valida o índice\n",
    "        if idx >= len( data ): raise ValueError( f\"Índice {idx} fora dos limites.\" )\n",
    "\n",
    "        # Obtém o cluster do filme de entrada usando a coluna especificada\n",
    "        input_movie_cluster = data.iloc[ idx ][ cluster_column_name ]\n",
    "        input_movie_title = data.iloc[ idx ][ 'title' ]\n",
    "        # Verifica se o cluster é válido (DBSCAN pode ter -1)\n",
    "        if pd.isna( input_movie_cluster ):\n",
    "            return f\"Filme '{input_movie_title}' não possui um rótulo de cluster válido na coluna '{cluster_column_name}'.\"\n",
    "        # Converte para int para o print ficar mais limpo (opcional)\n",
    "        input_movie_cluster = int( input_movie_cluster )\n",
    "\n",
    "        print(\n",
    "                f\"\\nFilme '{input_movie_title}' pertence ao Cluster {input_movie_cluster} (Coluna: '{cluster_column_name}')\" )\n",
    "\n",
    "        # Trata o caso de filme ser ruído no DBSCAN\n",
    "        if input_movie_cluster == -1:\n",
    "            return \"Filme de entrada classificado como ruído (Cluster -1), não é possível recomendar por cluster DBSCAN.\"\n",
    "\n",
    "        # Filtra outros filmes do mesmo cluster\n",
    "        cluster_movies = data[ (data[ cluster_column_name ] == input_movie_cluster) & (data.index != idx) ].copy()\n",
    "\n",
    "        if cluster_movies.empty:\n",
    "            return f\"Nenhum outro filme encontrado no Cluster {input_movie_cluster} ('{cluster_column_name}').\"\n",
    "        else:\n",
    "            print( f\"Encontrados {len( cluster_movies )} outros filmes no Cluster {input_movie_cluster}.\" )\n",
    "\n",
    "        # Ordena por 'score' se a coluna existir e for numérica\n",
    "        if 'score' in cluster_movies.columns and pd.api.types.is_numeric_dtype( cluster_movies[ 'score' ] ):\n",
    "            cluster_movies_sorted = cluster_movies.sort_values( 'score', ascending = False )\n",
    "            print( f\"Ordenando recomendações por 'score' (WR).\" )\n",
    "        else:\n",
    "            cluster_movies_sorted = cluster_movies\n",
    "            print( f\"Aviso: Ordenação padrão (coluna 'score' ausente ou não numérica).\" )\n",
    "\n",
    "        # Seleciona os top_n títulos\n",
    "        recommendations = cluster_movies_sorted[ 'title' ].head( top_n ).tolist()\n",
    "        return recommendations\n",
    "\n",
    "    except KeyError:\n",
    "        suggestion = [ t for t in mapping.index if isinstance( t, str ) and titulo.lower() in t.lower() ][ :5 ]\n",
    "        error_msg = f\"Erro: Filme '{titulo}' não encontrado no dataset.\"\n",
    "        if suggestion: error_msg += f\" Títulos similares: {suggestion}\"\n",
    "        return error_msg\n",
    "    except ValueError as ve:\n",
    "        return f\"Erro de valor ao processar '{titulo}': {ve}\"\n",
    "    except Exception as e:\n",
    "        import traceback\n",
    "        print( f\"Erro inesperado em recomendar_por_cluster para '{titulo}': {type( e ).__name__} - {e}\" )\n",
    "        # traceback.print_exc()\n",
    "        return \"Ocorreu um erro inesperado durante a recomendação por cluster.\"\n",
    "\n"
   ]
  },
  {
   "cell_type": "markdown",
   "id": "8aabf7188464c935",
   "metadata": {},
   "source": [
    "## 9.3 Aplicação da Recomendação por Cluster\n",
    "\n",
    "Executa a função `recomendar_por_cluster` para alguns filmes de exemplo e exibe os resultados. Só executa se a etapa de clustering anterior tiver sido concluída com sucesso (verificado pela existência da coluna `cluster_sbert`)."
   ]
  },
  {
   "cell_type": "code",
   "execution_count": 74,
   "id": "cc15c5a521f72596",
   "metadata": {
    "ExecuteTime": {
     "end_time": "2025-04-29T13:29:26.790340Z",
     "start_time": "2025-04-29T13:29:26.774457Z"
    }
   },
   "outputs": [
    {
     "name": "stdout",
     "output_type": "stream",
     "text": [
      "\n",
      "--- Testando Recomendações por Cluster ---\n",
      "\n",
      "Exemplo 1: Buscando recomendações para 'The Dark Knight Rises'\n",
      "\n",
      "Filme 'The Dark Knight Rises' pertence ao Cluster 9 (Coluna: 'cluster_sbert')\n",
      "Encontrados 935 outros filmes no Cluster 9.\n",
      "Ordenando recomendações por 'score' (WR).\n",
      "\n",
      "Recomendações:\n",
      "  1. Inception\n",
      "  2. The Green Mile\n",
      "  3. Se7en\n",
      "  4. Shutter Island\n",
      "  5. The Silence of the Lambs\n",
      "  6. Memento\n",
      "  7. 12 Angry Men\n",
      "  8. The Usual Suspects\n",
      "  9. Kill Bill: Vol. 1\n",
      "  10. Oldboy\n",
      "\n",
      "Exemplo 2: Buscando recomendações para 'Avengers: Infinity War'\n",
      "\n",
      "Filme 'Avengers: Infinity War' pertence ao Cluster 5 (Coluna: 'cluster_sbert')\n",
      "Encontrados 857 outros filmes no Cluster 5.\n",
      "Ordenando recomendações por 'score' (WR).\n",
      "\n",
      "Recomendações:\n",
      "  1. Interstellar\n",
      "  2. Avengers: Endgame\n",
      "  3. The Empire Strikes Back\n",
      "  4. Back to the Future\n",
      "  5. The Matrix\n",
      "  6. Spider-Man: Into the Spider-Verse\n",
      "  7. Star Wars\n",
      "  8. WALL·E\n",
      "  9. Spider-Man: No Way Home\n",
      "  10. Zack Snyder's Justice League\n"
     ]
    }
   ],
   "source": [
    "print( \"\\n--- Testando Recomendações por Cluster ---\" )\n",
    "\n",
    "# Verifica se é possível recomendar (se o clustering foi feito)\n",
    "if can_recommend_cluster:\n",
    "    filme_exemplo_cluster_1 = \"The Dark Knight Rises\"\n",
    "    print( f\"\\nExemplo 1: Buscando recomendações para '{filme_exemplo_cluster_1}'\" )\n",
    "\n",
    "    recomendacoes_cluster_1 = recomendar_por_cluster(\n",
    "            filme_exemplo_cluster_1, cluster_column_name = \"cluster_sbert\", top_n = 10 )\n",
    "\n",
    "    # Imprime o resultado (lista de filmes ou mensagem de erro)\n",
    "    if isinstance( recomendacoes_cluster_1, list ):\n",
    "        if not recomendacoes_cluster_1:\n",
    "            print( \"Nenhuma recomendação encontrada para este filme.\" )\n",
    "        else:\n",
    "            print( \"\\nRecomendações:\" )\n",
    "            for i, filme in enumerate( recomendacoes_cluster_1 ):\n",
    "                print( f\"  {i + 1}. {filme}\" )\n",
    "    else:\n",
    "        print( recomendacoes_cluster_1 )  # Exibe a mensagem de erro retornada\n",
    "\n",
    "    filme_exemplo_cluster_2 = \"Avengers: Infinity War\"\n",
    "    print( f\"\\nExemplo 2: Buscando recomendações para '{filme_exemplo_cluster_2}'\" )\n",
    "\n",
    "    recomendacoes_cluster_2 = recomendar_por_cluster(\n",
    "            filme_exemplo_cluster_2, cluster_column_name = \"cluster_sbert\", top_n = 10 )\n",
    "\n",
    "    # Imprime o resultado\n",
    "    if isinstance( recomendacoes_cluster_2, list ):\n",
    "        if not recomendacoes_cluster_2:\n",
    "            print( \"Nenhuma recomendação encontrada para este filme.\" )\n",
    "        else:\n",
    "            print( \"\\nRecomendações:\" )\n",
    "            for i, filme in enumerate( recomendacoes_cluster_2 ):\n",
    "                print( f\"  {i + 1}. {filme}\" )\n",
    "    else:\n",
    "        print( recomendacoes_cluster_2 )  # Exibe a mensagem de erro retornada\n",
    "\n",
    "else:\n",
    "    print( \"\\nRecomendação por cluster não pode ser executada (etapa de clustering não concluída ou falhou).\" )"
   ]
  },
  {
   "cell_type": "markdown",
   "id": "18b8b4e8aab5b149",
   "metadata": {},
   "source": [
    "# 10. Clustering com Redução de Dimensionalidade (UMAP + K-Means)\n",
    "\n",
    "Como as tentativas anteriores de clustering diretamente nos embeddings SBERT de alta dimensão\n",
    "(com K-Means e DBSCAN) não produziram resultados conclusivos ou bem separados,\n",
    "exploramos agora uma abordagem combinada:\n",
    "1.  **Redução de Dimensionalidade com UMAP:** Primeiro, usamos UMAP para reduzir\n",
    "a dimensionalidade dos embeddings SBERT (ex: de 768 para 10 dimensões),\n",
    "tentando preservar a estrutura semântica essencial em um espaço menor.\n",
    "2.  **Clustering no Espaço Reduzido:** Em seguida, aplicamos um algoritmo de\n",
    "clustering (voltaremos ao K-Means, que é mais simples de parametrizar que DBSCAN)\n",
    "nos dados de dimensão reduzida gerados pelo UMAP.\n",
    "\n",
    "**Expectativa:** Espera-se que, ao operar em um espaço de dimensão menor e\n",
    "potencialmente mais \"limpo\", o K-Means consiga encontrar clusters mais\n",
    "significativos e que as métricas como Cotovelo e Silhueta possam fornecer\n",
    "indicações mais claras sobre o número ideal de clusters (K)."
   ]
  },
  {
   "cell_type": "markdown",
   "id": "91734d5b-135c-4745-b31a-9fd3a91c652c",
   "metadata": {},
   "source": [
    "## 10.1 Instalação e Importação do UMAP\n",
    "\n",
    "Para usar o UMAP, é necessário instalar a biblioteca `umap-learn`.\n",
    "\n",
    "Importa a classe UMAP e verifica novamente a existência dos embeddings SBERT."
   ]
  },
  {
   "cell_type": "code",
   "execution_count": 85,
   "id": "e2acfebb08a9ae54",
   "metadata": {
    "ExecuteTime": {
     "end_time": "2025-04-29T13:33:31.648054Z",
     "start_time": "2025-04-29T13:33:31.624968Z"
    }
   },
   "outputs": [
    {
     "name": "stdout",
     "output_type": "stream",
     "text": [
      "Biblioteca UMAP importada com sucesso.\n",
      "Verificação: Usando embeddings SBERT com shape: (9987, 768)\n"
     ]
    }
   ],
   "source": [
    "try:\n",
    "    # from umap import UMAP # Forma antiga, pode funcionar em algumas versões\n",
    "    print( \"Biblioteca UMAP importada com sucesso.\" )\n",
    "except ImportError:\n",
    "    print( \"Erro: Biblioteca 'umap-learn' não encontrada.\" )\n",
    "    print( \"Instale com: pip install umap-learn\" )\n",
    "    can_umap = False\n",
    "else:\n",
    "    # Verifica novamente os embeddings SBERT\n",
    "    if 'embeddings_sbert' not in globals() or not isinstance( embeddings_sbert, np.ndarray ):\n",
    "        print( \"Erro: Embeddings SBERT ('embeddings_sbert') não encontrados ou inválidos.\" )\n",
    "        print( \"Execute a seção de SBERT (5) antes de continuar.\" )\n",
    "        can_umap = False\n",
    "    else:\n",
    "        print( f\"Verificação: Usando embeddings SBERT com shape: {embeddings_sbert.shape}\" )\n",
    "        can_umap = True\n",
    "\n",
    "# Importações adicionais para esta seção (podem já ter sido feitas)\n",
    "\n",
    "warnings.filterwarnings( \"ignore\", category = FutureWarning, module = 'sklearn.cluster._kmeans' )\n",
    "warnings.filterwarnings( \"ignore\", category = UserWarning, module = 'sklearn.cluster._kmeans' )\n",
    "\n",
    "# Flag para indicar se UMAP foi executado\n",
    "umap_executed_successfully = False"
   ]
  },
  {
   "cell_type": "markdown",
   "id": "f3e17c3f-ff51-4d0a-b7cf-156d41f8796a",
   "metadata": {},
   "source": [
    "## 10.2 Aplicação do UMAP para Redução de Dimensionalidade\n",
    "\n",
    "Aplica o algoritmo UMAP aos embeddings SBERT originais.\n",
    "\n",
    "Parâmetros importantes:\n",
    " * `n_neighbors`: Controla o equilíbrio entre estrutura local e global (default 15).\n",
    " * `n_components`: O número de dimensões desejado após a redução.\n",
    "      Um valor baixo (ex: 5, 10, 15) é comum para preparar para clustering. Usar 2 permite visualização.\n",
    " * `min_dist`: Controla quão próximos os pontos podem ficar no espaço reduzido (default 0.1).\n",
    " * `metric`: Deve ser 'cosine', pois é a métrica adequada para os embeddings SBERT."
   ]
  },
  {
   "cell_type": "code",
   "execution_count": 88,
   "id": "93238013de8b0eee",
   "metadata": {
    "ExecuteTime": {
     "end_time": "2025-04-29T13:34:24.323826Z",
     "start_time": "2025-04-29T13:34:00.324938Z"
    }
   },
   "outputs": [
    {
     "name": "stdout",
     "output_type": "stream",
     "text": [
      "Configuração UMAP: n_components=10, n_neighbors=15, min_dist=0.1, metric='cosine'\n",
      "Iniciando redução de dimensionalidade com UMAP (pode levar algum tempo)...\n"
     ]
    },
    {
     "name": "stderr",
     "output_type": "stream",
     "text": [
      "/Users/viniciuscandeia/development/Movies/.venv/lib/python3.9/site-packages/sklearn/utils/deprecation.py:151: FutureWarning: 'force_all_finite' was renamed to 'ensure_all_finite' in 1.6 and will be removed in 1.8.\n",
      "  warnings.warn(\n",
      "/Users/viniciuscandeia/development/Movies/.venv/lib/python3.9/site-packages/umap/umap_.py:1952: UserWarning: n_jobs value 1 overridden to 1 by setting random_state. Use no seed for parallelism.\n",
      "  warn(\n"
     ]
    },
    {
     "name": "stdout",
     "output_type": "stream",
     "text": [
      "Redução com UMAP concluída. Shape dos novos embeddings: (9987, 10)\n"
     ]
    }
   ],
   "source": [
    "if can_umap:\n",
    "\n",
    "    # --- Parâmetros do UMAP ---\n",
    "    # Reduzir para um número baixo de dimensões (ex: 5 a 15) pode ajudar o K-Means.\n",
    "    # Começar com 10 é razoável. Se quiser visualizar depois, pode tentar n_components=2.\n",
    "    n_components_umap = 10\n",
    "    # Mantém outros parâmetros comuns como default ou valores recomendados\n",
    "    n_neighbors_umap = 15\n",
    "    min_dist_umap = 0.1\n",
    "\n",
    "    print(\n",
    "            f\"Configuração UMAP: n_components={n_components_umap}, n_neighbors={n_neighbors_umap}, min_dist={min_dist_umap}, metric='cosine'\" )\n",
    "    print( \"Iniciando redução de dimensionalidade com UMAP (pode levar algum tempo)...\" )\n",
    "\n",
    "    try:\n",
    "        # Instancia e aplica o UMAP\n",
    "        umap_reducer = umap.UMAP(\n",
    "                n_neighbors = n_neighbors_umap,\n",
    "                n_components = n_components_umap,\n",
    "                min_dist = min_dist_umap,\n",
    "                metric = 'cosine',\n",
    "                random_state = 42  # Garante reprodutibilidade\n",
    "        )\n",
    "        # Aplica UMAP aos embeddings SBERT originais\n",
    "        embeddings_umap = umap_reducer.fit_transform( embeddings_sbert )\n",
    "\n",
    "        print( f\"Redução com UMAP concluída. Shape dos novos embeddings: {embeddings_umap.shape}\" )\n",
    "        umap_executed_successfully = True\n",
    "\n",
    "    except NameError:\n",
    "        print( \"Erro: Classe UMAP não foi importada corretamente. Verifique a instalação de 'umap-learn'.\" )\n",
    "        umap_executed_successfully = False\n",
    "    except Exception as e:\n",
    "        print( f\"Erro durante a execução do UMAP: {type( e ).__name__} - {e}\" )\n",
    "        umap_executed_successfully = False\n",
    "\n",
    "else:\n",
    "    print( \"\\nNão é possível executar UMAP (embeddings SBERT ausentes).\" )"
   ]
  },
  {
   "cell_type": "markdown",
   "id": "501ce672-cee0-47c4-82bb-04ec4f6e6137",
   "metadata": {},
   "source": [
    "## 10.3 Clustering (K-Means) nos Dados Reduzidos por UMAP\n",
    "\n",
    " Agora que temos os embeddings em dimensão reduzida (`embeddings_umap`),\n",
    " aplicamos novamente o K-Means. Executamos o Método do Cotovelo e a\n",
    " Pontuação de Silhueta **neste novo espaço de baixa dimensão** para tentar\n",
    " obter uma indicação mais clara do número ideal de clusters (K)."
   ]
  },
  {
   "cell_type": "code",
   "execution_count": 89,
   "id": "d9277b748d8c825",
   "metadata": {
    "ExecuteTime": {
     "end_time": "2025-04-29T13:34:27.080816Z",
     "start_time": "2025-04-29T13:34:24.394079Z"
    }
   },
   "outputs": [
    {
     "name": "stdout",
     "output_type": "stream",
     "text": [
      "\n",
      "Executando Método do Cotovelo nos embeddings UMAP...\n",
      "  Testando K=2 (UMAP)...\n",
      "  Testando K=5 (UMAP)...\n",
      "  Testando K=8 (UMAP)...\n",
      "  Testando K=11 (UMAP)...\n",
      "  Testando K=14 (UMAP)...\n",
      "  Testando K=17 (UMAP)...\n",
      "  Testando K=20 (UMAP)...\n",
      "  Testando K=23 (UMAP)...\n",
      "  Testando K=26 (UMAP)...\n",
      "  Testando K=29 (UMAP)...\n",
      "Cálculo da inércia (UMAP) concluído.\n"
     ]
    },
    {
     "data": {
      "image/png": "[encoded data removed]",
      "text/plain": [
       "<Figure size 1000x600 with 1 Axes>"
      ]
     },
     "metadata": {},
     "output_type": "display_data"
    },
    {
     "name": "stdout",
     "output_type": "stream",
     "text": [
      "Analise o gráfico do cotovelo (UMAP) para um K ideal.\n",
      "\n",
      "Executando Pontuação de Silhueta nos embeddings UMAP (pode demorar)...\n",
      "  Testando K=2 para Silhueta (UMAP)...\n",
      "    Calculando score para K=2 (UMAP)...\n",
      "    K=2, Silhouette Score (UMAP)=0.3012\n",
      "  Testando K=3 para Silhueta (UMAP)...\n",
      "    Calculando score para K=3 (UMAP)...\n",
      "    K=3, Silhouette Score (UMAP)=0.3405\n",
      "  Testando K=4 para Silhueta (UMAP)...\n",
      "    Calculando score para K=4 (UMAP)...\n",
      "    K=4, Silhouette Score (UMAP)=0.3078\n",
      "  Testando K=5 para Silhueta (UMAP)...\n",
      "    Calculando score para K=5 (UMAP)...\n",
      "    K=5, Silhouette Score (UMAP)=0.3101\n",
      "  Testando K=6 para Silhueta (UMAP)...\n",
      "    Calculando score para K=6 (UMAP)...\n",
      "    K=6, Silhouette Score (UMAP)=0.2744\n",
      "  Testando K=7 para Silhueta (UMAP)...\n",
      "    Calculando score para K=7 (UMAP)...\n",
      "    K=7, Silhouette Score (UMAP)=0.2930\n",
      "  Testando K=8 para Silhueta (UMAP)...\n",
      "    Calculando score para K=8 (UMAP)...\n",
      "    K=8, Silhouette Score (UMAP)=0.2882\n",
      "  Testando K=9 para Silhueta (UMAP)...\n",
      "    Calculando score para K=9 (UMAP)...\n",
      "    K=9, Silhouette Score (UMAP)=0.3018\n",
      "  Testando K=10 para Silhueta (UMAP)...\n",
      "    Calculando score para K=10 (UMAP)...\n",
      "    K=10, Silhouette Score (UMAP)=0.2819\n",
      "  Testando K=11 para Silhueta (UMAP)...\n",
      "    Calculando score para K=11 (UMAP)...\n",
      "    K=11, Silhouette Score (UMAP)=0.2885\n",
      "  Testando K=12 para Silhueta (UMAP)...\n",
      "    Calculando score para K=12 (UMAP)...\n",
      "    K=12, Silhouette Score (UMAP)=0.2861\n",
      "  Testando K=13 para Silhueta (UMAP)...\n",
      "    Calculando score para K=13 (UMAP)...\n",
      "    K=13, Silhouette Score (UMAP)=0.2703\n",
      "  Testando K=14 para Silhueta (UMAP)...\n",
      "    Calculando score para K=14 (UMAP)...\n",
      "    K=14, Silhouette Score (UMAP)=0.2699\n",
      "  Testando K=15 para Silhueta (UMAP)...\n",
      "    Calculando score para K=15 (UMAP)...\n",
      "    K=15, Silhouette Score (UMAP)=0.2704\n",
      "  Testando K=16 para Silhueta (UMAP)...\n",
      "    Calculando score para K=16 (UMAP)...\n",
      "    K=16, Silhouette Score (UMAP)=0.2520\n",
      "  Testando K=17 para Silhueta (UMAP)...\n",
      "    Calculando score para K=17 (UMAP)...\n",
      "    K=17, Silhouette Score (UMAP)=0.2686\n",
      "  Testando K=18 para Silhueta (UMAP)...\n",
      "    Calculando score para K=18 (UMAP)...\n",
      "    K=18, Silhouette Score (UMAP)=0.2768\n",
      "  Testando K=19 para Silhueta (UMAP)...\n",
      "    Calculando score para K=19 (UMAP)...\n",
      "    K=19, Silhouette Score (UMAP)=0.2759\n",
      "  Testando K=20 para Silhueta (UMAP)...\n",
      "    Calculando score para K=20 (UMAP)...\n",
      "    K=20, Silhouette Score (UMAP)=0.2701\n",
      "Cálculo da pontuação de silhueta (UMAP) concluído.\n"
     ]
    },
    {
     "data": {
      "image/png": "[encoded data removed]",
      "text/plain": [
       "<Figure size 1000x600 with 1 Axes>"
      ]
     },
     "metadata": {},
     "output_type": "display_data"
    },
    {
     "name": "stdout",
     "output_type": "stream",
     "text": [
      "Procure por um pico no gráfico de silhueta (UMAP).\n",
      "\n",
      "Treinando K-Means final (UMAP) com K = 9...\n",
      "Treinamento K-Means final (UMAP) concluído.\n"
     ]
    }
   ],
   "source": [
    "if umap_executed_successfully:\n",
    "\n",
    "    # --- Escolhendo K (Cotovelo) nos dados UMAP ---\n",
    "    print( \"\\nExecutando Método do Cotovelo nos embeddings UMAP...\" )\n",
    "    inertia_umap = [ ]\n",
    "    # Testar um range similar ou ligeiramente diferente de K\n",
    "    k_range_umap = range( 2, 31, 3 )  # Ex: 2 a 30, de 3 em 3\n",
    "\n",
    "    try:\n",
    "        for k in k_range_umap:\n",
    "            print( f\"  Testando K={k} (UMAP)...\" )\n",
    "            kmeans_elbow_umap = KMeans( n_clusters = k, random_state = 42, n_init = 'auto' )\n",
    "            kmeans_elbow_umap.fit( embeddings_umap )\n",
    "            inertia_umap.append( kmeans_elbow_umap.inertia_ )\n",
    "        print( \"Cálculo da inércia (UMAP) concluído.\" )\n",
    "\n",
    "        # Plotar Gráfico do Cotovelo (UMAP)\n",
    "        plt.figure( figsize = (10, 6) )\n",
    "        plt.plot( k_range_umap, inertia_umap, marker = 'o', linestyle = '-' )\n",
    "        plt.title( 'Método do Cotovelo (Após UMAP)' )\n",
    "        plt.xlabel( 'Número de Clusters (K)' )\n",
    "        plt.ylabel( 'Inércia (WSS)' )\n",
    "        plt.xticks( k_range_umap )\n",
    "        plt.grid( True )\n",
    "        plt.show()\n",
    "        print( \"Analise o gráfico do cotovelo (UMAP) para um K ideal.\" )\n",
    "\n",
    "    except Exception as e:\n",
    "        print( f\"\\nErro no Método do Cotovelo (UMAP): {e}\" )\n",
    "\n",
    "    # --- Escolhendo K (Silhueta) nos dados UMAP (Opcional) ---\n",
    "    print( \"\\nExecutando Pontuação de Silhueta nos embeddings UMAP (pode demorar)...\" )\n",
    "    silhouette_scores_umap = [ ]\n",
    "    # Range menor para K\n",
    "    k_range_silhouette_umap = range( 2, 21, 1 )  # Ex: 2 a 20, de 3 em 3\n",
    "\n",
    "    try:\n",
    "        for k in k_range_silhouette_umap:\n",
    "            print( f\"  Testando K={k} para Silhueta (UMAP)...\" )\n",
    "            kmeans_silhouette_umap = KMeans( n_clusters = k, random_state = 42, n_init = 'auto' )\n",
    "            cluster_labels_temp_umap = kmeans_silhouette_umap.fit_predict(\n",
    "                    embeddings_umap )\n",
    "            print( f\"    Calculando score para K={k} (UMAP)...\" )\n",
    "            # Usar métrica padrão 'euclidean' no espaço reduzido é comum, mas 'cosine' ainda pode ser usada\n",
    "            score_umap = silhouette_score(\n",
    "                    embeddings_umap, cluster_labels_temp_umap, metric = 'euclidean', sample_size = 2000,\n",
    "                    random_state = 42 )\n",
    "            silhouette_scores_umap.append( score_umap )\n",
    "            print( f\"    K={k}, Silhouette Score (UMAP)={score_umap:.4f}\" )\n",
    "        print( \"Cálculo da pontuação de silhueta (UMAP) concluído.\" )\n",
    "\n",
    "        # Plotar Gráfico da Silhueta (UMAP)\n",
    "        plt.figure( figsize = (10, 6) )\n",
    "        plt.plot( k_range_silhouette_umap, silhouette_scores_umap, marker = 'o', linestyle = '-' )\n",
    "        plt.title( 'Pontuação Média de Silhueta (Após UMAP)' )\n",
    "        plt.xlabel( 'Número de Clusters (K)' )\n",
    "        plt.ylabel( 'Silhouette Score Médio (Métrica Euclidiana)' )  # Ou Cosseno se usou essa\n",
    "        plt.xticks( k_range_silhouette_umap )\n",
    "        plt.grid( True )\n",
    "        plt.show()\n",
    "        print( \"Procure por um pico no gráfico de silhueta (UMAP).\" )\n",
    "\n",
    "    except Exception as e:\n",
    "        print( f\"\\nErro na Pontuação de Silhueta (UMAP): {e}\" )\n",
    "\n",
    "    # --- Treinamento Final do K-Means (UMAP) ---\n",
    "    K_ESCOLHIDO_UMAP = 9\n",
    "    print( f\"\\nTreinando K-Means final (UMAP) com K = {K_ESCOLHIDO_UMAP}...\" )\n",
    "    clusters_generated_umap = False\n",
    "    try:\n",
    "        kmeans_umap = KMeans( n_clusters = K_ESCOLHIDO_UMAP, random_state = 42, n_init = 'auto' )\n",
    "        # Treina o modelo com os embeddings UMAP\n",
    "        kmeans_umap_labels = kmeans_umap.fit_predict( embeddings_umap )\n",
    "        print( \"Treinamento K-Means final (UMAP) concluído.\" )\n",
    "        clusters_generated_umap = True\n",
    "    except Exception as e:\n",
    "        print( f\"\\nErro ao treinar o K-Means final (UMAP): {e}\" )\n",
    "\n",
    "else:\n",
    "    print( \"\\nNão é possível executar Clustering (UMAP não executado).\" )\n",
    "    clusters_generated_umap = False"
   ]
  },
  {
   "cell_type": "markdown",
   "id": "d6b7cd13-ff48-44e0-97ae-662df16d93ec",
   "metadata": {},
   "source": [
    "## 10.4 Análise dos Clusters (UMAP + K-Means)\n",
    "\n",
    " Obtém os rótulos de cluster atribuídos pelo K-Means nos dados reduzidos\n",
    " por UMAP. Adiciona esses novos rótulos ao DataFrame (`df`) e analisa a\n",
    " distribuição e o conteúdo (títulos de exemplo) dos clusters formados\n",
    " por esta nova abordagem combinada."
   ]
  },
  {
   "cell_type": "code",
   "execution_count": 90,
   "id": "1192ad71bc374732",
   "metadata": {
    "ExecuteTime": {
     "end_time": "2025-04-29T13:34:27.175974Z",
     "start_time": "2025-04-29T13:34:27.148513Z"
    }
   },
   "outputs": [
    {
     "name": "stdout",
     "output_type": "stream",
     "text": [
      "\n",
      "--- 10.4 Análise dos Clusters (UMAP + K-Means) ---\n",
      "Coluna 'cluster_umap_kmeans' adicionada ao DataFrame 'df'.\n",
      "\n",
      "Distribuição de filmes por cluster (UMAP + K-Means):\n",
      "cluster_umap_kmeans\n",
      "0     928\n",
      "1    1644\n",
      "2    1018\n",
      "3    1329\n",
      "4    1186\n",
      "5     541\n",
      "6     773\n",
      "7    1782\n",
      "8     786\n",
      "Name: count, dtype: int64\n",
      "\n",
      "Exemplos de títulos por cluster (UMAP + K-Means):\n",
      "\n",
      "--- Cluster 0 (UMAP+KMeans) ---\n",
      "  - Dilwale Dulhania Le Jayenge\n",
      "  - Hotarubi no Mori e\n",
      "  - Howl's Moving Castle\n",
      "  - Wolfwalkers\n",
      "  - Dedicated to my ex\n",
      "\n",
      "--- Cluster 1 (UMAP+KMeans) ---\n",
      "  - The Shawshank Redemption\n",
      "  - The Godfather\n",
      "  - The Godfather: Part II\n",
      "  - 12 Angry Men\n",
      "  - The Green Mile\n",
      "\n",
      "--- Cluster 2 (UMAP+KMeans) ---\n",
      "  - Forrest Gump\n",
      "  - Cinema Paradiso\n",
      "  - Fight Club\n",
      "  - Sunset Boulevard\n",
      "  - Whiplash\n",
      "\n",
      "--- Cluster 4 (UMAP+KMeans) ---\n",
      "  - The Dark Knight\n",
      "  - Spider-Man: Into the Spider-Verse\n",
      "  - The Empire Strikes Back\n",
      "  - Primal: Tales of Savagery\n",
      "  - Interstellar\n",
      "\n",
      "--- Cluster 8 (UMAP+KMeans) ---\n",
      "  - Schindler's List\n",
      "  - The Good, the Bad and the Ugly\n",
      "  - Violet Evergarden: The Movie\n",
      "  - Life Is Beautiful\n",
      "  - The Pianist\n",
      "\n",
      "--- Clustering com UMAP + K-Means Concluído ---\n"
     ]
    }
   ],
   "source": [
    "if clusters_generated_umap:\n",
    "    print( \"\\n--- 10.4 Análise dos Clusters (UMAP + K-Means) ---\" )\n",
    "\n",
    "    # Adiciona os novos rótulos ao DataFrame principal\n",
    "    df[ 'cluster_umap_kmeans' ] = kmeans_umap_labels\n",
    "    print( f\"Coluna 'cluster_umap_kmeans' adicionada ao DataFrame 'df'.\" )\n",
    "\n",
    "    # Analisa a distribuição\n",
    "    print( \"\\nDistribuição de filmes por cluster (UMAP + K-Means):\" )\n",
    "    print( df[ 'cluster_umap_kmeans' ].value_counts().sort_index() )\n",
    "\n",
    "    # Mostra exemplos de títulos para alguns clusters\n",
    "    print( \"\\nExemplos de títulos por cluster (UMAP + K-Means):\" )\n",
    "\n",
    "    clusters_para_inspecionar_umap = list( range( min( 3, K_ESCOLHIDO_UMAP ) ) )  # Primeiros 3\n",
    "\n",
    "    # Agora podemos usar .append() na lista\n",
    "    if K_ESCOLHIDO_UMAP > 5: clusters_para_inspecionar_umap.append( K_ESCOLHIDO_UMAP // 2 )  # Meio\n",
    "    if K_ESCOLHIDO_UMAP > 1: clusters_para_inspecionar_umap.append( K_ESCOLHIDO_UMAP - 1 )  # Último\n",
    "    # Remove duplicatas (caso K seja pequeno e os índices coincidam) e ordena\n",
    "    clusters_para_inspecionar_umap = sorted( list( set( clusters_para_inspecionar_umap ) ) )\n",
    "\n",
    "    # Itera sobre a lista final de clusters a inspecionar\n",
    "    for cluster_num in clusters_para_inspecionar_umap:\n",
    "        # Verifica se o número do cluster é válido (importante se K_ESCOLHIDO_UMAP for 0 ou 1)\n",
    "        if cluster_num < K_ESCOLHIDO_UMAP and cluster_num >= 0:\n",
    "            print( f\"\\n--- Cluster {cluster_num} (UMAP+KMeans) ---\" )\n",
    "            filmes_no_cluster = df[ df[ 'cluster_umap_kmeans' ] == cluster_num ][ 'title' ].head( 5 ).tolist()\n",
    "            if filmes_no_cluster:\n",
    "                for titulo_filme in filmes_no_cluster: print( f\"  - {titulo_filme}\" )\n",
    "            else:\n",
    "                print( \"  (Cluster vazio ou não encontrado)\" )\n",
    "        else:\n",
    "            print( f\"Aviso: Tentando inspecionar cluster inválido {cluster_num} para K={K_ESCOLHIDO_UMAP}\" )\n",
    "\n",
    "    print( \"\\n--- Clustering com UMAP + K-Means Concluído ---\" )\n",
    "\n",
    "else:\n",
    "    print( \"\\nAnálise de clusters (UMAP + K-Means) não pode ser realizada.\" )"
   ]
  },
  {
   "cell_type": "markdown",
   "id": "712c331d-0cc8-455f-98af-96a39b368f3c",
   "metadata": {},
   "source": [
    "# 11. Testes dos modelos"
   ]
  },
  {
   "cell_type": "markdown",
   "id": "fee1213d-84e0-4720-b5fb-4c80e7cb8a04",
   "metadata": {},
   "source": [
    "## 11.1. Testando todos os modelos para um filme específico"
   ]
  },
  {
   "cell_type": "code",
   "execution_count": 91,
   "id": "24873980c88a70a7",
   "metadata": {
    "ExecuteTime": {
     "end_time": "2025-04-29T13:34:27.283257Z",
     "start_time": "2025-04-29T13:34:27.259913Z"
    }
   },
   "outputs": [],
   "source": [
    "def mostrar_recomendacoes_todas(\n",
    "        titulo, top_n = 7, data = df, mapping = indices,\n",
    "        sim_bow = cosine_sim_bow,\n",
    "        sim_tfidf = cosine_sim_tfidf,\n",
    "        sim_sbert = cosine_sim_sbert,\n",
    "        cluster_col_sbert = 'cluster_sbert',\n",
    "        cluster_col_umap = 'cluster_umap_kmeans' ):\n",
    "    \"\"\"\n",
    "    Executa e exibe recomendações para um dado filme usando todos os métodos implementados.\n",
    "\n",
    "    Args:\n",
    "        titulo (str): Título do filme para buscar recomendações.\n",
    "        top_n (int): Número de recomendações a exibir por método.\n",
    "        data (pd.DataFrame): DataFrame principal.\n",
    "        mapping (pd.Series): Mapeamento título -> índice.\n",
    "        sim_bow, sim_tfidf, sim_sbert (np.array or None): Matrizes de similaridade.\n",
    "        cluster_col_sbert (str): Nome da coluna de cluster SBERT+KMeans.\n",
    "        cluster_col_umap (str): Nome da coluna de cluster UMAP+KMeans.\n",
    "    \"\"\"\n",
    "    print( f\"======================================================\" )\n",
    "    print( f\" MOSTRANDO RECOMENDAÇÕES PARA: '{titulo}' (Top {top_n})\" )\n",
    "    print( f\"======================================================\" )\n",
    "\n",
    "    # --- Similaridade BoW ---\n",
    "    print( f\"\\n--- MÉTODO: Similaridade BoW ---\" )\n",
    "    recs = recommend_by_synopsis( titulo, cosine_sim_matrix = sim_bow, data = data, mapping = mapping, top_n = top_n )\n",
    "    if isinstance( recs, list ):\n",
    "        if not recs:\n",
    "            print( \"Nenhuma recomendação encontrada.\" )\n",
    "        else:\n",
    "            for i, (filme, score) in enumerate( recs ): print( f\"{i + 1}. {filme} (Similaridade: {score:.3f})\" )\n",
    "    else:\n",
    "        print( recs )  # Mensagem de erro\n",
    "\n",
    "    # --- Similaridade TF-IDF ---\n",
    "    print( f\"\\n--- MÉTODO: Similaridade TF-IDF ---\" )\n",
    "    recs = recommend_by_synopsis( titulo, cosine_sim_matrix = sim_tfidf, data = data, mapping = mapping, top_n = top_n )\n",
    "    if isinstance( recs, list ):\n",
    "        if not recs:\n",
    "            print( \"Nenhuma recomendação encontrada.\" )\n",
    "        else:\n",
    "            for i, (filme, score) in enumerate( recs ): print( f\"{i + 1}. {filme} (Similaridade: {score:.3f})\" )\n",
    "    else:\n",
    "        print( recs )\n",
    "\n",
    "    # --- Similaridade SBERT ---\n",
    "    print( f\"\\n--- MÉTODO: Similaridade Semântica SBERT ---\" )\n",
    "    recs = recommend_by_synopsis( titulo, cosine_sim_matrix = sim_sbert, data = data, mapping = mapping, top_n = top_n )\n",
    "    if isinstance( recs, list ):\n",
    "        if not recs:\n",
    "            print( \"Nenhuma recomendação encontrada.\" )\n",
    "        else:\n",
    "            for i, (filme, score) in enumerate( recs ): print(\n",
    "                    f\"{i + 1}. {filme} (Similaridade Semântica: {score:.3f})\" )\n",
    "    else:\n",
    "        print( recs )\n",
    "\n",
    "    # --- Cluster SBERT+KMeans ---\n",
    "    print( f\"\\n--- MÉTODO: Cluster SBERT + KMeans (Coluna: '{cluster_col_sbert}') ---\" )\n",
    "    # Usa a função modificada 'recomendar_por_cluster'\n",
    "    recs = recomendar_por_cluster(\n",
    "            titulo, cluster_column_name = cluster_col_sbert, data = data, mapping = mapping, top_n = top_n )\n",
    "    if isinstance( recs, list ):\n",
    "        if not recs:\n",
    "            print( \"Nenhuma recomendação encontrada.\" )\n",
    "        else:\n",
    "            print( \"(Ordenado por 'score' WR, se disponível)\" )\n",
    "            for i, filme in enumerate( recs ): print( f\"{i + 1}. {filme}\" )\n",
    "    else:\n",
    "        print( recs )\n",
    "\n",
    "    # --- Cluster UMAP+KMeans ---\n",
    "    print( f\"\\n--- MÉTODO: Cluster UMAP + KMeans (Coluna: '{cluster_col_umap}') ---\" )\n",
    "    # Usa a função modificada 'recomendar_por_cluster'\n",
    "    recs = recomendar_por_cluster(\n",
    "            titulo, cluster_column_name = cluster_col_umap, data = data, mapping = mapping, top_n = top_n )\n",
    "    if isinstance( recs, list ):\n",
    "        if not recs:\n",
    "            print( \"Nenhuma recomendação encontrada.\" )\n",
    "        else:\n",
    "            print( \"(Ordenado por 'score' WR, se disponível)\" )\n",
    "            for i, filme in enumerate( recs ): print( f\"{i + 1}. {filme}\" )\n",
    "    else:\n",
    "        print( recs )\n",
    "\n",
    "    print( f\"\\n======================================================\" )"
   ]
  },
  {
   "cell_type": "code",
   "execution_count": 102,
   "id": "fa9cc0f0ad632d57",
   "metadata": {
    "ExecuteTime": {
     "end_time": "2025-04-29T14:01:31.799563Z",
     "start_time": "2025-04-29T14:01:31.748944Z"
    }
   },
   "outputs": [
    {
     "name": "stdout",
     "output_type": "stream",
     "text": [
      "======================================================\n",
      " MOSTRANDO RECOMENDAÇÕES PARA: 'The Matrix' (Top 5)\n",
      "======================================================\n",
      "\n",
      "--- MÉTODO: Similaridade BoW ---\n",
      "1. Timeline (Similaridade: 0.293)\n",
      "2. Battlestar Galactica: Razor (Similaridade: 0.282)\n",
      "3. Equals (Similaridade: 0.276)\n",
      "4. Supergirl (Similaridade: 0.265)\n",
      "5. Dead Rising: Watchtower (Similaridade: 0.263)\n",
      "\n",
      "--- MÉTODO: Similaridade TF-IDF ---\n",
      "1. Hackers (Similaridade: 0.199)\n",
      "2. Pulse (Similaridade: 0.197)\n",
      "3. The Animatrix (Similaridade: 0.190)\n",
      "4. Commando (Similaridade: 0.184)\n",
      "5. Who Am I (Similaridade: 0.180)\n",
      "\n",
      "--- MÉTODO: Similaridade Semântica SBERT ---\n",
      "1. The Animatrix (Similaridade Semântica: 0.652)\n",
      "2. Commando (Similaridade Semântica: 0.641)\n",
      "3. The 6th Day (Similaridade Semântica: 0.625)\n",
      "4. The Matrix Resurrections (Similaridade Semântica: 0.611)\n",
      "5. The Osiris Child (Similaridade Semântica: 0.592)\n",
      "\n",
      "--- MÉTODO: Cluster SBERT + KMeans (Coluna: 'cluster_sbert') ---\n",
      "\n",
      "Filme 'The Matrix' pertence ao Cluster 5 (Coluna: 'cluster_sbert')\n",
      "Encontrados 857 outros filmes no Cluster 5.\n",
      "Ordenando recomendações por 'score' (WR).\n",
      "(Ordenado por 'score' WR, se disponível)\n",
      "1. Interstellar\n",
      "2. Avengers: Infinity War\n",
      "3. Avengers: Endgame\n",
      "4. The Empire Strikes Back\n",
      "5. Back to the Future\n",
      "\n",
      "--- MÉTODO: Cluster UMAP + KMeans (Coluna: 'cluster_umap_kmeans') ---\n",
      "\n",
      "Filme 'The Matrix' pertence ao Cluster 4 (Coluna: 'cluster_umap_kmeans')\n",
      "Encontrados 1185 outros filmes no Cluster 4.\n",
      "Ordenando recomendações por 'score' (WR).\n",
      "(Ordenado por 'score' WR, se disponível)\n",
      "1. The Dark Knight\n",
      "2. Interstellar\n",
      "3. Avengers: Infinity War\n",
      "4. Avengers: Endgame\n",
      "5. The Empire Strikes Back\n",
      "\n",
      "======================================================\n"
     ]
    }
   ],
   "source": [
    "# --- Teste Final ---\n",
    "# Escolha o filme aqui\n",
    "# filme_para_testar = \"Toy Story\"\n",
    "# filme_para_testar = \"The Dark Knight Rises\"\n",
    "filme_para_testar = \"The Matrix\"\n",
    "# filme_para_testar = \"Forrest Gump\"\n",
    "\n",
    "# Chama a função unificada\n",
    "# Garante que todas as matrizes de similaridade e colunas de cluster existam\n",
    "# A função interna fará as checagens, mas podemos adicionar verificações aqui se necessário\n",
    "mostrar_recomendacoes_todas(\n",
    "        filme_para_testar,\n",
    "        top_n = 5,  # Define quantas recomendações por método\n",
    "        sim_bow = cosine_sim_bow if 'cosine_sim_bow' in globals() else None,\n",
    "        sim_tfidf = cosine_sim_tfidf if 'cosine_sim_tfidf' in globals() else None,\n",
    "        sim_sbert = cosine_sim_sbert if 'cosine_sim_sbert' in globals() else None,\n",
    "        cluster_col_sbert = 'cluster_sbert',\n",
    "        cluster_col_umap = 'cluster_umap_kmeans'\n",
    ")"
   ]
  }
 ],
 "metadata": {
  "kernelspec": {
   "display_name": "Python 3 (ipykernel)",
   "language": "python",
   "name": "python3"
  },
  "language_info": {
   "codemirror_mode": {
    "name": "ipython",
    "version": 3
   },
   "file_extension": ".py",
   "mimetype": "text/x-python",
   "name": "python",
   "nbconvert_exporter": "python",
   "pygments_lexer": "ipython3",
   "version": "3.12.7"
  }
 },
 "nbformat": 4,
 "nbformat_minor": 5
}
