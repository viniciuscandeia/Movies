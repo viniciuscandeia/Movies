{
 "cells": [
  {
   "metadata": {},
   "cell_type": "markdown",
   "source": [
    "# Instalação\n",
    "\n",
    "Libs necessárias: pip install -r requirements.txt"
   ],
   "id": "b83385d9bb7d72bb"
  },
  {
   "metadata": {
    "ExecuteTime": {
     "end_time": "2025-04-27T16:21:05.755787Z",
     "start_time": "2025-04-27T16:21:05.743588Z"
    }
   },
   "cell_type": "code",
   "source": [
    "import pandas as pd\n",
    "from sklearn.feature_extraction.text import CountVectorizer\n",
    "from sklearn.metrics.pairwise import cosine_similarity\n",
    "from sklearn.feature_extraction.text import TfidfVectorizer\n",
    "from sentence_transformers import SentenceTransformer\n",
    "import numpy as np\n",
    "import os\n",
    "from sklearn.cluster import KMeans\n",
    "import matplotlib.pyplot as plt\n",
    "from sklearn.metrics import silhouette_score\n",
    "import warnings"
   ],
   "id": "28b0ffd188c91980",
   "outputs": [],
   "execution_count": 105
  },
  {
   "metadata": {},
   "cell_type": "markdown",
   "source": "# 0. Lendo o arquivo",
   "id": "9a27f7681ed03b50"
  },
  {
   "metadata": {
    "collapsed": true,
    "ExecuteTime": {
     "end_time": "2025-04-27T16:21:05.873500Z",
     "start_time": "2025-04-27T16:21:05.769891Z"
    }
   },
   "cell_type": "code",
   "source": [
    "df = pd.read_csv( 'dataset/top10K-TMDB-movies.csv' )\n",
    "df.shape"
   ],
   "id": "initial_id",
   "outputs": [
    {
     "data": {
      "text/plain": [
       "(10000, 9)"
      ]
     },
     "execution_count": 106,
     "metadata": {},
     "output_type": "execute_result"
    }
   ],
   "execution_count": 106
  },
  {
   "metadata": {},
   "cell_type": "markdown",
   "source": "# 1. Pré-processamento da base de dados",
   "id": "dfdfb22f00406a0f"
  },
  {
   "metadata": {},
   "cell_type": "markdown",
   "source": "## 1.1 Valores Ausentes",
   "id": "4b44636f61dfebc9"
  },
  {
   "metadata": {},
   "cell_type": "markdown",
   "source": [
    "### 1.1.1 Ver se há algum valor ausente no DataFrame\n",
    "\n",
    "Retorna `True` se houver pelo menos um valor ausente."
   ],
   "id": "2ac0c8a788caebe5"
  },
  {
   "metadata": {
    "ExecuteTime": {
     "end_time": "2025-04-27T16:21:05.941219Z",
     "start_time": "2025-04-27T16:21:05.928092Z"
    }
   },
   "cell_type": "code",
   "source": "df.isnull().values.any()",
   "id": "776ef1ff1d811288",
   "outputs": [
    {
     "data": {
      "text/plain": [
       "np.True_"
      ]
     },
     "execution_count": 107,
     "metadata": {},
     "output_type": "execute_result"
    }
   ],
   "execution_count": 107
  },
  {
   "metadata": {},
   "cell_type": "markdown",
   "source": "### 1.1.2 Contar quantos valores ausentes há em cada coluna",
   "id": "357915e0197a8f09"
  },
  {
   "metadata": {
    "ExecuteTime": {
     "end_time": "2025-04-27T16:21:05.987117Z",
     "start_time": "2025-04-27T16:21:05.974176Z"
    }
   },
   "cell_type": "code",
   "source": "df.isnull().sum()",
   "id": "4c5118821de64f19",
   "outputs": [
    {
     "data": {
      "text/plain": [
       "id                    0\n",
       "title                 0\n",
       "genre                 3\n",
       "original_language     0\n",
       "overview             13\n",
       "popularity            0\n",
       "release_date          0\n",
       "vote_average          0\n",
       "vote_count            0\n",
       "dtype: int64"
      ]
     },
     "execution_count": 108,
     "metadata": {},
     "output_type": "execute_result"
    }
   ],
   "execution_count": 108
  },
  {
   "metadata": {},
   "cell_type": "markdown",
   "source": "### 1.1.3 Exibir linhas que possuem valores ausentes",
   "id": "7081c8c760a2990d"
  },
  {
   "metadata": {
    "ExecuteTime": {
     "end_time": "2025-04-27T16:21:06.105647Z",
     "start_time": "2025-04-27T16:21:06.078318Z"
    }
   },
   "cell_type": "code",
   "source": "df[ df.isnull().any( axis = 1 ) ]",
   "id": "6ae238bb70784fdd",
   "outputs": [
    {
     "data": {
      "text/plain": [
       "          id                                      title           genre  \\\n",
       "3361   50472                       Anplagghed al cinema             NaN   \n",
       "4150   38537                               Nati stanchi          Comedy   \n",
       "6973   31359                      Would I Lie to You? 2          Comedy   \n",
       "7821   43211                          7 Kilos in 7 Days             NaN   \n",
       "7941    2029                                     Tanguy          Comedy   \n",
       "8518   57114                    Amore, bugie e calcetto             NaN   \n",
       "9293   17413                                  Incognito          Comedy   \n",
       "9440  516043                            Arrivano i prof          Comedy   \n",
       "9620  154512                           Lightning Strike          Comedy   \n",
       "9792   42426  A spasso nel tempo - L'avventura continua  Comedy,Fantasy   \n",
       "9825   77000                                  Bar Sport   Comedy,Family   \n",
       "9889   42436                         Natale in crociera          Comedy   \n",
       "9915   57216                          A Natale mi sposo          Comedy   \n",
       "9922  408238           The New Adventures of Cinderella          Comedy   \n",
       "9989  244514                           Colpi di fortuna          Comedy   \n",
       "\n",
       "     original_language                                           overview  \\\n",
       "3361                it  A queue at the ATM machine, a displaced family...   \n",
       "4150                it                                                NaN   \n",
       "6973                fr                                                NaN   \n",
       "7821                it  Two not very clever young doctors open a fitne...   \n",
       "7941                fr                                                NaN   \n",
       "8518                en                                                NaN   \n",
       "9293                fr                                                NaN   \n",
       "9440                it                                                NaN   \n",
       "9620                it                                                NaN   \n",
       "9792                it                                                NaN   \n",
       "9825                it                                                NaN   \n",
       "9889                it                                                NaN   \n",
       "9915                it                                                NaN   \n",
       "9922                fr                                                NaN   \n",
       "9989                it                                                NaN   \n",
       "\n",
       "      popularity release_date  vote_average  vote_count  \n",
       "3361       4.420   2006-11-26           7.0         313  \n",
       "4150       5.671   2002-03-01           6.8         211  \n",
       "6973       4.741   2001-02-07           6.2         325  \n",
       "7821       5.885   1986-02-02           6.0         212  \n",
       "7941       5.449   2001-11-21           6.0         387  \n",
       "8518       4.709   2008-04-04           5.8         200  \n",
       "9293       5.602   2009-04-28           5.5         213  \n",
       "9440       6.558   2018-05-01           5.4         337  \n",
       "9620       4.070   2012-12-13           5.3         216  \n",
       "9792       5.020   1997-12-11           5.1         209  \n",
       "9825       4.123   2011-10-21           5.0         205  \n",
       "9889       5.330   2007-12-14           4.9         364  \n",
       "9915       4.349   2010-11-26           4.9         202  \n",
       "9922       7.102   2017-10-18           4.8         227  \n",
       "9989       5.821   2013-12-21           4.7         214  "
      ],
      "text/html": [
       "<div>\n",
       "<style scoped>\n",
       "    .dataframe tbody tr th:only-of-type {\n",
       "        vertical-align: middle;\n",
       "    }\n",
       "\n",
       "    .dataframe tbody tr th {\n",
       "        vertical-align: top;\n",
       "    }\n",
       "\n",
       "    .dataframe thead th {\n",
       "        text-align: right;\n",
       "    }\n",
       "</style>\n",
       "<table border=\"1\" class=\"dataframe\">\n",
       "  <thead>\n",
       "    <tr style=\"text-align: right;\">\n",
       "      <th></th>\n",
       "      <th>id</th>\n",
       "      <th>title</th>\n",
       "      <th>genre</th>\n",
       "      <th>original_language</th>\n",
       "      <th>overview</th>\n",
       "      <th>popularity</th>\n",
       "      <th>release_date</th>\n",
       "      <th>vote_average</th>\n",
       "      <th>vote_count</th>\n",
       "    </tr>\n",
       "  </thead>\n",
       "  <tbody>\n",
       "    <tr>\n",
       "      <th>3361</th>\n",
       "      <td>50472</td>\n",
       "      <td>Anplagghed al cinema</td>\n",
       "      <td>NaN</td>\n",
       "      <td>it</td>\n",
       "      <td>A queue at the ATM machine, a displaced family...</td>\n",
       "      <td>4.420</td>\n",
       "      <td>2006-11-26</td>\n",
       "      <td>7.0</td>\n",
       "      <td>313</td>\n",
       "    </tr>\n",
       "    <tr>\n",
       "      <th>4150</th>\n",
       "      <td>38537</td>\n",
       "      <td>Nati stanchi</td>\n",
       "      <td>Comedy</td>\n",
       "      <td>it</td>\n",
       "      <td>NaN</td>\n",
       "      <td>5.671</td>\n",
       "      <td>2002-03-01</td>\n",
       "      <td>6.8</td>\n",
       "      <td>211</td>\n",
       "    </tr>\n",
       "    <tr>\n",
       "      <th>6973</th>\n",
       "      <td>31359</td>\n",
       "      <td>Would I Lie to You? 2</td>\n",
       "      <td>Comedy</td>\n",
       "      <td>fr</td>\n",
       "      <td>NaN</td>\n",
       "      <td>4.741</td>\n",
       "      <td>2001-02-07</td>\n",
       "      <td>6.2</td>\n",
       "      <td>325</td>\n",
       "    </tr>\n",
       "    <tr>\n",
       "      <th>7821</th>\n",
       "      <td>43211</td>\n",
       "      <td>7 Kilos in 7 Days</td>\n",
       "      <td>NaN</td>\n",
       "      <td>it</td>\n",
       "      <td>Two not very clever young doctors open a fitne...</td>\n",
       "      <td>5.885</td>\n",
       "      <td>1986-02-02</td>\n",
       "      <td>6.0</td>\n",
       "      <td>212</td>\n",
       "    </tr>\n",
       "    <tr>\n",
       "      <th>7941</th>\n",
       "      <td>2029</td>\n",
       "      <td>Tanguy</td>\n",
       "      <td>Comedy</td>\n",
       "      <td>fr</td>\n",
       "      <td>NaN</td>\n",
       "      <td>5.449</td>\n",
       "      <td>2001-11-21</td>\n",
       "      <td>6.0</td>\n",
       "      <td>387</td>\n",
       "    </tr>\n",
       "    <tr>\n",
       "      <th>8518</th>\n",
       "      <td>57114</td>\n",
       "      <td>Amore, bugie e calcetto</td>\n",
       "      <td>NaN</td>\n",
       "      <td>en</td>\n",
       "      <td>NaN</td>\n",
       "      <td>4.709</td>\n",
       "      <td>2008-04-04</td>\n",
       "      <td>5.8</td>\n",
       "      <td>200</td>\n",
       "    </tr>\n",
       "    <tr>\n",
       "      <th>9293</th>\n",
       "      <td>17413</td>\n",
       "      <td>Incognito</td>\n",
       "      <td>Comedy</td>\n",
       "      <td>fr</td>\n",
       "      <td>NaN</td>\n",
       "      <td>5.602</td>\n",
       "      <td>2009-04-28</td>\n",
       "      <td>5.5</td>\n",
       "      <td>213</td>\n",
       "    </tr>\n",
       "    <tr>\n",
       "      <th>9440</th>\n",
       "      <td>516043</td>\n",
       "      <td>Arrivano i prof</td>\n",
       "      <td>Comedy</td>\n",
       "      <td>it</td>\n",
       "      <td>NaN</td>\n",
       "      <td>6.558</td>\n",
       "      <td>2018-05-01</td>\n",
       "      <td>5.4</td>\n",
       "      <td>337</td>\n",
       "    </tr>\n",
       "    <tr>\n",
       "      <th>9620</th>\n",
       "      <td>154512</td>\n",
       "      <td>Lightning Strike</td>\n",
       "      <td>Comedy</td>\n",
       "      <td>it</td>\n",
       "      <td>NaN</td>\n",
       "      <td>4.070</td>\n",
       "      <td>2012-12-13</td>\n",
       "      <td>5.3</td>\n",
       "      <td>216</td>\n",
       "    </tr>\n",
       "    <tr>\n",
       "      <th>9792</th>\n",
       "      <td>42426</td>\n",
       "      <td>A spasso nel tempo - L'avventura continua</td>\n",
       "      <td>Comedy,Fantasy</td>\n",
       "      <td>it</td>\n",
       "      <td>NaN</td>\n",
       "      <td>5.020</td>\n",
       "      <td>1997-12-11</td>\n",
       "      <td>5.1</td>\n",
       "      <td>209</td>\n",
       "    </tr>\n",
       "    <tr>\n",
       "      <th>9825</th>\n",
       "      <td>77000</td>\n",
       "      <td>Bar Sport</td>\n",
       "      <td>Comedy,Family</td>\n",
       "      <td>it</td>\n",
       "      <td>NaN</td>\n",
       "      <td>4.123</td>\n",
       "      <td>2011-10-21</td>\n",
       "      <td>5.0</td>\n",
       "      <td>205</td>\n",
       "    </tr>\n",
       "    <tr>\n",
       "      <th>9889</th>\n",
       "      <td>42436</td>\n",
       "      <td>Natale in crociera</td>\n",
       "      <td>Comedy</td>\n",
       "      <td>it</td>\n",
       "      <td>NaN</td>\n",
       "      <td>5.330</td>\n",
       "      <td>2007-12-14</td>\n",
       "      <td>4.9</td>\n",
       "      <td>364</td>\n",
       "    </tr>\n",
       "    <tr>\n",
       "      <th>9915</th>\n",
       "      <td>57216</td>\n",
       "      <td>A Natale mi sposo</td>\n",
       "      <td>Comedy</td>\n",
       "      <td>it</td>\n",
       "      <td>NaN</td>\n",
       "      <td>4.349</td>\n",
       "      <td>2010-11-26</td>\n",
       "      <td>4.9</td>\n",
       "      <td>202</td>\n",
       "    </tr>\n",
       "    <tr>\n",
       "      <th>9922</th>\n",
       "      <td>408238</td>\n",
       "      <td>The New Adventures of Cinderella</td>\n",
       "      <td>Comedy</td>\n",
       "      <td>fr</td>\n",
       "      <td>NaN</td>\n",
       "      <td>7.102</td>\n",
       "      <td>2017-10-18</td>\n",
       "      <td>4.8</td>\n",
       "      <td>227</td>\n",
       "    </tr>\n",
       "    <tr>\n",
       "      <th>9989</th>\n",
       "      <td>244514</td>\n",
       "      <td>Colpi di fortuna</td>\n",
       "      <td>Comedy</td>\n",
       "      <td>it</td>\n",
       "      <td>NaN</td>\n",
       "      <td>5.821</td>\n",
       "      <td>2013-12-21</td>\n",
       "      <td>4.7</td>\n",
       "      <td>214</td>\n",
       "    </tr>\n",
       "  </tbody>\n",
       "</table>\n",
       "</div>"
      ]
     },
     "execution_count": 109,
     "metadata": {},
     "output_type": "execute_result"
    }
   ],
   "execution_count": 109
  },
  {
   "metadata": {},
   "cell_type": "markdown",
   "source": "### 1.1.4 Removendo linhas com valores ausentes",
   "id": "11dec87f28cc5a4d"
  },
  {
   "metadata": {
    "ExecuteTime": {
     "end_time": "2025-04-27T16:21:06.384992Z",
     "start_time": "2025-04-27T16:21:06.371511Z"
    }
   },
   "cell_type": "code",
   "source": [
    "df.dropna( subset = [ 'overview' ], inplace = True )\n",
    "df.reset_index( drop = True, inplace = True )"
   ],
   "id": "4707b6e35f45897d",
   "outputs": [],
   "execution_count": 110
  },
  {
   "metadata": {},
   "cell_type": "markdown",
   "source": "## 1.2 Valores Duplicados",
   "id": "2360143faf70e742"
  },
  {
   "metadata": {},
   "cell_type": "markdown",
   "source": [
    "### 1.2.1 Ver se há alguma linha duplicada\n",
    "\n",
    "Retorna `True` se houver ao menos uma linha duplicada"
   ],
   "id": "3232e98a3d475d8b"
  },
  {
   "metadata": {
    "ExecuteTime": {
     "end_time": "2025-04-27T16:21:06.529837Z",
     "start_time": "2025-04-27T16:21:06.489802Z"
    }
   },
   "cell_type": "code",
   "source": "df.duplicated().any()",
   "id": "6c31341932fb9c0b",
   "outputs": [
    {
     "data": {
      "text/plain": [
       "np.False_"
      ]
     },
     "execution_count": 111,
     "metadata": {},
     "output_type": "execute_result"
    }
   ],
   "execution_count": 111
  },
  {
   "metadata": {},
   "cell_type": "markdown",
   "source": "### 1.2.2 Contar o número de linhas duplicadas",
   "id": "1da51f6da8bb67ce"
  },
  {
   "metadata": {
    "ExecuteTime": {
     "end_time": "2025-04-27T16:21:06.656030Z",
     "start_time": "2025-04-27T16:21:06.622538Z"
    }
   },
   "cell_type": "code",
   "source": "df.duplicated().sum()",
   "id": "d446d60469de3f94",
   "outputs": [
    {
     "data": {
      "text/plain": [
       "np.int64(0)"
      ]
     },
     "execution_count": 112,
     "metadata": {},
     "output_type": "execute_result"
    }
   ],
   "execution_count": 112
  },
  {
   "metadata": {},
   "cell_type": "markdown",
   "source": "### 1.2.3 Ver quais são as linhas duplicadas",
   "id": "ecb282281bea421e"
  },
  {
   "metadata": {
    "ExecuteTime": {
     "end_time": "2025-04-27T16:21:06.777097Z",
     "start_time": "2025-04-27T16:21:06.751041Z"
    }
   },
   "cell_type": "code",
   "source": "df[ df.duplicated() ]",
   "id": "bcb060ed436aa0df",
   "outputs": [
    {
     "data": {
      "text/plain": [
       "Empty DataFrame\n",
       "Columns: [id, title, genre, original_language, overview, popularity, release_date, vote_average, vote_count]\n",
       "Index: []"
      ],
      "text/html": [
       "<div>\n",
       "<style scoped>\n",
       "    .dataframe tbody tr th:only-of-type {\n",
       "        vertical-align: middle;\n",
       "    }\n",
       "\n",
       "    .dataframe tbody tr th {\n",
       "        vertical-align: top;\n",
       "    }\n",
       "\n",
       "    .dataframe thead th {\n",
       "        text-align: right;\n",
       "    }\n",
       "</style>\n",
       "<table border=\"1\" class=\"dataframe\">\n",
       "  <thead>\n",
       "    <tr style=\"text-align: right;\">\n",
       "      <th></th>\n",
       "      <th>id</th>\n",
       "      <th>title</th>\n",
       "      <th>genre</th>\n",
       "      <th>original_language</th>\n",
       "      <th>overview</th>\n",
       "      <th>popularity</th>\n",
       "      <th>release_date</th>\n",
       "      <th>vote_average</th>\n",
       "      <th>vote_count</th>\n",
       "    </tr>\n",
       "  </thead>\n",
       "  <tbody>\n",
       "  </tbody>\n",
       "</table>\n",
       "</div>"
      ]
     },
     "execution_count": 113,
     "metadata": {},
     "output_type": "execute_result"
    }
   ],
   "execution_count": 113
  },
  {
   "metadata": {},
   "cell_type": "markdown",
   "source": "# 2. Seleção de Atributos",
   "id": "43f965fb6b73a22f"
  },
  {
   "metadata": {
    "ExecuteTime": {
     "end_time": "2025-04-27T16:21:06.866447Z",
     "start_time": "2025-04-27T16:21:06.859529Z"
    }
   },
   "cell_type": "code",
   "source": [
    "df = df[ [ 'id', 'title', 'overview', \"genre\" ] ]\n",
    "df.shape"
   ],
   "id": "d1601de417f1c9dd",
   "outputs": [
    {
     "data": {
      "text/plain": [
       "(9987, 4)"
      ]
     },
     "execution_count": 114,
     "metadata": {},
     "output_type": "execute_result"
    }
   ],
   "execution_count": 114
  },
  {
   "metadata": {
    "ExecuteTime": {
     "end_time": "2025-04-27T16:21:06.967368Z",
     "start_time": "2025-04-27T16:21:06.950691Z"
    }
   },
   "cell_type": "code",
   "source": [
    "df[ 'tags' ] = df[ 'overview' ] + df[ 'genre' ]\n",
    "df.shape"
   ],
   "id": "1bced8c4eaf8160c",
   "outputs": [
    {
     "data": {
      "text/plain": [
       "(9987, 5)"
      ]
     },
     "execution_count": 115,
     "metadata": {},
     "output_type": "execute_result"
    }
   ],
   "execution_count": 115
  },
  {
   "metadata": {
    "ExecuteTime": {
     "end_time": "2025-04-27T16:21:07.032375Z",
     "start_time": "2025-04-27T16:21:07.023167Z"
    }
   },
   "cell_type": "code",
   "source": [
    "df_new = df.drop( columns = [ 'overview', 'genre' ] )\n",
    "df_new.shape"
   ],
   "id": "f76b4218644c15f2",
   "outputs": [
    {
     "data": {
      "text/plain": [
       "(9987, 3)"
      ]
     },
     "execution_count": 116,
     "metadata": {},
     "output_type": "execute_result"
    }
   ],
   "execution_count": 116
  },
  {
   "metadata": {},
   "cell_type": "markdown",
   "source": [
    "# 2. Similaridade de Cossenos\n",
    "\n",
    "Imagine que cada sinopse de filme, depois de ser transformada em números (seja por Bag of Words ou TF-IDF), se torna um vetor em um espaço com muitas dimensões (onde cada dimensão corresponde a uma palavra do vocabulário).\n",
    "\n",
    "## 2.1 **A Ideia Central**\n",
    "\n",
    "A similaridade de cossenos **não mede a distância** entre as pontas desses vetores, mas sim o ângulo entre eles.\n",
    "\n",
    "- Se dois vetores apontam para **direções muito parecidas**, o ângulo entre eles é pequeno, e a similaridade de cossenos é alta (próxima de 1). Isso sugere que as sinopses usam palavras/termos de forma parecida, indicando temas semelhantes.\n",
    "- Se dois vetores apontam para **direções completamente diferentes** (são ortogonais, formam um ângulo de 90 graus), a similaridade de cossenos é 0. Isso sugere que as sinopses tratam de assuntos muito distintos, com poucas palavras-chave em comum.\n",
    "- Se dois vetores apontam para **direções opostas**, o ângulo é de 180 graus, e a similaridade de cossenos é -1. Na prática, com vetores de texto baseados em contagens (BoW) ou TF-IDF, que geralmente não têm valores negativos, a similaridade varia entre 0 e 1.\n",
    "\n",
    "## 2.2 **Exemplo**\n",
    "\n",
    "Vamos simplificar muito e imaginar um vocabulário minúsculo com apenas 3 palavras: \"ação\", \"comédia\", \"drama\".\n",
    "\n",
    "Agora, vamos representar 3 filmes com vetores baseados na contagem dessas palavras em suas (hipotéticas) sinopses:\n",
    "\n",
    "- Filme A: \"Muita ação e um pouco de drama.\"\n",
    "    - Vetor A = [ação: 2, comédia: 0, drama: 1] -> [2, 0, 1]\n",
    "- Filme B: \"Pura ação!\"\n",
    "    - Vetor B = [ação: 1, comédia: 0, drama: 0] -> [1, 0, 0]\n",
    "- Filme C: \"Uma comédia dramática.\"\n",
    "    - Vetor C = [ação: 0, comédia: 1, drama: 1] -> [0, 1, 1]\n",
    "\n",
    "Agora, vamos calcular a similaridade de cossenos (sem entrar nos detalhes matemáticos exatos aqui, apenas a intuição):\n",
    "\n",
    "- Similaridade(A, B):\n",
    "    - Ambos têm \"ação\". O Filme A também tem \"drama\", o Filme B não.\n",
    "    - Os vetores [2, 0, 1] e [1, 0, 0] apontam em direções relativamente parecidas (ambos têm um forte componente na dimensão \"ação\").\n",
    "    - A similaridade de cossenos será alta, mas não 1 (porque A também tem \"drama\").\n",
    "- Similaridade(A, C):\n",
    "    - Ambos têm \"drama\". O Filme A tem \"ação\", o Filme C tem \"comédia\".\n",
    "    - Os vetores [2, 0, 1] e [0, 1, 1] compartilham a dimensão \"drama\", mas divergem nas outras (\"ação\" vs \"comédia\").\n",
    "    - A similaridade de cossenos será média-baixa.\n",
    "- Similaridade(B, C):\n",
    "    - Não compartilham nenhuma palavra do nosso vocabulário (\"ação\" vs \"comédia\", \"drama\").\n",
    "    - Os vetores [1, 0, 0] e [0, 1, 1] apontam em direções muito diferentes.\n",
    "    - A similaridade de cossenos será próxima de 0.\n",
    "\n",
    "## 2.3 **Matematicamente**\n",
    "\n",
    "A fórmula é:\n",
    "\n",
    "$$\n",
    "\\text{similaridade(A,B)} = \\frac{\\mathbf{A} \\cdot \\mathbf{B}}{\\|\\mathbf{A}\\| \\|\\mathbf{B}\\|}\n",
    "$$\n",
    "\n",
    "Onde:\n",
    "- $ \\mathbf{A} \\cdot \\mathbf{B} $ é o produto escalar dos vetores (soma da multiplicação de cada componente correspondente).\n",
    "- $ \\|\\mathbf{A}\\|$ e $ \\|\\mathbf{B}\\| $ são as magnitudes (ou \"comprimentos\") dos vetores."
   ],
   "id": "9c18dc70b7b2743b"
  },
  {
   "metadata": {},
   "cell_type": "markdown",
   "source": [
    "# 3. Vetorização das Sinopses\n",
    "\n",
    "Para que os algoritmos de machine learning compreendam e processem dados textuais, como as sinopses ou tags dos filmes, precisamos primeiro convertê-los em vetores numéricos. Bag of Words (BoW) e TF-IDF são duas abordagens fundamentais e amplamente utilizadas para essa tarefa de **vetorização**."
   ],
   "id": "c9ec7135cfc8180a"
  },
  {
   "metadata": {},
   "cell_type": "markdown",
   "source": [
    "## 3.1 Bag of Worlds (BoW)\n",
    "\n",
    "* **Ideia Central:** Representar um texto pela frequência (contagem) de suas palavras, ignorando a ordem ou a gramática.\n",
    "* **Como Funciona:**\n",
    "    1.  **Construção do Vocabulário:** Primeiro, cria-se um vocabulário que contém todas as palavras únicas encontradas em *todos* os textos do conjunto de dados (corpus).\n",
    "    2.  **Criação do Vetor:** Para cada texto individual, cria-se um vetor numérico. O tamanho desse vetor é igual ao tamanho do vocabulário.\n",
    "    3.  **Contagem:** Cada posição no vetor corresponde a uma palavra específica do vocabulário. O valor nessa posição é simplesmente quantas vezes aquela palavra aparece no texto que está sendo vetorizado.\n",
    "* **Analogia:** Imagine que você joga todas as palavras de um documento dentro de uma \"sacola\" (bag). O BoW apenas conta quantas vezes cada palavra única está presente nessa sacola.\n",
    "* **Características:**\n",
    "    * Simples e fácil de entender.\n",
    "    * Perde a informação sobre a ordem das palavras.\n",
    "    * Trata todas as palavras da mesma forma; palavras muito frequentes (como artigos ou preposições, se não removidas por *stop words*) podem dominar o vetor, mesmo sem carregar tanto significado distintivo.\n",
    "* **Implementação:** Em Scikit-learn, é feito usando o `CountVectorizer`."
   ],
   "id": "3b73771e49ff8607"
  },
  {
   "metadata": {
    "ExecuteTime": {
     "end_time": "2025-04-27T16:21:16.779594Z",
     "start_time": "2025-04-27T16:21:07.076706Z"
    }
   },
   "cell_type": "code",
   "source": [
    "bow_vectorizer = CountVectorizer( max_features = 10000, stop_words = 'english' )\n",
    "bow_matrix = bow_vectorizer.fit_transform( df_new[ 'tags' ].values.astype( 'U' ) ).toarray()\n",
    "\n",
    "cosine_sim_bow = cosine_similarity( bow_matrix )"
   ],
   "id": "9b2e3f8e9b36665",
   "outputs": [],
   "execution_count": 117
  },
  {
   "metadata": {},
   "cell_type": "markdown",
   "source": [
    "## 3.2 TF-IDF (Term Frequency-Inverse Document Frequency)\n",
    "\n",
    "* **Ideia Central:** É uma evolução do BoW que tenta dar mais importância às palavras que são significativas para um texto específico, ao mesmo tempo que diminui o peso das palavras que são muito comuns em *todos* os textos. O peso de cada palavra reflete sua importância naquele documento dentro do contexto de toda a coleção.\n",
    "* **Como Funciona:** Calcula um score para cada palavra em cada documento, baseado em dois fatores:\n",
    "    1.  **TF (Term Frequency - Frequência do Termo):** Mede quantas vezes uma palavra aparece no documento atual. Quanto mais vezes aparece, maior o TF (geralmente normalizado). Indica a importância da palavra *dentro* daquele documento.\n",
    "    2.  **IDF (Inverse Document Frequency - Frequência Inversa do Documento):** Mede o quão rara ou comum a palavra é em *toda a coleção* de documentos. É calculado como o logaritmo da divisão do número total de documentos pelo número de documentos que contêm a palavra ($ \\log(\\frac{N}{df_t}) $). Palavras que aparecem em muitos documentos terão um IDF baixo (ex: \"filme\", \"ele\"), enquanto palavras que aparecem em poucos documentos terão um IDF alto (ex: \"multiverso\", \"hobbit\"). Indica a informatividade ou poder discriminatório da palavra.\n",
    "    3.  **Score TF-IDF:** É o produto $ TF \\times IDF $. Uma palavra terá um score TF-IDF alto se for frequente em um documento específico (alto TF) mas rara no conjunto geral de documentos (alto IDF).\n",
    "* **Características:**\n",
    "    * Dá mais peso a palavras que são boas indicadoras do conteúdo específico de um documento.\n",
    "    * Reduz o peso de palavras muito comuns que não ajudam a distinguir entre documentos.\n",
    "    * Geralmente leva a melhores resultados do que o BoW em tarefas de busca, classificação e cálculo de similaridade.\n",
    "* **Implementação:** Em Scikit-learn, é feito usando o `TfidfVectorizer`."
   ],
   "id": "23a59c1df8c112ed"
  },
  {
   "metadata": {
    "ExecuteTime": {
     "end_time": "2025-04-27T16:21:26.717537Z",
     "start_time": "2025-04-27T16:21:16.825104Z"
    }
   },
   "cell_type": "code",
   "source": [
    "tfidf_vectorizer = TfidfVectorizer( max_features = 10000, stop_words = 'english' )\n",
    "tfidf_matrix = tfidf_vectorizer.fit_transform( df_new[ 'tags' ].values.astype( 'U' ) ).toarray()\n",
    "\n",
    "cosine_sim_tfidf = cosine_similarity( tfidf_matrix )"
   ],
   "id": "d0d3a7af5b019d90",
   "outputs": [],
   "execution_count": 118
  },
  {
   "metadata": {},
   "cell_type": "markdown",
   "source": "# 4. Sistema de Recomendação",
   "id": "78281b052115abe9"
  },
  {
   "metadata": {
    "ExecuteTime": {
     "end_time": "2025-04-27T16:21:26.793038Z",
     "start_time": "2025-04-27T16:21:26.771846Z"
    }
   },
   "cell_type": "code",
   "source": [
    "# Para facilitar a busca pelo filme, criamos uma Série que mapeia títulos para índices\n",
    "# Isso é mais eficiente que procurar no DataFrame toda vez\n",
    "indices = pd.Series( df.index, index = df[ 'title' ] ).drop_duplicates()\n",
    "\n",
    "\n",
    "def recommend_by_synopsis( titulo, cosine_sim_matrix, data = df, mapping = indices, top_n = 10 ):\n",
    "    \"\"\"\n",
    "    Gera recomendações de filmes baseadas na similaridade de sinopses,\n",
    "    retornando títulos e suas pontuações de similaridade.\n",
    "\n",
    "    Args:\n",
    "        titulo (str): O título do filme base para a recomendação.\n",
    "        cosine_sim_matrix (np.array): A matriz de similaridade de cossenos pré-calculada.\n",
    "        data (pd.DataFrame): O DataFrame contendo os dados dos filmes.\n",
    "        mapping (pd.Series): Mapeamento de títulos para índices.\n",
    "        top_n (int): Número de recomendações.\n",
    "\n",
    "    Returns:\n",
    "        list: Uma lista de tuplas (titulo_recomendado, similaridade),\n",
    "              ou uma mensagem de erro (str).\n",
    "    \"\"\"\n",
    "    try:\n",
    "        # Obter o índice do filme que corresponde ao título\n",
    "        if titulo not in mapping:\n",
    "            # Tenta encontrar correspondência ignorando maiúsculas/minúsculas e espaços extras\n",
    "            matches = [ t for t in mapping.index if t.lower().strip() == titulo.lower().strip() ]\n",
    "            if not matches:\n",
    "                # Se ainda não encontrou, retorna erro\n",
    "                raise KeyError\n",
    "            # Pega o primeiro título correspondente (pode haver duplicatas exatas no índice se não tratadas)\n",
    "            actual_title = matches[ 0 ]\n",
    "            idx = mapping[ actual_title ]\n",
    "            print( f\"Nota: Buscando por '{actual_title}' (correspondência encontrada para '{titulo}')\" )\n",
    "        else:\n",
    "            idx = mapping[ titulo ]  # Pega o índice diretamente se o título for exato\n",
    "\n",
    "        # Obter as pontuações de similaridade de todos os filmes com este filme\n",
    "        sim_scores = list( enumerate( cosine_sim_matrix[ idx ] ) )\n",
    "\n",
    "        # Ordenar os filmes com base nas pontuações de similaridade (decrescente)\n",
    "        sim_scores = sorted( sim_scores, key = lambda x: x[ 1 ], reverse = True )\n",
    "\n",
    "        # Obter as pontuações e índices dos 'top_n' filmes mais similares (ignorando o próprio filme)\n",
    "        sim_scores = sim_scores[ 1:top_n + 1 ]  # Pega do segundo até top_n+1\n",
    "\n",
    "        # Criar a lista de tuplas (título, score)\n",
    "        recomendacoes = [ ]\n",
    "        for index, score in sim_scores:\n",
    "            # Verifica se o índice é válido para evitar erros\n",
    "            if index < len( data ):\n",
    "                titulo_filme = data[ 'title' ].iloc[ index ]\n",
    "                recomendacoes.append( (titulo_filme, score) )\n",
    "            else:\n",
    "                print( f\"Aviso: Índice {index} fora dos limites do DataFrame. Ignorando.\" )\n",
    "\n",
    "        return recomendacoes\n",
    "\n",
    "    except KeyError:\n",
    "        # Mensagem de erro mais informativa\n",
    "        suggestion = [ t for t in mapping.index if titulo.lower() in t.lower() ][ :5 ]\n",
    "        error_msg = f\"Erro: Filme '{titulo}' não encontrado no dataset.\"\n",
    "        if suggestion:\n",
    "            error_msg += f\" Você quis dizer algum destes? {suggestion}\"\n",
    "        return error_msg\n",
    "    except Exception as e:\n",
    "        return f\"Ocorreu um erro inesperado: {e}\"\n"
   ],
   "id": "772d0520c9442559",
   "outputs": [],
   "execution_count": 119
  },
  {
   "metadata": {},
   "cell_type": "markdown",
   "source": "## 4.1 Aplicação",
   "id": "ffdc447809458038"
  },
  {
   "metadata": {
    "ExecuteTime": {
     "end_time": "2025-04-27T16:21:26.871321Z",
     "start_time": "2025-04-27T16:21:26.831921Z"
    }
   },
   "cell_type": "code",
   "source": [
    "filme_exemplo = \"The Dark Knight Rises\"\n",
    "filme_exemplo = \"Bohemian Rhapsody\"\n",
    "\n",
    "print( f\"\\n--- Recomendações para '{filme_exemplo}' (BoW) ---\" )\n",
    "recomendacoes = recommend_by_synopsis( filme_exemplo, cosine_sim_matrix = cosine_sim_bow, top_n = 5 )\n",
    "\n",
    "if isinstance( recomendacoes, list ):\n",
    "    for i, (filme, score) in enumerate( recomendacoes ):\n",
    "        print( f\"{i + 1}. {filme} (Similaridade: {score:.3f})\" )\n",
    "else:\n",
    "    print( recomendacoes )\n",
    "\n",
    "print( f\"\\n--- Recomendações para '{filme_exemplo}' (TF-IDF) ---\" )\n",
    "recomendacoes_2 = recommend_by_synopsis( filme_exemplo, cosine_sim_matrix = cosine_sim_tfidf, top_n = 5 )\n",
    "\n",
    "if isinstance( recomendacoes_2, list ):\n",
    "    for i, (filme, score) in enumerate( recomendacoes_2 ):\n",
    "        print( f\"{i + 1}. {filme} (Similaridade: {score:.3f})\" )\n",
    "else:\n",
    "    print( recomendacoes_2 )"
   ],
   "id": "d31a398da919b2bc",
   "outputs": [
    {
     "name": "stdout",
     "output_type": "stream",
     "text": [
      "\n",
      "--- Recomendações para 'Bohemian Rhapsody' (BoW) ---\n",
      "1. The Doors (Similaridade: 0.270)\n",
      "2. Tenacious D in The Pick of Destiny (Similaridade: 0.264)\n",
      "3. Given (Similaridade: 0.242)\n",
      "4. The Rocker (Similaridade: 0.240)\n",
      "5. Ricki and the Flash (Similaridade: 0.231)\n",
      "\n",
      "--- Recomendações para 'Bohemian Rhapsody' (TF-IDF) ---\n",
      "1. The Rocker (Similaridade: 0.203)\n",
      "2. Given (Similaridade: 0.189)\n",
      "3. Sweet and Lowdown (Similaridade: 0.177)\n",
      "4. Tenacious D in The Pick of Destiny (Similaridade: 0.174)\n",
      "5. Scott Pilgrim vs. the World (Similaridade: 0.169)\n"
     ]
    }
   ],
   "execution_count": 120
  },
  {
   "metadata": {},
   "cell_type": "markdown",
   "source": [
    "# 5. Sentence-BERT\n",
    "\n",
    "Sentence-BERT é uma técnica desenvolvida para superar uma limitação dos modelos BERT originais em tarefas de comparação de sentenças. Enquanto o BERT puro é poderoso, ele não gera, por padrão, *embeddings* (vetores) de sentenças que sejam semanticamente significativos e diretamente comparáveis usando similaridade de cossenos. Comparar a similaridade entre N sentenças exigiria N*(N-1)/2 passagens pelo modelo BERT, o que é computacionalmente inviável para grandes conjuntos de dados.\n",
    "\n",
    "**O Objetivo do Sentence-BERT:**\n",
    "\n",
    "O objetivo principal é criar vetores de tamanho fixo (embeddings) para sentenças individuais, de forma que a similaridade semântica entre as sentenças se traduza na proximidade desses vetores no espaço vetorial (geralmente medido pela similaridade de cossenos).\n",
    "\n",
    "**Como Ele Consegue Isso:**\n",
    "\n",
    "1.  **Base Pré-treinada:** Utiliza um modelo transformer pré-treinado (como BERT, RoBERTa, MPNet, etc.) como sua base.\n",
    "2.  **Pooling:** Adiciona uma operação de *pooling* (como tirar a média dos vetores de saída de todas as palavras da sentença - MEAN Pooling) sobre a saída do modelo base. Isso transforma a sequência de vetores de palavras em um único vetor de tamanho fixo que representa a sentença inteira.\n",
    "3.  **Fine-tuning Específico (A Chave):** A etapa crucial é o *fine-tuning*. O Sentence-BERT é treinado usando arquiteturas de redes **siamesas** ou **triplet**.\n",
    "    * **Redes Siamesas:** O modelo processa duas sentenças simultaneamente e ajusta seus pesos para que o cálculo de similaridade (ex: cosseno) entre os embeddings resultantes se aproxime de um valor desejado (ex: 1 para pares sinônimos, 0 para pares não relacionados).\n",
    "    * **Redes Triplet:** O modelo vê três sentenças (âncora, positiva, negativa) e aprende a fazer o embedding da âncora ser mais próximo do embedding da positiva do que do embedding da negativa.\n",
    "    * Esse fine-tuning ensina o modelo a produzir embeddings que realmente refletem o significado semântico para fins de comparação.\n",
    "\n",
    "**Uso (Inferência):**\n",
    "\n",
    "Uma vez que o modelo está fine-tunado (ou quando usamos um modelo pré-treinado já fine-tunado com essa técnica, como `all-mpnet-base-v2` ou `paraphrase-multilingual-mpnet-base-v2`), podemos simplesmente passar **uma única sentença** por ele para obter seu embedding. Isso é muito rápido e eficiente. Com todos os embeddings gerados, podemos calcular similaridades (ex: cosseno) entre quaisquer pares de vetores de forma quase instantânea.\n",
    "\n",
    "**Resultado:**\n",
    "\n",
    "Obtemos representações vetoriais densas e semanticamente ricas para cada sentença (ou, no nosso caso, para cada `tag` de filme), permitindo comparações de significado muito mais eficazes do que com métodos tradicionais como Bag-of-Words ou TF-IDF puro."
   ],
   "id": "17e4e89f819eee7c"
  },
  {
   "metadata": {
    "ExecuteTime": {
     "end_time": "2025-04-27T16:21:26.958195Z",
     "start_time": "2025-04-27T16:21:26.931530Z"
    }
   },
   "cell_type": "code",
   "source": [
    "# --- Configurações do Sentence-BERT ---\n",
    "MODEL_NAME_SBERT = 'all-mpnet-base-v2'\n",
    "# Arquivo para salvar/carregar os embeddings calculados (economiza tempo)\n",
    "EMBEDDINGS_FILE_SBERT = 'movie_tags_embeddings_sbert.npy'\n",
    "\n",
    "# --- Gerar ou Carregar Embeddings ---\n",
    "embeddings_sbert = None  # Inicializa como None\n",
    "\n",
    "# Tenta carregar embeddings se o arquivo já existir\n",
    "if os.path.exists( EMBEDDINGS_FILE_SBERT ):\n",
    "    print( f\"Tentando carregar embeddings pré-calculados de '{EMBEDDINGS_FILE_SBERT}'...\" )\n",
    "    try:\n",
    "        embeddings_sbert = np.load( EMBEDDINGS_FILE_SBERT )\n",
    "        print( f\"Embeddings carregados com sucesso. Shape: {embeddings_sbert.shape}\" )\n",
    "        # Validação rápida: o número de linhas no embedding deve ser igual ao número de filmes em df_new\n",
    "        if embeddings_sbert.shape[ 0 ] != len( df_new ):\n",
    "            print(\n",
    "                    f\"Aviso: Número de embeddings ({embeddings_sbert.shape[ 0 ]}) \"\n",
    "                    f\"não corresponde ao tamanho do DataFrame df_new ({len( df_new )}).\" )\n",
    "            print( \"Os embeddings serão gerados novamente.\" )\n",
    "            embeddings_sbert = None  # Força a regeração\n",
    "    except Exception as e:\n",
    "        print( f\"Erro ao carregar o arquivo de embeddings '{EMBEDDINGS_FILE_SBERT}': {e}\" )\n",
    "        print( \"Os embeddings serão gerados novamente.\" )\n",
    "        embeddings_sbert = None"
   ],
   "id": "fd481d6d5f022088",
   "outputs": [
    {
     "name": "stdout",
     "output_type": "stream",
     "text": [
      "Tentando carregar embeddings pré-calculados de 'movie_tags_embeddings_sbert.npy'...\n",
      "Embeddings carregados com sucesso. Shape: (9987, 768)\n"
     ]
    }
   ],
   "execution_count": 121
  },
  {
   "metadata": {
    "ExecuteTime": {
     "end_time": "2025-04-27T16:21:27.033074Z",
     "start_time": "2025-04-27T16:21:27.021701Z"
    }
   },
   "cell_type": "code",
   "source": [
    "# Se os embeddings não foram carregados (arquivo não existe ou houve erro/incompatibilidade)\n",
    "if embeddings_sbert is None:\n",
    "    try:\n",
    "        # Carregar o modelo SentenceTransformer\n",
    "        # A primeira vez pode levar tempo para baixar o modelo\n",
    "        model_sbert = SentenceTransformer( MODEL_NAME_SBERT )\n",
    "\n",
    "        # Preparar a lista de textos a serem codificados (a coluna 'tags')\n",
    "        # Usamos df_new['tags'] que foi pré-processada (astype('U')) implicitamente antes,\n",
    "        # mas pegar do df original e garantir tipo string é mais seguro.\n",
    "        # Usar .tolist() para passar uma lista de strings para o encode.\n",
    "        print( \"Preparando a lista de 'tags' para codificação...\" )\n",
    "        tags_list = df_new[ 'tags' ].astype( str ).tolist()  # Garante que são strings\n",
    "\n",
    "        # Gerar os embeddings\n",
    "        print( \"Gerando embeddings com Sentence-BERT... (Isso pode levar vários minutos)\" )\n",
    "        embeddings_sbert = model_sbert.encode( tags_list, show_progress_bar = True )\n",
    "\n",
    "        print( f\"Embeddings gerados com sucesso! Shape: {embeddings_sbert.shape}\" )  # Ex: (9986, 768)\n",
    "\n",
    "        # Salvar os embeddings calculados para não precisar gerar de novo\n",
    "        try:\n",
    "            print( f\"Salvando embeddings em '{EMBEDDINGS_FILE_SBERT}' para uso futuro...\" )\n",
    "            np.save( EMBEDDINGS_FILE_SBERT, embeddings_sbert )\n",
    "        except Exception as e:\n",
    "            print( f\"Atenção: Não foi possível salvar os embeddings em '{EMBEDDINGS_FILE_SBERT}'. Erro: {e}\" )\n",
    "\n",
    "    except Exception as e:\n",
    "        print( f\"Erro crítico durante o processo do Sentence-BERT: {e}\" )\n",
    "        print( \"Verifique sua conexão com a internet se for a primeira vez baixando o modelo.\" )\n",
    "        embeddings_sbert = None  # Garante que não tentará usar embeddings"
   ],
   "id": "d60c1314da2281f0",
   "outputs": [],
   "execution_count": 122
  },
  {
   "metadata": {
    "ExecuteTime": {
     "end_time": "2025-04-27T16:21:27.685283Z",
     "start_time": "2025-04-27T16:21:27.089374Z"
    }
   },
   "cell_type": "code",
   "source": [
    "# Calcular Similaridade de Cossenos (usando Embeddings SBERT)\n",
    "cosine_sim_sbert = None\n",
    "if embeddings_sbert is not None:\n",
    "    try:\n",
    "        print( \"\\nCalculando a matriz de similaridade de cossenos a partir dos embeddings SBERT...\" )\n",
    "        cosine_sim_sbert = cosine_similarity( embeddings_sbert )\n",
    "        print( f\"Matriz de similaridade (Sentence-BERT) calculada. Shape: {cosine_sim_sbert.shape}\" )\n",
    "    except Exception as e:\n",
    "        print( f\"Erro ao calcular a similaridade de cossenos com embeddings SBERT: {e}\" )\n",
    "else:\n",
    "    print( \"\\nNão foi possível calcular a similaridade SBERT pois os embeddings não estão disponíveis.\" )"
   ],
   "id": "806b12545cc0ff7d",
   "outputs": [
    {
     "name": "stdout",
     "output_type": "stream",
     "text": [
      "\n",
      "Calculando a matriz de similaridade de cossenos a partir dos embeddings SBERT...\n",
      "Matriz de similaridade (Sentence-BERT) calculada. Shape: (9987, 9987)\n"
     ]
    }
   ],
   "execution_count": 123
  },
  {
   "metadata": {},
   "cell_type": "markdown",
   "source": "## 5.1 Aplicação",
   "id": "dc0177a415f8c980"
  },
  {
   "metadata": {
    "ExecuteTime": {
     "end_time": "2025-04-27T16:21:27.719232Z",
     "start_time": "2025-04-27T16:21:27.705665Z"
    }
   },
   "cell_type": "code",
   "source": [
    "if cosine_sim_sbert is not None:\n",
    "    print( f\"\\n--- Recomendações para '{filme_exemplo}' (Sentence-BERT) ---\" )\n",
    "\n",
    "    recomendacoes_sbert = recommend_by_synopsis(\n",
    "            filme_exemplo,\n",
    "            cosine_sim_matrix = cosine_sim_sbert,\n",
    "            data = df,\n",
    "            mapping = indices,\n",
    "            top_n = 5\n",
    "    )\n",
    "\n",
    "    if isinstance( recomendacoes_sbert, list ):\n",
    "        if not recomendacoes_sbert:\n",
    "            print( \"Nenhuma recomendação encontrada.\" )\n",
    "        else:\n",
    "            for i, (filme, score) in enumerate( recomendacoes_sbert ):\n",
    "                print( f\"{i + 1}. {filme} (Similaridade Semântica: {score:.3f})\" )\n",
    "    else:\n",
    "        # Imprime a mensagem de erro retornada pela função\n",
    "        print( recomendacoes_sbert )\n",
    "\n",
    "else:\n",
    "    print( \"Não é possível gerar recomendações com Sentence-BERT devido a erros na geração/cálculo.\" )"
   ],
   "id": "21ce84dfa759ca6d",
   "outputs": [
    {
     "name": "stdout",
     "output_type": "stream",
     "text": [
      "\n",
      "--- Recomendações para 'Bohemian Rhapsody' (Sentence-BERT) ---\n",
      "1. Josie and the Pussycats (Similaridade Semântica: 0.600)\n",
      "2. Sid and Nancy (Similaridade Semântica: 0.548)\n",
      "3. American Satan (Similaridade Semântica: 0.541)\n",
      "4. Country Strong (Similaridade Semântica: 0.535)\n",
      "5. The Banger Sisters (Similaridade Semântica: 0.529)\n"
     ]
    }
   ],
   "execution_count": 124
  },
  {
   "metadata": {},
   "cell_type": "markdown",
   "source": [
    "# 6. Clustering de Filmes\n",
    "\n",
    "O clustering de filmes é uma técnica de **aprendizado de máquina não supervisionado** que visa organizar automaticamente os filmes em grupos (clusters) com base em suas similaridades, sem que precisemos definir previamente quais são essas similaridades.\n",
    "\n",
    "**No nosso projeto:**\n",
    "\n",
    "1.  **Base da Similaridade:** Utilizamos os *embeddings* gerados pelo **Sentence-BERT**. Esses vetores numéricos representam o significado semântico das `tags` (sinopse + gênero) de cada filme.\n",
    "2.  **Agrupamento Automático:** Aplicamos um algoritmo de clustering (como o **K-Means**) a esses embeddings. O algoritmo analisa a \"proximidade\" dos filmes no espaço vetorial definido pelos embeddings.\n",
    "3.  **Objetivo do Algoritmo:** O K-Means tenta particionar os filmes em um número (K) pré-definido de clusters, de modo que:\n",
    "    * Filmes *dentro* do mesmo cluster sejam o mais **semelhantes** possível entre si (seus embeddings são próximos).\n",
    "    * Filmes em clusters *diferentes* sejam o mais **dissimilares** possível (seus embeddings são distantes).\n",
    "4.  **Resultado:** Cada filme recebe um rótulo identificando a qual cluster ele pertence (ex: Cluster 0, Cluster 1, ..., Cluster K-1).\n",
    "5.  **Interpretação:** Idealmente, cada cluster representa um conjunto de filmes que compartilham características semânticas comuns (temas, estilos, subgêneros implícitos) que foram aprendidas automaticamente a partir dos dados das `tags`.\n",
    "6.  **Aplicação:** Esses clusters podem ser usados para explorar a estrutura do catálogo de filmes ou como base para um sistema de recomendação (ex: sugerir outros filmes populares ou bem avaliados que pertencem ao mesmo cluster do filme que o usuário gostou).\n"
   ],
   "id": "e52a4464b2d168f9"
  },
  {
   "metadata": {},
   "cell_type": "markdown",
   "source": [
    "## 6.1 Preparação e Verificação Inicial\n",
    "\n",
    "Importa as bibliotecas específicas para clustering (se não importadas globalmente), configura para ignorar avisos comuns do K-Means e verifica se os embeddings SBERT, necessários para o clustering, estão disponíveis na memória."
   ],
   "id": "b7d4ede385ca8803"
  },
  {
   "metadata": {
    "ExecuteTime": {
     "end_time": "2025-04-27T16:21:27.760405Z",
     "start_time": "2025-04-27T16:21:27.755789Z"
    }
   },
   "cell_type": "code",
   "source": [
    "warnings.filterwarnings( \"ignore\", category = FutureWarning, module = 'sklearn.cluster._kmeans' )\n",
    "warnings.filterwarnings( \"ignore\", category = UserWarning, module = 'sklearn.cluster._kmeans' )\n",
    "\n",
    "can_cluster: bool = False\n",
    "\n",
    "# Verificar se temos os embeddings SBERT disponíveis\n",
    "if 'embeddings_sbert' not in globals() or not isinstance( embeddings_sbert, np.ndarray ):\n",
    "    print( \"Erro: Embeddings SBERT ('embeddings_sbert') não encontrados ou inválidos.\" )\n",
    "    print( \"Por favor, execute a seção anterior (Sentence-BERT) para gerar ou carregar os embeddings.\" )\n",
    "    # Pode-se interromper a execução aqui ou definir uma flag\n",
    "    can_cluster = False\n",
    "else:\n",
    "    print( f\"Verificação inicial: Usando embeddings SBERT com shape: {embeddings_sbert.shape}\" )\n",
    "    can_cluster = True"
   ],
   "id": "d4fa36a6f3efe3b6",
   "outputs": [
    {
     "name": "stdout",
     "output_type": "stream",
     "text": [
      "Verificação inicial: Usando embeddings SBERT com shape: (9987, 768)\n"
     ]
    }
   ],
   "execution_count": 125
  },
  {
   "metadata": {},
   "cell_type": "markdown",
   "source": [
    "## 6.2 Escolhendo K: Método do Cotovelo (Elbow Method)\n",
    "\n",
    "Calcula e plota a inércia (soma das distâncias quadráticas intra-cluster) para diferentes números de clusters (K). A \"dobra\" ou \"cotovelo\" no gráfico sugere um valor de K onde adicionar mais clusters não traz um ganho proporcional na explicação da variância, indicando um possível bom número de clusters."
   ],
   "id": "c69c85898c837665"
  },
  {
   "metadata": {
    "ExecuteTime": {
     "end_time": "2025-04-27T16:21:43.531954Z",
     "start_time": "2025-04-27T16:21:27.794870Z"
    }
   },
   "cell_type": "code",
   "source": [
    "if can_cluster:\n",
    "    inertia = [ ]\n",
    "    # Define um range de K para testar (ajuste o fim do range e o passo se necessário)\n",
    "    k_range = range( 2, 51, 4 )  # Ex: De 2 a 50, de 4 em 4\n",
    "\n",
    "    try:\n",
    "        for k in k_range:\n",
    "            print( f\"  Testando K={k}...\" )\n",
    "            kmeans_elbow = KMeans(\n",
    "                    n_clusters = k, random_state = 42,\n",
    "                    n_init = 'auto' )  # n_init='auto' é recomendado nas versões mais recentes\n",
    "            kmeans_elbow.fit( embeddings_sbert )\n",
    "            inertia.append( kmeans_elbow.inertia_ )\n",
    "        print( \"Cálculo da inércia concluído.\" )\n",
    "\n",
    "        # Plotar o gráfico do cotovelo\n",
    "        plt.figure( figsize = (10, 6) )\n",
    "        plt.plot( k_range, inertia, marker = 'o', linestyle = '-' )\n",
    "        plt.title( 'Método do Cotovelo (Elbow Method)' )\n",
    "        plt.xlabel( 'Número de Clusters (K)' )\n",
    "        plt.ylabel( 'Inércia (WSS - Within-Cluster Sum of Squares)' )\n",
    "        plt.xticks( k_range )\n",
    "        plt.grid( True )\n",
    "        plt.show()\n",
    "\n",
    "        print( \"\\nAnalise o gráfico acima para identificar um 'cotovelo'.\" )\n",
    "\n",
    "    except Exception as e:\n",
    "        print( f\"\\nErro ao calcular o Método do Cotovelo: {e}\" )"
   ],
   "id": "11bfd57fa0fd056f",
   "outputs": [
    {
     "name": "stdout",
     "output_type": "stream",
     "text": [
      "  Testando K=2...\n",
      "  Testando K=6...\n",
      "  Testando K=10...\n",
      "  Testando K=14...\n",
      "  Testando K=18...\n",
      "  Testando K=22...\n",
      "  Testando K=26...\n",
      "  Testando K=30...\n",
      "  Testando K=34...\n",
      "  Testando K=38...\n",
      "  Testando K=42...\n",
      "  Testando K=46...\n",
      "  Testando K=50...\n",
      "Cálculo da inércia concluído.\n"
     ]
    },
    {
     "data": {
      "text/plain": [
       "<Figure size 1000x600 with 1 Axes>"
      ],
      "image/png": "[encoded data removed]"
     },
     "metadata": {},
     "output_type": "display_data"
    },
    {
     "name": "stdout",
     "output_type": "stream",
     "text": [
      "\n",
      "Analise o gráfico acima para identificar um 'cotovelo'.\n"
     ]
    }
   ],
   "execution_count": 126
  },
  {
   "metadata": {},
   "cell_type": "markdown",
   "source": [
    "## 6.3 Escolhendo K: Pontuação de Silhueta (Silhouette Score)\n",
    "\n",
    "Calcula e plota a pontuação média de silhueta para diferentes valores de K. Esta métrica avalia quão bem separados os clusters estão. Valores mais próximos de 1 indicam clusters mais densos e bem definidos. Um pico no gráfico sugere um valor de K ótimo."
   ],
   "id": "f33f24417552b846"
  },
  {
   "metadata": {
    "ExecuteTime": {
     "end_time": "2025-04-27T16:21:47.990575Z",
     "start_time": "2025-04-27T16:21:43.584628Z"
    }
   },
   "cell_type": "code",
   "source": [
    "if can_cluster:\n",
    "    calculate_silhouette = True\n",
    "\n",
    "    if calculate_silhouette:\n",
    "        print( \"\\n--- 7.3 Calculando Pontuação de Silhueta (pode demorar) ---\" )\n",
    "        silhouette_scores = [ ]\n",
    "        # Usar um range menor para K devido ao custo\n",
    "        k_range_silhouette = range( 2, 21, 3 )  # Ex: De 2 a 20, de 3 em 3\n",
    "\n",
    "        try:\n",
    "            for k in k_range_silhouette:\n",
    "                print( f\"  Testando K={k} para Silhueta...\" )\n",
    "                kmeans_silhouette = KMeans( n_clusters = k, random_state = 42, n_init = 'auto' )\n",
    "                cluster_labels_temp = kmeans_silhouette.fit_predict( embeddings_sbert )\n",
    "                print( f\"    Calculando score para K={k}...\" )\n",
    "                score = silhouette_score(\n",
    "                        embeddings_sbert, cluster_labels_temp, metric = 'cosine', sample_size = 2000,\n",
    "                        random_state = 42 )\n",
    "                silhouette_scores.append( score )\n",
    "                print( f\"    K={k}, Silhouette Score={score:.4f}\" )\n",
    "            print( \"Cálculo da pontuação de silhueta concluído.\" )\n",
    "\n",
    "            # Plotar o gráfico da silhueta\n",
    "            plt.figure( figsize = (10, 6) )\n",
    "            plt.plot( k_range_silhouette, silhouette_scores, marker = 'o', linestyle = '-' )\n",
    "            plt.title( 'Pontuação Média de Silhueta' )\n",
    "            plt.xlabel( 'Número de Clusters (K)' )\n",
    "            plt.ylabel( 'Silhouette Score Médio (Métrica Cosseno)' )\n",
    "            plt.xticks( k_range_silhouette )\n",
    "            plt.grid( True )\n",
    "            plt.show()\n",
    "\n",
    "            print( \"\\nProcure por um pico (valor máximo) no gráfico de silhueta.\" )\n",
    "\n",
    "        except Exception as e:\n",
    "            print( f\"\\nErro ao calcular a Pontuação de Silhueta: {e}\" )"
   ],
   "id": "3e235babfd3fafd9",
   "outputs": [
    {
     "name": "stdout",
     "output_type": "stream",
     "text": [
      "\n",
      "--- 7.3 Calculando Pontuação de Silhueta (pode demorar) ---\n",
      "  Testando K=2 para Silhueta...\n",
      "    Calculando score para K=2...\n",
      "    K=2, Silhouette Score=0.0761\n",
      "  Testando K=5 para Silhueta...\n",
      "    Calculando score para K=5...\n",
      "    K=5, Silhouette Score=0.0523\n",
      "  Testando K=8 para Silhueta...\n",
      "    Calculando score para K=8...\n",
      "    K=8, Silhouette Score=0.0451\n",
      "  Testando K=11 para Silhueta...\n",
      "    Calculando score para K=11...\n",
      "    K=11, Silhouette Score=0.0414\n",
      "  Testando K=14 para Silhueta...\n",
      "    Calculando score para K=14...\n",
      "    K=14, Silhouette Score=0.0413\n",
      "  Testando K=17 para Silhueta...\n",
      "    Calculando score para K=17...\n",
      "    K=17, Silhouette Score=0.0408\n",
      "  Testando K=20 para Silhueta...\n",
      "    Calculando score para K=20...\n",
      "    K=20, Silhouette Score=0.0395\n",
      "Cálculo da pontuação de silhueta concluído.\n"
     ]
    },
    {
     "data": {
      "text/plain": [
       "<Figure size 1000x600 with 1 Axes>"
      ],
      "image/png": "[encoded data removed]"
     },
     "metadata": {},
     "output_type": "display_data"
    },
    {
     "name": "stdout",
     "output_type": "stream",
     "text": [
      "\n",
      "Procure por um pico (valor máximo) no gráfico de silhueta.\n"
     ]
    }
   ],
   "execution_count": 127
  },
  {
   "metadata": {},
   "cell_type": "markdown",
   "source": [
    "## 6.4 Treinamento do Modelo K-Means Final\n",
    "\n",
    "Com base na análise dos gráficos do Cotovelo e/ou da Silhueta, define-se o número final de clusters (K_ESCOLHIDO). Em seguida, treina-se o modelo K-Means definitivo usando todos os embeddings SBERT e o valor de K escolhido."
   ],
   "id": "efa5d5ff1781d370"
  },
  {
   "metadata": {
    "ExecuteTime": {
     "end_time": "2025-04-27T16:21:48.874826Z",
     "start_time": "2025-04-27T16:21:48.016562Z"
    }
   },
   "cell_type": "code",
   "source": [
    "if can_cluster:\n",
    "    # --- Definição de K ---\n",
    "    # !!! IMPORTANTE: AJUSTE O VALOR DE K_ESCOLHIDO ABAIXO !!!\n",
    "    # Analise os gráficos anteriores e defina o número de clusters desejado.\n",
    "    K_ESCOLHIDO = 25  # Valor exemplo, ajuste conforme sua análise!\n",
    "    print( f\"\\n--- 7.4 Treinando K-Means Final com K = {K_ESCOLHIDO} ---\" )\n",
    "\n",
    "    try:\n",
    "        kmeans = KMeans( n_clusters = K_ESCOLHIDO, random_state = 42, n_init = 'auto' )\n",
    "        # Treina o modelo com os embeddings SBERT\n",
    "        kmeans.fit( embeddings_sbert )\n",
    "        print( \"Treinamento K-Means final concluído.\" )\n",
    "        clusters_generated = True\n",
    "    except Exception as e:\n",
    "        print( f\"\\nErro ao treinar o K-Means final: {e}\" )\n",
    "        clusters_generated = False\n",
    "else:\n",
    "    clusters_generated = False"
   ],
   "id": "e1dd43aaab02cb2f",
   "outputs": [
    {
     "name": "stdout",
     "output_type": "stream",
     "text": [
      "\n",
      "--- 7.4 Treinando K-Means Final com K = 25 ---\n",
      "Treinamento K-Means final concluído.\n"
     ]
    }
   ],
   "execution_count": 128
  },
  {
   "metadata": {},
   "cell_type": "markdown",
   "source": [
    "## 6.5 Atribuição de Rótulos e Análise dos Clusters\n",
    "\n",
    "Obtém os rótulos de cluster atribuídos a cada filme pelo modelo K-Means treinado. Adiciona esses rótulos como uma nova coluna ao DataFrame principal (`df`). Realiza uma análise básica, mostrando a contagem de filmes por cluster e exibindo os títulos de alguns filmes de exemplo para clusters selecionados, permitindo uma verificação qualitativa da coesão dos grupos formados."
   ],
   "id": "b8e64625e18a2e3"
  },
  {
   "metadata": {
    "ExecuteTime": {
     "end_time": "2025-04-27T16:21:48.919956Z",
     "start_time": "2025-04-27T16:21:48.898220Z"
    }
   },
   "cell_type": "code",
   "source": [
    "if clusters_generated:\n",
    "    print( \"\\n--- 7.5 Atribuindo Rótulos e Analisando Clusters ---\" )\n",
    "    # --- Obtenção e Adição dos Rótulos ---\n",
    "    cluster_labels = kmeans.labels_\n",
    "    df[ 'cluster_sbert' ] = cluster_labels\n",
    "    print( f\"Coluna 'cluster_sbert' adicionada ao DataFrame 'df'.\" )\n",
    "\n",
    "    # --- Análise dos Clusters ---\n",
    "    print( \"\\nDistribuição de filmes por cluster (contagem):\" )\n",
    "    # Mostra a contagem de filmes em cada cluster, ordenado pelo número do cluster\n",
    "    print( df[ 'cluster_sbert' ].value_counts().sort_index() )\n",
    "\n",
    "    print( \"\\nExemplos de títulos por cluster:\" )\n",
    "    # Define alguns clusters para inspecionar (ex: os primeiros, um do meio, o último)\n",
    "    clusters_para_inspecionar = list( range( min( 3, K_ESCOLHIDO ) ) )  # Primeiros 3\n",
    "    if K_ESCOLHIDO > 5: clusters_para_inspecionar.append( K_ESCOLHIDO // 2 )  # Meio\n",
    "    if K_ESCOLHIDO > 1: clusters_para_inspecionar.append( K_ESCOLHIDO - 1 )  # Último\n",
    "    clusters_para_inspecionar = sorted( list( set( clusters_para_inspecionar ) ) )  # Remove duplicatas e ordena\n",
    "\n",
    "    for cluster_num in clusters_para_inspecionar:\n",
    "        print( f\"\\n--- Cluster {cluster_num} ---\" )\n",
    "        # Seleciona os primeiros N títulos do cluster atual\n",
    "        filmes_no_cluster = df[ df[ 'cluster_sbert' ] == cluster_num ][ 'title' ].head( 5 ).tolist()\n",
    "        if filmes_no_cluster:\n",
    "            for titulo_filme in filmes_no_cluster:\n",
    "                print( f\"  - {titulo_filme}\" )\n",
    "        else:\n",
    "            # Isso não deve acontecer se K foi baseado nos dados, mas é uma checagem\n",
    "            print( \"  (Nenhum filme encontrado neste cluster)\" )\n",
    "\n",
    "    print( \"\\n--- Clustering e Análise Concluídos ---\" )\n",
    "\n",
    "else:\n",
    "    print( \"\\nAnálise de clusters não pode ser realizada (clustering não executado ou falhou).\" )"
   ],
   "id": "b9d361249608e993",
   "outputs": [
    {
     "name": "stdout",
     "output_type": "stream",
     "text": [
      "\n",
      "--- 7.5 Atribuindo Rótulos e Analisando Clusters ---\n",
      "Coluna 'cluster_sbert' adicionada ao DataFrame 'df'.\n",
      "\n",
      "Distribuição de filmes por cluster (contagem):\n",
      "cluster_sbert\n",
      "0     311\n",
      "1     497\n",
      "2     524\n",
      "3     368\n",
      "4     417\n",
      "5     445\n",
      "6     313\n",
      "7     252\n",
      "8     346\n",
      "9     318\n",
      "10    503\n",
      "11    405\n",
      "12    503\n",
      "13    290\n",
      "14    495\n",
      "15    480\n",
      "16    358\n",
      "17    357\n",
      "18    339\n",
      "19    424\n",
      "20    315\n",
      "21    568\n",
      "22    373\n",
      "23    384\n",
      "24    402\n",
      "Name: count, dtype: int64\n",
      "\n",
      "Exemplos de títulos por cluster:\n",
      "\n",
      "--- Cluster 0 ---\n",
      "  - Spirited Away\n",
      "  - Hotarubi no Mori e\n",
      "  - Howl's Moving Castle\n",
      "  - Star Wars\n",
      "  - The Tale of The Princess Kaguya\n",
      "\n",
      "--- Cluster 1 ---\n",
      "  - The Green Mile\n",
      "  - City of God\n",
      "  - Clouds\n",
      "  - Woman in the Dunes\n",
      "  - The Shining\n",
      "\n",
      "--- Cluster 2 ---\n",
      "  - Gabriel's Inferno: Part II\n",
      "  - Dedicated to my ex\n",
      "  - Five Feet Apart\n",
      "  - Scenes from a Marriage\n",
      "  - Eternal Sunshine of the Spotless Mind\n",
      "\n",
      "--- Cluster 12 ---\n",
      "  - The Apartment\n",
      "  - Bo Burnham: Inside\n",
      "  - Wild Strawberries\n",
      "  - The Truman Show\n",
      "  - Poverty and Nobility\n",
      "\n",
      "--- Cluster 24 ---\n",
      "  - Gabriel's Inferno\n",
      "  - Gabriel's Inferno: Part III\n",
      "  - Cinema Paradiso\n",
      "  - GoodFellas\n",
      "  - Life Is Beautiful\n",
      "\n",
      "--- Clustering e Análise Concluídos ---\n"
     ]
    }
   ],
   "execution_count": 129
  },
  {
   "metadata": {},
   "cell_type": "markdown",
   "source": "# 7. Recomendação por Cluster",
   "id": "dd7de1f9d1a8fbdc"
  },
  {
   "metadata": {
    "ExecuteTime": {
     "end_time": "2025-04-27T16:21:48.982437Z",
     "start_time": "2025-04-27T16:21:48.956538Z"
    }
   },
   "cell_type": "code",
   "source": [
    "# Verificar se a coluna de cluster e a coluna de score existem no DataFrame df\n",
    "if 'cluster_sbert' not in df.columns:\n",
    "    print( \"Erro: Coluna 'cluster_sbert' não encontrada no DataFrame 'df'.\" )\n",
    "    print( \"Execute a célula anterior (Seção 6) para gerar os clusters.\" )\n",
    "elif 'score' not in df.columns:\n",
    "    print( \"Aviso: Coluna 'score' (Weighted Rating) não encontrada no DataFrame 'df'.\" )\n",
    "    print( \"As recomendações do cluster não serão ordenadas por qualidade/popularidade.\" )\n",
    "    # Criar score padrão para evitar erros, mas recomendações serão baseadas na ordem do DF\n",
    "    df[ 'score' ] = 0.0  # Ou algum outro valor padrão, como df['vote_average']\n",
    "    recommend_by_score = False\n",
    "else:\n",
    "    print( \"Coluna 'cluster_sbert' e 'score' encontradas. Pronto para recomendar por cluster.\" )\n",
    "    recommend_by_score = True\n",
    "\n",
    "\n",
    "def recomendar_por_cluster( titulo, data = df, mapping = indices, top_n = 10 ):\n",
    "    \"\"\"\n",
    "    Gera recomendações de filmes encontrando outros filmes no mesmo cluster\n",
    "    do filme de entrada, ordenados por 'score' (Weighted Rating).\n",
    "\n",
    "    Args:\n",
    "        titulo (str): O título do filme base para a recomendação.\n",
    "        data (pd.DataFrame): DataFrame com colunas 'title', 'cluster_sbert', 'score'.\n",
    "        mapping (pd.Series): Mapeamento de títulos para índices.\n",
    "        top_n (int): Número de recomendações a serem retornadas.\n",
    "\n",
    "    Returns:\n",
    "        list: Uma lista de títulos de filmes recomendados,\n",
    "              ou uma mensagem de erro (str).\n",
    "    \"\"\"\n",
    "    try:\n",
    "        # Obter o índice do filme que corresponde ao título\n",
    "        if titulo not in mapping:\n",
    "            matches = [ t for t in mapping.index if t.lower().strip() == titulo.lower().strip() ]\n",
    "            if not matches: raise KeyError\n",
    "            actual_title = matches[ 0 ]\n",
    "            idx = mapping[ actual_title ]\n",
    "        else:\n",
    "            idx = mapping[ titulo ]\n",
    "\n",
    "        # Verificar se o índice é válido e se a coluna cluster existe\n",
    "        if idx >= len( data ) or 'cluster_sbert' not in data.columns:\n",
    "            raise ValueError( \"Índice do filme inválido ou coluna de cluster ausente.\" )\n",
    "\n",
    "        # Obter o número do cluster do filme de entrada\n",
    "        input_movie_cluster = data.iloc[ idx ][ 'cluster_sbert' ]\n",
    "        print( f\"Filme '{data.iloc[ idx ][ 'title' ]}' pertence ao Cluster: {input_movie_cluster}\" )\n",
    "\n",
    "        # Filtrar o DataFrame para obter outros filmes do mesmo cluster\n",
    "        # Exclui o próprio filme de entrada usando o índice\n",
    "        cluster_movies = data[ (data[ 'cluster_sbert' ] == input_movie_cluster) & (data.index != idx) ]\n",
    "\n",
    "        if cluster_movies.empty:\n",
    "            return f\"Nenhum outro filme encontrado no Cluster {input_movie_cluster} para recomendar.\"\n",
    "\n",
    "        # Ordenar os filmes do cluster pelo 'score' (Weighted Rating) em ordem decrescente\n",
    "        if recommend_by_score and 'score' in cluster_movies.columns:\n",
    "            cluster_movies_sorted = cluster_movies.sort_values( 'score', ascending = False )\n",
    "        else:\n",
    "            # Se não for ordenar por score, apenas pega os primeiros que aparecerem\n",
    "            cluster_movies_sorted = cluster_movies\n",
    "\n",
    "        # Selecionar os top_n títulos\n",
    "        recommendations = cluster_movies_sorted[ 'title' ].head( top_n ).tolist()\n",
    "\n",
    "        return recommendations\n",
    "\n",
    "    except KeyError:\n",
    "        # Mensagem de erro mais informativa (reutilizada da função anterior)\n",
    "        suggestion = [ t for t in mapping.index if titulo.lower() in t.lower() ][ :5 ]\n",
    "        error_msg = f\"Erro: Filme '{titulo}' não encontrado no dataset.\"\n",
    "        if suggestion: error_msg += f\" Você quis dizer algum destes? {suggestion}\"\n",
    "        return error_msg\n",
    "    except ValueError as ve:\n",
    "        print( f\"Erro ao processar filme/cluster: {ve}\" )\n",
    "        return \"Não foi possível gerar recomendações devido a um erro interno.\"\n",
    "    except Exception as e:\n",
    "        return f\"Ocorreu um erro inesperado durante a recomendação por cluster: {e}\""
   ],
   "id": "30eb0dc5381059ad",
   "outputs": [
    {
     "name": "stdout",
     "output_type": "stream",
     "text": [
      "Aviso: Coluna 'score' (Weighted Rating) não encontrada no DataFrame 'df'.\n",
      "As recomendações do cluster não serão ordenadas por qualidade/popularidade.\n"
     ]
    }
   ],
   "execution_count": 130
  },
  {
   "metadata": {},
   "cell_type": "markdown",
   "source": "## 7.1 Aplicação",
   "id": "54a901e1496a59c4"
  },
  {
   "metadata": {
    "ExecuteTime": {
     "end_time": "2025-04-27T16:21:49.018328Z",
     "start_time": "2025-04-27T16:21:49.008549Z"
    }
   },
   "cell_type": "code",
   "source": [
    "if 'cluster_sbert' in df.columns:  # Só executa se os clusters foram gerados\n",
    "    filme_exemplo_cluster = \"The Dark Knight Rises\"  # Use o mesmo filme ou outro\n",
    "\n",
    "    print( f\"\\n--- Recomendações por Cluster para '{filme_exemplo_cluster}' ---\" )\n",
    "    recomendacoes_cluster = recomendar_por_cluster( filme_exemplo_cluster, top_n = 10 )  # Pega top 10 do cluster\n",
    "\n",
    "    if isinstance( recomendacoes_cluster, list ):\n",
    "        if not recomendacoes_cluster:\n",
    "            print( \"Nenhuma recomendação encontrada.\" )\n",
    "        else:\n",
    "            for i, filme in enumerate( recomendacoes_cluster ):\n",
    "                # Opcional: buscar e mostrar o score do filme recomendado\n",
    "                # score_rec = df.loc[df['title'] == filme, 'score'].iloc[0]\n",
    "                # print(f\"{i + 1}. {filme} (Score: {score_rec:.2f})\")\n",
    "                print( f\"{i + 1}. {filme}\" )\n",
    "    else:\n",
    "        # Imprime a mensagem de erro retornada pela função\n",
    "        print( recomendacoes_cluster )\n",
    "\n",
    "    # Exemplo 2\n",
    "    filme_exemplo_cluster_2 = \"Avatar\"\n",
    "    print( f\"\\n--- Recomendações por Cluster para '{filme_exemplo_cluster_2}' ---\" )\n",
    "    recomendacoes_cluster_2 = recomendar_por_cluster( filme_exemplo_cluster_2, top_n = 10 )\n",
    "\n",
    "    if isinstance( recomendacoes_cluster_2, list ):\n",
    "        if not recomendacoes_cluster_2:\n",
    "            print( \"Nenhuma recomendação encontrada.\" )\n",
    "        else:\n",
    "            for i, filme in enumerate( recomendacoes_cluster_2 ):\n",
    "                print( f\"{i + 1}. {filme}\" )\n",
    "    else:\n",
    "        print( recomendacoes_cluster_2 )\n",
    "else:\n",
    "    print( \"\\nNão é possível gerar recomendações por cluster pois a coluna 'cluster_sbert' não foi criada.\" )"
   ],
   "id": "cc15c5a521f72596",
   "outputs": [
    {
     "name": "stdout",
     "output_type": "stream",
     "text": [
      "\n",
      "--- Recomendações por Cluster para 'The Dark Knight Rises' ---\n",
      "Filme 'The Dark Knight Rises' pertence ao Cluster: 23\n",
      "1. 12 Angry Men\n",
      "2. Rear Window\n",
      "3. Se7en\n",
      "4. The Silence of the Lambs\n",
      "5. Witness for the Prosecution\n",
      "6. Investigation of a Citizen Above Suspicion\n",
      "7. Vertigo\n",
      "8. The Usual Suspects\n",
      "9. Memento\n",
      "10. Double Indemnity\n",
      "\n",
      "--- Recomendações por Cluster para 'Avatar' ---\n",
      "Filme 'Avatar' pertence ao Cluster: 10\n",
      "1. Evangelion: 3.0+1.0 Thrice Upon a Time\n",
      "2. Spider-Man: Into the Spider-Verse\n",
      "3. Neon Genesis Evangelion: The End of Evangelion\n",
      "4. Interstellar\n",
      "5. Justice League Dark: Apokolips War\n",
      "6. Back to the Future\n",
      "7. Avengers: Endgame\n",
      "8. Steven Universe: The Movie\n",
      "9. Avengers: Infinity War\n",
      "10. Miraculous World: New York, United HeroeZ\n"
     ]
    }
   ],
   "execution_count": 131
  }
 ],
 "metadata": {
  "kernelspec": {
   "display_name": "Python 3",
   "language": "python",
   "name": "python3"
  },
  "language_info": {
   "codemirror_mode": {
    "name": "ipython",
    "version": 2
   },
   "file_extension": ".py",
   "mimetype": "text/x-python",
   "name": "python",
   "nbconvert_exporter": "python",
   "pygments_lexer": "ipython2",
   "version": "2.7.6"
  }
 },
 "nbformat": 4,
 "nbformat_minor": 5
}
