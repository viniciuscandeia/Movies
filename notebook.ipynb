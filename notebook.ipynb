{
 "cells": [
  {
   "cell_type": "markdown",
   "id": "b83385d9bb7d72bb",
   "metadata": {},
   "source": [
    "# Instalação\n",
    "\n",
    "Libs necessárias: pip install -r requirements.txt"
   ]
  },
  {
   "cell_type": "code",
   "execution_count": 1,
   "id": "28b0ffd188c91980",
   "metadata": {
    "jupyter": {
     "is_executing": true
    }
   },
   "outputs": [],
   "source": [
    "import pandas as pd\n",
    "from sklearn.feature_extraction.text import CountVectorizer\n",
    "from sklearn.metrics.pairwise import cosine_similarity\n",
    "from sklearn.feature_extraction.text import TfidfVectorizer\n",
    "from sentence_transformers import SentenceTransformer\n",
    "import numpy as np\n",
    "import os\n",
    "from sklearn.cluster import KMeans\n",
    "import matplotlib.pyplot as plt\n",
    "from sklearn.metrics import silhouette_score\n",
    "import warnings"
   ]
  },
  {
   "cell_type": "markdown",
   "id": "9a27f7681ed03b50",
   "metadata": {},
   "source": [
    "# 0. Lendo o arquivo"
   ]
  },
  {
   "cell_type": "code",
   "execution_count": 2,
   "id": "initial_id",
   "metadata": {
    "ExecuteTime": {
     "end_time": "2025-04-28T00:55:32.350646Z",
     "start_time": "2025-04-28T00:41:19.449049Z"
    }
   },
   "outputs": [
    {
     "data": {
      "text/plain": [
       "(10000, 9)"
      ]
     },
     "execution_count": 2,
     "metadata": {},
     "output_type": "execute_result"
    }
   ],
   "source": [
    "df = pd.read_csv( 'dataset/top10K-TMDB-movies.csv' )\n",
    "df.shape"
   ]
  },
  {
   "cell_type": "markdown",
   "id": "dfdfb22f00406a0f",
   "metadata": {},
   "source": [
    "# 1. Pré-processamento da base de dados"
   ]
  },
  {
   "cell_type": "markdown",
   "id": "4b44636f61dfebc9",
   "metadata": {},
   "source": [
    "## 1.1 Valores Ausentes"
   ]
  },
  {
   "cell_type": "markdown",
   "id": "2ac0c8a788caebe5",
   "metadata": {},
   "source": [
    "### 1.1.1 Ver se há algum valor ausente no DataFrame\n",
    "\n",
    "Retorna `True` se houver pelo menos um valor ausente."
   ]
  },
  {
   "cell_type": "code",
   "execution_count": 3,
   "id": "776ef1ff1d811288",
   "metadata": {
    "ExecuteTime": {
     "end_time": "2025-04-28T00:55:32.408925Z",
     "start_time": "2025-04-28T00:41:19.644445Z"
    }
   },
   "outputs": [
    {
     "data": {
      "text/plain": [
       "True"
      ]
     },
     "execution_count": 3,
     "metadata": {},
     "output_type": "execute_result"
    }
   ],
   "source": [
    "df.isnull().values.any()"
   ]
  },
  {
   "cell_type": "markdown",
   "id": "357915e0197a8f09",
   "metadata": {},
   "source": [
    "### 1.1.2 Contar quantos valores ausentes há em cada coluna"
   ]
  },
  {
   "cell_type": "code",
   "execution_count": 4,
   "id": "4c5118821de64f19",
   "metadata": {
    "ExecuteTime": {
     "end_time": "2025-04-28T00:55:32.409866Z",
     "start_time": "2025-04-28T00:41:19.736966Z"
    }
   },
   "outputs": [
    {
     "data": {
      "text/plain": [
       "id                    0\n",
       "title                 0\n",
       "genre                 3\n",
       "original_language     0\n",
       "overview             13\n",
       "popularity            0\n",
       "release_date          0\n",
       "vote_average          0\n",
       "vote_count            0\n",
       "dtype: int64"
      ]
     },
     "execution_count": 4,
     "metadata": {},
     "output_type": "execute_result"
    }
   ],
   "source": [
    "df.isnull().sum()"
   ]
  },
  {
   "cell_type": "markdown",
   "id": "7081c8c760a2990d",
   "metadata": {},
   "source": [
    "### 1.1.3 Exibir linhas que possuem valores ausentes"
   ]
  },
  {
   "cell_type": "code",
   "execution_count": 5,
   "id": "6ae238bb70784fdd",
   "metadata": {
    "ExecuteTime": {
     "end_time": "2025-04-28T00:55:32.423842Z",
     "start_time": "2025-04-28T00:41:19.873918Z"
    }
   },
   "outputs": [
    {
     "data": {
      "text/html": [
       "<div>\n",
       "<style scoped>\n",
       "    .dataframe tbody tr th:only-of-type {\n",
       "        vertical-align: middle;\n",
       "    }\n",
       "\n",
       "    .dataframe tbody tr th {\n",
       "        vertical-align: top;\n",
       "    }\n",
       "\n",
       "    .dataframe thead th {\n",
       "        text-align: right;\n",
       "    }\n",
       "</style>\n",
       "<table border=\"1\" class=\"dataframe\">\n",
       "  <thead>\n",
       "    <tr style=\"text-align: right;\">\n",
       "      <th></th>\n",
       "      <th>id</th>\n",
       "      <th>title</th>\n",
       "      <th>genre</th>\n",
       "      <th>original_language</th>\n",
       "      <th>overview</th>\n",
       "      <th>popularity</th>\n",
       "      <th>release_date</th>\n",
       "      <th>vote_average</th>\n",
       "      <th>vote_count</th>\n",
       "    </tr>\n",
       "  </thead>\n",
       "  <tbody>\n",
       "    <tr>\n",
       "      <th>3361</th>\n",
       "      <td>50472</td>\n",
       "      <td>Anplagghed al cinema</td>\n",
       "      <td>NaN</td>\n",
       "      <td>it</td>\n",
       "      <td>A queue at the ATM machine, a displaced family...</td>\n",
       "      <td>4.420</td>\n",
       "      <td>2006-11-26</td>\n",
       "      <td>7.0</td>\n",
       "      <td>313</td>\n",
       "    </tr>\n",
       "    <tr>\n",
       "      <th>4150</th>\n",
       "      <td>38537</td>\n",
       "      <td>Nati stanchi</td>\n",
       "      <td>Comedy</td>\n",
       "      <td>it</td>\n",
       "      <td>NaN</td>\n",
       "      <td>5.671</td>\n",
       "      <td>2002-03-01</td>\n",
       "      <td>6.8</td>\n",
       "      <td>211</td>\n",
       "    </tr>\n",
       "    <tr>\n",
       "      <th>6973</th>\n",
       "      <td>31359</td>\n",
       "      <td>Would I Lie to You? 2</td>\n",
       "      <td>Comedy</td>\n",
       "      <td>fr</td>\n",
       "      <td>NaN</td>\n",
       "      <td>4.741</td>\n",
       "      <td>2001-02-07</td>\n",
       "      <td>6.2</td>\n",
       "      <td>325</td>\n",
       "    </tr>\n",
       "    <tr>\n",
       "      <th>7821</th>\n",
       "      <td>43211</td>\n",
       "      <td>7 Kilos in 7 Days</td>\n",
       "      <td>NaN</td>\n",
       "      <td>it</td>\n",
       "      <td>Two not very clever young doctors open a fitne...</td>\n",
       "      <td>5.885</td>\n",
       "      <td>1986-02-02</td>\n",
       "      <td>6.0</td>\n",
       "      <td>212</td>\n",
       "    </tr>\n",
       "    <tr>\n",
       "      <th>7941</th>\n",
       "      <td>2029</td>\n",
       "      <td>Tanguy</td>\n",
       "      <td>Comedy</td>\n",
       "      <td>fr</td>\n",
       "      <td>NaN</td>\n",
       "      <td>5.449</td>\n",
       "      <td>2001-11-21</td>\n",
       "      <td>6.0</td>\n",
       "      <td>387</td>\n",
       "    </tr>\n",
       "    <tr>\n",
       "      <th>8518</th>\n",
       "      <td>57114</td>\n",
       "      <td>Amore, bugie e calcetto</td>\n",
       "      <td>NaN</td>\n",
       "      <td>en</td>\n",
       "      <td>NaN</td>\n",
       "      <td>4.709</td>\n",
       "      <td>2008-04-04</td>\n",
       "      <td>5.8</td>\n",
       "      <td>200</td>\n",
       "    </tr>\n",
       "    <tr>\n",
       "      <th>9293</th>\n",
       "      <td>17413</td>\n",
       "      <td>Incognito</td>\n",
       "      <td>Comedy</td>\n",
       "      <td>fr</td>\n",
       "      <td>NaN</td>\n",
       "      <td>5.602</td>\n",
       "      <td>2009-04-28</td>\n",
       "      <td>5.5</td>\n",
       "      <td>213</td>\n",
       "    </tr>\n",
       "    <tr>\n",
       "      <th>9440</th>\n",
       "      <td>516043</td>\n",
       "      <td>Arrivano i prof</td>\n",
       "      <td>Comedy</td>\n",
       "      <td>it</td>\n",
       "      <td>NaN</td>\n",
       "      <td>6.558</td>\n",
       "      <td>2018-05-01</td>\n",
       "      <td>5.4</td>\n",
       "      <td>337</td>\n",
       "    </tr>\n",
       "    <tr>\n",
       "      <th>9620</th>\n",
       "      <td>154512</td>\n",
       "      <td>Lightning Strike</td>\n",
       "      <td>Comedy</td>\n",
       "      <td>it</td>\n",
       "      <td>NaN</td>\n",
       "      <td>4.070</td>\n",
       "      <td>2012-12-13</td>\n",
       "      <td>5.3</td>\n",
       "      <td>216</td>\n",
       "    </tr>\n",
       "    <tr>\n",
       "      <th>9792</th>\n",
       "      <td>42426</td>\n",
       "      <td>A spasso nel tempo - L'avventura continua</td>\n",
       "      <td>Comedy,Fantasy</td>\n",
       "      <td>it</td>\n",
       "      <td>NaN</td>\n",
       "      <td>5.020</td>\n",
       "      <td>1997-12-11</td>\n",
       "      <td>5.1</td>\n",
       "      <td>209</td>\n",
       "    </tr>\n",
       "    <tr>\n",
       "      <th>9825</th>\n",
       "      <td>77000</td>\n",
       "      <td>Bar Sport</td>\n",
       "      <td>Comedy,Family</td>\n",
       "      <td>it</td>\n",
       "      <td>NaN</td>\n",
       "      <td>4.123</td>\n",
       "      <td>2011-10-21</td>\n",
       "      <td>5.0</td>\n",
       "      <td>205</td>\n",
       "    </tr>\n",
       "    <tr>\n",
       "      <th>9889</th>\n",
       "      <td>42436</td>\n",
       "      <td>Natale in crociera</td>\n",
       "      <td>Comedy</td>\n",
       "      <td>it</td>\n",
       "      <td>NaN</td>\n",
       "      <td>5.330</td>\n",
       "      <td>2007-12-14</td>\n",
       "      <td>4.9</td>\n",
       "      <td>364</td>\n",
       "    </tr>\n",
       "    <tr>\n",
       "      <th>9915</th>\n",
       "      <td>57216</td>\n",
       "      <td>A Natale mi sposo</td>\n",
       "      <td>Comedy</td>\n",
       "      <td>it</td>\n",
       "      <td>NaN</td>\n",
       "      <td>4.349</td>\n",
       "      <td>2010-11-26</td>\n",
       "      <td>4.9</td>\n",
       "      <td>202</td>\n",
       "    </tr>\n",
       "    <tr>\n",
       "      <th>9922</th>\n",
       "      <td>408238</td>\n",
       "      <td>The New Adventures of Cinderella</td>\n",
       "      <td>Comedy</td>\n",
       "      <td>fr</td>\n",
       "      <td>NaN</td>\n",
       "      <td>7.102</td>\n",
       "      <td>2017-10-18</td>\n",
       "      <td>4.8</td>\n",
       "      <td>227</td>\n",
       "    </tr>\n",
       "    <tr>\n",
       "      <th>9989</th>\n",
       "      <td>244514</td>\n",
       "      <td>Colpi di fortuna</td>\n",
       "      <td>Comedy</td>\n",
       "      <td>it</td>\n",
       "      <td>NaN</td>\n",
       "      <td>5.821</td>\n",
       "      <td>2013-12-21</td>\n",
       "      <td>4.7</td>\n",
       "      <td>214</td>\n",
       "    </tr>\n",
       "  </tbody>\n",
       "</table>\n",
       "</div>"
      ],
      "text/plain": [
       "          id                                      title           genre  \\\n",
       "3361   50472                       Anplagghed al cinema             NaN   \n",
       "4150   38537                               Nati stanchi          Comedy   \n",
       "6973   31359                      Would I Lie to You? 2          Comedy   \n",
       "7821   43211                          7 Kilos in 7 Days             NaN   \n",
       "7941    2029                                     Tanguy          Comedy   \n",
       "8518   57114                    Amore, bugie e calcetto             NaN   \n",
       "9293   17413                                  Incognito          Comedy   \n",
       "9440  516043                            Arrivano i prof          Comedy   \n",
       "9620  154512                           Lightning Strike          Comedy   \n",
       "9792   42426  A spasso nel tempo - L'avventura continua  Comedy,Fantasy   \n",
       "9825   77000                                  Bar Sport   Comedy,Family   \n",
       "9889   42436                         Natale in crociera          Comedy   \n",
       "9915   57216                          A Natale mi sposo          Comedy   \n",
       "9922  408238           The New Adventures of Cinderella          Comedy   \n",
       "9989  244514                           Colpi di fortuna          Comedy   \n",
       "\n",
       "     original_language                                           overview  \\\n",
       "3361                it  A queue at the ATM machine, a displaced family...   \n",
       "4150                it                                                NaN   \n",
       "6973                fr                                                NaN   \n",
       "7821                it  Two not very clever young doctors open a fitne...   \n",
       "7941                fr                                                NaN   \n",
       "8518                en                                                NaN   \n",
       "9293                fr                                                NaN   \n",
       "9440                it                                                NaN   \n",
       "9620                it                                                NaN   \n",
       "9792                it                                                NaN   \n",
       "9825                it                                                NaN   \n",
       "9889                it                                                NaN   \n",
       "9915                it                                                NaN   \n",
       "9922                fr                                                NaN   \n",
       "9989                it                                                NaN   \n",
       "\n",
       "      popularity release_date  vote_average  vote_count  \n",
       "3361       4.420   2006-11-26           7.0         313  \n",
       "4150       5.671   2002-03-01           6.8         211  \n",
       "6973       4.741   2001-02-07           6.2         325  \n",
       "7821       5.885   1986-02-02           6.0         212  \n",
       "7941       5.449   2001-11-21           6.0         387  \n",
       "8518       4.709   2008-04-04           5.8         200  \n",
       "9293       5.602   2009-04-28           5.5         213  \n",
       "9440       6.558   2018-05-01           5.4         337  \n",
       "9620       4.070   2012-12-13           5.3         216  \n",
       "9792       5.020   1997-12-11           5.1         209  \n",
       "9825       4.123   2011-10-21           5.0         205  \n",
       "9889       5.330   2007-12-14           4.9         364  \n",
       "9915       4.349   2010-11-26           4.9         202  \n",
       "9922       7.102   2017-10-18           4.8         227  \n",
       "9989       5.821   2013-12-21           4.7         214  "
      ]
     },
     "execution_count": 5,
     "metadata": {},
     "output_type": "execute_result"
    }
   ],
   "source": [
    "df[ df.isnull().any( axis = 1 ) ]"
   ]
  },
  {
   "cell_type": "markdown",
   "id": "11dec87f28cc5a4d",
   "metadata": {},
   "source": [
    "### 1.1.4 Removendo linhas com valores ausentes"
   ]
  },
  {
   "cell_type": "code",
   "execution_count": 6,
   "id": "4707b6e35f45897d",
   "metadata": {
    "ExecuteTime": {
     "end_time": "2025-04-28T00:55:32.429117Z",
     "start_time": "2025-04-28T00:41:20.133846Z"
    }
   },
   "outputs": [],
   "source": [
    "df.dropna( subset = [ 'overview' ], inplace = True )\n",
    "df.reset_index( drop = True, inplace = True )"
   ]
  },
  {
   "cell_type": "markdown",
   "id": "2360143faf70e742",
   "metadata": {},
   "source": [
    "## 1.2 Valores Duplicados"
   ]
  },
  {
   "cell_type": "markdown",
   "id": "3232e98a3d475d8b",
   "metadata": {},
   "source": [
    "### 1.2.1 Ver se há alguma linha duplicada\n",
    "\n",
    "Retorna `True` se houver ao menos uma linha duplicada"
   ]
  },
  {
   "cell_type": "code",
   "execution_count": 7,
   "id": "6c31341932fb9c0b",
   "metadata": {
    "ExecuteTime": {
     "end_time": "2025-04-28T00:55:32.437996Z",
     "start_time": "2025-04-28T00:41:20.342654Z"
    }
   },
   "outputs": [
    {
     "data": {
      "text/plain": [
       "False"
      ]
     },
     "execution_count": 7,
     "metadata": {},
     "output_type": "execute_result"
    }
   ],
   "source": [
    "df.duplicated().any()"
   ]
  },
  {
   "cell_type": "markdown",
   "id": "1da51f6da8bb67ce",
   "metadata": {},
   "source": [
    "### 1.2.2 Contar o número de linhas duplicadas"
   ]
  },
  {
   "cell_type": "code",
   "execution_count": 8,
   "id": "d446d60469de3f94",
   "metadata": {
    "ExecuteTime": {
     "end_time": "2025-04-28T00:55:32.439060Z",
     "start_time": "2025-04-28T00:41:20.487144Z"
    }
   },
   "outputs": [
    {
     "data": {
      "text/plain": [
       "0"
      ]
     },
     "execution_count": 8,
     "metadata": {},
     "output_type": "execute_result"
    }
   ],
   "source": [
    "df.duplicated().sum()"
   ]
  },
  {
   "cell_type": "markdown",
   "id": "ecb282281bea421e",
   "metadata": {},
   "source": [
    "### 1.2.3 Ver quais são as linhas duplicadas"
   ]
  },
  {
   "cell_type": "code",
   "execution_count": 9,
   "id": "bcb060ed436aa0df",
   "metadata": {
    "ExecuteTime": {
     "end_time": "2025-04-28T00:55:32.441252Z",
     "start_time": "2025-04-28T00:41:20.559740Z"
    }
   },
   "outputs": [
    {
     "data": {
      "text/html": [
       "<div>\n",
       "<style scoped>\n",
       "    .dataframe tbody tr th:only-of-type {\n",
       "        vertical-align: middle;\n",
       "    }\n",
       "\n",
       "    .dataframe tbody tr th {\n",
       "        vertical-align: top;\n",
       "    }\n",
       "\n",
       "    .dataframe thead th {\n",
       "        text-align: right;\n",
       "    }\n",
       "</style>\n",
       "<table border=\"1\" class=\"dataframe\">\n",
       "  <thead>\n",
       "    <tr style=\"text-align: right;\">\n",
       "      <th></th>\n",
       "      <th>id</th>\n",
       "      <th>title</th>\n",
       "      <th>genre</th>\n",
       "      <th>original_language</th>\n",
       "      <th>overview</th>\n",
       "      <th>popularity</th>\n",
       "      <th>release_date</th>\n",
       "      <th>vote_average</th>\n",
       "      <th>vote_count</th>\n",
       "    </tr>\n",
       "  </thead>\n",
       "  <tbody>\n",
       "  </tbody>\n",
       "</table>\n",
       "</div>"
      ],
      "text/plain": [
       "Empty DataFrame\n",
       "Columns: [id, title, genre, original_language, overview, popularity, release_date, vote_average, vote_count]\n",
       "Index: []"
      ]
     },
     "execution_count": 9,
     "metadata": {},
     "output_type": "execute_result"
    }
   ],
   "source": [
    "df[ df.duplicated() ]"
   ]
  },
  {
   "cell_type": "markdown",
   "id": "43f965fb6b73a22f",
   "metadata": {},
   "source": [
    "# 2. Seleção de Atributos"
   ]
  },
  {
   "cell_type": "code",
   "execution_count": 10,
   "id": "d1601de417f1c9dd",
   "metadata": {
    "ExecuteTime": {
     "end_time": "2025-04-28T00:55:32.444570Z",
     "start_time": "2025-04-28T00:41:20.670317Z"
    }
   },
   "outputs": [
    {
     "data": {
      "text/plain": [
       "(9987, 4)"
      ]
     },
     "execution_count": 10,
     "metadata": {},
     "output_type": "execute_result"
    }
   ],
   "source": [
    "df = df[ [ 'id', 'title', 'overview', \"genre\" ] ]\n",
    "df.shape"
   ]
  },
  {
   "cell_type": "code",
   "execution_count": 11,
   "id": "1bced8c4eaf8160c",
   "metadata": {
    "ExecuteTime": {
     "end_time": "2025-04-28T00:55:32.447101Z",
     "start_time": "2025-04-28T00:41:20.775309Z"
    }
   },
   "outputs": [
    {
     "data": {
      "text/plain": [
       "(9987, 5)"
      ]
     },
     "execution_count": 11,
     "metadata": {},
     "output_type": "execute_result"
    }
   ],
   "source": [
    "df[ 'tags' ] = df[ 'overview' ] + df[ 'genre' ]\n",
    "df.shape"
   ]
  },
  {
   "cell_type": "code",
   "execution_count": 12,
   "id": "f76b4218644c15f2",
   "metadata": {
    "ExecuteTime": {
     "end_time": "2025-04-28T00:55:32.449254Z",
     "start_time": "2025-04-28T00:41:20.843276Z"
    }
   },
   "outputs": [
    {
     "data": {
      "text/plain": [
       "(9987, 3)"
      ]
     },
     "execution_count": 12,
     "metadata": {},
     "output_type": "execute_result"
    }
   ],
   "source": [
    "df_new = df.drop( columns = [ 'overview', 'genre' ] )\n",
    "df_new.shape"
   ]
  },
  {
   "cell_type": "markdown",
   "id": "9c18dc70b7b2743b",
   "metadata": {},
   "source": [
    "# 2. Similaridade de Cossenos\n",
    "\n",
    "Imagine que cada sinopse de filme, depois de ser transformada em números (seja por Bag of Words ou TF-IDF), se torna um vetor em um espaço com muitas dimensões (onde cada dimensão corresponde a uma palavra do vocabulário).\n",
    "\n",
    "## 2.1 **A Ideia Central**\n",
    "\n",
    "A similaridade de cossenos **não mede a distância** entre as pontas desses vetores, mas sim o ângulo entre eles.\n",
    "\n",
    "- Se dois vetores apontam para **direções muito parecidas**, o ângulo entre eles é pequeno, e a similaridade de cossenos é alta (próxima de 1). Isso sugere que as sinopses usam palavras/termos de forma parecida, indicando temas semelhantes.\n",
    "- Se dois vetores apontam para **direções completamente diferentes** (são ortogonais, formam um ângulo de 90 graus), a similaridade de cossenos é 0. Isso sugere que as sinopses tratam de assuntos muito distintos, com poucas palavras-chave em comum.\n",
    "- Se dois vetores apontam para **direções opostas**, o ângulo é de 180 graus, e a similaridade de cossenos é -1. Na prática, com vetores de texto baseados em contagens (BoW) ou TF-IDF, que geralmente não têm valores negativos, a similaridade varia entre 0 e 1.\n",
    "\n",
    "## 2.2 **Exemplo**\n",
    "\n",
    "Vamos simplificar muito e imaginar um vocabulário minúsculo com apenas 3 palavras: \"ação\", \"comédia\", \"drama\".\n",
    "\n",
    "Agora, vamos representar 3 filmes com vetores baseados na contagem dessas palavras em suas (hipotéticas) sinopses:\n",
    "\n",
    "- Filme A: \"Muita ação e um pouco de drama.\"\n",
    "    - Vetor A = [ação: 2, comédia: 0, drama: 1] -> [2, 0, 1]\n",
    "- Filme B: \"Pura ação!\"\n",
    "    - Vetor B = [ação: 1, comédia: 0, drama: 0] -> [1, 0, 0]\n",
    "- Filme C: \"Uma comédia dramática.\"\n",
    "    - Vetor C = [ação: 0, comédia: 1, drama: 1] -> [0, 1, 1]\n",
    "\n",
    "Agora, vamos calcular a similaridade de cossenos (sem entrar nos detalhes matemáticos exatos aqui, apenas a intuição):\n",
    "\n",
    "- Similaridade(A, B):\n",
    "    - Ambos têm \"ação\". O Filme A também tem \"drama\", o Filme B não.\n",
    "    - Os vetores [2, 0, 1] e [1, 0, 0] apontam em direções relativamente parecidas (ambos têm um forte componente na dimensão \"ação\").\n",
    "    - A similaridade de cossenos será alta, mas não 1 (porque A também tem \"drama\").\n",
    "- Similaridade(A, C):\n",
    "    - Ambos têm \"drama\". O Filme A tem \"ação\", o Filme C tem \"comédia\".\n",
    "    - Os vetores [2, 0, 1] e [0, 1, 1] compartilham a dimensão \"drama\", mas divergem nas outras (\"ação\" vs \"comédia\").\n",
    "    - A similaridade de cossenos será média-baixa.\n",
    "- Similaridade(B, C):\n",
    "    - Não compartilham nenhuma palavra do nosso vocabulário (\"ação\" vs \"comédia\", \"drama\").\n",
    "    - Os vetores [1, 0, 0] e [0, 1, 1] apontam em direções muito diferentes.\n",
    "    - A similaridade de cossenos será próxima de 0.\n",
    "\n",
    "## 2.3 **Matematicamente**\n",
    "\n",
    "A fórmula é:\n",
    "\n",
    "$$\n",
    "\\text{similaridade(A,B)} = \\frac{\\mathbf{A} \\cdot \\mathbf{B}}{\\|\\mathbf{A}\\| \\|\\mathbf{B}\\|}\n",
    "$$\n",
    "\n",
    "Onde:\n",
    "- $ \\mathbf{A} \\cdot \\mathbf{B} $ é o produto escalar dos vetores (soma da multiplicação de cada componente correspondente).\n",
    "- $ \\|\\mathbf{A}\\|$ e $ \\|\\mathbf{B}\\| $ são as magnitudes (ou \"comprimentos\") dos vetores."
   ]
  },
  {
   "cell_type": "markdown",
   "id": "c9ec7135cfc8180a",
   "metadata": {},
   "source": [
    "# 3. Vetorização das Sinopses\n",
    "\n",
    "Para que os algoritmos de machine learning compreendam e processem dados textuais, como as sinopses ou tags dos filmes, precisamos primeiro convertê-los em vetores numéricos. Bag of Words (BoW) e TF-IDF são duas abordagens fundamentais e amplamente utilizadas para essa tarefa de **vetorização**."
   ]
  },
  {
   "cell_type": "markdown",
   "id": "3b73771e49ff8607",
   "metadata": {},
   "source": [
    "## 3.1 Bag of Worlds (BoW)\n",
    "\n",
    "Como primeira abordagem, utilizamos o Bag of Words (BoW). Este método representa os textos contando a frequência de cada palavra, de forma simples e direta.\n",
    "\n",
    "**Expectativa:** Espera-se que o BoW capture similaridades baseadas na sobreposição direta de palavras-chave entre as 'tags' dos filmes. Recomendações podem ser relevantes se os filmes compartilham muitos termos descritivos, mas podem também ser influenciadas por palavras muito comuns (mesmo com stop words removidas) ou falhar em capturar relações de significado mais sutis que não envolvam as mesmas palavras exatas. É um ponto de partida para estabelecermos uma linha de base."
   ]
  },
  {
   "cell_type": "code",
   "execution_count": 13,
   "id": "9b2e3f8e9b36665",
   "metadata": {
    "ExecuteTime": {
     "end_time": "2025-04-28T00:55:32.451563Z",
     "start_time": "2025-04-28T00:41:20.884379Z"
    }
   },
   "outputs": [],
   "source": [
    "bow_vectorizer = CountVectorizer( max_features = 10000, stop_words = 'english' )\n",
    "bow_matrix = bow_vectorizer.fit_transform( df_new[ 'tags' ].values.astype( 'U' ) ).toarray()\n",
    "\n",
    "cosine_sim_bow = cosine_similarity( bow_matrix )"
   ]
  },
  {
   "cell_type": "markdown",
   "id": "23a59c1df8c112ed",
   "metadata": {},
   "source": [
    "## 3.2 TF-IDF (Term Frequency-Inverse Document Frequency)\n",
    "\n",
    "Agora, aplicamos o TF-IDF. Diferente do BoW que trata todas as palavras igualmente, o TF-IDF atribui um peso maior às palavras que são frequentes em um documento específico, mas raras no conjunto geral de documentos. Isso ajuda a destacar termos mais discriminativos.\n",
    "\n",
    "**Expectativa:** Com o TF-IDF, espera-se uma melhoria em relação ao BoW. Ao dar mais importância a palavras potencialmente mais significativas e reduzir o peso de termos muito genéricos, as recomendações podem se tornar mais focadas nos aspectos distintivos dos filmes. É possível que vejamos recomendações mais precisas, menos influenciadas por palavras excessivamente comuns nas 'tags'."
   ]
  },
  {
   "cell_type": "code",
   "execution_count": 14,
   "id": "d0d3a7af5b019d90",
   "metadata": {
    "ExecuteTime": {
     "end_time": "2025-04-28T00:55:32.453982Z",
     "start_time": "2025-04-28T00:41:30.918757Z"
    }
   },
   "outputs": [],
   "source": [
    "tfidf_vectorizer = TfidfVectorizer( max_features = 10000, stop_words = 'english' )\n",
    "tfidf_matrix = tfidf_vectorizer.fit_transform( df_new[ 'tags' ].values.astype( 'U' ) ).toarray()\n",
    "\n",
    "cosine_sim_tfidf = cosine_similarity( tfidf_matrix )"
   ]
  },
  {
   "cell_type": "markdown",
   "id": "78281b052115abe9",
   "metadata": {},
   "source": [
    "# 4. Recomendação Baseada em Similaridade (Sentence-BERT)\n",
    "\n",
    "Avançamos agora para uma técnica mais moderna e sofisticada: Sentence-BERT. Diferente do BoW e TF-IDF (que focam em palavras isoladas), o SBERT utiliza modelos Transformer pré-treinados para gerar embeddings que capturam o *significado semântico* do texto como um todo, considerando o contexto das palavras.\n",
    "\n",
    "**Expectativa:** A expectativa aqui é um salto qualitativo nas recomendações. O SBERT deve ser capaz de identificar filmes similares mesmo que eles não usem exatamente as mesmas palavras-chave em suas 'tags', mas expressem ideias ou temas semanticamente próximos. Espera-se que as recomendações sejam mais contextuais, relevantes e capazes de capturar nuances de significado que os métodos anteriores não conseguiam."
   ]
  },
  {
   "cell_type": "markdown",
   "id": "6b64f36dbe57105d",
   "metadata": {},
   "source": [
    "## 4.1 Criação do Mapeamento Título -> Índice\n",
    "\n",
    "Cria uma estrutura de dados (Pandas Series) que permite encontrar rapidamente o índice de um filme no DataFrame a partir do seu título. Isso otimiza as buscas dentro da função de recomendação. `drop_duplicates()` garante que, se houver títulos idênticos, apenas o primeiro índice seja mantido no mapeamento."
   ]
  },
  {
   "cell_type": "code",
   "execution_count": 15,
   "id": "772d0520c9442559",
   "metadata": {
    "ExecuteTime": {
     "end_time": "2025-04-28T00:55:32.456136Z",
     "start_time": "2025-04-28T00:41:39.750462Z"
    }
   },
   "outputs": [
    {
     "name": "stdout",
     "output_type": "stream",
     "text": [
      "Mapeamento Título -> Índice ('indices') criado com sucesso.\n"
     ]
    }
   ],
   "source": [
    "if 'df' in globals() and isinstance( df, pd.DataFrame ) and 'title' in df.columns:\n",
    "    # Cria a Série: index é o título, valor é o índice original do DataFrame\n",
    "    indices = pd.Series( df.index, index = df[ 'title' ] ).drop_duplicates()\n",
    "    print( \"Mapeamento Título -> Índice ('indices') criado com sucesso.\" )\n",
    "else:\n",
    "    print( \"Erro: DataFrame 'df' ou coluna 'title' não encontrada. Não foi possível criar o mapeamento 'indices'.\" )\n",
    "    # Define indices como None para que as funções de recomendação falhem de forma controlada\n",
    "    indices = None"
   ]
  },
  {
   "cell_type": "markdown",
   "id": "adc9c18565f658ef",
   "metadata": {},
   "source": [
    "## 4.2 Definição da Função `recommend_by_synopsis`\n",
    "\n",
    "Define a função que recebe um título de filme e uma matriz de similaridade. Ela usa o mapeamento 'indices' para encontrar o filme, localiza seus scores de similaridade na matriz, ordena os outros filmes por similaridade decrescente e retorna os 'top_n' mais similares junto com seus scores."
   ]
  },
  {
   "cell_type": "code",
   "execution_count": 35,
   "id": "e853249fad8c3f6f",
   "metadata": {
    "ExecuteTime": {
     "end_time": "2025-04-28T00:55:32.458134Z",
     "start_time": "2025-04-28T00:41:39.825660Z"
    }
   },
   "outputs": [],
   "source": [
    "def recommend_by_synopsis( titulo, cosine_sim_matrix, data = df, mapping = indices, top_n = 10 ):\n",
    "    \"\"\"\n",
    "    Gera recomendações de filmes baseadas na similaridade de vetores.\n",
    "\n",
    "    Retorna os títulos e suas pontuações de similaridade com o filme de entrada.\n",
    "\n",
    "    Args:\n",
    "        titulo (str): O título do filme base para a recomendação.\n",
    "        cosine_sim_matrix (np.array): Matriz de similaridade de cossenos pré-calculada.\n",
    "                                      Pode ser None se ocorreu erro no cálculo.\n",
    "        data (pd.DataFrame): DataFrame contendo pelo menos 'title'.\n",
    "        mapping (pd.Series): Mapeamento de títulos para índices do DataFrame.\n",
    "                             Pode ser None se ocorreu erro na criação.\n",
    "        top_n (int): Número de recomendações a serem retornadas.\n",
    "\n",
    "    Returns:\n",
    "        list: Lista de tuplas (titulo_recomendado, similaridade), ou str com erro.\n",
    "    \"\"\"\n",
    "    # Validações iniciais\n",
    "    if cosine_sim_matrix is None:\n",
    "        return f\"Erro: Matriz de similaridade não fornecida ou inválida.\"\n",
    "    if mapping is None:\n",
    "        return f\"Erro: Mapeamento Título->Índice ('indices') não está disponível.\"\n",
    "    if not isinstance( data, pd.DataFrame ) or 'title' not in data.columns:\n",
    "        return f\"Erro: DataFrame 'data' inválido ou sem coluna 'title'.\"\n",
    "\n",
    "    try:\n",
    "        # --- Encontra o índice do filme de entrada ---\n",
    "        if titulo not in mapping:\n",
    "            \n",
    "            # # Busca flexível (case-insensitive, sem espaços extras)\n",
    "            title_match = None\n",
    "            for t in mapping.index:\n",
    "                if isinstance( t, str ) and t.lower().strip() == titulo.lower().strip():\n",
    "                    title_match = t\n",
    "                    break\n",
    "            \n",
    "            if not title_match: raise KeyError  # Dispara erro se não encontrar\n",
    "            idx = mapping[ title_match ]\n",
    "            print( f\"Nota: Buscando por '{title_match}' (match para '{titulo}')\" )\n",
    "        else:\n",
    "            idx = mapping[ titulo ]  # Índice do filme de entrada\n",
    "\n",
    "        # Valida o índice\n",
    "        if idx >= len( cosine_sim_matrix ):\n",
    "            raise ValueError(\n",
    "                    f\"Índice {idx} (para '{titulo}') está fora dos limites da matriz de similaridade ({len( cosine_sim_matrix )}).\" )\n",
    "\n",
    "        # --- Calcula e Ordena Similaridades ---\n",
    "        # Obtém as pontuações de similaridade do filme 'idx' com todos os outros\n",
    "        sim_scores = list( enumerate( cosine_sim_matrix[ idx ] ) )\n",
    "\n",
    "        # Ordena pela similaridade (item [1] da tupla), decrescente\n",
    "        sim_scores = sorted( sim_scores, key = lambda x: x[ 1 ], reverse = True )\n",
    "\n",
    "        # --- Seleciona Top N e Formata Saída ---\n",
    "        # Seleciona os top_n mais similares (excluindo o próprio filme - índice 1 em diante)\n",
    "        sim_scores = sim_scores[ 1:top_n + 1 ]\n",
    "\n",
    "        # Monta a lista de resultados (título, score)\n",
    "        recomendacoes = [ ]\n",
    "        for index, score in sim_scores:\n",
    "            # Checa se o índice do filme recomendado é válido no DataFrame 'data'\n",
    "\n",
    "            titulo_filme = data[ 'title' ].iloc[ index ]\n",
    "            recomendacoes.append( (titulo_filme, score) )\n",
    "\n",
    "            if index < len( data ):\n",
    "                titulo_filme = data[ 'title' ].iloc[ index ]\n",
    "                recomendacoes.append( (titulo_filme, score) )\n",
    "                \n",
    "            else: # Opcional: Avisar sobre índice inválido\n",
    "               print(f\"Aviso: Índice de recomendação {index} fora dos limites do DataFrame. Ignorando.\")\n",
    "\n",
    "        if not recomendacoes:\n",
    "            return \"Nenhuma recomendação encontrada (após filtrar o próprio filme).\"\n",
    "\n",
    "        return recomendacoes\n",
    "\n",
    "    except KeyError:\n",
    "        suggestion = [ t for t in mapping.index if isinstance( t, str ) and titulo.lower() in t.lower() ][\n",
    "                     :5 ]  # Sugestões simples\n",
    "        error_msg = f\"Erro: Filme '{titulo}' não encontrado no dataset.\"\n",
    "        if suggestion: error_msg += f\" Títulos similares: {suggestion}\"\n",
    "        return error_msg\n",
    "    except ValueError as ve:\n",
    "        return f\"Erro de valor ao processar '{titulo}': {ve}\"\n",
    "    except Exception as e:\n",
    "        import traceback\n",
    "        print( f\"Erro inesperado em recommend_by_synopsis para '{titulo}': {type( e ).__name__} - {e}\" )\n",
    "        # traceback.print_exc() # Descomente para ver o stack trace completo\n",
    "        return \"Ocorreu um erro inesperado durante a recomendação por similaridade.\""
   ]
  },
  {
   "cell_type": "markdown",
   "id": "ecc24bd98a373581",
   "metadata": {},
   "source": [
    "## 4.3 Aplicação: Recomendações com BoW e TF-IDF\n",
    "\n",
    "Utiliza a função `recommend_by_synopsis` para gerar recomendações para um filme de exemplo, usando as matrizes de similaridade calculadas anteriormente com Bag of Words (`cosine_sim_bow`) e TF-IDF (`cosine_sim_tfidf`). Os resultados de cada método são impressos para comparação."
   ]
  },
  {
   "cell_type": "code",
   "execution_count": 36,
   "id": "7fb36e08ee1e8814",
   "metadata": {
    "jupyter": {
     "is_executing": true
    }
   },
   "outputs": [
    {
     "name": "stdout",
     "output_type": "stream",
     "text": [
      "\n",
      "--- Testando Recomendações por Similaridade (BoW e TF-IDF) ---\n",
      "Filme de exemplo: 'The Dark Knight Rises'\n",
      "\n",
      "--- Recomendações para 'The Dark Knight Rises' (BoW) ---\n",
      "1. Batman: The Long Halloween, Part One (Similaridade: 0.392)\n",
      "2. Batman: The Long Halloween, Part Two (Similaridade: 0.379)\n",
      "3. The Dark Knight (Similaridade: 0.332)\n",
      "4. Batman: Gotham by Gaslight (Similaridade: 0.296)\n",
      "5. Batman: The Dark Knight Returns, Part 1 (Similaridade: 0.275)\n",
      "\n",
      "--- Recomendações para 'The Dark Knight Rises' (TF-IDF) ---\n",
      "1. Batman: The Long Halloween, Part Two (Similaridade: 0.432)\n",
      "2. Batman: The Long Halloween, Part One (Similaridade: 0.404)\n",
      "3. The Dark Knight (Similaridade: 0.318)\n",
      "4. Batman Forever (Similaridade: 0.226)\n",
      "5. The Batman (Similaridade: 0.226)\n"
     ]
    }
   ],
   "source": [
    "print( \"\\n--- Testando Recomendações por Similaridade (BoW e TF-IDF) ---\" )\n",
    "\n",
    "# Define o filme de exemplo\n",
    "filme_exemplo = \"The Dark Knight Rises\"\n",
    "print( f\"Filme de exemplo: '{filme_exemplo}'\" )\n",
    "\n",
    "# --- Teste com BoW ---\n",
    "print( f\"\\n--- Recomendações para '{filme_exemplo}' (BoW) ---\" )\n",
    "# Verifica se a matriz BoW e o mapeamento 'indices' estão disponíveis\n",
    "if 'cosine_sim_bow' in globals() and cosine_sim_bow is not None and indices is not None:\n",
    "    recomendacoes_bow = recommend_by_synopsis( filme_exemplo, cosine_sim_matrix = cosine_sim_bow, top_n = 5 )\n",
    "    # Imprime o resultado\n",
    "    if isinstance( recomendacoes_bow, list ):\n",
    "        if not recomendacoes_bow:\n",
    "            print( \"Nenhuma recomendação BoW encontrada.\" )\n",
    "        else:\n",
    "            for i, (filme, score) in enumerate( recomendacoes_bow ): print(\n",
    "                    f\"{i + 1}. {filme} (Similaridade: {score:.3f})\" )\n",
    "    else:\n",
    "        print( recomendacoes_bow )  # Exibe a mensagem de erro\n",
    "else:\n",
    "    print( \"Não foi possível gerar recomendações BoW (dependências ausentes: 'cosine_sim_bow' ou 'indices').\" )\n",
    "\n",
    "# --- Teste com TF-IDF ---\n",
    "print( f\"\\n--- Recomendações para '{filme_exemplo}' (TF-IDF) ---\" )\n",
    "# Verifica se a matriz TF-IDF e o mapeamento 'indices' estão disponíveis\n",
    "if 'cosine_sim_tfidf' in globals() and cosine_sim_tfidf is not None and indices is not None:\n",
    "    recomendacoes_tfidf = recommend_by_synopsis( filme_exemplo, cosine_sim_matrix = cosine_sim_tfidf, top_n = 5 )\n",
    "    # Imprime o resultado\n",
    "    if isinstance( recomendacoes_tfidf, list ):\n",
    "        if not recomendacoes_tfidf:\n",
    "            print( \"Nenhuma recomendação TF-IDF encontrada.\" )\n",
    "        else:\n",
    "            for i, (filme, score) in enumerate( recomendacoes_tfidf ): print(\n",
    "                    f\"{i + 1}. {filme} (Similaridade: {score:.3f})\" )\n",
    "    else:\n",
    "        print( recomendacoes_tfidf )  # Exibe a mensagem de erro\n",
    "else:\n",
    "    print( \"Não foi possível gerar recomendações TF-IDF (dependências ausentes: 'cosine_sim_tfidf' ou 'indices').\" )"
   ]
  },
  {
   "cell_type": "markdown",
   "id": "17e4e89f819eee7c",
   "metadata": {},
   "source": [
    "# 5. Vetorização Semântica (Sentence-BERT)\n",
    "\n",
    "Nesta seção, utiliza-se um modelo Sentence-BERT pré-treinado para gerar embeddings (vetores) que capturam o significado semântico das 'tags' dos filmes. Esta abordagem visa superar as limitações do BoW e TF-IDF, que se baseiam principalmente na frequência de palavras, capturando relações de significado mais profundas. O processo inclui salvar/carregar os embeddings para otimizar execuções futuras e o cálculo da matriz de similaridade baseada nesses embeddings."
   ]
  },
  {
   "cell_type": "markdown",
   "id": "44a20a32f823ebbd",
   "metadata": {},
   "source": [
    "## 5.1 Configuração do Modelo e Arquivo de Embeddings\n",
    "\n",
    "Define qual modelo Sentence-BERT será utilizado (aqui, 'all-mpnet-base-v2', otimizado para inglês) e o nome do arquivo `.npy` onde os embeddings serão salvos ou de onde serão carregados."
   ]
  },
  {
   "cell_type": "code",
   "execution_count": 71,
   "id": "71b30c0a7141a56c",
   "metadata": {
    "ExecuteTime": {
     "end_time": "2025-04-28T00:55:32.463214Z",
     "start_time": "2025-04-28T00:41:39.911556Z"
    }
   },
   "outputs": [
    {
     "name": "stdout",
     "output_type": "stream",
     "text": [
      "Modelo SBERT selecionado: all-mpnet-base-v2\n",
      "Arquivo para embeddings: movie_tags_embeddings_sbert.npy\n"
     ]
    }
   ],
   "source": [
    "# --- Configurações ---\n",
    "MODEL_NAME_SBERT = 'all-mpnet-base-v2'\n",
    "# MODEL_NAME_SBERT = 'paraphrase-multilingual-mpnet-base-v2'\n",
    "# Nome do arquivo para salvar/carregar embeddings\n",
    "# (Usando o nome fixo do script original do usuário)\n",
    "EMBEDDINGS_FILE_SBERT = 'movie_tags_embeddings_sbert.npy'\n",
    "\n",
    "print( f\"Modelo SBERT selecionado: {MODEL_NAME_SBERT}\" )\n",
    "print( f\"Arquivo para embeddings: {EMBEDDINGS_FILE_SBERT}\" )"
   ]
  },
  {
   "cell_type": "markdown",
   "id": "b878aafa969258ff",
   "metadata": {},
   "source": [
    "## 5.2 Geração ou Carregamento dos Embeddings SBERT\n",
    "\n",
    "Verifica se o arquivo `.npy` com os embeddings já existe.\n",
    "- Se existir, carrega os embeddings do arquivo (rápido).\n",
    "- Se não existir (ou ocorrer erro ao carregar), carrega o modelo Sentence-BERT (pode baixar na primeira vez), gera os embeddings para todas as 'tags' (processo demorado) e salva o resultado no arquivo `.npy` para uso futuro."
   ]
  },
  {
   "cell_type": "code",
   "execution_count": 74,
   "id": "a283539be320394b",
   "metadata": {
    "ExecuteTime": {
     "end_time": "2025-04-28T00:55:32.464140Z",
     "start_time": "2025-04-28T00:41:39.947339Z"
    }
   },
   "outputs": [
    {
     "name": "stdout",
     "output_type": "stream",
     "text": [
      "\n",
      "Carregando modelo Sentence-BERT: 'all-mpnet-base-v2' (pode baixar na 1ª vez)...\n",
      "Modelo carregado.\n",
      "Preparando a lista de 'tags' para codificação (pode levar um momento)...\n",
      "\n",
      "Gerando embeddings com Sentence-BERT... (Processo pode ser demorado)\n",
      "\n",
      "Embeddings gerados com sucesso! Shape: (9987, 768)\n",
      "Normalizando os embeddings...\n",
      "Salvando embeddings em 'movie_tags_embeddings_sbert.npy'...\n",
      "Embeddings salvos para uso futuro.\n"
     ]
    }
   ],
   "source": [
    "from sklearn.preprocessing import normalize\n",
    "embeddings_sbert = None  # Inicializa a variável\n",
    "\n",
    "# Verifica se o arquivo existe\n",
    "if os.path.exists( EMBEDDINGS_FILE_SBERT ):\n",
    "    print( f\"\\nTentando carregar embeddings pré-calculados de '{EMBEDDINGS_FILE_SBERT}'...\" )\n",
    "    try:\n",
    "        embeddings_sbert = np.load( EMBEDDINGS_FILE_SBERT )\n",
    "        print( f\"Embeddings carregados com sucesso. Shape: {embeddings_sbert.shape}\" )\n",
    "        # Validação: compara o número de embeddings com o número de linhas em df_new\n",
    "        # Presume que df_new (com id, title, tags) existe, conforme script original\n",
    "        if 'df_new' in globals() and isinstance( df_new, pd.DataFrame ):\n",
    "            if embeddings_sbert.shape[ 0 ] != len( df_new ):\n",
    "                print(\n",
    "                        f\"Aviso: Número de embeddings ({embeddings_sbert.shape[ 0 ]}) \"\n",
    "                        f\"não corresponde ao tamanho do DataFrame df_new ({len( df_new )}).\" )\n",
    "                print( \"Os embeddings serão gerados novamente.\" )\n",
    "                embeddings_sbert = None  # Força a regeração\n",
    "            else:\n",
    "                print( \"Número de embeddings compatível com df_new.\" )\n",
    "        else:\n",
    "            print( \"Aviso: DataFrame df_new não encontrado para validação do shape dos embeddings.\" )\n",
    "            # Prossegue com os embeddings carregados, mas avisa sobre a impossibilidade de validar o tamanho.\n",
    "\n",
    "    except Exception as e:\n",
    "        print( f\"Erro ao carregar o arquivo de embeddings '{EMBEDDINGS_FILE_SBERT}': {e}\" )\n",
    "        print( \"Os embeddings serão gerados novamente.\" )\n",
    "        embeddings_sbert = None\n",
    "\n",
    "# Gera os embeddings se não foram carregados\n",
    "if embeddings_sbert is None:\n",
    "    # Verifica se df_new existe antes de prosseguir\n",
    "    if 'df_new' not in globals() or not isinstance( df_new, pd.DataFrame ):\n",
    "        print( \"Erro fatal: DataFrame 'df_new' (com a coluna 'tags') não está disponível para gerar embeddings.\" )\n",
    "        # Impede a continuação se df_new não existir\n",
    "        # exit() ou levantar uma exceção\n",
    "    else:\n",
    "        try:\n",
    "            # Carrega o modelo SentenceTransformer\n",
    "            print( f\"\\nCarregando modelo Sentence-BERT: '{MODEL_NAME_SBERT}' (pode baixar na 1ª vez)...\" )\n",
    "            model_sbert = SentenceTransformer( MODEL_NAME_SBERT )\n",
    "            print( \"Modelo carregado.\" )\n",
    "\n",
    "            # Prepara a lista de 'tags' a partir de df_new\n",
    "            print( \"Preparando a lista de 'tags' para codificação (pode levar um momento)...\" )\n",
    "            tags_list = df_new[ 'tags' ].astype( str ).tolist()  # Usa df_new como dataset\n",
    "\n",
    "            # Gera os embeddings (etapa demorada)\n",
    "            print( \"\\nGerando embeddings com Sentence-BERT... (Processo pode ser demorado)\" )\n",
    "            embeddings_sbert = model_sbert.encode( tags_list, show_progress_bar = False )\n",
    "            print( f\"\\nEmbeddings gerados com sucesso! Shape: {embeddings_sbert.shape}\" )\n",
    "\n",
    "            if embeddings_sbert is not None:\n",
    "                print(\"Normalizando os embeddings...\")\n",
    "                embeddings_sbert = normalize(embeddings_sbert)  # Normaliza os embeddings\n",
    "            else:\n",
    "                print(\"Não foi possível normalizar os embeddings (embeddings não disponíveis).\")\n",
    "                embeddings_sbert_normalized = None\n",
    "\n",
    "\n",
    "            # Salva os embeddings calculados\n",
    "            try:\n",
    "                print( f\"Salvando embeddings em '{EMBEDDINGS_FILE_SBERT}'...\" )\n",
    "                if embeddings_sbert_normalized is not None:\n",
    "                    np.save( EMBEDDINGS_FILE_SBERT, embeddings_sbert_normalized )\n",
    "                    print( \"Embeddings salvos para uso futuro.\" )\n",
    "                else: raise Exception\n",
    "            except Exception as e:\n",
    "                print( f\"Atenção: Não foi possível salvar os embeddings. Erro: {e}\" )\n",
    "\n",
    "        except ImportError:\n",
    "            print(\n",
    "                    \"Erro: Biblioteca sentence-transformers não encontrada. Instale com: pip install sentence-transformers\" )\n",
    "        except Exception as e:\n",
    "            print( f\"\\nErro crítico durante o processo do Sentence-BERT: {type( e ).__name__} - {e}\" )\n",
    "            print( \"Verifique a conexão com a internet e se o modelo é válido.\" )\n",
    "            # Garante que embeddings_sbert permaneça None se falhar\n",
    "            embeddings_sbert = None"
   ]
  },
  {
   "cell_type": "markdown",
   "id": "4c130da449f3aa4f",
   "metadata": {},
   "source": [
    "## 5.3 Cálculo da Matriz de Similaridade SBERT\n",
    "\n",
    "Com os embeddings SBERT (carregados ou recém-gerados) disponíveis, calcula a matriz de similaridade de cossenos entre todos os pares de filmes. Esta matriz (`cosine_sim_sbert`) representa a similaridade semântica entre os filmes, baseada no modelo SBERT."
   ]
  },
  {
   "cell_type": "code",
   "execution_count": 76,
   "id": "a6d713c3c45d54c2",
   "metadata": {
    "ExecuteTime": {
     "end_time": "2025-04-28T00:55:32.466245Z",
     "start_time": "2025-04-28T00:41:39.979341Z"
    }
   },
   "outputs": [
    {
     "name": "stdout",
     "output_type": "stream",
     "text": [
      "\n",
      "Calculando a matriz de similaridade de cossenos (SBERT)...\n",
      "Matriz de similaridade (Sentence-BERT) calculada. Shape: (9987, 9987)\n"
     ]
    }
   ],
   "source": [
    "# Calcula a Similaridade de Cossenos\n",
    "cosine_sim_sbert = None  # Inicializa\n",
    "if embeddings_sbert is not None:\n",
    "    try:\n",
    "        print( \"\\nCalculando a matriz de similaridade de cossenos (SBERT)...\" )\n",
    "        # Usa a função do scikit-learn nos embeddings\n",
    "        cosine_sim_sbert = cosine_similarity( embeddings_sbert )\n",
    "        print( f\"Matriz de similaridade (Sentence-BERT) calculada. Shape: {cosine_sim_sbert.shape}\" )\n",
    "    except Exception as e:\n",
    "        print( f\"Erro ao calcular a similaridade de cossenos com embeddings SBERT: {e}\" )\n",
    "else:\n",
    "    print( \"\\nNão foi possível calcular a similaridade SBERT (embeddings não disponíveis).\" )"
   ]
  },
  {
   "cell_type": "markdown",
   "id": "daad7a672629c8df",
   "metadata": {},
   "source": [
    "## 5.4 Aplicação: Recomendações com SBERT\n",
    "\n",
    "Utiliza a função `recommend_by_synopsis` (definida na Seção 5) para gerar recomendações para o filme de exemplo, desta vez usando a matriz de similaridade semântica `cosine_sim_sbert`. Os resultados são impressos."
   ]
  },
  {
   "cell_type": "code",
   "execution_count": 77,
   "id": "6419e20d4ad1fae1",
   "metadata": {
    "ExecuteTime": {
     "end_time": "2025-04-28T00:55:32.468054Z",
     "start_time": "2025-04-28T00:41:40.489747Z"
    }
   },
   "outputs": [
    {
     "name": "stdout",
     "output_type": "stream",
     "text": [
      "\n",
      "--- Testando Recomendações por Similaridade (Sentence-BERT) ---\n",
      "\n",
      "--- Recomendações para 'The Dark Knight Rises' (Sentence-BERT) ---\n",
      "1. The Dark Knight (Similaridade Semântica: 0.861)\n",
      "2. The Batman (Similaridade Semântica: 0.804)\n",
      "3. Batman: The Long Halloween, Part One (Similaridade Semântica: 0.788)\n",
      "4. Batman: The Long Halloween, Part Two (Similaridade Semântica: 0.776)\n",
      "5. Batman Begins (Similaridade Semântica: 0.773)\n"
     ]
    }
   ],
   "source": [
    "# --- Aplicação da Recomendação SBERT ---\n",
    "print( \"\\n--- Testando Recomendações por Similaridade (Sentence-BERT) ---\" )\n",
    "\n",
    "# Presume que 'filme_exemplo' foi definido anteriormente\n",
    "# Presume que 'recommend_by_synopsis', 'df', e 'indices' estão definidos\n",
    "if 'filme_exemplo' not in globals():\n",
    "    filme_exemplo = \"Bohemian Rhapsody\"  # Define um padrão se não existir\n",
    "    print( f\"Aviso: 'filme_exemplo' não definido, usando '{filme_exemplo}'.\" )\n",
    "\n",
    "# Verifica se a matriz de similaridade SBERT foi calculada com sucesso\n",
    "if cosine_sim_sbert is not None and 'recommend_by_synopsis' in globals() and indices is not None:\n",
    "    print( f\"\\n--- Recomendações para '{filme_exemplo}' (Sentence-BERT) ---\" )\n",
    "\n",
    "    recomendacoes_sbert = recommend_by_synopsis(\n",
    "            filme_exemplo,\n",
    "            cosine_sim_matrix = cosine_sim_sbert,  # Passa a matriz SBERT\n",
    "            # data = df,  # DataFrame original para buscar títulos\n",
    "            # mapping = indices,  # Mapeamento título->índice\n",
    "            top_n = 5  # Número de recomendações\n",
    "    )\n",
    "\n",
    "    # Imprime o resultado\n",
    "    if isinstance( recomendacoes_sbert, list ):\n",
    "        if not recomendacoes_sbert:\n",
    "            print( \"Nenhuma recomendação SBERT encontrada.\" )\n",
    "        else:\n",
    "            for i, (filme, score) in enumerate( recomendacoes_sbert ):\n",
    "                print( f\"{i + 1}. {filme} (Similaridade Semântica: {score:.3f})\" )\n",
    "    else:\n",
    "        # Imprime a mensagem de erro retornada pela função\n",
    "        print( recomendacoes_sbert )\n",
    "else:\n",
    "    print( \"\\nNão é possível gerar recomendações com Sentence-BERT.\" )\n",
    "    if cosine_sim_sbert is None: print( \"  Motivo: Matriz de similaridade SBERT ausente.\" )\n",
    "    if 'recommend_by_synopsis' not in globals(): print( \"  Motivo: Função 'recommend_by_synopsis' não definida.\" )\n",
    "    if indices is None: print( \"  Motivo: Mapeamento 'indices' ausente.\" )"
   ]
  },
  {
   "cell_type": "code",
   "execution_count": 79,
   "id": "0ee71af6-888b-41c6-8445-94ce994a2bc4",
   "metadata": {},
   "outputs": [
    {
     "data": {
      "image/png": "[encoded data removed]",
      "text/plain": [
       "<Figure size 800x600 with 1 Axes>"
      ]
     },
     "metadata": {},
     "output_type": "display_data"
    },
    {
     "data": {
      "image/png": "[encoded data removed]",
      "text/plain": [
       "<Figure size 800x600 with 1 Axes>"
      ]
     },
     "metadata": {},
     "output_type": "display_data"
    }
   ],
   "source": [
    "from sklearn.decomposition import PCA\n",
    "from sklearn.manifold import TSNE\n",
    "\n",
    "if embeddings_sbert is not None:\n",
    "    # Visualização com PCA\n",
    "    pca = PCA(n_components=2)\n",
    "    pca_result = pca.fit_transform(embeddings_sbert)\n",
    "    df_pca = pd.DataFrame(pca_result, columns=['pca_1', 'pca_2'])\n",
    "\n",
    "    plt.figure(figsize=(8, 6))\n",
    "    plt.scatter(df_pca['pca_1'], df_pca['pca_2'])\n",
    "    plt.title('PCA dos Embeddings')\n",
    "    plt.xlabel('Componente Principal 1')\n",
    "    plt.ylabel('Componente Principal 2')\n",
    "    plt.show()\n",
    "\n",
    "    # Visualização com t-SNE (pode ser lento para grandes datasets)\n",
    "    tsne = TSNE(n_components=2, random_state=42, perplexity=30, max_iter=300)\n",
    "    tsne_result = tsne.fit_transform(embeddings_sbert)\n",
    "    df_tsne = pd.DataFrame(tsne_result, columns=['tsne_1', 'tsne_2'])\n",
    "\n",
    "    plt.figure(figsize=(8, 6))\n",
    "    plt.scatter(df_tsne['tsne_1'], df_tsne['tsne_2'])\n",
    "    plt.title('t-SNE dos Embeddings')\n",
    "    plt.xlabel('t-SNE Componente 1')\n",
    "    plt.ylabel('t-SNE Componente 2')\n",
    "    plt.show()\n",
    "\n",
    "    # Se você tiver rótulos (por exemplo, gêneros), pode colorir os pontos:\n",
    "    # df_visual = pd.concat([df_pca, df_new['genre']], axis=1) # Supondo que 'genre' esteja em df_new\n",
    "    # plt.figure(figsize=(10, 8))\n",
    "    # for genre in df_visual['genre'].unique():\n",
    "    #     subset = df_visual[df_visual['genre'] == genre]\n",
    "    #     plt.scatter(subset['pca_1'], subset['pca_2'], label=genre)\n",
    "    # plt.legend()\n",
    "    # plt.show()\n",
    "\n",
    "else:\n",
    "    print(\"Não foi possível visualizar os embeddings (embeddings não disponíveis).\")"
   ]
  },
  {
   "cell_type": "markdown",
   "id": "e52a4464b2d168f9",
   "metadata": {},
   "source": [
    "# 6. Clustering de Filmes\n",
    "\n",
    "Após gerar embeddings semânticos ricos com SBERT, exploramos uma abordagem diferente: o Clustering. Em vez de apenas encontrar os vizinhos mais próximos por similaridade direta, agrupamos *todos* os filmes em K clusters usando o algoritmo K-Means. A ideia é que cada cluster represente um grupo de filmes tematicamente coesos.\n",
    "\n",
    "**Expectativa:** O clustering pode revelar a estrutura temática subjacente no catálogo de filmes. Para recomendação (Seção 7), espera-se que sugerir outros filmes do mesmo cluster possa levar a descobertas mais diversas ou inesperadas (serendipity) do que apenas os mais similares. A qualidade dependerá da coesão dos clusters formados e da eficácia da ordenação dos filmes dentro de cada cluster. É uma forma diferente de explorar a similaridade semântica capturada pelos embeddings SBERT."
   ]
  },
  {
   "cell_type": "markdown",
   "id": "b7d4ede385ca8803",
   "metadata": {},
   "source": [
    "## 6.1 Preparação e Verificação Inicial\n",
    "\n",
    "Importa as bibliotecas específicas para clustering (se não importadas globalmente), configura para ignorar avisos comuns do K-Means e verifica se os embeddings SBERT, necessários para o clustering, estão disponíveis na memória."
   ]
  },
  {
   "cell_type": "code",
   "execution_count": 80,
   "id": "d4fa36a6f3efe3b6",
   "metadata": {
    "ExecuteTime": {
     "end_time": "2025-04-28T00:55:32.469908Z",
     "start_time": "2025-04-28T00:41:40.521013Z"
    }
   },
   "outputs": [
    {
     "name": "stdout",
     "output_type": "stream",
     "text": [
      "Verificação inicial: Usando embeddings SBERT com shape: (9987, 768)\n"
     ]
    }
   ],
   "source": [
    "warnings.filterwarnings( \"ignore\", category = FutureWarning, module = 'sklearn.cluster._kmeans' )\n",
    "warnings.filterwarnings( \"ignore\", category = UserWarning, module = 'sklearn.cluster._kmeans' )\n",
    "\n",
    "can_cluster: bool = False\n",
    "\n",
    "# Verificar se temos os embeddings SBERT disponíveis\n",
    "if 'embeddings_sbert' not in globals() or not isinstance( embeddings_sbert, np.ndarray ):\n",
    "    print( \"Erro: Embeddings SBERT ('embeddings_sbert') não encontrados ou inválidos.\" )\n",
    "    print( \"Por favor, execute a seção anterior (Sentence-BERT) para gerar ou carregar os embeddings.\" )\n",
    "    # Pode-se interromper a execução aqui ou definir uma flag\n",
    "    can_cluster = False\n",
    "else:\n",
    "    print( f\"Verificação inicial: Usando embeddings SBERT com shape: {embeddings_sbert.shape}\" )\n",
    "    can_cluster = True"
   ]
  },
  {
   "cell_type": "markdown",
   "id": "c69c85898c837665",
   "metadata": {},
   "source": [
    "## 6.2 Escolhendo K: Método do Cotovelo (Elbow Method)\n",
    "\n",
    "Calcula e plota a inércia (soma das distâncias quadráticas intra-cluster) para diferentes números de clusters (K). A \"dobra\" ou \"cotovelo\" no gráfico sugere um valor de K onde adicionar mais clusters não traz um ganho proporcional na explicação da variância, indicando um possível bom número de clusters."
   ]
  },
  {
   "cell_type": "code",
   "execution_count": 81,
   "id": "11bfd57fa0fd056f",
   "metadata": {
    "ExecuteTime": {
     "end_time": "2025-04-28T00:55:32.471853Z",
     "start_time": "2025-04-28T00:41:40.552336Z"
    }
   },
   "outputs": [
    {
     "name": "stdout",
     "output_type": "stream",
     "text": [
      "  Testando K=2...\n",
      "  Testando K=6...\n",
      "  Testando K=10...\n",
      "  Testando K=14...\n",
      "  Testando K=18...\n",
      "  Testando K=22...\n",
      "  Testando K=26...\n",
      "  Testando K=30...\n",
      "  Testando K=34...\n",
      "  Testando K=38...\n",
      "  Testando K=42...\n",
      "  Testando K=46...\n",
      "  Testando K=50...\n",
      "  Testando K=54...\n",
      "  Testando K=58...\n",
      "  Testando K=62...\n",
      "  Testando K=66...\n",
      "  Testando K=70...\n",
      "  Testando K=74...\n",
      "  Testando K=78...\n",
      "  Testando K=82...\n",
      "  Testando K=86...\n",
      "  Testando K=90...\n",
      "  Testando K=94...\n",
      "  Testando K=98...\n",
      "Cálculo da inércia concluído.\n"
     ]
    },
    {
     "data": {
      "image/png": "[encoded data removed]",
      "text/plain": [
       "<Figure size 1000x600 with 1 Axes>"
      ]
     },
     "metadata": {},
     "output_type": "display_data"
    },
    {
     "name": "stdout",
     "output_type": "stream",
     "text": [
      "\n",
      "Analise o gráfico acima para identificar um 'cotovelo'.\n"
     ]
    }
   ],
   "source": [
    "if can_cluster:\n",
    "    inertia = [ ]\n",
    "    # Define um range de K para testar (ajuste o fim do range e o passo se necessário)\n",
    "    k_range = range( 2, 101, 4 )  # Ex: De 2 a 100, de 4 em 4\n",
    "\n",
    "    try:\n",
    "        for k in k_range:\n",
    "            print( f\"  Testando K={k}...\" )\n",
    "            kmeans_elbow = KMeans(\n",
    "                    n_clusters = k, random_state = 42,\n",
    "                    n_init = 'auto' )  # n_init='auto' é recomendado nas versões mais recentes\n",
    "            kmeans_elbow.fit( embeddings_sbert )\n",
    "            inertia.append( kmeans_elbow.inertia_ )\n",
    "        print( \"Cálculo da inércia concluído.\" )\n",
    "\n",
    "        # Plotar o gráfico do cotovelo\n",
    "        plt.figure( figsize = (10, 6) )\n",
    "        plt.plot( k_range, inertia, marker = 'o', linestyle = '-' )\n",
    "        plt.title( 'Método do Cotovelo (Elbow Method)' )\n",
    "        plt.xlabel( 'Número de Clusters (K)' )\n",
    "        plt.ylabel( 'Inércia (WSS - Within-Cluster Sum of Squares)' )\n",
    "        plt.xticks( k_range )\n",
    "        plt.grid( True )\n",
    "        plt.show()\n",
    "\n",
    "        print( \"\\nAnalise o gráfico acima para identificar um 'cotovelo'.\" )\n",
    "\n",
    "    except Exception as e:\n",
    "        print( f\"\\nErro ao calcular o Método do Cotovelo: {e}\" )"
   ]
  },
  {
   "cell_type": "markdown",
   "id": "f33f24417552b846",
   "metadata": {},
   "source": [
    "## 6.3 Escolhendo K: Pontuação de Silhueta (Silhouette Score)\n",
    "\n",
    "Calcula e plota a pontuação média de silhueta para diferentes valores de K. Esta métrica avalia quão bem separados os clusters estão. Valores mais próximos de 1 indicam clusters mais densos e bem definidos. Um pico no gráfico sugere um valor de K ótimo."
   ]
  },
  {
   "cell_type": "code",
   "execution_count": 82,
   "id": "3e235babfd3fafd9",
   "metadata": {
    "ExecuteTime": {
     "end_time": "2025-04-28T00:55:32.474454Z",
     "start_time": "2025-04-28T00:41:55.333143Z"
    }
   },
   "outputs": [
    {
     "name": "stdout",
     "output_type": "stream",
     "text": [
      "  Testando K=2 para Silhueta...\n",
      "    Calculando score para K=2...\n",
      "    K=2, Silhouette Score=0.0707\n",
      "  Testando K=3 para Silhueta...\n",
      "    Calculando score para K=3...\n",
      "    K=3, Silhouette Score=0.0649\n",
      "  Testando K=4 para Silhueta...\n",
      "    Calculando score para K=4...\n",
      "    K=4, Silhouette Score=0.0680\n",
      "  Testando K=5 para Silhueta...\n",
      "    Calculando score para K=5...\n",
      "    K=5, Silhouette Score=0.0590\n",
      "  Testando K=6 para Silhueta...\n",
      "    Calculando score para K=6...\n",
      "    K=6, Silhouette Score=0.0520\n",
      "  Testando K=7 para Silhueta...\n",
      "    Calculando score para K=7...\n",
      "    K=7, Silhouette Score=0.0468\n",
      "  Testando K=8 para Silhueta...\n",
      "    Calculando score para K=8...\n",
      "    K=8, Silhouette Score=0.0524\n",
      "  Testando K=9 para Silhueta...\n",
      "    Calculando score para K=9...\n",
      "    K=9, Silhouette Score=0.0485\n",
      "  Testando K=10 para Silhueta...\n",
      "    Calculando score para K=10...\n",
      "    K=10, Silhouette Score=0.0453\n",
      "  Testando K=11 para Silhueta...\n",
      "    Calculando score para K=11...\n",
      "    K=11, Silhouette Score=0.0427\n",
      "  Testando K=12 para Silhueta...\n",
      "    Calculando score para K=12...\n",
      "    K=12, Silhouette Score=0.0396\n",
      "  Testando K=13 para Silhueta...\n",
      "    Calculando score para K=13...\n",
      "    K=13, Silhouette Score=0.0405\n",
      "  Testando K=14 para Silhueta...\n",
      "    Calculando score para K=14...\n",
      "    K=14, Silhouette Score=0.0399\n",
      "  Testando K=15 para Silhueta...\n",
      "    Calculando score para K=15...\n",
      "    K=15, Silhouette Score=0.0412\n",
      "  Testando K=16 para Silhueta...\n",
      "    Calculando score para K=16...\n",
      "    K=16, Silhouette Score=0.0415\n",
      "  Testando K=17 para Silhueta...\n",
      "    Calculando score para K=17...\n",
      "    K=17, Silhouette Score=0.0352\n",
      "  Testando K=18 para Silhueta...\n",
      "    Calculando score para K=18...\n",
      "    K=18, Silhouette Score=0.0363\n",
      "  Testando K=19 para Silhueta...\n",
      "    Calculando score para K=19...\n",
      "    K=19, Silhouette Score=0.0370\n",
      "  Testando K=20 para Silhueta...\n",
      "    Calculando score para K=20...\n",
      "    K=20, Silhouette Score=0.0359\n",
      "  Testando K=21 para Silhueta...\n",
      "    Calculando score para K=21...\n",
      "    K=21, Silhouette Score=0.0362\n",
      "  Testando K=22 para Silhueta...\n",
      "    Calculando score para K=22...\n",
      "    K=22, Silhouette Score=0.0351\n",
      "  Testando K=23 para Silhueta...\n",
      "    Calculando score para K=23...\n",
      "    K=23, Silhouette Score=0.0367\n",
      "  Testando K=24 para Silhueta...\n",
      "    Calculando score para K=24...\n",
      "    K=24, Silhouette Score=0.0352\n",
      "  Testando K=25 para Silhueta...\n",
      "    Calculando score para K=25...\n",
      "    K=25, Silhouette Score=0.0354\n",
      "  Testando K=26 para Silhueta...\n",
      "    Calculando score para K=26...\n",
      "    K=26, Silhouette Score=0.0375\n",
      "  Testando K=27 para Silhueta...\n",
      "    Calculando score para K=27...\n",
      "    K=27, Silhouette Score=0.0362\n",
      "  Testando K=28 para Silhueta...\n",
      "    Calculando score para K=28...\n",
      "    K=28, Silhouette Score=0.0354\n",
      "  Testando K=29 para Silhueta...\n",
      "    Calculando score para K=29...\n",
      "    K=29, Silhouette Score=0.0355\n",
      "  Testando K=30 para Silhueta...\n",
      "    Calculando score para K=30...\n",
      "    K=30, Silhouette Score=0.0365\n",
      "  Testando K=31 para Silhueta...\n",
      "    Calculando score para K=31...\n",
      "    K=31, Silhouette Score=0.0348\n",
      "  Testando K=32 para Silhueta...\n",
      "    Calculando score para K=32...\n",
      "    K=32, Silhouette Score=0.0346\n",
      "  Testando K=33 para Silhueta...\n",
      "    Calculando score para K=33...\n",
      "    K=33, Silhouette Score=0.0365\n",
      "  Testando K=34 para Silhueta...\n",
      "    Calculando score para K=34...\n",
      "    K=34, Silhouette Score=0.0374\n",
      "  Testando K=35 para Silhueta...\n",
      "    Calculando score para K=35...\n",
      "    K=35, Silhouette Score=0.0371\n",
      "  Testando K=36 para Silhueta...\n",
      "    Calculando score para K=36...\n",
      "    K=36, Silhouette Score=0.0363\n",
      "  Testando K=37 para Silhueta...\n",
      "    Calculando score para K=37...\n",
      "    K=37, Silhouette Score=0.0375\n",
      "  Testando K=38 para Silhueta...\n",
      "    Calculando score para K=38...\n",
      "    K=38, Silhouette Score=0.0364\n",
      "  Testando K=39 para Silhueta...\n",
      "    Calculando score para K=39...\n",
      "    K=39, Silhouette Score=0.0353\n",
      "  Testando K=40 para Silhueta...\n",
      "    Calculando score para K=40...\n",
      "    K=40, Silhouette Score=0.0336\n",
      "  Testando K=41 para Silhueta...\n",
      "    Calculando score para K=41...\n",
      "    K=41, Silhouette Score=0.0341\n",
      "  Testando K=42 para Silhueta...\n",
      "    Calculando score para K=42...\n",
      "    K=42, Silhouette Score=0.0340\n",
      "  Testando K=43 para Silhueta...\n",
      "    Calculando score para K=43...\n",
      "    K=43, Silhouette Score=0.0342\n",
      "  Testando K=44 para Silhueta...\n",
      "    Calculando score para K=44...\n",
      "    K=44, Silhouette Score=0.0355\n",
      "  Testando K=45 para Silhueta...\n",
      "    Calculando score para K=45...\n",
      "    K=45, Silhouette Score=0.0340\n",
      "  Testando K=46 para Silhueta...\n",
      "    Calculando score para K=46...\n",
      "    K=46, Silhouette Score=0.0341\n",
      "  Testando K=47 para Silhueta...\n",
      "    Calculando score para K=47...\n",
      "    K=47, Silhouette Score=0.0358\n",
      "  Testando K=48 para Silhueta...\n",
      "    Calculando score para K=48...\n",
      "    K=48, Silhouette Score=0.0355\n",
      "  Testando K=49 para Silhueta...\n",
      "    Calculando score para K=49...\n",
      "    K=49, Silhouette Score=0.0362\n",
      "  Testando K=50 para Silhueta...\n",
      "    Calculando score para K=50...\n",
      "    K=50, Silhouette Score=0.0342\n",
      "Cálculo da pontuação de silhueta concluído.\n"
     ]
    },
    {
     "data": {
      "image/png": "[encoded data removed]",
      "text/plain": [
       "<Figure size 2000x600 with 1 Axes>"
      ]
     },
     "metadata": {},
     "output_type": "display_data"
    },
    {
     "name": "stdout",
     "output_type": "stream",
     "text": [
      "\n",
      "Procure por um pico (valor máximo) no gráfico de silhueta.\n"
     ]
    }
   ],
   "source": [
    "if can_cluster:\n",
    "    calculate_silhouette = True\n",
    "\n",
    "    if calculate_silhouette:\n",
    "        silhouette_scores = [ ]\n",
    "        # Usar um range menor para K devido ao custo\n",
    "        k_range_silhouette = range( 2, 51, 1 )  # Ex: De 2 a 50, de 1 em 1\n",
    "\n",
    "        try:\n",
    "            for k in k_range_silhouette:\n",
    "                print( f\"  Testando K={k} para Silhueta...\" )\n",
    "                kmeans_silhouette = KMeans( n_clusters = k, random_state = 42, n_init = 'auto' )\n",
    "                cluster_labels_temp = kmeans_silhouette.fit_predict( embeddings_sbert )\n",
    "                print( f\"    Calculando score para K={k}...\" )\n",
    "                score = silhouette_score(\n",
    "                        embeddings_sbert, cluster_labels_temp, metric = 'cosine',\n",
    "                        # sample_size = 2000,\n",
    "                        random_state = 42 )\n",
    "                silhouette_scores.append( score )\n",
    "                print( f\"    K={k}, Silhouette Score={score:.4f}\" )\n",
    "            print( \"Cálculo da pontuação de silhueta concluído.\" )\n",
    "\n",
    "            # Plotar o gráfico da silhueta\n",
    "            plt.figure( figsize = (20, 6) )\n",
    "            plt.plot( k_range_silhouette, silhouette_scores, marker = 'o', linestyle = '-' )\n",
    "            plt.title( 'Pontuação Média de Silhueta' )\n",
    "            plt.xlabel( 'Número de Clusters (K)' )\n",
    "            plt.ylabel( 'Silhouette Score Médio (Métrica Cosseno)' )\n",
    "            plt.xticks( k_range_silhouette )\n",
    "            plt.grid( True )\n",
    "            plt.show()\n",
    "\n",
    "            print( \"\\nProcure por um pico (valor máximo) no gráfico de silhueta.\" )\n",
    "\n",
    "        except Exception as e:\n",
    "            print( f\"\\nErro ao calcular a Pontuação de Silhueta: {e}\" )"
   ]
  },
  {
   "cell_type": "markdown",
   "id": "efa5d5ff1781d370",
   "metadata": {},
   "source": [
    "## 6.4 Treinamento do Modelo K-Means Final\n",
    "\n",
    "Com base na análise dos gráficos do Cotovelo e/ou da Silhueta, define-se o número final de clusters (K_ESCOLHIDO). Em seguida, treina-se o modelo K-Means definitivo usando todos os embeddings SBERT e o valor de K escolhido."
   ]
  },
  {
   "cell_type": "code",
   "execution_count": 83,
   "id": "e1dd43aaab02cb2f",
   "metadata": {
    "ExecuteTime": {
     "end_time": "2025-04-28T00:55:32.476557Z",
     "start_time": "2025-04-28T00:42:00.153105Z"
    }
   },
   "outputs": [
    {
     "name": "stdout",
     "output_type": "stream",
     "text": [
      "Treinamento K-Means final concluído.\n"
     ]
    }
   ],
   "source": [
    "if can_cluster:\n",
    "    # --- Definição de K ---\n",
    "    # Analise os gráficos anteriores e defina o número de clusters desejado.\n",
    "    K_ESCOLHIDO = 10\n",
    "\n",
    "    try:\n",
    "        kmeans = KMeans( n_clusters = K_ESCOLHIDO, random_state = 42, n_init = 'auto' )\n",
    "        # Treina o modelo com os embeddings SBERT\n",
    "        kmeans.fit( embeddings_sbert )\n",
    "        print( \"Treinamento K-Means final concluído.\" )\n",
    "        clusters_generated = True\n",
    "    except Exception as e:\n",
    "        print( f\"\\nErro ao treinar o K-Means final: {e}\" )\n",
    "        clusters_generated = False\n",
    "else:\n",
    "    clusters_generated = False"
   ]
  },
  {
   "cell_type": "markdown",
   "id": "b8e64625e18a2e3",
   "metadata": {},
   "source": [
    "## 6.5 Atribuição de Rótulos e Análise dos Clusters\n",
    "\n",
    "Obtém os rótulos de cluster atribuídos a cada filme pelo modelo K-Means treinado. Adiciona esses rótulos como uma nova coluna ao DataFrame principal (`df`). Realiza uma análise básica, mostrando a contagem de filmes por cluster e exibindo os títulos de alguns filmes de exemplo para clusters selecionados, permitindo uma verificação qualitativa da coesão dos grupos formados."
   ]
  },
  {
   "cell_type": "code",
   "execution_count": 84,
   "id": "b9d361249608e993",
   "metadata": {
    "ExecuteTime": {
     "end_time": "2025-04-28T00:55:32.478578Z",
     "start_time": "2025-04-28T00:42:00.565461Z"
    }
   },
   "outputs": [
    {
     "name": "stdout",
     "output_type": "stream",
     "text": [
      "Coluna 'cluster_sbert' adicionada ao DataFrame 'df'.\n",
      "\n",
      "Distribuição de filmes por cluster (contagem):\n",
      "cluster_sbert\n",
      "0     684\n",
      "1    1025\n",
      "2    1050\n",
      "3    1507\n",
      "4     615\n",
      "5     973\n",
      "6     924\n",
      "7     828\n",
      "8     880\n",
      "9    1501\n",
      "Name: count, dtype: int64\n",
      "\n",
      "Exemplos de títulos por cluster:\n",
      "\n",
      "--- Cluster 0 ---\n",
      "  - Dilwale Dulhania Le Jayenge\n",
      "  - Spirited Away\n",
      "  - Your Eyes Tell\n",
      "  - Your Name.\n",
      "  - Life Is Beautiful\n",
      "\n",
      "--- Cluster 1 ---\n",
      "  - Gabriel's Inferno\n",
      "  - The Green Mile\n",
      "  - Woman in the Dunes\n",
      "  - KonoSuba: God's Blessing on this Wonderful World! Legend of Crimson\n",
      "  - The Shining\n",
      "\n",
      "--- Cluster 2 ---\n",
      "  - Impossible Things\n",
      "  - Gabriel's Inferno: Part II\n",
      "  - Gabriel's Inferno: Part III\n",
      "  - Cinema Paradiso\n",
      "  - Violet Evergarden: The Movie\n",
      "\n",
      "--- Cluster 5 ---\n",
      "  - Evangelion: 3.0+1.0 Thrice Upon a Time\n",
      "  - Spider-Man: Into the Spider-Verse\n",
      "  - Neon Genesis Evangelion: The End of Evangelion\n",
      "  - The Empire Strikes Back\n",
      "  - Primal: Tales of Savagery\n",
      "\n",
      "--- Cluster 9 ---\n",
      "  - The Godfather\n",
      "  - 12 Angry Men\n",
      "  - The Dark Knight\n",
      "  - Pulp Fiction\n",
      "  - Once Upon a Time in America\n"
     ]
    }
   ],
   "source": [
    "if clusters_generated:\n",
    "    # --- Obtenção e Adição dos Rótulos ---\n",
    "    cluster_labels = kmeans.labels_\n",
    "    df[ 'cluster_sbert' ] = cluster_labels\n",
    "    print( f\"Coluna 'cluster_sbert' adicionada ao DataFrame 'df'.\" )\n",
    "\n",
    "    # --- Análise dos Clusters ---\n",
    "    print( \"\\nDistribuição de filmes por cluster (contagem):\" )\n",
    "    # Mostra a contagem de filmes em cada cluster, ordenado pelo número do cluster\n",
    "    print( df[ 'cluster_sbert' ].value_counts().sort_index() )\n",
    "\n",
    "    print( \"\\nExemplos de títulos por cluster:\" )\n",
    "    # Define alguns clusters para inspecionar (ex: os primeiros, um do meio, o último)\n",
    "    clusters_para_inspecionar = list( range( min( 3, K_ESCOLHIDO ) ) )  # Primeiros 3\n",
    "    if K_ESCOLHIDO > 5: clusters_para_inspecionar.append( K_ESCOLHIDO // 2 )  # Meio\n",
    "    if K_ESCOLHIDO > 1: clusters_para_inspecionar.append( K_ESCOLHIDO - 1 )  # Último\n",
    "    clusters_para_inspecionar = sorted( list( set( clusters_para_inspecionar ) ) )  # Remove duplicatas e ordena\n",
    "\n",
    "    for cluster_num in clusters_para_inspecionar:\n",
    "        print( f\"\\n--- Cluster {cluster_num} ---\" )\n",
    "        # Seleciona os primeiros N títulos do cluster atual\n",
    "        filmes_no_cluster = df[ df[ 'cluster_sbert' ] == cluster_num ][ 'title' ].head( 5 ).tolist()\n",
    "        if filmes_no_cluster:\n",
    "            for titulo_filme in filmes_no_cluster:\n",
    "                print( f\"  - {titulo_filme}\" )\n",
    "        else:\n",
    "            # Isso não deve acontecer se K foi baseado nos dados, mas é uma checagem\n",
    "            print( \"  (Nenhum filme encontrado neste cluster)\" )\n",
    "\n",
    "else:\n",
    "    print( \"\\nAnálise de clusters não pode ser realizada (clustering não executado ou falhou).\" )"
   ]
  },
  {
   "cell_type": "markdown",
   "id": "54ee62299c3a3ff4",
   "metadata": {},
   "source": [
    "# 7. Recomendação Baseada em Cluster\n",
    "\n",
    "Nesta seção, define-se e aplica-se a função `recomendar_por_cluster`. A abordagem utiliza os clusters gerados anteriormente (baseados em embeddings SBERT) para sugerir filmes. A ideia é que filmes dentro do mesmo cluster são semanticamente relacionados. As recomendações são então ordenadas pela pontuação de qualidade ('score' - Weighted Rating) para apresentar primeiro os filmes mais relevantes ou populares dentro daquele grupo temático."
   ]
  },
  {
   "cell_type": "markdown",
   "id": "28c2d5df388c8827",
   "metadata": {},
   "source": [
    "## 7.1 Verificação Prévia das Colunas Necessárias\n",
    "\n",
    "Antes de definir ou usar a função, verifica se as colunas essenciais (`cluster_sbert` e `score`) estão presentes no DataFrame `df`. Isso garante que as etapas anteriores (clustering e cálculo de score) foram executadas com sucesso e informa se a ordenação por score será possível."
   ]
  },
  {
   "cell_type": "code",
   "execution_count": 85,
   "id": "30eb0dc5381059ad",
   "metadata": {
    "ExecuteTime": {
     "end_time": "2025-04-28T00:55:32.480560Z",
     "start_time": "2025-04-28T00:42:00.610130Z"
    }
   },
   "outputs": [
    {
     "name": "stdout",
     "output_type": "stream",
     "text": [
      "\n",
      "Aviso: Coluna 'score' (Weighted Rating) não encontrada no DataFrame 'df'.\n",
      "As recomendações do cluster não serão ordenadas por qualidade/popularidade.\n"
     ]
    }
   ],
   "source": [
    "# Presume que 'df' existe e contém os dados dos filmes\n",
    "if 'df' not in globals() or not isinstance( df, pd.DataFrame ):\n",
    "    print( \"Erro: DataFrame 'df' não encontrado.\" )\n",
    "    can_recommend_cluster = False\n",
    "else:\n",
    "    can_recommend_cluster = True\n",
    "    # Verifica se a coluna de cluster existe\n",
    "    if 'cluster_sbert' not in df.columns:\n",
    "        print( \"Erro: Coluna 'cluster_sbert' não encontrada no DataFrame 'df'.\" )\n",
    "        print( \"Execute a seção de Clustering (7) antes de continuar.\" )\n",
    "        can_recommend_cluster = False  # Impede a execução da recomendação\n",
    "\n",
    "    # Verifica se a coluna de score existe (para ordenação)\n",
    "    if 'score' not in df.columns:\n",
    "        print( \"\\nAviso: Coluna 'score' (Weighted Rating) não encontrada no DataFrame 'df'.\" )\n",
    "        print( \"As recomendações do cluster não serão ordenadas por qualidade/popularidade.\" )\n",
    "        # Cria score padrão apenas para evitar erros na função, se ela for chamada\n",
    "        df[ 'score' ] = 0.0\n",
    "        recommend_by_score_possible = False\n",
    "    elif not pd.api.types.is_numeric_dtype( df[ 'score' ] ):\n",
    "        print( \"\\nAviso: Coluna 'score' não é numérica.\" )\n",
    "        print( \"As recomendações do cluster não serão ordenadas por qualidade/popularidade.\" )\n",
    "        recommend_by_score_possible = False\n",
    "    else:\n",
    "        print( \"\\nColunas 'cluster_sbert' e 'score' encontradas. Ordenação por score habilitada.\" )\n",
    "        recommend_by_score_possible = True  # Flag indicando que a ordenação por score é viável"
   ]
  },
  {
   "cell_type": "markdown",
   "id": "d7c7faa2ce65da87",
   "metadata": {},
   "source": [
    "## 7.2 Definição da Função `recomendar_por_cluster`\n",
    "\n",
    "Define a função que implementa a lógica de recomendação por cluster. Ela encontra o cluster do filme de entrada, busca outros filmes no mesmo cluster e os ordena pela coluna 'score' antes de retornar os melhores."
   ]
  },
  {
   "cell_type": "code",
   "execution_count": 86,
   "id": "ab3d69771a50cd6c",
   "metadata": {
    "ExecuteTime": {
     "end_time": "2025-04-28T00:55:32.482331Z",
     "start_time": "2025-04-28T00:42:00.656498Z"
    }
   },
   "outputs": [],
   "source": [
    "def recomendar_por_cluster( titulo, data = df, mapping = indices, top_n = 10 ):\n",
    "    \"\"\"\n",
    "    Gera recomendações de filmes do mesmo cluster do filme de entrada.\n",
    "\n",
    "    Ordena os filmes do cluster pelo 'score' (Weighted Rating) se disponível e numérico.\n",
    "\n",
    "    Args:\n",
    "        titulo (str): Título do filme base.\n",
    "        data (pd.DataFrame): DataFrame com 'title', 'cluster_sbert', 'score'.\n",
    "        mapping (pd.Series): Mapeamento título -> índice.\n",
    "        top_n (int): Número de recomendações.\n",
    "\n",
    "    Returns:\n",
    "        list: Lista de títulos recomendados, ou str com erro.\n",
    "    \"\"\"\n",
    "    # Verifica se as dependências estão disponíveis\n",
    "    if 'cluster_sbert' not in data.columns:\n",
    "        return \"Erro: Coluna 'cluster_sbert' ausente no DataFrame.\"\n",
    "    if mapping is None or not isinstance( mapping, pd.Series ):\n",
    "        return \"Erro: Mapeamento 'indices' inválido ou ausente.\"\n",
    "\n",
    "    try:\n",
    "        # Encontra o índice do filme de entrada (com busca flexível)\n",
    "        if titulo not in mapping:\n",
    "            matches = [ t for t in mapping.index if t.lower().strip() == titulo.lower().strip() ]\n",
    "            if not matches: raise KeyError  # Dispara erro se não encontrar\n",
    "            actual_title = matches[ 0 ]\n",
    "            idx = mapping[ actual_title ]\n",
    "        else:\n",
    "            idx = mapping[ titulo ]\n",
    "\n",
    "        # Valida o índice\n",
    "        if idx >= len( data ):\n",
    "            raise ValueError( f\"Índice {idx} fora dos limites para o filme '{titulo}'.\" )\n",
    "\n",
    "        # Obtém o cluster e título real do filme de entrada\n",
    "        input_movie_cluster = data.iloc[ idx ][ 'cluster_sbert' ]\n",
    "        input_movie_title = data.iloc[ idx ][ 'title' ]\n",
    "        print( f\"\\nFilme '{input_movie_title}' (índice {idx}) pertence ao Cluster: {input_movie_cluster}\" )\n",
    "\n",
    "        # Filtra outros filmes do mesmo cluster\n",
    "        cluster_movies = data[\n",
    "            (data[ 'cluster_sbert' ] == input_movie_cluster) & (data.index != idx) ].copy()  # Usa .copy()\n",
    "\n",
    "        if cluster_movies.empty:\n",
    "            return f\"Nenhum outro filme encontrado no Cluster {input_movie_cluster} para recomendar.\"\n",
    "        else:\n",
    "            print( f\"Encontrados {len( cluster_movies )} outros filmes no Cluster {input_movie_cluster}.\" )\n",
    "\n",
    "        # Ordena por 'score' se a coluna existir, for numérica e a flag global permitir\n",
    "        # A flag 'recommend_by_score_possible' foi definida na célula anterior\n",
    "        if recommend_by_score_possible and 'score' in cluster_movies.columns:\n",
    "            cluster_movies_sorted = cluster_movies.sort_values( 'score', ascending = False )\n",
    "            print( f\"Ordenando recomendações por 'score' (WR).\" )\n",
    "        else:\n",
    "            cluster_movies_sorted = cluster_movies  # Mantém ordem padrão\n",
    "            if 'score' not in cluster_movies.columns:\n",
    "                print( \"Ordenação padrão (coluna 'score' ausente).\" )\n",
    "            else:\n",
    "                print( \"Ordenação padrão (coluna 'score' não numérica ou flag desabilitada).\" )\n",
    "\n",
    "        # Seleciona os top_n títulos\n",
    "        recommendations = cluster_movies_sorted[ 'title' ].head( top_n ).tolist()\n",
    "\n",
    "        return recommendations\n",
    "\n",
    "    except KeyError:\n",
    "        suggestion = [ t for t in mapping.index if titulo.lower() in t.lower() ][ :5 ]\n",
    "        error_msg = f\"Erro: Filme '{titulo}' não encontrado no dataset.\"\n",
    "        if suggestion: error_msg += f\" Títulos similares: {suggestion}\"\n",
    "        return error_msg\n",
    "    except ValueError as ve:\n",
    "        print( f\"Erro de valor ao processar filme/cluster: {ve}\" )\n",
    "        return \"Não foi possível gerar recomendações devido a um erro interno de dados.\"\n",
    "    except Exception as e:\n",
    "        # Adiciona o tipo de exceção para melhor depuração\n",
    "        import traceback\n",
    "        print( f\"Erro inesperado em recomendar_por_cluster para '{titulo}': {type( e ).__name__} - {e}\" )\n",
    "        # traceback.print_exc() # Descomente para ver o stack trace completo\n",
    "        return \"Ocorreu um erro inesperado durante a recomendação por cluster.\""
   ]
  },
  {
   "cell_type": "markdown",
   "id": "8aabf7188464c935",
   "metadata": {},
   "source": [
    "## 7.3 Aplicação da Recomendação por Cluster\n",
    "\n",
    "Executa a função `recomendar_por_cluster` para alguns filmes de exemplo e exibe os resultados. Só executa se a etapa de clustering anterior tiver sido concluída com sucesso (verificado pela existência da coluna `cluster_sbert`)."
   ]
  },
  {
   "cell_type": "code",
   "execution_count": 87,
   "id": "cc15c5a521f72596",
   "metadata": {
    "ExecuteTime": {
     "end_time": "2025-04-28T00:55:32.484103Z",
     "start_time": "2025-04-28T00:42:00.715027Z"
    }
   },
   "outputs": [
    {
     "name": "stdout",
     "output_type": "stream",
     "text": [
      "\n",
      "--- Testando Recomendações por Cluster ---\n",
      "\n",
      "Exemplo 1: Buscando recomendações para 'The Dark Knight Rises'\n",
      "\n",
      "Filme 'The Dark Knight Rises' (índice 688) pertence ao Cluster: 9\n",
      "Encontrados 1500 outros filmes no Cluster 9.\n",
      "Ordenação padrão (coluna 'score' não numérica ou flag desabilitada).\n",
      "\n",
      "Recomendações:\n",
      "  1. The Godfather\n",
      "  2. 12 Angry Men\n",
      "  3. The Dark Knight\n",
      "  4. Pulp Fiction\n",
      "  5. Once Upon a Time in America\n",
      "  6. One Flew Over the Cuckoo's Nest\n",
      "  7. Rear Window\n",
      "  8. Inception\n",
      "  9. High and Low\n",
      "  10. Se7en\n",
      "\n",
      "Exemplo 2: Buscando recomendações para 'Avatar'\n",
      "\n",
      "Filme 'Avatar' (índice 1289) pertence ao Cluster: 5\n",
      "Encontrados 972 outros filmes no Cluster 5.\n",
      "Ordenação padrão (coluna 'score' não numérica ou flag desabilitada).\n",
      "\n",
      "Recomendações:\n",
      "  1. Evangelion: 3.0+1.0 Thrice Upon a Time\n",
      "  2. Spider-Man: Into the Spider-Verse\n",
      "  3. Neon Genesis Evangelion: The End of Evangelion\n",
      "  4. The Empire Strikes Back\n",
      "  5. Primal: Tales of Savagery\n",
      "  6. Interstellar\n",
      "  7. Justice League Dark: Apokolips War\n",
      "  8. Back to the Future\n",
      "  9. My Hero Academia: Heroes Rising\n",
      "  10. Avengers: Endgame\n"
     ]
    }
   ],
   "source": [
    "print( \"\\n--- Testando Recomendações por Cluster ---\" )\n",
    "\n",
    "# Verifica se é possível recomendar (se o clustering foi feito)\n",
    "if can_recommend_cluster:\n",
    "    filme_exemplo_cluster_1 = \"The Dark Knight Rises\"\n",
    "    print( f\"\\nExemplo 1: Buscando recomendações para '{filme_exemplo_cluster_1}'\" )\n",
    "\n",
    "    recomendacoes_cluster_1 = recomendar_por_cluster( filme_exemplo_cluster_1, top_n = 10 )\n",
    "\n",
    "    # Imprime o resultado (lista de filmes ou mensagem de erro)\n",
    "    if isinstance( recomendacoes_cluster_1, list ):\n",
    "        if not recomendacoes_cluster_1:\n",
    "            print( \"Nenhuma recomendação encontrada para este filme.\" )\n",
    "        else:\n",
    "            print( \"\\nRecomendações:\" )\n",
    "            for i, filme in enumerate( recomendacoes_cluster_1 ):\n",
    "                print( f\"  {i + 1}. {filme}\" )\n",
    "    else:\n",
    "        print( recomendacoes_cluster_1 )  # Exibe a mensagem de erro retornada\n",
    "\n",
    "    filme_exemplo_cluster_2 = \"Avatar\"\n",
    "    print( f\"\\nExemplo 2: Buscando recomendações para '{filme_exemplo_cluster_2}'\" )\n",
    "\n",
    "    recomendacoes_cluster_2 = recomendar_por_cluster( filme_exemplo_cluster_2, top_n = 10 )\n",
    "\n",
    "    # Imprime o resultado\n",
    "    if isinstance( recomendacoes_cluster_2, list ):\n",
    "        if not recomendacoes_cluster_2:\n",
    "            print( \"Nenhuma recomendação encontrada para este filme.\" )\n",
    "        else:\n",
    "            print( \"\\nRecomendações:\" )\n",
    "            for i, filme in enumerate( recomendacoes_cluster_2 ):\n",
    "                print( f\"  {i + 1}. {filme}\" )\n",
    "    else:\n",
    "        print( recomendacoes_cluster_2 )  # Exibe a mensagem de erro retornada\n",
    "\n",
    "else:\n",
    "    print( \"\\nRecomendação por cluster não pode ser executada (etapa de clustering não concluída ou falhou).\" )"
   ]
  }
 ],
 "metadata": {
  "kernelspec": {
   "display_name": "Python 3 (ipykernel)",
   "language": "python",
   "name": "python3"
  },
  "language_info": {
   "codemirror_mode": {
    "name": "ipython",
    "version": 3
   },
   "file_extension": ".py",
   "mimetype": "text/x-python",
   "name": "python",
   "nbconvert_exporter": "python",
   "pygments_lexer": "ipython3",
   "version": "3.12.7"
  }
 },
 "nbformat": 4,
 "nbformat_minor": 5
}
