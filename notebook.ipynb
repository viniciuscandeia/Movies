{
 "cells": [
  {
   "metadata": {},
   "cell_type": "markdown",
   "source": [
    "# Instalação\n",
    "\n",
    "Libs necessárias: pip install -r requirements.txt"
   ],
   "id": "b83385d9bb7d72bb"
  },
  {
   "metadata": {
    "ExecuteTime": {
     "end_time": "2025-04-27T03:54:55.486322Z",
     "start_time": "2025-04-27T03:54:55.477319Z"
    }
   },
   "cell_type": "code",
   "source": [
    "import pandas as pd\n",
    "from sklearn.feature_extraction.text import CountVectorizer\n",
    "from sklearn.metrics.pairwise import cosine_similarity\n",
    "from sklearn.feature_extraction.text import TfidfVectorizer"
   ],
   "id": "28b0ffd188c91980",
   "outputs": [],
   "execution_count": 24
  },
  {
   "metadata": {},
   "cell_type": "markdown",
   "source": "# 0. Lendo o arquivo",
   "id": "9a27f7681ed03b50"
  },
  {
   "metadata": {
    "collapsed": true,
    "ExecuteTime": {
     "end_time": "2025-04-27T03:54:55.557996Z",
     "start_time": "2025-04-27T03:54:55.512891Z"
    }
   },
   "cell_type": "code",
   "source": [
    "df = pd.read_csv( 'dataset/top10K-TMDB-movies.csv' )\n",
    "df.shape"
   ],
   "id": "initial_id",
   "outputs": [
    {
     "data": {
      "text/plain": [
       "(10000, 9)"
      ]
     },
     "execution_count": 25,
     "metadata": {},
     "output_type": "execute_result"
    }
   ],
   "execution_count": 25
  },
  {
   "metadata": {},
   "cell_type": "markdown",
   "source": "# 1. Pré-processamento da base de dados",
   "id": "dfdfb22f00406a0f"
  },
  {
   "metadata": {},
   "cell_type": "markdown",
   "source": "## 1.1 Valores Ausentes",
   "id": "4b44636f61dfebc9"
  },
  {
   "metadata": {},
   "cell_type": "markdown",
   "source": [
    "### 1.1.1 Ver se há algum valor ausente no DataFrame\n",
    "\n",
    "Retorna `True` se houver pelo menos um valor ausente."
   ],
   "id": "2ac0c8a788caebe5"
  },
  {
   "metadata": {
    "ExecuteTime": {
     "end_time": "2025-04-27T03:54:55.576846Z",
     "start_time": "2025-04-27T03:54:55.571152Z"
    }
   },
   "cell_type": "code",
   "source": "df.isnull().values.any()",
   "id": "776ef1ff1d811288",
   "outputs": [
    {
     "data": {
      "text/plain": [
       "np.True_"
      ]
     },
     "execution_count": 26,
     "metadata": {},
     "output_type": "execute_result"
    }
   ],
   "execution_count": 26
  },
  {
   "metadata": {},
   "cell_type": "markdown",
   "source": "### 1.1.2 Contar quantos valores ausentes há em cada coluna",
   "id": "357915e0197a8f09"
  },
  {
   "metadata": {
    "ExecuteTime": {
     "end_time": "2025-04-27T03:54:55.595234Z",
     "start_time": "2025-04-27T03:54:55.588660Z"
    }
   },
   "cell_type": "code",
   "source": "df.isnull().sum()",
   "id": "4c5118821de64f19",
   "outputs": [
    {
     "data": {
      "text/plain": [
       "id                    0\n",
       "title                 0\n",
       "genre                 3\n",
       "original_language     0\n",
       "overview             13\n",
       "popularity            0\n",
       "release_date          0\n",
       "vote_average          0\n",
       "vote_count            0\n",
       "dtype: int64"
      ]
     },
     "execution_count": 27,
     "metadata": {},
     "output_type": "execute_result"
    }
   ],
   "execution_count": 27
  },
  {
   "metadata": {},
   "cell_type": "markdown",
   "source": "### 1.1.3 Exibir linhas que possuem valores ausentes",
   "id": "7081c8c760a2990d"
  },
  {
   "metadata": {
    "ExecuteTime": {
     "end_time": "2025-04-27T03:54:55.656531Z",
     "start_time": "2025-04-27T03:54:55.644963Z"
    }
   },
   "cell_type": "code",
   "source": "df[ df.isnull().any( axis = 1 ) ]",
   "id": "6ae238bb70784fdd",
   "outputs": [
    {
     "data": {
      "text/plain": [
       "          id                                      title           genre  \\\n",
       "3361   50472                       Anplagghed al cinema             NaN   \n",
       "4150   38537                               Nati stanchi          Comedy   \n",
       "6973   31359                      Would I Lie to You? 2          Comedy   \n",
       "7821   43211                          7 Kilos in 7 Days             NaN   \n",
       "7941    2029                                     Tanguy          Comedy   \n",
       "8518   57114                    Amore, bugie e calcetto             NaN   \n",
       "9293   17413                                  Incognito          Comedy   \n",
       "9440  516043                            Arrivano i prof          Comedy   \n",
       "9620  154512                           Lightning Strike          Comedy   \n",
       "9792   42426  A spasso nel tempo - L'avventura continua  Comedy,Fantasy   \n",
       "9825   77000                                  Bar Sport   Comedy,Family   \n",
       "9889   42436                         Natale in crociera          Comedy   \n",
       "9915   57216                          A Natale mi sposo          Comedy   \n",
       "9922  408238           The New Adventures of Cinderella          Comedy   \n",
       "9989  244514                           Colpi di fortuna          Comedy   \n",
       "\n",
       "     original_language                                           overview  \\\n",
       "3361                it  A queue at the ATM machine, a displaced family...   \n",
       "4150                it                                                NaN   \n",
       "6973                fr                                                NaN   \n",
       "7821                it  Two not very clever young doctors open a fitne...   \n",
       "7941                fr                                                NaN   \n",
       "8518                en                                                NaN   \n",
       "9293                fr                                                NaN   \n",
       "9440                it                                                NaN   \n",
       "9620                it                                                NaN   \n",
       "9792                it                                                NaN   \n",
       "9825                it                                                NaN   \n",
       "9889                it                                                NaN   \n",
       "9915                it                                                NaN   \n",
       "9922                fr                                                NaN   \n",
       "9989                it                                                NaN   \n",
       "\n",
       "      popularity release_date  vote_average  vote_count  \n",
       "3361       4.420   2006-11-26           7.0         313  \n",
       "4150       5.671   2002-03-01           6.8         211  \n",
       "6973       4.741   2001-02-07           6.2         325  \n",
       "7821       5.885   1986-02-02           6.0         212  \n",
       "7941       5.449   2001-11-21           6.0         387  \n",
       "8518       4.709   2008-04-04           5.8         200  \n",
       "9293       5.602   2009-04-28           5.5         213  \n",
       "9440       6.558   2018-05-01           5.4         337  \n",
       "9620       4.070   2012-12-13           5.3         216  \n",
       "9792       5.020   1997-12-11           5.1         209  \n",
       "9825       4.123   2011-10-21           5.0         205  \n",
       "9889       5.330   2007-12-14           4.9         364  \n",
       "9915       4.349   2010-11-26           4.9         202  \n",
       "9922       7.102   2017-10-18           4.8         227  \n",
       "9989       5.821   2013-12-21           4.7         214  "
      ],
      "text/html": [
       "<div>\n",
       "<style scoped>\n",
       "    .dataframe tbody tr th:only-of-type {\n",
       "        vertical-align: middle;\n",
       "    }\n",
       "\n",
       "    .dataframe tbody tr th {\n",
       "        vertical-align: top;\n",
       "    }\n",
       "\n",
       "    .dataframe thead th {\n",
       "        text-align: right;\n",
       "    }\n",
       "</style>\n",
       "<table border=\"1\" class=\"dataframe\">\n",
       "  <thead>\n",
       "    <tr style=\"text-align: right;\">\n",
       "      <th></th>\n",
       "      <th>id</th>\n",
       "      <th>title</th>\n",
       "      <th>genre</th>\n",
       "      <th>original_language</th>\n",
       "      <th>overview</th>\n",
       "      <th>popularity</th>\n",
       "      <th>release_date</th>\n",
       "      <th>vote_average</th>\n",
       "      <th>vote_count</th>\n",
       "    </tr>\n",
       "  </thead>\n",
       "  <tbody>\n",
       "    <tr>\n",
       "      <th>3361</th>\n",
       "      <td>50472</td>\n",
       "      <td>Anplagghed al cinema</td>\n",
       "      <td>NaN</td>\n",
       "      <td>it</td>\n",
       "      <td>A queue at the ATM machine, a displaced family...</td>\n",
       "      <td>4.420</td>\n",
       "      <td>2006-11-26</td>\n",
       "      <td>7.0</td>\n",
       "      <td>313</td>\n",
       "    </tr>\n",
       "    <tr>\n",
       "      <th>4150</th>\n",
       "      <td>38537</td>\n",
       "      <td>Nati stanchi</td>\n",
       "      <td>Comedy</td>\n",
       "      <td>it</td>\n",
       "      <td>NaN</td>\n",
       "      <td>5.671</td>\n",
       "      <td>2002-03-01</td>\n",
       "      <td>6.8</td>\n",
       "      <td>211</td>\n",
       "    </tr>\n",
       "    <tr>\n",
       "      <th>6973</th>\n",
       "      <td>31359</td>\n",
       "      <td>Would I Lie to You? 2</td>\n",
       "      <td>Comedy</td>\n",
       "      <td>fr</td>\n",
       "      <td>NaN</td>\n",
       "      <td>4.741</td>\n",
       "      <td>2001-02-07</td>\n",
       "      <td>6.2</td>\n",
       "      <td>325</td>\n",
       "    </tr>\n",
       "    <tr>\n",
       "      <th>7821</th>\n",
       "      <td>43211</td>\n",
       "      <td>7 Kilos in 7 Days</td>\n",
       "      <td>NaN</td>\n",
       "      <td>it</td>\n",
       "      <td>Two not very clever young doctors open a fitne...</td>\n",
       "      <td>5.885</td>\n",
       "      <td>1986-02-02</td>\n",
       "      <td>6.0</td>\n",
       "      <td>212</td>\n",
       "    </tr>\n",
       "    <tr>\n",
       "      <th>7941</th>\n",
       "      <td>2029</td>\n",
       "      <td>Tanguy</td>\n",
       "      <td>Comedy</td>\n",
       "      <td>fr</td>\n",
       "      <td>NaN</td>\n",
       "      <td>5.449</td>\n",
       "      <td>2001-11-21</td>\n",
       "      <td>6.0</td>\n",
       "      <td>387</td>\n",
       "    </tr>\n",
       "    <tr>\n",
       "      <th>8518</th>\n",
       "      <td>57114</td>\n",
       "      <td>Amore, bugie e calcetto</td>\n",
       "      <td>NaN</td>\n",
       "      <td>en</td>\n",
       "      <td>NaN</td>\n",
       "      <td>4.709</td>\n",
       "      <td>2008-04-04</td>\n",
       "      <td>5.8</td>\n",
       "      <td>200</td>\n",
       "    </tr>\n",
       "    <tr>\n",
       "      <th>9293</th>\n",
       "      <td>17413</td>\n",
       "      <td>Incognito</td>\n",
       "      <td>Comedy</td>\n",
       "      <td>fr</td>\n",
       "      <td>NaN</td>\n",
       "      <td>5.602</td>\n",
       "      <td>2009-04-28</td>\n",
       "      <td>5.5</td>\n",
       "      <td>213</td>\n",
       "    </tr>\n",
       "    <tr>\n",
       "      <th>9440</th>\n",
       "      <td>516043</td>\n",
       "      <td>Arrivano i prof</td>\n",
       "      <td>Comedy</td>\n",
       "      <td>it</td>\n",
       "      <td>NaN</td>\n",
       "      <td>6.558</td>\n",
       "      <td>2018-05-01</td>\n",
       "      <td>5.4</td>\n",
       "      <td>337</td>\n",
       "    </tr>\n",
       "    <tr>\n",
       "      <th>9620</th>\n",
       "      <td>154512</td>\n",
       "      <td>Lightning Strike</td>\n",
       "      <td>Comedy</td>\n",
       "      <td>it</td>\n",
       "      <td>NaN</td>\n",
       "      <td>4.070</td>\n",
       "      <td>2012-12-13</td>\n",
       "      <td>5.3</td>\n",
       "      <td>216</td>\n",
       "    </tr>\n",
       "    <tr>\n",
       "      <th>9792</th>\n",
       "      <td>42426</td>\n",
       "      <td>A spasso nel tempo - L'avventura continua</td>\n",
       "      <td>Comedy,Fantasy</td>\n",
       "      <td>it</td>\n",
       "      <td>NaN</td>\n",
       "      <td>5.020</td>\n",
       "      <td>1997-12-11</td>\n",
       "      <td>5.1</td>\n",
       "      <td>209</td>\n",
       "    </tr>\n",
       "    <tr>\n",
       "      <th>9825</th>\n",
       "      <td>77000</td>\n",
       "      <td>Bar Sport</td>\n",
       "      <td>Comedy,Family</td>\n",
       "      <td>it</td>\n",
       "      <td>NaN</td>\n",
       "      <td>4.123</td>\n",
       "      <td>2011-10-21</td>\n",
       "      <td>5.0</td>\n",
       "      <td>205</td>\n",
       "    </tr>\n",
       "    <tr>\n",
       "      <th>9889</th>\n",
       "      <td>42436</td>\n",
       "      <td>Natale in crociera</td>\n",
       "      <td>Comedy</td>\n",
       "      <td>it</td>\n",
       "      <td>NaN</td>\n",
       "      <td>5.330</td>\n",
       "      <td>2007-12-14</td>\n",
       "      <td>4.9</td>\n",
       "      <td>364</td>\n",
       "    </tr>\n",
       "    <tr>\n",
       "      <th>9915</th>\n",
       "      <td>57216</td>\n",
       "      <td>A Natale mi sposo</td>\n",
       "      <td>Comedy</td>\n",
       "      <td>it</td>\n",
       "      <td>NaN</td>\n",
       "      <td>4.349</td>\n",
       "      <td>2010-11-26</td>\n",
       "      <td>4.9</td>\n",
       "      <td>202</td>\n",
       "    </tr>\n",
       "    <tr>\n",
       "      <th>9922</th>\n",
       "      <td>408238</td>\n",
       "      <td>The New Adventures of Cinderella</td>\n",
       "      <td>Comedy</td>\n",
       "      <td>fr</td>\n",
       "      <td>NaN</td>\n",
       "      <td>7.102</td>\n",
       "      <td>2017-10-18</td>\n",
       "      <td>4.8</td>\n",
       "      <td>227</td>\n",
       "    </tr>\n",
       "    <tr>\n",
       "      <th>9989</th>\n",
       "      <td>244514</td>\n",
       "      <td>Colpi di fortuna</td>\n",
       "      <td>Comedy</td>\n",
       "      <td>it</td>\n",
       "      <td>NaN</td>\n",
       "      <td>5.821</td>\n",
       "      <td>2013-12-21</td>\n",
       "      <td>4.7</td>\n",
       "      <td>214</td>\n",
       "    </tr>\n",
       "  </tbody>\n",
       "</table>\n",
       "</div>"
      ]
     },
     "execution_count": 28,
     "metadata": {},
     "output_type": "execute_result"
    }
   ],
   "execution_count": 28
  },
  {
   "metadata": {},
   "cell_type": "markdown",
   "source": "### 1.1.4 Removendo linhas com valores ausentes",
   "id": "11dec87f28cc5a4d"
  },
  {
   "metadata": {
    "ExecuteTime": {
     "end_time": "2025-04-27T03:54:55.733587Z",
     "start_time": "2025-04-27T03:54:55.724422Z"
    }
   },
   "cell_type": "code",
   "source": [
    "df.dropna( subset = [ 'overview' ], inplace = True )\n",
    "df.reset_index( drop = True, inplace = True )"
   ],
   "id": "4707b6e35f45897d",
   "outputs": [],
   "execution_count": 29
  },
  {
   "metadata": {},
   "cell_type": "markdown",
   "source": "## 1.2 Valores Duplicados",
   "id": "2360143faf70e742"
  },
  {
   "metadata": {},
   "cell_type": "markdown",
   "source": [
    "### 1.2.1 Ver se há alguma linha duplicada\n",
    "\n",
    "Retorna `True` se houver ao menos uma linha duplicada"
   ],
   "id": "3232e98a3d475d8b"
  },
  {
   "metadata": {
    "ExecuteTime": {
     "end_time": "2025-04-27T03:54:55.804863Z",
     "start_time": "2025-04-27T03:54:55.785712Z"
    }
   },
   "cell_type": "code",
   "source": "df.duplicated().any()",
   "id": "6c31341932fb9c0b",
   "outputs": [
    {
     "data": {
      "text/plain": [
       "np.False_"
      ]
     },
     "execution_count": 30,
     "metadata": {},
     "output_type": "execute_result"
    }
   ],
   "execution_count": 30
  },
  {
   "metadata": {},
   "cell_type": "markdown",
   "source": "### 1.2.2 Contar o número de linhas duplicadas",
   "id": "1da51f6da8bb67ce"
  },
  {
   "metadata": {
    "ExecuteTime": {
     "end_time": "2025-04-27T03:54:55.853371Z",
     "start_time": "2025-04-27T03:54:55.833824Z"
    }
   },
   "cell_type": "code",
   "source": "df.duplicated().sum()",
   "id": "d446d60469de3f94",
   "outputs": [
    {
     "data": {
      "text/plain": [
       "np.int64(0)"
      ]
     },
     "execution_count": 31,
     "metadata": {},
     "output_type": "execute_result"
    }
   ],
   "execution_count": 31
  },
  {
   "metadata": {},
   "cell_type": "markdown",
   "source": "### 1.2.3 Ver quais são as linhas duplicadas",
   "id": "ecb282281bea421e"
  },
  {
   "metadata": {
    "ExecuteTime": {
     "end_time": "2025-04-27T03:54:55.878204Z",
     "start_time": "2025-04-27T03:54:55.858639Z"
    }
   },
   "cell_type": "code",
   "source": "df[ df.duplicated() ]",
   "id": "bcb060ed436aa0df",
   "outputs": [
    {
     "data": {
      "text/plain": [
       "Empty DataFrame\n",
       "Columns: [id, title, genre, original_language, overview, popularity, release_date, vote_average, vote_count]\n",
       "Index: []"
      ],
      "text/html": [
       "<div>\n",
       "<style scoped>\n",
       "    .dataframe tbody tr th:only-of-type {\n",
       "        vertical-align: middle;\n",
       "    }\n",
       "\n",
       "    .dataframe tbody tr th {\n",
       "        vertical-align: top;\n",
       "    }\n",
       "\n",
       "    .dataframe thead th {\n",
       "        text-align: right;\n",
       "    }\n",
       "</style>\n",
       "<table border=\"1\" class=\"dataframe\">\n",
       "  <thead>\n",
       "    <tr style=\"text-align: right;\">\n",
       "      <th></th>\n",
       "      <th>id</th>\n",
       "      <th>title</th>\n",
       "      <th>genre</th>\n",
       "      <th>original_language</th>\n",
       "      <th>overview</th>\n",
       "      <th>popularity</th>\n",
       "      <th>release_date</th>\n",
       "      <th>vote_average</th>\n",
       "      <th>vote_count</th>\n",
       "    </tr>\n",
       "  </thead>\n",
       "  <tbody>\n",
       "  </tbody>\n",
       "</table>\n",
       "</div>"
      ]
     },
     "execution_count": 32,
     "metadata": {},
     "output_type": "execute_result"
    }
   ],
   "execution_count": 32
  },
  {
   "metadata": {},
   "cell_type": "markdown",
   "source": "# 2. Seleção de Atributos",
   "id": "43f965fb6b73a22f"
  },
  {
   "metadata": {
    "ExecuteTime": {
     "end_time": "2025-04-27T03:54:55.927364Z",
     "start_time": "2025-04-27T03:54:55.923884Z"
    }
   },
   "cell_type": "code",
   "source": [
    "df = df[ [ 'id', 'title', 'overview', \"genre\" ] ]\n",
    "df.shape"
   ],
   "id": "d1601de417f1c9dd",
   "outputs": [
    {
     "data": {
      "text/plain": [
       "(9987, 4)"
      ]
     },
     "execution_count": 33,
     "metadata": {},
     "output_type": "execute_result"
    }
   ],
   "execution_count": 33
  },
  {
   "metadata": {
    "ExecuteTime": {
     "end_time": "2025-04-27T03:54:55.968255Z",
     "start_time": "2025-04-27T03:54:55.959068Z"
    }
   },
   "cell_type": "code",
   "source": [
    "df[ 'tags' ] = df[ 'overview' ] + df[ 'genre' ]\n",
    "df.shape"
   ],
   "id": "1bced8c4eaf8160c",
   "outputs": [
    {
     "data": {
      "text/plain": [
       "(9987, 5)"
      ]
     },
     "execution_count": 34,
     "metadata": {},
     "output_type": "execute_result"
    }
   ],
   "execution_count": 34
  },
  {
   "metadata": {
    "ExecuteTime": {
     "end_time": "2025-04-27T03:54:55.997437Z",
     "start_time": "2025-04-27T03:54:55.992454Z"
    }
   },
   "cell_type": "code",
   "source": [
    "df_new = df.drop( columns = [ 'overview', 'genre' ] )\n",
    "df_new.shape"
   ],
   "id": "f76b4218644c15f2",
   "outputs": [
    {
     "data": {
      "text/plain": [
       "(9987, 3)"
      ]
     },
     "execution_count": 35,
     "metadata": {},
     "output_type": "execute_result"
    }
   ],
   "execution_count": 35
  },
  {
   "metadata": {},
   "cell_type": "markdown",
   "source": [
    "# 2. Similaridade de Cossenos\n",
    "\n",
    "Imagine que cada sinopse de filme, depois de ser transformada em números (seja por Bag of Words ou TF-IDF), se torna um vetor em um espaço com muitas dimensões (onde cada dimensão corresponde a uma palavra do vocabulário).\n",
    "\n",
    "## 2.1 **A Ideia Central**\n",
    "\n",
    "A similaridade de cossenos **não mede a distância** entre as pontas desses vetores, mas sim o ângulo entre eles.\n",
    "\n",
    "- Se dois vetores apontam para **direções muito parecidas**, o ângulo entre eles é pequeno, e a similaridade de cossenos é alta (próxima de 1). Isso sugere que as sinopses usam palavras/termos de forma parecida, indicando temas semelhantes.\n",
    "- Se dois vetores apontam para **direções completamente diferentes** (são ortogonais, formam um ângulo de 90 graus), a similaridade de cossenos é 0. Isso sugere que as sinopses tratam de assuntos muito distintos, com poucas palavras-chave em comum.\n",
    "- Se dois vetores apontam para **direções opostas**, o ângulo é de 180 graus, e a similaridade de cossenos é -1. Na prática, com vetores de texto baseados em contagens (BoW) ou TF-IDF, que geralmente não têm valores negativos, a similaridade varia entre 0 e 1.\n",
    "\n",
    "## 2.2 **Exemplo**\n",
    "\n",
    "Vamos simplificar muito e imaginar um vocabulário minúsculo com apenas 3 palavras: \"ação\", \"comédia\", \"drama\".\n",
    "\n",
    "Agora, vamos representar 3 filmes com vetores baseados na contagem dessas palavras em suas (hipotéticas) sinopses:\n",
    "\n",
    "- Filme A: \"Muita ação e um pouco de drama.\"\n",
    "    - Vetor A = [ação: 2, comédia: 0, drama: 1] -> [2, 0, 1]\n",
    "- Filme B: \"Pura ação!\"\n",
    "    - Vetor B = [ação: 1, comédia: 0, drama: 0] -> [1, 0, 0]\n",
    "- Filme C: \"Uma comédia dramática.\"\n",
    "    - Vetor C = [ação: 0, comédia: 1, drama: 1] -> [0, 1, 1]\n",
    "\n",
    "Agora, vamos calcular a similaridade de cossenos (sem entrar nos detalhes matemáticos exatos aqui, apenas a intuição):\n",
    "\n",
    "- Similaridade(A, B):\n",
    "    - Ambos têm \"ação\". O Filme A também tem \"drama\", o Filme B não.\n",
    "    - Os vetores [2, 0, 1] e [1, 0, 0] apontam em direções relativamente parecidas (ambos têm um forte componente na dimensão \"ação\").\n",
    "    - A similaridade de cossenos será alta, mas não 1 (porque A também tem \"drama\").\n",
    "- Similaridade(A, C):\n",
    "    - Ambos têm \"drama\". O Filme A tem \"ação\", o Filme C tem \"comédia\".\n",
    "    - Os vetores [2, 0, 1] e [0, 1, 1] compartilham a dimensão \"drama\", mas divergem nas outras (\"ação\" vs \"comédia\").\n",
    "    - A similaridade de cossenos será média-baixa.\n",
    "- Similaridade(B, C):\n",
    "    - Não compartilham nenhuma palavra do nosso vocabulário (\"ação\" vs \"comédia\", \"drama\").\n",
    "    - Os vetores [1, 0, 0] e [0, 1, 1] apontam em direções muito diferentes.\n",
    "    - A similaridade de cossenos será próxima de 0.\n",
    "\n",
    "## 2.3 **Matematicamente**\n",
    "\n",
    "A fórmula é:\n",
    "\n",
    "$$\n",
    "\\text{similaridade(A,B)} = \\frac{\\mathbf{A} \\cdot \\mathbf{B}}{\\|\\mathbf{A}\\| \\|\\mathbf{B}\\|}\n",
    "$$\n",
    "\n",
    "Onde:\n",
    "- $ \\mathbf{A} \\cdot \\mathbf{B} $ é o produto escalar dos vetores (soma da multiplicação de cada componente correspondente).\n",
    "- $ \\|\\mathbf{A}\\|$ e $ \\|\\mathbf{B}\\| $ são as magnitudes (ou \"comprimentos\") dos vetores."
   ],
   "id": "9c18dc70b7b2743b"
  },
  {
   "metadata": {},
   "cell_type": "markdown",
   "source": "# 3. Vetorização das Sinopses",
   "id": "c9ec7135cfc8180a"
  },
  {
   "metadata": {},
   "cell_type": "markdown",
   "source": [
    "## 3.1 Bag of Worlds (BoW)\n",
    "\n",
    "Cria um vocabulário com todas as palavras únicas presentes nas sinopses. Para cada sinopse, ele cria um vetor onde cada posição corresponde a uma palavra do vocabulário, e o valor nessa posição é simplesmente a contagem de quantas vezes aquela palavra aparece na sinopse.\n"
   ],
   "id": "3b73771e49ff8607"
  },
  {
   "metadata": {
    "ExecuteTime": {
     "end_time": "2025-04-27T03:55:02.223781Z",
     "start_time": "2025-04-27T03:54:56.019030Z"
    }
   },
   "cell_type": "code",
   "source": [
    "bow_vectorizer = CountVectorizer( max_features = 10000, stop_words = 'english' )\n",
    "bow_matrix = bow_vectorizer.fit_transform( df_new[ 'tags' ].values.astype( 'U' ) ).toarray()\n",
    "\n",
    "cosine_sim_bow = cosine_similarity( bow_matrix )"
   ],
   "id": "9b2e3f8e9b36665",
   "outputs": [],
   "execution_count": 36
  },
  {
   "metadata": {},
   "cell_type": "markdown",
   "source": [
    "## 3.2 TF-IDF (Term Frequency-Inverse Document Frequency)\n",
    "\n",
    "Começa contando a frequência das palavras (TF - Term Frequency), mas depois ajusta esse valor com base na frequência inversa do documento (IDF - Inverse Document Frequency). O IDF diminui o peso de palavras que são muito comuns em todas as sinopses (como \"filme\", \"vida\", etc., mesmo que não sejam stop words) e aumenta o peso de palavras que são frequentes em poucas sinopses (palavras mais específicas e potencialmente mais descritivas)."
   ],
   "id": "23a59c1df8c112ed"
  },
  {
   "metadata": {
    "ExecuteTime": {
     "end_time": "2025-04-27T03:55:08.548993Z",
     "start_time": "2025-04-27T03:55:02.246632Z"
    }
   },
   "cell_type": "code",
   "source": [
    "tfidf_vectorizer = TfidfVectorizer( max_features = 10000, stop_words = 'english' )\n",
    "tfidf_matrix = tfidf_vectorizer.fit_transform( df_new[ 'tags' ].values.astype( 'U' ) ).toarray()\n",
    "\n",
    "cosine_sim_tfidf = cosine_similarity( tfidf_matrix )"
   ],
   "id": "d0d3a7af5b019d90",
   "outputs": [],
   "execution_count": 37
  },
  {
   "metadata": {},
   "cell_type": "markdown",
   "source": "# 4. Sistema de Recomendação",
   "id": "78281b052115abe9"
  },
  {
   "metadata": {
    "ExecuteTime": {
     "end_time": "2025-04-27T03:55:08.580409Z",
     "start_time": "2025-04-27T03:55:08.572980Z"
    }
   },
   "cell_type": "code",
   "source": [
    "# Para facilitar a busca pelo filme, criamos uma Série que mapeia títulos para índices\n",
    "# Isso é mais eficiente que procurar no DataFrame toda vez\n",
    "indices = pd.Series( df.index, index = df[ 'title' ] ).drop_duplicates()\n",
    "\n",
    "\n",
    "def recommend_by_synopsis( titulo, cosine_sim_matrix, data = df, mapping = indices, top_n = 10 ):\n",
    "    \"\"\"\n",
    "    Gera recomendações de filmes baseadas na similaridade de sinopses,\n",
    "    retornando títulos e suas pontuações de similaridade.\n",
    "\n",
    "    Args:\n",
    "        titulo (str): O título do filme base para a recomendação.\n",
    "        cosine_sim_matrix (np.array): A matriz de similaridade de cossenos pré-calculada.\n",
    "        data (pd.DataFrame): O DataFrame contendo os dados dos filmes.\n",
    "        mapping (pd.Series): Mapeamento de títulos para índices.\n",
    "        top_n (int): Número de recomendações.\n",
    "\n",
    "    Returns:\n",
    "        list: Uma lista de tuplas (titulo_recomendado, similaridade),\n",
    "              ou uma mensagem de erro (str).\n",
    "    \"\"\"\n",
    "    try:\n",
    "        # Obter o índice do filme que corresponde ao título\n",
    "        if titulo not in mapping:\n",
    "            # Tenta encontrar correspondência ignorando maiúsculas/minúsculas e espaços extras\n",
    "            matches = [ t for t in mapping.index if t.lower().strip() == titulo.lower().strip() ]\n",
    "            if not matches:\n",
    "                # Se ainda não encontrou, retorna erro\n",
    "                raise KeyError\n",
    "            # Pega o primeiro título correspondente (pode haver duplicatas exatas no índice se não tratadas)\n",
    "            actual_title = matches[ 0 ]\n",
    "            idx = mapping[ actual_title ]\n",
    "            print( f\"Nota: Buscando por '{actual_title}' (correspondência encontrada para '{titulo}')\" )\n",
    "        else:\n",
    "            idx = mapping[ titulo ]  # Pega o índice diretamente se o título for exato\n",
    "\n",
    "        # Obter as pontuações de similaridade de todos os filmes com este filme\n",
    "        sim_scores = list( enumerate( cosine_sim_matrix[ idx ] ) )\n",
    "\n",
    "        # Ordenar os filmes com base nas pontuações de similaridade (decrescente)\n",
    "        sim_scores = sorted( sim_scores, key = lambda x: x[ 1 ], reverse = True )\n",
    "\n",
    "        # Obter as pontuações e índices dos 'top_n' filmes mais similares (ignorando o próprio filme)\n",
    "        sim_scores = sim_scores[ 1:top_n + 1 ]  # Pega do segundo até top_n+1\n",
    "\n",
    "        # Criar a lista de tuplas (título, score)\n",
    "        recomendacoes = [ ]\n",
    "        for index, score in sim_scores:\n",
    "            # Verifica se o índice é válido para evitar erros\n",
    "            if index < len( data ):\n",
    "                titulo_filme = data[ 'title' ].iloc[ index ]\n",
    "                recomendacoes.append( (titulo_filme, score) )\n",
    "            else:\n",
    "                print( f\"Aviso: Índice {index} fora dos limites do DataFrame. Ignorando.\" )\n",
    "\n",
    "        return recomendacoes\n",
    "\n",
    "    except KeyError:\n",
    "        # Mensagem de erro mais informativa\n",
    "        suggestion = [ t for t in mapping.index if titulo.lower() in t.lower() ][ :5 ]\n",
    "        error_msg = f\"Erro: Filme '{titulo}' não encontrado no dataset.\"\n",
    "        if suggestion:\n",
    "            error_msg += f\" Você quis dizer algum destes? {suggestion}\"\n",
    "        return error_msg\n",
    "    except Exception as e:\n",
    "        return f\"Ocorreu um erro inesperado: {e}\"\n"
   ],
   "id": "772d0520c9442559",
   "outputs": [],
   "execution_count": 38
  },
  {
   "metadata": {},
   "cell_type": "markdown",
   "source": "# 5. Aplicação",
   "id": "ffdc447809458038"
  },
  {
   "metadata": {
    "ExecuteTime": {
     "end_time": "2025-04-27T03:56:45.455154Z",
     "start_time": "2025-04-27T03:56:45.426313Z"
    }
   },
   "cell_type": "code",
   "source": [
    "filme_exemplo = \"The Dark Knight Rises\"\n",
    "\n",
    "print( f\"\\n--- Recomendações para '{filme_exemplo}' (BoW) ---\" )\n",
    "recomendacoes = recommend_by_synopsis( filme_exemplo, cosine_sim_matrix = cosine_sim_bow, top_n = 5 )\n",
    "\n",
    "if isinstance( recomendacoes, list ):\n",
    "    for i, (filme, score) in enumerate( recomendacoes ):\n",
    "        print( f\"{i + 1}. {filme} (Similaridade: {score:.3f})\" )\n",
    "else:\n",
    "    print( recomendacoes )\n",
    "\n",
    "print( f\"\\n--- Recomendações para '{filme_exemplo}' (TF-IDF) ---\" )\n",
    "recomendacoes_2 = recommend_by_synopsis( filme_exemplo, cosine_sim_matrix = cosine_sim_tfidf, top_n = 5 )\n",
    "\n",
    "if isinstance( recomendacoes_2, list ):\n",
    "    for i, (filme, score) in enumerate( recomendacoes_2 ):\n",
    "        print( f\"{i + 1}. {filme} (Similaridade: {score:.3f})\" )\n",
    "else:\n",
    "    print( recomendacoes_2 )"
   ],
   "id": "d31a398da919b2bc",
   "outputs": [
    {
     "name": "stdout",
     "output_type": "stream",
     "text": [
      "\n",
      "--- Recomendações para 'The Dark Knight Rises' (BoW) ---\n",
      "1. Batman: The Long Halloween, Part One (Similaridade: 0.392)\n",
      "2. Batman: The Long Halloween, Part Two (Similaridade: 0.379)\n",
      "3. The Dark Knight (Similaridade: 0.332)\n",
      "4. Batman: Gotham by Gaslight (Similaridade: 0.296)\n",
      "5. Batman: The Dark Knight Returns, Part 1 (Similaridade: 0.275)\n",
      "\n",
      "--- Recomendações para 'The Dark Knight Rises' (TF-IDF) ---\n",
      "1. Batman: The Long Halloween, Part Two (Similaridade: 0.432)\n",
      "2. Batman: The Long Halloween, Part One (Similaridade: 0.404)\n",
      "3. The Dark Knight (Similaridade: 0.318)\n",
      "4. Batman Forever (Similaridade: 0.226)\n",
      "5. The Batman (Similaridade: 0.226)\n"
     ]
    }
   ],
   "execution_count": 41
  }
 ],
 "metadata": {
  "kernelspec": {
   "display_name": "Python 3",
   "language": "python",
   "name": "python3"
  },
  "language_info": {
   "codemirror_mode": {
    "name": "ipython",
    "version": 2
   },
   "file_extension": ".py",
   "mimetype": "text/x-python",
   "name": "python",
   "nbconvert_exporter": "python",
   "pygments_lexer": "ipython2",
   "version": "2.7.6"
  }
 },
 "nbformat": 4,
 "nbformat_minor": 5
}
